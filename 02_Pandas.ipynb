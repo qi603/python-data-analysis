{
 "cells": [
  {
   "cell_type": "markdown",
   "metadata": {},
   "source": [
    "# 2. Pandas\n",
    "\n",
    "Content:\n",
    "- 2.1 Introduction\n",
    "- 2.2 Installation\n",
    "- 2.3 Series\n",
    "- 2.4 DataFrames\n",
    "- 2.5 Import files\n",
    "- 2.6 Summary\n",
    "\n",
    "## 2.1 Introduction\n",
    "\n",
    "Pandas is a library built on Python that allows us to easily manipulate data. It is considered the de-facto standard to read, analyze and visualize tabular data from CSV files, Excel tables, SQL tables and many more.\n",
    "Pandas has three main data structures: \n",
    "- Series: a 1D array\n",
    "- DataFrame: a 2D table\n",
    "- Panel: a 3D array (not discussed here)\n",
    "\n",
    "Although the main data structure for tables is called a DataFrame, it is important to understand that it is built as a combination of Series. Generally, however, we will talk about the index (rows) and the columns.  \n",
    "\n",
    "\n",
    "<img src=\"img/pandas_dataframe.png\" height=80% width=80%>\n",
    "\n",
    "There are a lot of comparisons that can be drawn between pandas and the R language. So if you have experience in R [this website](https://pandas.pydata.org/pandas-docs/stable/getting_started/comparison/comparison_with_r.html) might give you an interesting comparison between both.  \n"
   ]
  },
  {
   "cell_type": "markdown",
   "metadata": {},
   "source": [
    "## 2.2 Installation\n",
    "\n",
    "If not installed yet, either do it in Anaconda Navigator or with the following command:"
   ]
  },
  {
   "cell_type": "code",
   "execution_count": null,
   "metadata": {},
   "outputs": [],
   "source": [
    "pip install pandas"
   ]
  },
  {
   "cell_type": "markdown",
   "metadata": {},
   "source": [
    "The above will result in an effective installation, or might tell you that the requirements are already satisfied. You might want to refresh your Notebook for the changes to take place. \n",
    "\n",
    "After installing the library in our environment, we still have to import it in our Notebook:"
   ]
  },
  {
   "cell_type": "code",
   "execution_count": null,
   "metadata": {},
   "outputs": [],
   "source": [
    "# Importing pandas as pd is a convention\n",
    "import pandas as pd"
   ]
  },
  {
   "cell_type": "markdown",
   "metadata": {},
   "source": [
    "## 2.3 Series\n",
    "\n",
    "We will start by creating a one dimensional array which is the equivalent of a pandas Series. The data that we gather in this array is the data that will make up for a column in our table later on. \n",
    "- The data can be of any kind: integers, strings, floats, Python objects, etc. \n",
    "- The data is always accompanied by an index\n",
    "\n",
    "There are several ways to create a Series: from a list, a dictionary, a NumPy array and from files and other external data sources. \n",
    "\n",
    "Let's make our first pandas object:"
   ]
  },
  {
   "cell_type": "code",
   "execution_count": null,
   "metadata": {},
   "outputs": [],
   "source": [
    "counts = [12, 35, 45, 12, 22, 38]\n",
    "\n",
    "countSeries = pd.Series(counts)\n",
    "countSeries"
   ]
  },
  {
   "cell_type": "code",
   "execution_count": null,
   "metadata": {},
   "outputs": [],
   "source": [
    "genes = ['GeneA', 'GeneB', 'GeneC', 'GeneD', 'GeneE', 'GeneF']\n",
    "\n",
    "genesSeries = pd.Series(genes)\n",
    "genesSeries"
   ]
  },
  {
   "cell_type": "markdown",
   "metadata": {},
   "source": [
    "It looks like we already have a table, however the first column is actually the index and the second column contains the data. If the **index** is not specified upon making the pandas Series, the default will be a scalar value ranging from 0 uptill the length of the array -1. \n",
    "\n",
    "*range(n) where n is array length, i.e., [0,1,2,3…. range(len(array))-1].*"
   ]
  },
  {
   "cell_type": "markdown",
   "metadata": {},
   "source": [
    "The following code makes a Series where the list of genes will be the index of the object and the list of counts will be the column. "
   ]
  },
  {
   "cell_type": "code",
   "execution_count": null,
   "metadata": {},
   "outputs": [],
   "source": [
    "mySerie1 = pd.Series(counts, index=genes)\n",
    "mySerie1"
   ]
  },
  {
   "cell_type": "markdown",
   "metadata": {},
   "source": [
    "A Series can also be made from a dictionary like so:"
   ]
  },
  {
   "cell_type": "code",
   "execution_count": null,
   "metadata": {},
   "outputs": [],
   "source": [
    "aminoacids = {\n",
    "     'A': 'Ala',\n",
    "     'C': 'Cys',\n",
    "     'D': 'Asp',\n",
    "     'E': 'Glu',\n",
    "     'F': 'Phe',\n",
    "     'G': 'Gly',\n",
    "     'H': 'His',\n",
    "     'I': 'Ile',\n",
    "     'K': 'Lys',\n",
    "     'L': 'Leu',\n",
    "     'M': 'Met',\n",
    "     'N': 'Asn',\n",
    "     'P': 'Pro',\n",
    "     'Q': 'Gln',\n",
    "     'R': 'Arg',\n",
    "     'S': 'Ser',\n",
    "     'T': 'Thr',\n",
    "     'V': 'Val',\n",
    "     'W': 'Trp',\n",
    "     'Y': 'Tyr'}\n",
    "\n",
    "aaSeries = pd.Series(aminoacids)\n",
    "aaSeries"
   ]
  },
  {
   "cell_type": "markdown",
   "metadata": {},
   "source": [
    "In this case the keys of the dictionary will be the indeces in the Series and the respective values will be the data values associated with these indeces. "
   ]
  },
  {
   "cell_type": "markdown",
   "metadata": {},
   "source": [
    "Obviously mathematical operations can be performed on the complete dataset in a Series. These are called vectorized operations as the operation will be applied to each element in the Series"
   ]
  },
  {
   "cell_type": "code",
   "execution_count": null,
   "metadata": {},
   "outputs": [],
   "source": [
    "countSeries + 2"
   ]
  },
  {
   "cell_type": "code",
   "execution_count": null,
   "metadata": {},
   "outputs": [],
   "source": [
    "countSeries * 2"
   ]
  },
  {
   "cell_type": "markdown",
   "metadata": {},
   "source": [
    "---\n",
    "### 2.3.1 Exercise:\n",
    "\n",
    "Add the following data to the `mySerie1` pandas Series object as a new row:\n",
    "\n",
    "```\n",
    "GeneK   25\n",
    "```"
   ]
  },
  {
   "cell_type": "code",
   "execution_count": null,
   "metadata": {},
   "outputs": [],
   "source": [
    "# Make a pandas Series from a dictionary and append it to the `mySerie1` pandas Series object. \n",
    "mySerie2 = pd.Series({\"GeneK\" : 25})\n",
    "mySerie1.append(mySerie2)"
   ]
  },
  {
   "cell_type": "markdown",
   "metadata": {},
   "source": [
    "---"
   ]
  },
  {
   "cell_type": "markdown",
   "metadata": {},
   "source": [
    "Finally retrieving an element is easily done with squared brackets, similarly to accessing elements from a data structures in Python. "
   ]
  },
  {
   "cell_type": "code",
   "execution_count": null,
   "metadata": {},
   "outputs": [],
   "source": [
    "# Accessing a single element in pandas Series\n",
    "mySerie1['GeneA']"
   ]
  },
  {
   "cell_type": "code",
   "execution_count": null,
   "metadata": {},
   "outputs": [],
   "source": [
    "# Accessing multiple values in a pandas Series object\n",
    "mySerie1[['GeneA', 'GeneC', 'GeneK']]"
   ]
  },
  {
   "cell_type": "code",
   "execution_count": null,
   "metadata": {},
   "outputs": [],
   "source": [
    "# Accessing multiple values in a pandas Series object\n",
    "mySerie1[:2]"
   ]
  },
  {
   "cell_type": "markdown",
   "metadata": {},
   "source": [
    "## 2.4 DataFrame\n",
    "Two-dimensional data structure. Consists of an index for the rows and an index for the columns alongside the data in the columns.  \n",
    "\n",
    "|  /   | **column_index1** | **column_index2**   |\n",
    "|---|---|---|\n",
    "| **row_index1**   | 1  | 2  |   \n",
    "| **row_index2**  |  3 | 4  |   \n",
    "| **row_index3**  |  5 | 6  |   \n"
   ]
  },
  {
   "cell_type": "markdown",
   "metadata": {},
   "source": [
    "Similar to Series, a Dataframe can be created in several ways: from lists, dictionaries, or Series. However, the most important one is probably from importing a dataset from a file. \n",
    "\n",
    "First we'll **create** a DataFrame with a dictionary where the key is the column index and the value is a list of values that represent the data. "
   ]
  },
  {
   "cell_type": "code",
   "execution_count": null,
   "metadata": {},
   "outputs": [],
   "source": [
    "counts_exp1 = [12, 35, 45, 12, 22, 38]\n",
    "counts_exp2 = [6, 28, 55, 12, 19, 34]\n",
    "genes = ['GeneA', 'GeneB', 'GeneC', 'GeneD', 'GeneE', 'GeneF']\n",
    "\n",
    "dataframe_dict = {'counts_exp1': counts_exp1, 'counts_exp2': counts_exp2}\n",
    "\n",
    "df = pd.DataFrame(dataframe_dict, index = genes)\n",
    "df"
   ]
  },
  {
   "cell_type": "markdown",
   "metadata": {},
   "source": [
    "We can **inspect** the DataFrame we just created:"
   ]
  },
  {
   "cell_type": "code",
   "execution_count": null,
   "metadata": {},
   "outputs": [],
   "source": [
    "print(df.columns)\n",
    "print(df.index)\n",
    "print(df.values)"
   ]
  },
  {
   "cell_type": "code",
   "execution_count": null,
   "metadata": {},
   "outputs": [],
   "source": [
    "# First five rows\n",
    "df.head()"
   ]
  },
  {
   "cell_type": "code",
   "execution_count": null,
   "metadata": {},
   "outputs": [],
   "source": [
    "# Last five rows\n",
    "df.tail()"
   ]
  },
  {
   "cell_type": "markdown",
   "metadata": {},
   "source": [
    "Before exploring how to access rows, columns and elements from a table, let's have a look at how we can add new data or delete a column from a table."
   ]
  },
  {
   "cell_type": "code",
   "execution_count": null,
   "metadata": {},
   "outputs": [],
   "source": [
    "# Make new column with new data\n",
    "df['counts_exp3'] = [23, 24, 58, 16, 8, 5]\n",
    "df"
   ]
  },
  {
   "cell_type": "code",
   "execution_count": null,
   "metadata": {},
   "outputs": [],
   "source": [
    "counts_exp4 = [23, 24, 58, 16, 8, 5]\n",
    "counts4Series = pd.Series(counts_exp4)\n"
   ]
  },
  {
   "cell_type": "code",
   "execution_count": null,
   "metadata": {},
   "outputs": [],
   "source": [
    "# Deleting a column in two ways\n",
    "# del df['avg']\n",
    "# or\n",
    "df.drop('avg', axis = 1, inplace=True)"
   ]
  },
  {
   "cell_type": "markdown",
   "metadata": {},
   "source": [
    "**Accessing** data is done by calling the index name of the column within squared brackets. \n",
    "Remember that Python starts counting from 0 and it excludes the last number. "
   ]
  },
  {
   "cell_type": "code",
   "execution_count": null,
   "metadata": {},
   "outputs": [],
   "source": [
    "# Accessing the column counts_exp1\n",
    "df['counts_exp1']"
   ]
  },
  {
   "cell_type": "code",
   "execution_count": null,
   "metadata": {},
   "outputs": [],
   "source": [
    "# Accessing multiple columns \n",
    "df[['counts_exp1', 'counts_exp2']]"
   ]
  },
  {
   "cell_type": "code",
   "execution_count": null,
   "metadata": {},
   "outputs": [],
   "source": [
    "# Accessing values within a column: rows from 2 to 3. \n",
    "df['counts_exp1'][1:3]"
   ]
  },
  {
   "cell_type": "code",
   "execution_count": null,
   "metadata": {},
   "outputs": [],
   "source": [
    "# Accessing all columns from rows 2 to 4\n",
    "df[1:5]"
   ]
  },
  {
   "cell_type": "markdown",
   "metadata": {},
   "source": [
    "Another way of accessing the data in a Dataframe is by using the `.loc[]` and `iloc[]` method. \n",
    "- `.loc[]`: uses primarily label(s) to access the data,\n",
    "- `.iloc[]`: uses purely integer-location based indexing for selection by position.\n",
    "\n",
    "**`.loc[]`** accepts the row index as a first and default parameter, if a second parameter is given, this should refer to the column index. An elaborate explanation of the possibilities with the location method is available [here](https://pandas.pydata.org/pandas-docs/stable/reference/api/pandas.DataFrame.loc.html)."
   ]
  },
  {
   "cell_type": "code",
   "execution_count": null,
   "metadata": {},
   "outputs": [],
   "source": [
    "# Select one row \n",
    "df.loc['GeneE']\n",
    "# Alternatively\n",
    "df.loc[['GeneE']]"
   ]
  },
  {
   "cell_type": "code",
   "execution_count": null,
   "metadata": {},
   "outputs": [],
   "source": [
    "# Accessing multiple rows from a dataset\n",
    "selected_genes = ['GeneA', 'GeneB' ,'GeneC', 'GeneF']\n",
    "df.loc[selected_genes]"
   ]
  },
  {
   "cell_type": "code",
   "execution_count": null,
   "metadata": {},
   "outputs": [],
   "source": [
    "# Accessing multiple rows and a subselection of columns by passing two parameters to .loc[]\n",
    "selected_counts = ['counts_exp1', 'counts_exp2']\n",
    "df.loc[selected_genes, selected_counts]"
   ]
  },
  {
   "cell_type": "markdown",
   "metadata": {},
   "source": [
    "Another way of slicing our dataset is by using **`.iloc[]`**. An elaborate explanation of the possibilities with the location method is available [here](https://pandas.pydata.org/pandas-docs/stable/reference/api/pandas.DataFrame.iloc.html). Try the following, can you figure out how this method works? "
   ]
  },
  {
   "cell_type": "code",
   "execution_count": null,
   "metadata": {},
   "outputs": [],
   "source": [
    "#df.iloc[0]\n",
    "#df.iloc[[0]]\n",
    "#df.iloc[[1, 2, 3],[0,2]]"
   ]
  },
  {
   "cell_type": "markdown",
   "metadata": {},
   "source": [
    "---\n",
    "### Exercise 2.4.1\n",
    "- Select the number of counts in *GeneD* for the second and third experiment. \n",
    "- Add a new column to the dataframe with the average of the three experiments."
   ]
  },
  {
   "cell_type": "code",
   "execution_count": null,
   "metadata": {},
   "outputs": [],
   "source": []
  },
  {
   "cell_type": "markdown",
   "metadata": {},
   "source": [
    "---\n",
    "### Exercise 2.4.2\n",
    "\n",
    "- Search in the pandas documentation for the median method and add a column that describes the median value per gene.\n",
    "- Search in the pandas documentation for a method that will count all of the values of one experiment and add it as an extra row to the table. \n",
    "- Remove the row with the sum of the counts that we added in the previous step. "
   ]
  },
  {
   "cell_type": "code",
   "execution_count": null,
   "metadata": {},
   "outputs": [],
   "source": []
  },
  {
   "cell_type": "markdown",
   "metadata": {},
   "source": [
    "---"
   ]
  },
  {
   "cell_type": "markdown",
   "metadata": {},
   "source": [
    "## 2.5 Import files\n",
    "Now we know how to parse through our Dataframe tables and how we can add new data, we'll have a look at how to import data from files. Pandas is great for working with tabular data, hence generally the data will come from a spreadsheet (csv, excel, etc.). Importing data is easily done by using a link to the file. This file can be in your local folder, or can be imported from the internet:"
   ]
  },
  {
   "cell_type": "code",
   "execution_count": null,
   "metadata": {},
   "outputs": [],
   "source": [
    "# annotation file in the data folder - excel\n",
    "annotation_xlsx = pd.read_excel('data/annotation.xlsx')\n",
    "annotation_xlsx.head()"
   ]
  },
  {
   "cell_type": "code",
   "execution_count": null,
   "metadata": {},
   "outputs": [],
   "source": [
    "# annotation file in the data folder - csv\n",
    "annotation_csv = pd.read_csv('data/annotation.csv')\n",
    "annotation_csv.head()"
   ]
  },
  {
   "cell_type": "markdown",
   "metadata": {},
   "source": [
    "An overview of all the parameters that `.read_csv` accepts, is accessible on the pandas documentation website ([here](https://pandas.pydata.org/pandas-docs/stable/reference/api/pandas.read_csv.html)). "
   ]
  },
  {
   "cell_type": "markdown",
   "metadata": {},
   "source": [
    "---\n",
    "### 2.5.1 Exercise\n",
    "Search for the parameters of `.read_csv` that you need in order to read in the `annotation.csv` file where:\n",
    "- chromosomes are the index of the rows, and \n",
    "- only the first 10 rows are imported.  "
   ]
  },
  {
   "cell_type": "code",
   "execution_count": null,
   "metadata": {},
   "outputs": [],
   "source": []
  },
  {
   "cell_type": "markdown",
   "metadata": {},
   "source": [
    "--- "
   ]
  },
  {
   "cell_type": "markdown",
   "metadata": {},
   "source": [
    "In the following code block we will read in the more widely known (amongst R users at least), iris dataset. In this case we're downloading and importing it immediately from a website (GitHub repo) as it is not available in pandas, nor Python. "
   ]
  },
  {
   "cell_type": "code",
   "execution_count": null,
   "metadata": {},
   "outputs": [],
   "source": [
    "iris = pd.read_csv('https://raw.githubusercontent.com/mwaskom/seaborn-data/master/iris.csv')\n",
    "iris.head()"
   ]
  },
  {
   "cell_type": "markdown",
   "metadata": {},
   "source": [
    "To have an idea on the descriptive statistics and the shape of the dataset's distribution, we can use `.describe()`. This method can be applied on the table (numerical data only) or on a selection of the columns:"
   ]
  },
  {
   "cell_type": "code",
   "execution_count": null,
   "metadata": {
    "scrolled": true
   },
   "outputs": [],
   "source": [
    "iris.describe()"
   ]
  },
  {
   "cell_type": "code",
   "execution_count": null,
   "metadata": {
    "scrolled": true
   },
   "outputs": [],
   "source": [
    "iris['sepal_length'].describe()"
   ]
  },
  {
   "cell_type": "markdown",
   "metadata": {},
   "source": [
    "However, as mentioned above, in this dataset we're facing different kinds of data:\n",
    "- numerical data (sepal_length, sepal_width, petal_length and petal_width)\n",
    "- categorical data (species)\n",
    "\n",
    "and therefore need to be treated differently. Luckily, pandas allows us to do this in a very easy way:"
   ]
  },
  {
   "cell_type": "code",
   "execution_count": null,
   "metadata": {},
   "outputs": [],
   "source": [
    "iris['species'].value_counts()"
   ]
  },
  {
   "cell_type": "code",
   "execution_count": null,
   "metadata": {},
   "outputs": [],
   "source": [
    "iris['species'].value_counts(normalize=True)"
   ]
  },
  {
   "cell_type": "code",
   "execution_count": null,
   "metadata": {
    "scrolled": true
   },
   "outputs": [],
   "source": [
    "iris.groupby(['species']).mean()"
   ]
  },
  {
   "cell_type": "code",
   "execution_count": null,
   "metadata": {},
   "outputs": [],
   "source": [
    "iris.groupby(by='species').mean()"
   ]
  },
  {
   "cell_type": "code",
   "execution_count": null,
   "metadata": {
    "scrolled": true
   },
   "outputs": [],
   "source": [
    "iris['species'] == 'versicolor'\n",
    "iris.loc[iris['species'] == 'versicolor']"
   ]
  },
  {
   "cell_type": "code",
   "execution_count": null,
   "metadata": {},
   "outputs": [],
   "source": [
    "# Have a look at the values of the indeces of the df\n",
    "iris.index.values"
   ]
  },
  {
   "cell_type": "code",
   "execution_count": null,
   "metadata": {},
   "outputs": [],
   "source": [
    "# Get unique values within a column\n",
    "iris['species'].unique()"
   ]
  },
  {
   "cell_type": "markdown",
   "metadata": {},
   "source": [
    "---\n",
    "### 2.5.2 Exercise\n",
    "Can you find a method that will retrieve the indices of all the virginica flowers? "
   ]
  },
  {
   "cell_type": "code",
   "execution_count": null,
   "metadata": {
    "scrolled": true
   },
   "outputs": [],
   "source": []
  },
  {
   "cell_type": "markdown",
   "metadata": {},
   "source": [
    "---\n",
    "### 2.5.3 Exercise\n",
    "From the file `annotation.csv`:\n",
    "- Sort, in descending way, the table based on the counts in exons  \n",
    "- Make a subselection with all chromosomes where at least 15 counts in introns. "
   ]
  },
  {
   "cell_type": "code",
   "execution_count": null,
   "metadata": {},
   "outputs": [],
   "source": []
  },
  {
   "cell_type": "markdown",
   "metadata": {},
   "source": [
    "---\n",
    "### 2.5.4 Exercise\n",
    "In this exercise, derived from the [GTN](https://galaxyproject.github.io/training-material/topics/transcriptomics/tutorials/rna-seq-viz-with-heatmap2/tutorial.html), we will prepare the data to create a heatmap (see exercise 3.2.6) of the top differentially expressed genes in an RNA-seq counts dataset. \n",
    "- [`counts`](https://zenodo.org/record/2529926/files/limma-voom_normalised_counts)\n",
    "- [`de_genes`](https://zenodo.org/record/2529926/files/limma-voom_luminalpregnant-luminallactate)  \n",
    "\n",
    "The latter file contains the results from comparing gene expression in the luminal cells in the pregnant versus lactating mice. It includes genes that are not significantly differentially expressed. We’ll call genes significantly differentially expressed in this dataset if they pass the thresholds of `adjusted P-value < 0.01` and `fold change of > 1.5 (log2FC of 0.58)`. Filter the top 20 DE genes from that table and create a joint dataframe that contains only the following columns and looks like this:\n",
    "\n",
    "| SYMBOL_x |  MCL1.DG |  MCL1.DH |  MCL1.DI |  MCL1.DJ |   MCL1.DK |   MCL1.DL |  MCL1.LA |  MCL1.LB |  MCL1.LC |  MCL1.LD |  MCL1.LE |  MCL1.LF |\n",
    "|---------:|---------:|---------:|---------:|---------:|----------:|----------:|---------:|---------:|---------:|---------:|---------:|----------|\n",
    "|     Ggt1 | 6.732347 | 6.556047 | 6.558849 | 6.586562 |  6.437596 |  6.394067 | 5.193118 | 5.526432 | 4.223990 | 4.341605 | 7.243899 | 7.354535 |\n",
    "|  Slc39a4 | 2.722153 | 3.027691 | 2.175532 | 1.993214 | -0.193255 | -0.016902 | 3.071502 | 2.928202 | 6.472918 | 6.526836 | 2.430346 | 1.847241 |\n",
    "|      Ppl | 5.102274 | 4.900942 | 5.755087 | 5.951023 |  6.851420 |  6.881858 | 7.359977 | 7.732010 | 8.227118 | 8.437499 | 4.646145 | 4.798986 |\n",
    "| ...   |     ...     |      ...    |   ...       |        ...  |    ...       |         ...  |       ...  |        ...   |      ...    |      ...    |       ...   |       ...   |\n",
    "\n",
    "Save the file as a csv-file in the data-folder. "
   ]
  },
  {
   "cell_type": "code",
   "execution_count": null,
   "metadata": {
    "scrolled": false
   },
   "outputs": [],
   "source": []
  },
  {
   "cell_type": "markdown",
   "metadata": {},
   "source": [
    "## 2.6 Summary\n",
    "We've seen a bunch of methods on how we can read and manipulate data with pandas. As it is such a huge library, we could still spend tons of time discovering all the modules, however now you should be able to come up with solutions tailored to a specific question. Either by using the pandas documentation (recommended) or by searching on Stackoverflow or any other forum. \n"
   ]
  },
  {
   "cell_type": "markdown",
   "metadata": {},
   "source": [
    "## 2.7 Next session\n",
    "Explore how to visualize your data in the [next chapter](03_Visualization.ipynb)!"
   ]
  }
 ],
 "metadata": {
  "kernelspec": {
   "display_name": "Python 3",
   "language": "python",
   "name": "python3"
  },
  "language_info": {
   "codemirror_mode": {
    "name": "ipython",
    "version": 3
   },
   "file_extension": ".py",
   "mimetype": "text/x-python",
   "name": "python",
   "nbconvert_exporter": "python",
   "pygments_lexer": "ipython3",
   "version": "3.7.3"
  }
 },
 "nbformat": 4,
 "nbformat_minor": 4
}
