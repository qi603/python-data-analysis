{
 "cells": [
  {
   "cell_type": "markdown",
   "metadata": {
    "slideshow": {
     "slide_type": "slide"
    }
   },
   "source": [
    "# 3.  Visualisation\n",
    "\n",
    "<center><img src='img/misleading-plots-1.jpg'></center>"
   ]
  },
  {
   "cell_type": "markdown",
   "metadata": {
    "slideshow": {
     "slide_type": "notes"
    }
   },
   "source": [
    "Notes: \n",
    "Drawing attractive figures is important. Visualisations are central to communicating quantitative insights to an audience, and in that setting it’s even more necessary to have figures that catch the attention. Besides the attractiveness, correctness is obviously even more important. Misleading data visualisations can lead to misinterpretations and false conclusions, e.g. [example 1](https://www.datapine.com/blog/misleading-data-visualization-examples/), [example 2](https://learningsolutionsmag.com/articles/misleading-data-visualizations-can-confuse-deceive-learners).  "
   ]
  },
  {
   "cell_type": "markdown",
   "metadata": {
    "slideshow": {
     "slide_type": "subslide"
    }
   },
   "source": [
    "\n",
    "<center><img src='img/flowchart-visualisation-python.png'></center>\n"
   ]
  },
  {
   "cell_type": "markdown",
   "metadata": {
    "slideshow": {
     "slide_type": "notes"
    }
   },
   "source": [
    "Notes: When you're new to Python, the amount of visualisation libraries can be overwhelming. As a general rule of thumb, it's often a better choice to reflect on which type of graph you want to plot and choose the corresponding and appropriate library. For this course we've chosen to dive into the Seaborn library.\n",
    "\n",
    "Generally you could summarize that **Matplotlib (pyplot)**  has great flexibility and versatility that comes with the cost of (sometimes) complexity and low-level type of programming. **Seaborn** is a Python data visualisation library which is built on-top of Matplotlib and closely integrated with pandas data structures. It provides a higher-level wrapper on the library which makes it easier to create more aesthetically pleasing plots.  \n",
    "\n",
    "At the end of this chapter you'll find a bunch of references to blogs with comparisons of different libraries. "
   ]
  },
  {
   "cell_type": "markdown",
   "metadata": {
    "slideshow": {
     "slide_type": "slide"
    }
   },
   "source": [
    "## 3.2 Seaborn\n",
    "\n",
    "![Seaborn logo](img/seaborn-logo.png)"
   ]
  },
  {
   "cell_type": "markdown",
   "metadata": {
    "slideshow": {
     "slide_type": "slide"
    }
   },
   "source": [
    "### 3.2.1 Introduction\n",
    "- Overview of Seaborn plots on the [documentation website](https://seaborn.pydata.org/examples/index.html) \n",
    "- Large `seaborn` stock of plots, further customization with `matplotlib.pyplot`\n",
    "- Plots:\n",
    "  - Lineplot\n",
    "  - Barplot\n",
    "  - Multiplots\n",
    "  - Volcano plots\n",
    "  - Heatmaps\n",
    "- Lay-outing options"
   ]
  },
  {
   "cell_type": "markdown",
   "metadata": {
    "slideshow": {
     "slide_type": "notes"
    }
   },
   "source": [
    "Notes: \n",
    "An overview of Seaborn plots is accessible on the documentation website. Many plots can be accomplished with only seaborn functions, however for non-conventional plots, further customization is possible using Matplotlib pyplot directly.\n",
    "Throughout this chapter we'll be using seaborn, pandas and some of matplotlib's features to further modify our plots."
   ]
  },
  {
   "cell_type": "markdown",
   "metadata": {
    "slideshow": {
     "slide_type": "slide"
    }
   },
   "source": [
    "### 3.2.1 Introduction"
   ]
  },
  {
   "cell_type": "code",
   "execution_count": 2,
   "metadata": {},
   "outputs": [],
   "source": [
    "# Importing libraries\n",
    "import numpy as np\n",
    "import pandas as pd\n",
    "import matplotlib.pyplot as plt\n",
    "import seaborn as sns\n",
    "# Some notebooks require the explicit setting of matplotlib inline to plot the graphs into the notebook\n",
    "%matplotlib inline"
   ]
  },
  {
   "cell_type": "markdown",
   "metadata": {
    "slideshow": {
     "slide_type": "subslide"
    }
   },
   "source": [
    "### 3.2.2 Lineplot  "
   ]
  },
  {
   "cell_type": "code",
   "execution_count": 3,
   "metadata": {},
   "outputs": [
    {
     "data": {
      "text/html": [
       "<div>\n",
       "<style scoped>\n",
       "    .dataframe tbody tr th:only-of-type {\n",
       "        vertical-align: middle;\n",
       "    }\n",
       "\n",
       "    .dataframe tbody tr th {\n",
       "        vertical-align: top;\n",
       "    }\n",
       "\n",
       "    .dataframe thead th {\n",
       "        text-align: right;\n",
       "    }\n",
       "</style>\n",
       "<table border=\"1\" class=\"dataframe\">\n",
       "  <thead>\n",
       "    <tr style=\"text-align: right;\">\n",
       "      <th></th>\n",
       "      <th>LOCATION</th>\n",
       "      <th>TIME</th>\n",
       "      <th>PC_HEALTHXP</th>\n",
       "      <th>PC_GDP</th>\n",
       "      <th>USD_CAP</th>\n",
       "      <th>FLAG_CODES</th>\n",
       "      <th>TOTAL_SPEND</th>\n",
       "    </tr>\n",
       "  </thead>\n",
       "  <tbody>\n",
       "    <tr>\n",
       "      <th>0</th>\n",
       "      <td>AUS</td>\n",
       "      <td>1971</td>\n",
       "      <td>15.992</td>\n",
       "      <td>0.727</td>\n",
       "      <td>35.720</td>\n",
       "      <td>NaN</td>\n",
       "      <td>462.11</td>\n",
       "    </tr>\n",
       "    <tr>\n",
       "      <th>1</th>\n",
       "      <td>AUS</td>\n",
       "      <td>1972</td>\n",
       "      <td>15.091</td>\n",
       "      <td>0.686</td>\n",
       "      <td>36.056</td>\n",
       "      <td>NaN</td>\n",
       "      <td>475.11</td>\n",
       "    </tr>\n",
       "    <tr>\n",
       "      <th>2</th>\n",
       "      <td>AUS</td>\n",
       "      <td>1973</td>\n",
       "      <td>15.117</td>\n",
       "      <td>0.681</td>\n",
       "      <td>39.871</td>\n",
       "      <td>NaN</td>\n",
       "      <td>533.47</td>\n",
       "    </tr>\n",
       "    <tr>\n",
       "      <th>3</th>\n",
       "      <td>AUS</td>\n",
       "      <td>1974</td>\n",
       "      <td>14.771</td>\n",
       "      <td>0.755</td>\n",
       "      <td>47.559</td>\n",
       "      <td>NaN</td>\n",
       "      <td>652.65</td>\n",
       "    </tr>\n",
       "    <tr>\n",
       "      <th>4</th>\n",
       "      <td>AUS</td>\n",
       "      <td>1975</td>\n",
       "      <td>11.849</td>\n",
       "      <td>0.682</td>\n",
       "      <td>47.561</td>\n",
       "      <td>NaN</td>\n",
       "      <td>660.76</td>\n",
       "    </tr>\n",
       "    <tr>\n",
       "      <th>...</th>\n",
       "      <td>...</td>\n",
       "      <td>...</td>\n",
       "      <td>...</td>\n",
       "      <td>...</td>\n",
       "      <td>...</td>\n",
       "      <td>...</td>\n",
       "      <td>...</td>\n",
       "    </tr>\n",
       "    <tr>\n",
       "      <th>1031</th>\n",
       "      <td>LTU</td>\n",
       "      <td>2012</td>\n",
       "      <td>28.942</td>\n",
       "      <td>1.820</td>\n",
       "      <td>448.728</td>\n",
       "      <td>NaN</td>\n",
       "      <td>1340.70</td>\n",
       "    </tr>\n",
       "    <tr>\n",
       "      <th>1032</th>\n",
       "      <td>LTU</td>\n",
       "      <td>2013</td>\n",
       "      <td>28.173</td>\n",
       "      <td>1.728</td>\n",
       "      <td>461.178</td>\n",
       "      <td>NaN</td>\n",
       "      <td>1364.02</td>\n",
       "    </tr>\n",
       "    <tr>\n",
       "      <th>1033</th>\n",
       "      <td>LTU</td>\n",
       "      <td>2014</td>\n",
       "      <td>27.836</td>\n",
       "      <td>1.724</td>\n",
       "      <td>485.245</td>\n",
       "      <td>NaN</td>\n",
       "      <td>1422.92</td>\n",
       "    </tr>\n",
       "    <tr>\n",
       "      <th>1034</th>\n",
       "      <td>LTU</td>\n",
       "      <td>2015</td>\n",
       "      <td>26.784</td>\n",
       "      <td>1.745</td>\n",
       "      <td>504.422</td>\n",
       "      <td>NaN</td>\n",
       "      <td>1465.30</td>\n",
       "    </tr>\n",
       "    <tr>\n",
       "      <th>1035</th>\n",
       "      <td>RUS</td>\n",
       "      <td>2015</td>\n",
       "      <td>22.939</td>\n",
       "      <td>1.286</td>\n",
       "      <td>309.900</td>\n",
       "      <td>NaN</td>\n",
       "      <td>44655.62</td>\n",
       "    </tr>\n",
       "  </tbody>\n",
       "</table>\n",
       "<p>1036 rows × 7 columns</p>\n",
       "</div>"
      ],
      "text/plain": [
       "     LOCATION  TIME  PC_HEALTHXP  PC_GDP  USD_CAP FLAG_CODES  TOTAL_SPEND\n",
       "0         AUS  1971       15.992   0.727   35.720        NaN       462.11\n",
       "1         AUS  1972       15.091   0.686   36.056        NaN       475.11\n",
       "2         AUS  1973       15.117   0.681   39.871        NaN       533.47\n",
       "3         AUS  1974       14.771   0.755   47.559        NaN       652.65\n",
       "4         AUS  1975       11.849   0.682   47.561        NaN       660.76\n",
       "...       ...   ...          ...     ...      ...        ...          ...\n",
       "1031      LTU  2012       28.942   1.820  448.728        NaN      1340.70\n",
       "1032      LTU  2013       28.173   1.728  461.178        NaN      1364.02\n",
       "1033      LTU  2014       27.836   1.724  485.245        NaN      1422.92\n",
       "1034      LTU  2015       26.784   1.745  504.422        NaN      1465.30\n",
       "1035      RUS  2015       22.939   1.286  309.900        NaN     44655.62\n",
       "\n",
       "[1036 rows x 7 columns]"
      ]
     },
     "execution_count": 3,
     "metadata": {},
     "output_type": "execute_result"
    }
   ],
   "source": [
    "# Download data from datahub.io. \n",
    "pharma = pd.read_csv('data/pharmaspending.csv')\n",
    "\n",
    "# Inspect the data\n",
    "pharma"
   ]
  },
  {
   "cell_type": "markdown",
   "metadata": {
    "slideshow": {
     "slide_type": "notes"
    }
   },
   "source": [
    "Notes: We will start exploring the Seaborn library with lineplots. \n",
    "\n",
    "The following example elaborates on lineplots with a new dataset. This dataset is retrieved from [Datahub.io](https://datahub.io/core/pharmaceutical-drug-spending) and contains the spendings of a bunch of countries in pharmaceutical as from 1971. The dataset is available in the data folder as `pharmaspending.csv`. "
   ]
  },
  {
   "cell_type": "markdown",
   "metadata": {
    "slideshow": {
     "slide_type": "subslide"
    }
   },
   "source": [
    "### 3.2.2 Lineplot  "
   ]
  },
  {
   "cell_type": "code",
   "execution_count": 4,
   "metadata": {},
   "outputs": [
    {
     "data": {
      "text/plain": [
       "<AxesSubplot:xlabel='TIME', ylabel='PC_GDP'>"
      ]
     },
     "execution_count": 4,
     "metadata": {},
     "output_type": "execute_result"
    },
    {
     "data": {
      "image/png": "[encoded data removed]",
      "text/plain": [
       "<Figure size 432x288 with 1 Axes>"
      ]
     },
     "metadata": {
      "needs_background": "light"
     },
     "output_type": "display_data"
    }
   ],
   "source": [
    "# Download data from datahub.io. \n",
    "pharma = pd.read_csv('data/pharmaspending.csv')\n",
    "\n",
    "# Make a lineplot of the percentage of GDP over time\n",
    "sns.lineplot(x = 'TIME', y = 'PC_GDP', data = pharma)"
   ]
  },
  {
   "cell_type": "markdown",
   "metadata": {
    "slideshow": {
     "slide_type": "notes"
    }
   },
   "source": [
    "Notes: \n",
    "The following is defined:\n",
    "- x-axis: column name that contains the data for the x-axis = `'TIME'`\n",
    "- y-axis: column name that contains the data for the y-axis = `'PC_GDP'`\n",
    "- dataset: name of the dataset = `'pharma'`\n",
    "\n",
    "Note that the name of the x and y argument are not random. They share the identical name of the column names in the dataframe.\n",
    "\n",
    "This is the lineplot of the percentage of GDP for all the countries in this dataframe. We can make a subselection of this dataframe that contains the data for Belgium and its neigbhouring countries France, Germany and the Netherlands"
   ]
  },
  {
   "cell_type": "code",
   "execution_count": 5,
   "metadata": {
    "slideshow": {
     "slide_type": "subslide"
    }
   },
   "outputs": [
    {
     "data": {
      "text/plain": [
       "<AxesSubplot:xlabel='TIME', ylabel='PC_GDP'>"
      ]
     },
     "execution_count": 5,
     "metadata": {},
     "output_type": "execute_result"
    },
    {
     "data": {
      "image/png": "[encoded data removed]",
      "text/plain": [
       "<Figure size 432x288 with 1 Axes>"
      ]
     },
     "metadata": {
      "needs_background": "light"
     },
     "output_type": "display_data"
    }
   ],
   "source": [
    "# Make a lineplot of the percentage of GDP over time\n",
    "sns.lineplot(x = 'TIME', y = 'PC_GDP', data = pharma)"
   ]
  },
  {
   "cell_type": "markdown",
   "metadata": {},
   "source": [
    "### Question:\n",
    "\n",
    "Knowing that the dataset contains data for 36 countries from 1971 until 2015. What happened when Seaborn made this plot for us?  "
   ]
  },
  {
   "cell_type": "markdown",
   "metadata": {
    "slideshow": {
     "slide_type": "notes"
    }
   },
   "source": [
    "Notes: Many seaborn functions can automatically perform the statistical estimation and plot it on your graph. More complex datasets will have multiple measurements for the same value of the x variable. The default behavior in seaborn is to aggregate the multiple measurements at each x value by plotting the mean and the 95% confidence interval around the mean. This is the lineplot of the percentage of GDP for all the countries in this dataframe. \n",
    "\n",
    "How can you know there are 36 countries in this dataset? \n",
    "```python\n",
    "len(pharma['LOCATION'].unique())\n",
    "```"
   ]
  },
  {
   "cell_type": "markdown",
   "metadata": {
    "slideshow": {
     "slide_type": "subslide"
    }
   },
   "source": [
    "### 3.2.2 Lineplot  "
   ]
  },
  {
   "cell_type": "code",
   "execution_count": 6,
   "metadata": {},
   "outputs": [
    {
     "data": {
      "text/html": [
       "<div>\n",
       "<style scoped>\n",
       "    .dataframe tbody tr th:only-of-type {\n",
       "        vertical-align: middle;\n",
       "    }\n",
       "\n",
       "    .dataframe tbody tr th {\n",
       "        vertical-align: top;\n",
       "    }\n",
       "\n",
       "    .dataframe thead th {\n",
       "        text-align: right;\n",
       "    }\n",
       "</style>\n",
       "<table border=\"1\" class=\"dataframe\">\n",
       "  <thead>\n",
       "    <tr style=\"text-align: right;\">\n",
       "      <th></th>\n",
       "      <th>LOCATION</th>\n",
       "      <th>TIME</th>\n",
       "      <th>PC_HEALTHXP</th>\n",
       "      <th>PC_GDP</th>\n",
       "      <th>USD_CAP</th>\n",
       "      <th>FLAG_CODES</th>\n",
       "      <th>TOTAL_SPEND</th>\n",
       "    </tr>\n",
       "  </thead>\n",
       "  <tbody>\n",
       "    <tr>\n",
       "      <th>0</th>\n",
       "      <td>BEL</td>\n",
       "      <td>1970</td>\n",
       "      <td>28.113</td>\n",
       "      <td>1.078</td>\n",
       "      <td>41.918</td>\n",
       "      <td>NaN</td>\n",
       "      <td>404.74</td>\n",
       "    </tr>\n",
       "    <tr>\n",
       "      <th>1</th>\n",
       "      <td>BEL</td>\n",
       "      <td>1971</td>\n",
       "      <td>28.275</td>\n",
       "      <td>1.109</td>\n",
       "      <td>46.908</td>\n",
       "      <td>NaN</td>\n",
       "      <td>453.75</td>\n",
       "    </tr>\n",
       "    <tr>\n",
       "      <th>2</th>\n",
       "      <td>BEL</td>\n",
       "      <td>1972</td>\n",
       "      <td>27.629</td>\n",
       "      <td>1.126</td>\n",
       "      <td>52.105</td>\n",
       "      <td>NaN</td>\n",
       "      <td>506.00</td>\n",
       "    </tr>\n",
       "    <tr>\n",
       "      <th>3</th>\n",
       "      <td>BEL</td>\n",
       "      <td>1973</td>\n",
       "      <td>27.547</td>\n",
       "      <td>1.200</td>\n",
       "      <td>61.916</td>\n",
       "      <td>NaN</td>\n",
       "      <td>603.17</td>\n",
       "    </tr>\n",
       "    <tr>\n",
       "      <th>4</th>\n",
       "      <td>BEL</td>\n",
       "      <td>1974</td>\n",
       "      <td>26.779</td>\n",
       "      <td>1.183</td>\n",
       "      <td>69.147</td>\n",
       "      <td>NaN</td>\n",
       "      <td>675.73</td>\n",
       "    </tr>\n",
       "    <tr>\n",
       "      <th>...</th>\n",
       "      <td>...</td>\n",
       "      <td>...</td>\n",
       "      <td>...</td>\n",
       "      <td>...</td>\n",
       "      <td>...</td>\n",
       "      <td>...</td>\n",
       "      <td>...</td>\n",
       "    </tr>\n",
       "    <tr>\n",
       "      <th>154</th>\n",
       "      <td>NLD</td>\n",
       "      <td>2012</td>\n",
       "      <td>8.277</td>\n",
       "      <td>0.903</td>\n",
       "      <td>421.533</td>\n",
       "      <td>NaN</td>\n",
       "      <td>7062.77</td>\n",
       "    </tr>\n",
       "    <tr>\n",
       "      <th>155</th>\n",
       "      <td>NLD</td>\n",
       "      <td>2013</td>\n",
       "      <td>7.757</td>\n",
       "      <td>0.845</td>\n",
       "      <td>411.405</td>\n",
       "      <td>NaN</td>\n",
       "      <td>6913.43</td>\n",
       "    </tr>\n",
       "    <tr>\n",
       "      <th>156</th>\n",
       "      <td>NLD</td>\n",
       "      <td>2014</td>\n",
       "      <td>7.638</td>\n",
       "      <td>0.829</td>\n",
       "      <td>406.470</td>\n",
       "      <td>NaN</td>\n",
       "      <td>6855.12</td>\n",
       "    </tr>\n",
       "    <tr>\n",
       "      <th>157</th>\n",
       "      <td>NLD</td>\n",
       "      <td>2015</td>\n",
       "      <td>7.865</td>\n",
       "      <td>0.841</td>\n",
       "      <td>416.594</td>\n",
       "      <td>NaN</td>\n",
       "      <td>7057.07</td>\n",
       "    </tr>\n",
       "    <tr>\n",
       "      <th>158</th>\n",
       "      <td>NLD</td>\n",
       "      <td>2016</td>\n",
       "      <td>8.024</td>\n",
       "      <td>0.843</td>\n",
       "      <td>432.136</td>\n",
       "      <td>P</td>\n",
       "      <td>7354.27</td>\n",
       "    </tr>\n",
       "  </tbody>\n",
       "</table>\n",
       "<p>159 rows × 7 columns</p>\n",
       "</div>"
      ],
      "text/plain": [
       "    LOCATION  TIME  PC_HEALTHXP  PC_GDP  USD_CAP FLAG_CODES  TOTAL_SPEND\n",
       "0        BEL  1970       28.113   1.078   41.918        NaN       404.74\n",
       "1        BEL  1971       28.275   1.109   46.908        NaN       453.75\n",
       "2        BEL  1972       27.629   1.126   52.105        NaN       506.00\n",
       "3        BEL  1973       27.547   1.200   61.916        NaN       603.17\n",
       "4        BEL  1974       26.779   1.183   69.147        NaN       675.73\n",
       "..       ...   ...          ...     ...      ...        ...          ...\n",
       "154      NLD  2012        8.277   0.903  421.533        NaN      7062.77\n",
       "155      NLD  2013        7.757   0.845  411.405        NaN      6913.43\n",
       "156      NLD  2014        7.638   0.829  406.470        NaN      6855.12\n",
       "157      NLD  2015        7.865   0.841  416.594        NaN      7057.07\n",
       "158      NLD  2016        8.024   0.843  432.136          P      7354.27\n",
       "\n",
       "[159 rows x 7 columns]"
      ]
     },
     "execution_count": 6,
     "metadata": {},
     "output_type": "execute_result"
    }
   ],
   "source": [
    "# Make empty dataframe\n",
    "sub_pharma = pd.DataFrame()\n",
    "\n",
    "# Countries of interest\n",
    "countries = ['BEL', 'FRA', 'DEU', 'NLD']\n",
    "\n",
    "# Make subselection dataframe with the data of the countries of interest\n",
    "for country in countries:\n",
    "    sub_pharma = sub_pharma.append(pharma.loc[pharma['LOCATION'] == country], ignore_index=True)\n",
    "    \n",
    "sub_pharma"
   ]
  },
  {
   "cell_type": "markdown",
   "metadata": {
    "slideshow": {
     "slide_type": "subslide"
    }
   },
   "source": [
    "### 3.2.2 Lineplot  "
   ]
  },
  {
   "cell_type": "code",
   "execution_count": 7,
   "metadata": {},
   "outputs": [
    {
     "data": {
      "text/plain": [
       "<AxesSubplot:xlabel='TIME', ylabel='PC_GDP'>"
      ]
     },
     "execution_count": 7,
     "metadata": {},
     "output_type": "execute_result"
    },
    {
     "data": {
      "image/png": "[encoded data removed]",
      "text/plain": [
       "<Figure size 432x288 with 1 Axes>"
      ]
     },
     "metadata": {
      "needs_background": "light"
     },
     "output_type": "display_data"
    }
   ],
   "source": [
    "# Make a lineplot of the percentage of GDP over time\n",
    "sns.lineplot(x = 'TIME', y = 'PC_GDP', data = sub_pharma)"
   ]
  },
  {
   "cell_type": "markdown",
   "metadata": {
    "slideshow": {
     "slide_type": "notes"
    }
   },
   "source": [
    "Notes: add `hue='LOCATION'`\n",
    "\n",
    "**Question**:\n",
    "Why doesn't Seaborn calculate a statistical estimation around the lines in this plot? What has changed as compared to the first lineplot? "
   ]
  },
  {
   "cell_type": "markdown",
   "metadata": {
    "slideshow": {
     "slide_type": "slide"
    }
   },
   "source": [
    "### 3.2.3 Barplot"
   ]
  },
  {
   "cell_type": "code",
   "execution_count": 8,
   "metadata": {},
   "outputs": [
    {
     "data": {
      "image/png": "[encoded data removed]",
      "text/plain": [
       "<Figure size 1080x432 with 1 Axes>"
      ]
     },
     "metadata": {
      "needs_background": "light"
     },
     "output_type": "display_data"
    }
   ],
   "source": [
    "# Set the width and height of the figure\n",
    "plt.figure(figsize=(15,6))\n",
    "\n",
    "# Plot barplot with similar x, y and data definitions\n",
    "ax = sns.barplot(x = 'LOCATION', y = 'TOTAL_SPEND', data = pharma)"
   ]
  },
  {
   "cell_type": "markdown",
   "metadata": {
    "slideshow": {
     "slide_type": "notes"
    }
   },
   "source": [
    "Notes: Take the sum of all spendings from oldest until the most recent spendings (TOTAL_SPEND) and make a barplot. Notice that this may lead to misinterpretation and plot the spendings per capita.\n",
    "\n",
    "CHANGE: y to `'PC_GDP'`!! "
   ]
  },
  {
   "cell_type": "markdown",
   "metadata": {
    "slideshow": {
     "slide_type": "subslide"
    }
   },
   "source": [
    "### 3.2.3.1 Exercise:\n",
    "Plot the same barplot but only for Belgium vs the Netherlands. Find a barplot argument that selects which country is selected and hence plotted (instead of making another subselection of the pandas dataframe). \n",
    "\n",
    "**Extra**: Adjust the figure with error bar caps, your favourite color palette, make it a horizontal barplot, or experiment with any of the other features. "
   ]
  },
  {
   "cell_type": "code",
   "execution_count": null,
   "metadata": {},
   "outputs": [],
   "source": []
  },
  {
   "cell_type": "markdown",
   "metadata": {
    "slideshow": {
     "slide_type": "slide"
    }
   },
   "source": [
    "## 3.2.3 Barplots - Use-case"
   ]
  },
  {
   "cell_type": "markdown",
   "metadata": {},
   "source": [
    "From exercise [2.5.1 - B](02_Pandas.ipynb), `metagenic.csv` contains methylated cytosines in a specific region of a gene, where we added a new column with total counts per chromosome. "
   ]
  },
  {
   "cell_type": "code",
   "execution_count": 11,
   "metadata": {},
   "outputs": [
    {
     "data": {
      "text/html": [
       "<div>\n",
       "<style scoped>\n",
       "    .dataframe tbody tr th:only-of-type {\n",
       "        vertical-align: middle;\n",
       "    }\n",
       "\n",
       "    .dataframe tbody tr th {\n",
       "        vertical-align: top;\n",
       "    }\n",
       "\n",
       "    .dataframe thead th {\n",
       "        text-align: right;\n",
       "    }\n",
       "</style>\n",
       "<table border=\"1\" class=\"dataframe\">\n",
       "  <thead>\n",
       "    <tr style=\"text-align: right;\">\n",
       "      <th></th>\n",
       "      <th>chr</th>\n",
       "      <th>ribo</th>\n",
       "      <th>exon</th>\n",
       "      <th>5utr</th>\n",
       "      <th>3utr</th>\n",
       "      <th>intron</th>\n",
       "      <th>non_protein_coding</th>\n",
       "      <th>intergenic</th>\n",
       "      <th>total</th>\n",
       "    </tr>\n",
       "  </thead>\n",
       "  <tbody>\n",
       "    <tr>\n",
       "      <th>24</th>\n",
       "      <td>1</td>\n",
       "      <td>274</td>\n",
       "      <td>85</td>\n",
       "      <td>16</td>\n",
       "      <td>88</td>\n",
       "      <td>28</td>\n",
       "      <td>35</td>\n",
       "      <td>22</td>\n",
       "      <td>548</td>\n",
       "    </tr>\n",
       "    <tr>\n",
       "      <th>23</th>\n",
       "      <td>19</td>\n",
       "      <td>215</td>\n",
       "      <td>68</td>\n",
       "      <td>9</td>\n",
       "      <td>73</td>\n",
       "      <td>29</td>\n",
       "      <td>18</td>\n",
       "      <td>18</td>\n",
       "      <td>430</td>\n",
       "    </tr>\n",
       "    <tr>\n",
       "      <th>21</th>\n",
       "      <td>17</td>\n",
       "      <td>211</td>\n",
       "      <td>64</td>\n",
       "      <td>6</td>\n",
       "      <td>67</td>\n",
       "      <td>30</td>\n",
       "      <td>21</td>\n",
       "      <td>23</td>\n",
       "      <td>422</td>\n",
       "    </tr>\n",
       "    <tr>\n",
       "      <th>22</th>\n",
       "      <td>11</td>\n",
       "      <td>175</td>\n",
       "      <td>64</td>\n",
       "      <td>11</td>\n",
       "      <td>44</td>\n",
       "      <td>18</td>\n",
       "      <td>11</td>\n",
       "      <td>27</td>\n",
       "      <td>350</td>\n",
       "    </tr>\n",
       "    <tr>\n",
       "      <th>15</th>\n",
       "      <td>16</td>\n",
       "      <td>168</td>\n",
       "      <td>58</td>\n",
       "      <td>10</td>\n",
       "      <td>54</td>\n",
       "      <td>22</td>\n",
       "      <td>14</td>\n",
       "      <td>10</td>\n",
       "      <td>336</td>\n",
       "    </tr>\n",
       "  </tbody>\n",
       "</table>\n",
       "</div>"
      ],
      "text/plain": [
       "   chr  ribo  exon  5utr  3utr  intron  non_protein_coding  intergenic  total\n",
       "24   1   274    85    16    88      28                  35          22    548\n",
       "23  19   215    68     9    73      29                  18          18    430\n",
       "21  17   211    64     6    67      30                  21          23    422\n",
       "22  11   175    64    11    44      18                  11          27    350\n",
       "15  16   168    58    10    54      22                  14          10    336"
      ]
     },
     "execution_count": 11,
     "metadata": {},
     "output_type": "execute_result"
    }
   ],
   "source": [
    "# Import data\n",
    "metagenic = pd.read_csv('data/metagenic.csv')\n",
    "\n",
    "# Add a column with total counts\n",
    "metagenic[\"total\"] = metagenic.sum(axis = 1)\n",
    "\n",
    "# Order the table per total counts\n",
    "metagenic = metagenic.sort_values(\"total\", ascending = False)\n",
    "metagenic.head()"
   ]
  },
  {
   "cell_type": "markdown",
   "metadata": {
    "slideshow": {
     "slide_type": "notes"
    }
   },
   "source": [
    "Notes: For the following example, we're going to plot **horizontal** layered barplots. We will re-use the code from exercise [2.5.1 - B](02_Pandas.ipynb) with metagenic classifications. Thus, we already know that each count represents a methylated cytosine in a specific region of a gene, and we added a new column with total counts per chromosome:"
   ]
  },
  {
   "cell_type": "markdown",
   "metadata": {
    "slideshow": {
     "slide_type": "subslide"
    }
   },
   "source": [
    "## 3.2.3 Barplots - Use-case"
   ]
  },
  {
   "cell_type": "code",
   "execution_count": 12,
   "metadata": {},
   "outputs": [
    {
     "data": {
      "text/plain": [
       "<AxesSubplot:xlabel='total', ylabel='chr'>"
      ]
     },
     "execution_count": 12,
     "metadata": {},
     "output_type": "execute_result"
    },
    {
     "data": {
      "image/png": "[encoded data removed]",
      "text/plain": [
       "<Figure size 720x432 with 1 Axes>"
      ]
     },
     "metadata": {},
     "output_type": "display_data"
    }
   ],
   "source": [
    "# The following line will make a grid on a white background\n",
    "sns.set(style=\"whitegrid\")\n",
    "\n",
    "# Set the size of the figure plot\n",
    "plt.figure(figsize=(10,6))\n",
    "\n",
    "# Create a barplot with \n",
    "sns.barplot(x=\"total\", y=\"chr\", data= metagenic)"
   ]
  },
  {
   "cell_type": "markdown",
   "metadata": {
    "slideshow": {
     "slide_type": "notes"
    }
   },
   "source": [
    "Notes: Add:\n",
    "```python\n",
    "# Define colorstyle\n",
    "sns.set_color_codes(\"deep\")\n",
    "\n",
    "# Define figure size\n",
    "f, ax = plt.subplots(figsize=(10,6))\n",
    "\n",
    "# First plot the total counts\n",
    "sns.barplot(x= \"total\", y=\"chr\", data= metagenic, label = \"total\", color = 'b')\n",
    "# Then plot the ones with ribo counts\n",
    "sns.barplot(x=\"ribo\",y=\"chr\", data= metagenic, label = \"ribo\", color=\"y\")\n",
    "# Third bar with exons\n",
    "sns.barplot(x=\"exon\",y=\"chr\", data= metagenic, label = \"exon\", color=\"r\")\n",
    "# Add a legend and informative axis label\n",
    "ax.legend(loc = \"lower right\") # When doing this: add 'f, ax' before plt.figure --> f, ax = plt.fi...\n",
    "```\n"
   ]
  },
  {
   "cell_type": "markdown",
   "metadata": {
    "slideshow": {
     "slide_type": "slide"
    }
   },
   "source": [
    "## 3.2.4 Multiplot grids\n",
    "Seaborn easily helps you to visualise pairwise relationships and marginal distributions. See notebooks for a short example. \n",
    "\n",
    "<center> <img src=\"img/multiplot.png\" width=600px> </center>\n"
   ]
  },
  {
   "cell_type": "markdown",
   "metadata": {
    "slideshow": {
     "slide_type": "slide"
    }
   },
   "source": [
    "### 3.2.5 Scatter plot - Use-case\n",
    "- Volcano plots often used in differetial expression (RNA-seq) \n",
    "- Essentially, a volcano plot is the same as a scatter plot\n",
    "- Example: \n",
    "\n",
    "<center> <img src=\"img/volcano-plot-example.png\" width=500px height=400px> </center>"
   ]
  },
  {
   "cell_type": "markdown",
   "metadata": {
    "slideshow": {
     "slide_type": "notes"
    }
   },
   "source": [
    "Notes: A useful plot in differential expression analysis (RNA-seq) is a volcano plot. A volcano plot visualises and identifies statistically significant gene expression changes from two different conditions.  Essentially, a volcano plot is a scatter plot and can also be approached from this perspective in Seaborn logic. The data for this experiment is retrieved from the GTN tutorial \"RNA Seq Counts to Viz in R\" ([link](https://galaxyproject.github.io/training-material/topics/transcriptomics/tutorials/rna-seq-counts-to-viz-in-r/tutorial.html)).\n",
    "\n",
    "A volcano plot shows statistical significance (P-value) versus magnitude of change (fold change). The most upregulated genes are towards the right, the most downregulated genes are towards the left, and the most statistically significant genes are towards the top. With this plot, we can then quickly identify genes with large fold changes that are also statistically significant, i.e. probably the most biologically significant genes."
   ]
  },
  {
   "cell_type": "markdown",
   "metadata": {
    "slideshow": {
     "slide_type": "subslide"
    }
   },
   "source": [
    "### 3.2.5 Scatter plot - Use-case"
   ]
  },
  {
   "cell_type": "code",
   "execution_count": 1,
   "metadata": {},
   "outputs": [
    {
     "ename": "NameError",
     "evalue": "name 'pd' is not defined",
     "output_type": "error",
     "traceback": [
      "\u001b[1;31m---------------------------------------------------------------------------\u001b[0m",
      "\u001b[1;31mNameError\u001b[0m                                 Traceback (most recent call last)",
      "\u001b[1;32m<ipython-input-1-a7be133e9675>\u001b[0m in \u001b[0;36m<module>\u001b[1;34m\u001b[0m\n\u001b[0;32m      1\u001b[0m \u001b[1;31m# Import dataset\u001b[0m\u001b[1;33m\u001b[0m\u001b[1;33m\u001b[0m\u001b[1;33m\u001b[0m\u001b[0m\n\u001b[1;32m----> 2\u001b[1;33m \u001b[0mvolc\u001b[0m \u001b[1;33m=\u001b[0m \u001b[0mpd\u001b[0m\u001b[1;33m.\u001b[0m\u001b[0mread_csv\u001b[0m\u001b[1;33m(\u001b[0m\u001b[1;34m'data/annotatedDEgenes.tabular'\u001b[0m\u001b[1;33m,\u001b[0m \u001b[0msep\u001b[0m\u001b[1;33m=\u001b[0m\u001b[1;34m'\\t'\u001b[0m\u001b[1;33m)\u001b[0m\u001b[1;33m\u001b[0m\u001b[1;33m\u001b[0m\u001b[0m\n\u001b[0m\u001b[0;32m      3\u001b[0m \u001b[0mvolc\u001b[0m\u001b[1;33m.\u001b[0m\u001b[0mhead\u001b[0m\u001b[1;33m(\u001b[0m\u001b[1;33m)\u001b[0m\u001b[1;33m\u001b[0m\u001b[1;33m\u001b[0m\u001b[0m\n",
      "\u001b[1;31mNameError\u001b[0m: name 'pd' is not defined"
     ]
    }
   ],
   "source": [
    "# Import dataset\n",
    "volc = pd.read_csv('data/annotatedDEgenes.tabular', sep='\\t')\n",
    "volc.head()"
   ]
  },
  {
   "cell_type": "markdown",
   "metadata": {
    "slideshow": {
     "slide_type": "notes"
    }
   },
   "source": [
    "Notes: We already have the `log2(FC)` values. The P-value needs to be log10 transformed. Notice that the datatype of the values in the DataFrame are interpreted as `numpy.float64`. \n",
    "\n",
    "```python\n",
    "# Check the data type of a value in the P-values column\n",
    "type(volc['P-value'][0])\n",
    "```\n",
    "\n",
    "In the following code block we will add the log10 transformed P-values using Numpy's log10 function.\n",
    "```python\n",
    "# Log10 transform the p-values \n",
    "volc['Log10 P-value'] = -np.log10(volc['P-value'])\n",
    "volc.head()\n",
    "```"
   ]
  },
  {
   "cell_type": "markdown",
   "metadata": {
    "slideshow": {
     "slide_type": "subslide"
    }
   },
   "source": [
    "### 3.2.5 Scatter plot - Use-case"
   ]
  },
  {
   "cell_type": "code",
   "execution_count": null,
   "metadata": {},
   "outputs": [],
   "source": [
    "# Volcano plot using Seaborn's scatterplot\n",
    "ax = sns.scatterplot(x='log2(FC)', y='Log10 P-value', data=volc)"
   ]
  },
  {
   "cell_type": "markdown",
   "metadata": {
    "slideshow": {
     "slide_type": "subslide"
    }
   },
   "source": [
    "### 3.2.5.1 Exercise\n",
    "Mimic the graph given below which is extracted from the [tutorial](https://training.galaxyproject.org/training-material/topics/transcriptomics/tutorials/rna-seq-counts-to-viz-in-r/tutorial.html#volcano-plot) and represents the final result. \n",
    "- Use a darkgrid background\n",
    "- Color the dots according to its strand orientations\n",
    "- Add a title, x- and y-labels \n",
    "- Save the figure  \n",
    "\n",
    "Extra: figure out how you can:\n",
    "- Move the legend outside of the plot\n",
    "- Remove the upper and right spine of the plots\n",
    "\n"
   ]
  },
  {
   "cell_type": "markdown",
   "metadata": {
    "slideshow": {
     "slide_type": "subslide"
    }
   },
   "source": [
    "The tutorial creates this plot: \n",
    "![Volcano plot](img/volcano-plot-gtn.png)"
   ]
  },
  {
   "cell_type": "markdown",
   "metadata": {
    "slideshow": {
     "slide_type": "slide"
    }
   },
   "source": [
    "### 3.2.5 Heatmap - Use-case"
   ]
  },
  {
   "cell_type": "markdown",
   "metadata": {},
   "source": [
    "Import the use-case data:"
   ]
  },
  {
   "cell_type": "code",
   "execution_count": null,
   "metadata": {},
   "outputs": [],
   "source": [
    "# 1. Import data & Prepare the data (note the index)\n",
    "heatmap_df = pd.read_csv('data/heatmap_data.csv', index_col=0)\n",
    "heatmap_df.head()"
   ]
  },
  {
   "cell_type": "markdown",
   "metadata": {
    "slideshow": {
     "slide_type": "notes"
    }
   },
   "source": [
    "Notes: This example is the sequel of exercise 2.5.4 in the previous chapter. In this exercise, derived from the GTN, we will plot the data that we cleaned in the previous chapter to create a heatmap of the top differentially expressed genes in an RNA-seq counts dataset."
   ]
  },
  {
   "cell_type": "markdown",
   "metadata": {
    "slideshow": {
     "slide_type": "subslide"
    }
   },
   "source": [
    "### 3.2.5 Heatmap - Use-case"
   ]
  },
  {
   "cell_type": "markdown",
   "metadata": {},
   "source": [
    "Preparing the data:"
   ]
  },
  {
   "cell_type": "code",
   "execution_count": null,
   "metadata": {},
   "outputs": [],
   "source": [
    "# Importing statistical library from scipy for calculating z-scores\n",
    "from scipy import stats \n",
    "\n",
    "# Data scaling by row (scale genes) with zscores\n",
    "for row in range(len(heatmap_df)):\n",
    "    heatmap_df.iloc[row] = stats.zscore(heatmap_df.iloc[row])\n",
    "    \n",
    "heatmap_df"
   ]
  },
  {
   "cell_type": "markdown",
   "metadata": {
    "slideshow": {
     "slide_type": "subslide"
    }
   },
   "source": [
    "### 3.2.5 Heatmap - Use-case"
   ]
  },
  {
   "cell_type": "markdown",
   "metadata": {},
   "source": [
    "Plot the heatmap:"
   ]
  },
  {
   "cell_type": "code",
   "execution_count": null,
   "metadata": {},
   "outputs": [],
   "source": [
    "sns.heatmap(heatmap_df, cmap=\"RdBu\", annot=True)"
   ]
  },
  {
   "cell_type": "markdown",
   "metadata": {
    "slideshow": {
     "slide_type": "notes"
    }
   },
   "source": [
    "Notes: Add:\n",
    "```python\n",
    "# 2. Set style of the plot\n",
    "sns.set_style(\"ticks\")\n",
    "sns.color_palette(\"deep\")\n",
    "\n",
    "# 3. Define/create the plot\n",
    "f = plt.figure(figsize=(10,10))\n",
    "ax = sns.heatmap(heatmap_df, cmap=\"RdBu\", annot=True)\n",
    "\n",
    "# 4. Tweak lay-out\n",
    "ax.set(xlabel='Samples', ylabel='Genes', title='Heatmap of DE genes')\n",
    "```\n",
    " \n"
   ]
  },
  {
   "cell_type": "markdown",
   "metadata": {
    "slideshow": {
     "slide_type": "slide"
    }
   },
   "source": [
    "## 3.3  An overview of lay-outing options"
   ]
  },
  {
   "cell_type": "code",
   "execution_count": null,
   "metadata": {
    "slideshow": {
     "slide_type": "subslide"
    }
   },
   "outputs": [],
   "source": [
    "# 1. Import data\n",
    "...\n",
    "\n",
    "# 2. Set style of the plot\n",
    "sns.set(...)\n",
    "sns.set_style(...)\n",
    "sns.set_context(...)\n",
    "sns.color_palette(...)\n",
    "sns.axes_style(...)\n",
    "\n",
    "# 3. Initialise the plot and plot the data. \n",
    "fig = plt.figure(...)  || fig, ax = plt.subplots() \n",
    "sns.lineplot(...)\n",
    "\n",
    "# 4. Modify lay-out (title, labels, legend, etc.)\n",
    "ax.set(...)\n",
    "plt.xlabel(...)\n",
    "plt.ylabel(...)\n",
    "\n",
    "# Save the figure with:\n",
    "#ax.savefig()"
   ]
  },
  {
   "cell_type": "markdown",
   "metadata": {
    "slideshow": {
     "slide_type": "notes"
    }
   },
   "source": [
    "Notes: Finally, we will maken an overview of the different steps and lay-out options when plotting by using simple line-plots. \n",
    "    It's difficult to find best practices regarding plotting. However, the following steps can help you with a decent order to render your plots as expected.\n",
    "    \n",
    " A lot of specifications and links to references in the course materials notebook!\n"
   ]
  },
  {
   "cell_type": "markdown",
   "metadata": {
    "slideshow": {
     "slide_type": "subslide"
    }
   },
   "source": [
    "<center> <img src=\"img/plotting-hierarchy.webp\"> </center>"
   ]
  },
  {
   "cell_type": "markdown",
   "metadata": {
    "slideshow": {
     "slide_type": "notes"
    }
   },
   "source": [
    "Notes: A Figure object is the outermost container for a matplotlib graphic, which can contain multiple Axes objects. One source of confusion is the name: an Axes actually translates into what we think of as an individual plot or graph (rather than the plural of “axis,” as we might expect).\n"
   ]
  },
  {
   "cell_type": "markdown",
   "metadata": {
    "slideshow": {
     "slide_type": "subslide"
    }
   },
   "source": [
    "### 3.3.1 Exercise \n",
    "Import and inspect the dataset from [datahub.io](https://datahub.io/core/genome-sequencing-costs) containing the cost of genome sequencing throughout the years (also stored as `data/sequencing_costs.csv`).\n",
    "\n",
    "![Seq cost per Mb](img/seqcost.png)"
   ]
  },
  {
   "cell_type": "markdown",
   "metadata": {
    "slideshow": {
     "slide_type": "subslide"
    }
   },
   "source": [
    "### 3.3.2 Extra exercise\n",
    "Modify the code from the previous exercise to make two subplots underneath each other that plot the Cost per Mb over years and the Total cost. \n",
    "Find more information on subplots [here](https://matplotlib.org/3.1.0/gallery/subplots_axes_and_figures/subplots_demo.html) or [here](https://dev.to/thalesbruno/subplotting-with-matplotlib-and-seaborn-5ei8).\n",
    "\n",
    "![Subplots sequencing cost](img/subplots_seqcost.png)"
   ]
  },
  {
   "cell_type": "markdown",
   "metadata": {
    "slideshow": {
     "slide_type": "slide"
    }
   },
   "source": [
    "## 3.5 Further reading\n",
    "The internet is full of blogs discussing visualisation libraries and best practices, here is a start for some further reading:\n",
    "- https://realpython.com/python-matplotlib-guide/\n",
    "- https://mode.com/blog/python-data-visualization-libraries\n",
    "- https://pbpython.com/visualization-tools-1.html\n",
    "- https://www.dataquest.io/blog/python-data-visualization-libraries/\n",
    "- https://lisacharlotterost.de/2016/05/17/one-chart-code/"
   ]
  }
 ],
 "metadata": {
  "kernelspec": {
   "display_name": "Python 3",
   "language": "python",
   "name": "python3"
  },
  "language_info": {
   "codemirror_mode": {
    "name": "ipython",
    "version": 3
   },
   "file_extension": ".py",
   "mimetype": "text/x-python",
   "name": "python",
   "nbconvert_exporter": "python",
   "pygments_lexer": "ipython3",
   "version": "3.7.9"
  }
 },
 "nbformat": 4,
 "nbformat_minor": 4
}
