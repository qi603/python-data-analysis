{
 "cells": [
  {
   "cell_type": "markdown",
   "metadata": {
    "slideshow": {
     "slide_type": "slide"
    }
   },
   "source": [
    "# 3.  Visualisation\n",
    "\n",
    "<center><img src='img/misleading-plots-1.jpg'></center>"
   ]
  },
  {
   "cell_type": "markdown",
   "metadata": {
    "slideshow": {
     "slide_type": "notes"
    }
   },
   "source": [
    "Notes: \n",
    "Drawing attractive figures is important. Visualisations are central to communicating quantitative insights to an audience, and in that setting it’s even more necessary to have figures that catch the attention. Besides the attractiveness, correctness is obviously even more important. Misleading data visualisations can lead to misinterpretations and false conclusions, e.g. [example 1](https://www.datapine.com/blog/misleading-data-visualization-examples/), [example 2](https://learningsolutionsmag.com/articles/misleading-data-visualizations-can-confuse-deceive-learners).  "
   ]
  },
  {
   "cell_type": "markdown",
   "metadata": {
    "slideshow": {
     "slide_type": "subslide"
    }
   },
   "source": [
    "\n",
    "<center><img src='img/flowchart-visualisation-python.png'></center>\n"
   ]
  },
  {
   "cell_type": "markdown",
   "metadata": {
    "slideshow": {
     "slide_type": "notes"
    }
   },
   "source": [
    "Notes: When you're new to Python, the amount of visualisation libraries can be overwhelming. As a general rule of thumb, it's often a better choice to reflect on which type of graph you want to plot and choose the corresponding and appropriate library. For this course we've chosen to dive into the Seaborn library.\n",
    "\n",
    "Generally you could summarize that **Matplotlib (pyplot)**  has great flexibility and versatility that comes with the cost of (sometimes) complexity and low-level type of programming. **Seaborn** is a Python data visualisation library which is built on-top of Matplotlib and closely integrated with pandas data structures. It provides a higher-level wrapper on the library which makes it easier to create more aesthetically pleasing plots.  \n",
    "\n",
    "At the end of this chapter you'll find a bunch of references to blogs with comparisons of different libraries. "
   ]
  },
  {
   "cell_type": "markdown",
   "metadata": {
    "slideshow": {
     "slide_type": "slide"
    }
   },
   "source": [
    "## 3.2 Seaborn\n",
    "\n",
    "![Seaborn logo](img/seaborn-logo.png)"
   ]
  },
  {
   "cell_type": "markdown",
   "metadata": {
    "slideshow": {
     "slide_type": "slide"
    }
   },
   "source": [
    "### 3.2.1 Introduction\n",
    "- Overview of Seaborn plots on the [documentation website](https://seaborn.pydata.org/examples/index.html) \n",
    "- Large `seaborn` stock of plots, further customization with `matplotlib.pyplot`\n",
    "- Plots:\n",
    "  - Lineplot\n",
    "  - Barplot\n",
    "  - Multiplots\n",
    "  - Volcano plots\n",
    "  - Heatmaps\n",
    "- Lay-outing options"
   ]
  },
  {
   "cell_type": "markdown",
   "metadata": {
    "slideshow": {
     "slide_type": "notes"
    }
   },
   "source": [
    "Notes: \n",
    "An overview of Seaborn plots is accessible on the documentation website. Many plots can be accomplished with only seaborn functions, however for non-conventional plots, further customization is possible using Matplotlib pyplot directly.\n",
    "Throughout this chapter we'll be using seaborn, pandas and some of matplotlib's features to further modify our plots."
   ]
  },
  {
   "cell_type": "markdown",
   "metadata": {
    "slideshow": {
     "slide_type": "slide"
    }
   },
   "source": [
    "### 3.2.1 Introduction"
   ]
  },
  {
   "cell_type": "code",
   "execution_count": null,
   "metadata": {},
   "outputs": [],
   "source": [
    "# Importing libraries\n",
    "import numpy as np\n",
    "import pandas as pd\n",
    "import matplotlib.pyplot as plt\n",
    "import seaborn as sns\n",
    "# Some notebooks require the explicit setting of matplotlib inline to plot the graphs into the notebook\n",
    "%matplotlib inline"
   ]
  },
  {
   "cell_type": "markdown",
   "metadata": {
    "slideshow": {
     "slide_type": "subslide"
    }
   },
   "source": [
    "### 3.2.2 Lineplot  "
   ]
  },
  {
   "cell_type": "code",
   "execution_count": null,
   "metadata": {},
   "outputs": [],
   "source": [
    "# Download data from datahub.io. \n",
    "pharma = pd.read_csv('data/pharmaspending.csv')\n",
    "\n",
    "# Inspect the data\n",
    "pharma"
   ]
  },
  {
   "cell_type": "markdown",
   "metadata": {
    "slideshow": {
     "slide_type": "notes"
    }
   },
   "source": [
    "Notes: We will start exploring the Seaborn library with lineplots. \n",
    "\n",
    "The following example elaborates on lineplots with a new dataset. This dataset is retrieved from [Datahub.io](https://datahub.io/core/pharmaceutical-drug-spending) and contains the spendings of a bunch of countries in pharmaceutical as from 1971. The dataset is available in the data folder as `pharmaspending.csv`. "
   ]
  },
  {
   "cell_type": "markdown",
   "metadata": {
    "slideshow": {
     "slide_type": "subslide"
    }
   },
   "source": [
    "### 3.2.2 Lineplot  "
   ]
  },
  {
   "cell_type": "code",
   "execution_count": null,
   "metadata": {},
   "outputs": [],
   "source": [
    "# Download data from datahub.io. \n",
    "pharma = pd.read_csv('data/pharmaspending.csv')\n",
    "\n",
    "# Make a lineplot of the percentage of GDP over time\n",
    "sns.lineplot(x = 'TIME', y = 'PC_GDP', data = pharma)"
   ]
  },
  {
   "cell_type": "markdown",
   "metadata": {
    "slideshow": {
     "slide_type": "notes"
    }
   },
   "source": [
    "Notes: \n",
    "The following is defined:\n",
    "- x-axis: column name that contains the data for the x-axis = `'TIME'`\n",
    "- y-axis: column name that contains the data for the y-axis = `'PC_GDP'`\n",
    "- dataset: name of the dataset = `'pharma'`\n",
    "\n",
    "Note that the name of the x and y argument are not random. They share the identical name of the column names in the dataframe.\n",
    "\n",
    "This is the lineplot of the percentage of GDP for all the countries in this dataframe. We can make a subselection of this dataframe that contains the data for Belgium and its neigbhouring countries France, Germany and the Netherlands"
   ]
  },
  {
   "cell_type": "code",
   "execution_count": null,
   "metadata": {
    "slideshow": {
     "slide_type": "subslide"
    }
   },
   "outputs": [],
   "source": [
    "# Make a lineplot of the percentage of GDP over time\n",
    "sns.lineplot(x = 'TIME', y = 'PC_GDP', data = pharma)"
   ]
  },
  {
   "cell_type": "markdown",
   "metadata": {},
   "source": [
    "### Question:\n",
    "\n",
    "Knowing that the dataset contains data for 36 countries from 1971 until 2015. What happened when Seaborn made this plot for us?  "
   ]
  },
  {
   "cell_type": "markdown",
   "metadata": {
    "slideshow": {
     "slide_type": "notes"
    }
   },
   "source": [
    "Notes: Many seaborn functions can automatically perform the statistical estimation and plot it on your graph. More complex datasets will have multiple measurements for the same value of the x variable. The default behavior in seaborn is to aggregate the multiple measurements at each x value by plotting the mean and the 95% confidence interval around the mean. This is the lineplot of the percentage of GDP for all the countries in this dataframe. \n",
    "\n",
    "How can you know there are 36 countries in this dataset? \n",
    "```python\n",
    "len(pharma['LOCATION'].unique())\n",
    "```"
   ]
  },
  {
   "cell_type": "markdown",
   "metadata": {
    "slideshow": {
     "slide_type": "subslide"
    }
   },
   "source": [
    "### 3.2.2 Lineplot  "
   ]
  },
  {
   "cell_type": "code",
   "execution_count": null,
   "metadata": {},
   "outputs": [],
   "source": [
    "# Make empty dataframe\n",
    "sub_pharma = pd.DataFrame()\n",
    "\n",
    "# Countries of interest\n",
    "countries = ['BEL', 'FRA', 'DEU', 'NLD']\n",
    "\n",
    "# Make subselection dataframe with the data of the countries of interest\n",
    "for country in countries:\n",
    "    sub_pharma = sub_pharma.append(pharma.loc[pharma['LOCATION'] == country], ignore_index=True)\n",
    "    \n",
    "sub_pharma"
   ]
  },
  {
   "cell_type": "markdown",
   "metadata": {
    "slideshow": {
     "slide_type": "subslide"
    }
   },
   "source": [
    "### 3.2.2 Lineplot  "
   ]
  },
  {
   "cell_type": "code",
   "execution_count": null,
   "metadata": {},
   "outputs": [],
   "source": [
    "# Make a lineplot of the percentage of GDP over time\n",
    "sns.lineplot(x = 'TIME', y = 'PC_GDP', data = sub_pharma)"
   ]
  },
  {
   "cell_type": "markdown",
   "metadata": {
    "slideshow": {
     "slide_type": "notes"
    }
   },
   "source": [
    "Notes: add `hue='LOCATION'`\n",
    "\n",
    "**Question**:\n",
    "Why doesn't Seaborn calculate a statistical estimation around the lines in this plot? What has changed as compared to the first lineplot? "
   ]
  },
  {
   "cell_type": "markdown",
   "metadata": {
    "slideshow": {
     "slide_type": "slide"
    }
   },
   "source": [
    "### 3.2.3 Barplot"
   ]
  },
  {
   "cell_type": "code",
   "execution_count": null,
   "metadata": {},
   "outputs": [],
   "source": [
    "# Set the width and height of the figure\n",
    "plt.figure(figsize=(15,6))\n",
    "\n",
    "# Plot barplot with similar x, y and data definitions\n",
    "ax = sns.barplot(x = 'LOCATION', y = 'TOTAL_SPEND', data = pharma)"
   ]
  },
  {
   "cell_type": "markdown",
   "metadata": {
    "slideshow": {
     "slide_type": "notes"
    }
   },
   "source": [
    "Notes: Take the sum of all spendings from oldest until the most recent spendings (TOTAL_SPEND) and make a barplot. Notice that this may lead to misinterpretation and plot the spendings per capita.\n",
    "\n",
    "CHANGE: y to `'PC_GDP'`!! "
   ]
  },
  {
   "cell_type": "markdown",
   "metadata": {
    "slideshow": {
     "slide_type": "subslide"
    }
   },
   "source": [
    "### 3.2.3.1 Exercise:\n",
    "Plot the same barplot but only for Belgium vs the Netherlands. Find a barplot argument that selects which country is selected and hence plotted (instead of making another subselection of the pandas dataframe). \n",
    "\n",
    "**Extra**: Adjust the figure with error bar caps, your favourite color palette, make it a horizontal barplot, or experiment with any of the other features. "
   ]
  },
  {
   "cell_type": "code",
   "execution_count": null,
   "metadata": {},
   "outputs": [],
   "source": []
  },
  {
   "cell_type": "markdown",
   "metadata": {
    "slideshow": {
     "slide_type": "slide"
    }
   },
   "source": [
    "## 3.2.3 Barplots - Use-case"
   ]
  },
  {
   "cell_type": "markdown",
   "metadata": {},
   "source": [
    "From exercise [2.5.1 - B](02_Pandas.ipynb), `metagenic.csv` contains methylated cytosines in a specific region of a gene, where we added a new column with total counts per chromosome. "
   ]
  },
  {
   "cell_type": "code",
   "execution_count": null,
   "metadata": {},
   "outputs": [],
   "source": [
    "# Import data\n",
    "metagenic = pd.read_csv('data/metagenic.csv')\n",
    "\n",
    "# Add a column with total counts\n",
    "metagenic[\"total\"] = metagenic.sum(axis = 1)\n",
    "\n",
    "# Order the table per total counts\n",
    "metagenic = metagenic.sort_values(\"total\", ascending = False)\n",
    "metagenic.head()"
   ]
  },
  {
   "cell_type": "markdown",
   "metadata": {
    "slideshow": {
     "slide_type": "notes"
    }
   },
   "source": [
    "Notes: For the following example, we're going to plot **horizontal** layered barplots. We will re-use the code from exercise [2.5.1 - B](02_Pandas.ipynb) with metagenic classifications. Thus, we already know that each count represents a methylated cytosine in a specific region of a gene, and we added a new column with total counts per chromosome:"
   ]
  },
  {
   "cell_type": "markdown",
   "metadata": {
    "slideshow": {
     "slide_type": "subslide"
    }
   },
   "source": [
    "## 3.2.3 Barplots - Use-case"
   ]
  },
  {
   "cell_type": "code",
   "execution_count": null,
   "metadata": {},
   "outputs": [],
   "source": [
    "# The following line will make a grid on a white background\n",
    "sns.set(style=\"whitegrid\")\n",
    "\n",
    "# Set the size of the figure plot\n",
    "plt.figure(figsize=(10,6))\n",
    "\n",
    "# Create a barplot with \n",
    "sns.barplot(x=\"total\", y=\"chr\", data= metagenic)"
   ]
  },
  {
   "cell_type": "markdown",
   "metadata": {
    "slideshow": {
     "slide_type": "notes"
    }
   },
   "source": [
    "Notes: Add:\n",
    "```python\n",
    "# Define colorstyle\n",
    "sns.set_color_codes(\"deep\")\n",
    "\n",
    "# Define figure size\n",
    "f, ax = plt.subplots(figsize=(10,6))\n",
    "\n",
    "# First plot the total counts\n",
    "sns.barplot(x= \"total\", y=\"chr\", data= metagenic, label = \"total\", color = 'b')\n",
    "# Then plot the ones with ribo counts\n",
    "sns.barplot(x=\"ribo\",y=\"chr\", data= metagenic, label = \"ribo\", color=\"y\")\n",
    "# Third bar with exons\n",
    "sns.barplot(x=\"exon\",y=\"chr\", data= metagenic, label = \"exon\", color=\"r\")\n",
    "# Add a legend and informative axis label\n",
    "ax.legend(loc = \"lower right\") # When doing this: add 'f, ax' before plt.figure --> f, ax = plt.fi...\n",
    "```\n"
   ]
  },
  {
   "cell_type": "markdown",
   "metadata": {
    "slideshow": {
     "slide_type": "slide"
    }
   },
   "source": [
    "## 3.2.4 Multiplot grids\n",
    "Seaborn easily helps you to visualise pairwise relationships and marginal distributions. See notebooks for a short example. \n",
    "\n",
    "<center> <img src=\"img/multiplot.png\" width=600px> </center>\n"
   ]
  },
  {
   "cell_type": "markdown",
   "metadata": {
    "slideshow": {
     "slide_type": "slide"
    }
   },
   "source": [
    "### 3.2.5 Scatter plot - Use-case\n",
    "- Volcano plots often used in differetial expression (RNA-seq) \n",
    "- Essentially, a volcano plot is the same as a scatter plot\n",
    "- Example: \n",
    "\n",
    "<center> <img src=\"img/volcano-plot-example.png\" width=500px height=400px> </center>"
   ]
  },
  {
   "cell_type": "markdown",
   "metadata": {
    "slideshow": {
     "slide_type": "notes"
    }
   },
   "source": [
    "Notes: A useful plot in differential expression analysis (RNA-seq) is a volcano plot. A volcano plot visualises and identifies statistically significant gene expression changes from two different conditions.  Essentially, a volcano plot is a scatter plot and can also be approached from this perspective in Seaborn logic. The data for this experiment is retrieved from the GTN tutorial \"RNA Seq Counts to Viz in R\" ([link](https://galaxyproject.github.io/training-material/topics/transcriptomics/tutorials/rna-seq-counts-to-viz-in-r/tutorial.html)).\n",
    "\n",
    "A volcano plot shows statistical significance (P-value) versus magnitude of change (fold change). The most upregulated genes are towards the right, the most downregulated genes are towards the left, and the most statistically significant genes are towards the top. With this plot, we can then quickly identify genes with large fold changes that are also statistically significant, i.e. probably the most biologically significant genes."
   ]
  },
  {
   "cell_type": "markdown",
   "metadata": {
    "slideshow": {
     "slide_type": "subslide"
    }
   },
   "source": [
    "### 3.2.5 Scatter plot - Use-case"
   ]
  },
  {
   "cell_type": "code",
   "execution_count": null,
   "metadata": {},
   "outputs": [],
   "source": [
    "# Import dataset\n",
    "volc = pd.read_csv('data/annotatedDEgenes.tabular', sep='\\t')\n",
    "volc.head()"
   ]
  },
  {
   "cell_type": "markdown",
   "metadata": {
    "slideshow": {
     "slide_type": "notes"
    }
   },
   "source": [
    "Notes: We already have the `log2(FC)` values. The P-value needs to be log10 transformed. Notice that the datatype of the values in the DataFrame are interpreted as `numpy.float64`. \n",
    "\n",
    "```python\n",
    "# Check the data type of a value in the P-values column\n",
    "type(volc['P-value'][0])\n",
    "```\n",
    "\n",
    "In the following code block we will add the log10 transformed P-values using Numpy's log10 function.\n",
    "```python\n",
    "# Log10 transform the p-values \n",
    "volc['Log10 P-value'] = -np.log10(volc['P-value'])\n",
    "volc.head()\n",
    "```"
   ]
  },
  {
   "cell_type": "markdown",
   "metadata": {
    "slideshow": {
     "slide_type": "subslide"
    }
   },
   "source": [
    "### 3.2.5 Scatter plot - Use-case"
   ]
  },
  {
   "cell_type": "code",
   "execution_count": null,
   "metadata": {},
   "outputs": [],
   "source": [
    "# Volcano plot using Seaborn's scatterplot\n",
    "ax = sns.scatterplot(x='log2(FC)', y='Log10 P-value', data=volc)"
   ]
  },
  {
   "cell_type": "markdown",
   "metadata": {
    "slideshow": {
     "slide_type": "subslide"
    }
   },
   "source": [
    "### 3.2.5.1 Exercise\n",
    "Mimic the graph given below which is extracted from the [tutorial](https://training.galaxyproject.org/training-material/topics/transcriptomics/tutorials/rna-seq-counts-to-viz-in-r/tutorial.html#volcano-plot) and represents the final result. \n",
    "- Use a darkgrid background\n",
    "- Color the dots according to its strand orientations\n",
    "- Add a title, x- and y-labels \n",
    "- Save the figure  \n",
    "\n",
    "Extra: figure out how you can:\n",
    "- Move the legend outside of the plot\n",
    "- Remove the upper and right spine of the plots\n",
    "\n"
   ]
  },
  {
   "cell_type": "markdown",
   "metadata": {
    "slideshow": {
     "slide_type": "subslide"
    }
   },
   "source": [
    "The tutorial creates this plot: \n",
    "![Volcano plot](img/volcano-plot-gtn.png)"
   ]
  },
  {
   "cell_type": "markdown",
   "metadata": {
    "slideshow": {
     "slide_type": "slide"
    }
   },
   "source": [
    "### 3.2.5 Heatmap - Use-case"
   ]
  },
  {
   "cell_type": "markdown",
   "metadata": {},
   "source": [
    "Import the use-case data:"
   ]
  },
  {
   "cell_type": "code",
   "execution_count": null,
   "metadata": {},
   "outputs": [],
   "source": [
    "# 1. Import data & Prepare the data (note the index)\n",
    "heatmap_df = pd.read_csv('data/heatmap_data.csv', index_col=0)\n",
    "heatmap_df.head()"
   ]
  },
  {
   "cell_type": "markdown",
   "metadata": {
    "slideshow": {
     "slide_type": "notes"
    }
   },
   "source": [
    "Notes: This example is the sequel of exercise 2.5.4 in the previous chapter. In this exercise, derived from the GTN, we will plot the data that we cleaned in the previous chapter to create a heatmap of the top differentially expressed genes in an RNA-seq counts dataset."
   ]
  },
  {
   "cell_type": "markdown",
   "metadata": {
    "slideshow": {
     "slide_type": "subslide"
    }
   },
   "source": [
    "### 3.2.5 Heatmap - Use-case"
   ]
  },
  {
   "cell_type": "markdown",
   "metadata": {},
   "source": [
    "Preparing the data:"
   ]
  },
  {
   "cell_type": "code",
   "execution_count": null,
   "metadata": {},
   "outputs": [],
   "source": [
    "# Importing statistical library from scipy for calculating z-scores\n",
    "from scipy import stats \n",
    "\n",
    "# Data scaling by row (scale genes) with zscores\n",
    "for row in range(len(heatmap_df)):\n",
    "    heatmap_df.iloc[row] = stats.zscore(heatmap_df.iloc[row])\n",
    "    \n",
    "heatmap_df"
   ]
  },
  {
   "cell_type": "markdown",
   "metadata": {
    "slideshow": {
     "slide_type": "subslide"
    }
   },
   "source": [
    "### 3.2.5 Heatmap - Use-case"
   ]
  },
  {
   "cell_type": "markdown",
   "metadata": {},
   "source": [
    "Plot the heatmap:"
   ]
  },
  {
   "cell_type": "code",
   "execution_count": null,
   "metadata": {},
   "outputs": [],
   "source": [
    "sns.heatmap(heatmap_df, cmap=\"RdBu\", annot=True)"
   ]
  },
  {
   "cell_type": "markdown",
   "metadata": {
    "slideshow": {
     "slide_type": "notes"
    }
   },
   "source": [
    "Notes: Add:\n",
    "```python\n",
    "# 2. Set style of the plot\n",
    "sns.set_style(\"ticks\")\n",
    "sns.color_palette(\"deep\")\n",
    "\n",
    "# 3. Define/create the plot\n",
    "f = plt.figure(figsize=(10,10))\n",
    "ax = sns.heatmap(heatmap_df, cmap=\"RdBu\", annot=True)\n",
    "\n",
    "# 4. Tweak lay-out\n",
    "ax.set(xlabel='Samples', ylabel='Genes', title='Heatmap of DE genes')\n",
    "```\n",
    " \n"
   ]
  },
  {
   "cell_type": "markdown",
   "metadata": {
    "slideshow": {
     "slide_type": "slide"
    }
   },
   "source": [
    "## 3.3  An overview of lay-outing options"
   ]
  },
  {
   "cell_type": "code",
   "execution_count": null,
   "metadata": {
    "slideshow": {
     "slide_type": "subslide"
    }
   },
   "outputs": [],
   "source": [
    "# 1. Import data\n",
    "...\n",
    "\n",
    "# 2. Set style of the plot\n",
    "sns.set(...)\n",
    "sns.set_style(...)\n",
    "sns.set_context(...)\n",
    "sns.color_palette(...)\n",
    "sns.axes_style(...)\n",
    "\n",
    "# 3. Initialise the plot and plot the data. \n",
    "fig = plt.figure(...)  || fig, ax = plt.subplots() \n",
    "sns.lineplot(...)\n",
    "\n",
    "# 4. Modify lay-out (title, labels, legend, etc.)\n",
    "ax.set(...)\n",
    "plt.xlabel(...)\n",
    "plt.ylabel(...)\n",
    "\n",
    "# Save the figure with:\n",
    "#ax.savefig()"
   ]
  },
  {
   "cell_type": "markdown",
   "metadata": {
    "slideshow": {
     "slide_type": "notes"
    }
   },
   "source": [
    "Notes: Finally, we will maken an overview of the different steps and lay-out options when plotting by using simple line-plots. \n",
    "    It's difficult to find best practices regarding plotting. However, the following steps can help you with a decent order to render your plots as expected.\n",
    "    \n",
    " A lot of specifications and links to references in the course materials notebook!\n"
   ]
  },
  {
   "cell_type": "markdown",
   "metadata": {
    "slideshow": {
     "slide_type": "subslide"
    }
   },
   "source": [
    "<center> <img src=\"img/plotting-hierarchy.webp\"> </center>"
   ]
  },
  {
   "cell_type": "markdown",
   "metadata": {
    "slideshow": {
     "slide_type": "notes"
    }
   },
   "source": [
    "Notes: A Figure object is the outermost container for a matplotlib graphic, which can contain multiple Axes objects. One source of confusion is the name: an Axes actually translates into what we think of as an individual plot or graph (rather than the plural of “axis,” as we might expect).\n"
   ]
  },
  {
   "cell_type": "markdown",
   "metadata": {
    "slideshow": {
     "slide_type": "subslide"
    }
   },
   "source": [
    "### 3.3.1 Exercise \n",
    "Import and inspect the dataset from [datahub.io](https://datahub.io/core/genome-sequencing-costs) containing the cost of genome sequencing throughout the years (also stored as `data/sequencing_costs.csv`).\n",
    "\n",
    "![Seq cost per Mb](img/seqcost.png)"
   ]
  },
  {
   "cell_type": "markdown",
   "metadata": {
    "slideshow": {
     "slide_type": "subslide"
    }
   },
   "source": [
    "### 3.3.2 Extra exercise\n",
    "Modify the code from the previous exercise to make two subplots underneath each other that plot the Cost per Mb over years and the Total cost. \n",
    "Find more information on subplots [here](https://matplotlib.org/3.1.0/gallery/subplots_axes_and_figures/subplots_demo.html) or [here](https://dev.to/thalesbruno/subplotting-with-matplotlib-and-seaborn-5ei8).\n",
    "\n",
    "![Subplots sequencing cost](img/subplots_seqcost.png)"
   ]
  },
  {
   "cell_type": "markdown",
   "metadata": {
    "slideshow": {
     "slide_type": "slide"
    }
   },
   "source": [
    "## 3.5 Further reading\n",
    "The internet is full of blogs discussing visualisation libraries and best practices, here is a start for some further reading:\n",
    "- https://realpython.com/python-matplotlib-guide/\n",
    "- https://mode.com/blog/python-data-visualization-libraries\n",
    "- https://pbpython.com/visualization-tools-1.html\n",
    "- https://www.dataquest.io/blog/python-data-visualization-libraries/\n",
    "- https://lisacharlotterost.de/2016/05/17/one-chart-code/"
   ]
  }
 ],
 "metadata": {
  "kernelspec": {
   "display_name": "Python 3",
   "language": "python",
   "name": "python3"
  },
  "language_info": {
   "codemirror_mode": {
    "name": "ipython",
    "version": 3
   },
   "file_extension": ".py",
   "mimetype": "text/x-python",
   "name": "python",
   "nbconvert_exporter": "python",
   "pygments_lexer": "ipython3",
   "version": "3.7.5"
  }
 },
 "nbformat": 4,
 "nbformat_minor": 4
}
