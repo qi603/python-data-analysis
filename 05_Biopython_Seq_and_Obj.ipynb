{
 "cells": [
  {
   "cell_type": "markdown",
   "metadata": {},
   "source": [
    "# 5. Sequence Objects\n",
    "Content:\n",
    "- 5.1 Sequences and Alphabets\n",
    "- 5.2 Sequences act like strings\n",
    "- 5.3 Working with sequences\n",
    "- 5.4 Complements and reverse complements\n",
    "- 5.5 Transcription\n",
    "- 5.6 Translation\n",
    "- 5.7 Exercise\n",
    "---\n",
    "\n",
    "\n",
    "Working with biological sequences is arguably the central object in Bioinformatics. In this chapter we will discover how Biopython makes it fairly easy dealing with sequences. In this chapter we will learn:\n",
    "- How the Seq object works and which methods and arguments are often used\n",
    "- Use the built-in transcribing and translating methods\n",
    "- Compare different sequences with each other\n"
   ]
  },
  {
   "cell_type": "markdown",
   "metadata": {},
   "source": [
    "## 5.1 Sequences and Alphabets\n",
    "We start by importing the Seq object with the following line. This should always be the start of your script (or in this case Notebook). "
   ]
  },
  {
   "cell_type": "code",
   "execution_count": null,
   "metadata": {},
   "outputs": [],
   "source": [
    "# Import the Seq object\n",
    "from Bio.Seq import Seq"
   ]
  },
  {
   "cell_type": "markdown",
   "metadata": {},
   "source": [
    "Imagine that you have a DNA sequence which you want to further investigate. Let's assume for this introduction that it consists of a couple of basepairs and we pass it as an argument to the Seq object. The new variable `my_seq` contains these letters, however it will be recognized as a sequence by (Bio)python"
   ]
  },
  {
   "cell_type": "code",
   "execution_count": null,
   "metadata": {},
   "outputs": [],
   "source": [
    "# Creating our first Sequence object. \n",
    "my_seq = Seq(\"AGTACACTGG\")\n",
    "my_seq"
   ]
  },
  {
   "cell_type": "markdown",
   "metadata": {},
   "source": [
    "We can have an overview of all possible functions that we can call on this newly created object:"
   ]
  },
  {
   "cell_type": "code",
   "execution_count": null,
   "metadata": {},
   "outputs": [],
   "source": [
    "dir(my_seq)"
   ]
  },
  {
   "cell_type": "markdown",
   "metadata": {},
   "source": [
    "Minor note: Before Oct 2020, each `Seq` object was associated with a specific alphabet type to identify its biological origin (DNA, RNA, Protein, and all derivatives), however `Bio.Alphabet` has now been removed from Biopython. "
   ]
  },
  {
   "cell_type": "markdown",
   "metadata": {},
   "source": [
    "## 5.2 Sequences act like strings"
   ]
  },
  {
   "cell_type": "markdown",
   "metadata": {},
   "source": [
    "Once created, `Seq` objects can be used as if they were normal Python strings regarding retrieving the length of the sequence or iterating over the characters"
   ]
  },
  {
   "cell_type": "code",
   "execution_count": null,
   "metadata": {},
   "outputs": [],
   "source": [
    "# Creating a new DNA sequence object\n",
    "my_seq = Seq(\"GATTACCGATACGAGACCTATACATGATCG\")\n",
    "\n",
    "# Find the length of the sequence\n",
    "print(len(my_seq))\n",
    "\n",
    "# Iterating over the elements of the sequence\n",
    "for index, letter in enumerate(my_seq):\n",
    "    print(\"At index: {}, letter: {}\".format(index, letter))"
   ]
  },
  {
   "cell_type": "code",
   "execution_count": null,
   "metadata": {},
   "outputs": [],
   "source": [
    "# Slice element at position 0\n",
    "my_seq[0]"
   ]
  },
  {
   "cell_type": "markdown",
   "metadata": {},
   "source": [
    "The `Seq` object has a `.count()` method, just like a string, which gives a non-overlapping count:"
   ]
  },
  {
   "cell_type": "code",
   "execution_count": null,
   "metadata": {},
   "outputs": [],
   "source": [
    "# Find how many times \"GAT\" appears in the sequence\n",
    "my_seq.count(\"GAT\")"
   ]
  },
  {
   "cell_type": "code",
   "execution_count": null,
   "metadata": {},
   "outputs": [],
   "source": [
    "# Find how many A's there are in the sequence\n",
    "my_seq.count(\"A\")"
   ]
  },
  {
   "cell_type": "markdown",
   "metadata": {},
   "source": [
    "You can find a list of all the possible methods by using the `dir()` function. "
   ]
  },
  {
   "cell_type": "code",
   "execution_count": null,
   "metadata": {},
   "outputs": [],
   "source": [
    "dir(my_seq)"
   ]
  },
  {
   "cell_type": "markdown",
   "metadata": {},
   "source": [
    "---"
   ]
  },
  {
   "cell_type": "markdown",
   "metadata": {},
   "source": [
    "### 5.2.1 Exercise\n",
    "Calculate the GC-content in the following sequence:\n",
    "```\n",
    "ATGGATTACCACTCACTGCCTCACTGACACGAGACCTATACATG\n",
    "```\n",
    "- Use the `.count()` method as shown above\n",
    "- Search through Bio.SeqUtils for a function that might help you"
   ]
  },
  {
   "cell_type": "code",
   "execution_count": null,
   "metadata": {},
   "outputs": [],
   "source": [
    "ex_seq = Seq(\"ATGGATTACCACTCACTGCCTCACTGACACGAGACCTATACATG\")"
   ]
  },
  {
   "cell_type": "markdown",
   "metadata": {},
   "source": [
    "### 5.2.2 Extra exercise\n",
    "- Find all occurrences of the subsequence `TGA` and its positions. `TGA` will code for a stop-codon in the translation process. Knowing where it occurs, extract the first subsequence from the sequence.  \n",
    "- Calculate the molecular weight of the sequence its translation product \"ATGGCCATTGTAATGG\""
   ]
  },
  {
   "cell_type": "code",
   "execution_count": null,
   "metadata": {},
   "outputs": [],
   "source": [
    "from Bio.SeqUtils import nt_search\n",
    "ex_seq = \"ATGGATTACCACTCACTGCCTCACTGACACGAGACCTATACATG\"\n",
    "stop_seq = \"TGA\"\n",
    "occ_TGA = nt_search(ex_seq, stop_seq)\n",
    "sub_seq = ex_seq[:occ_TGA[1]]\n",
    "sub_seq"
   ]
  },
  {
   "cell_type": "markdown",
   "metadata": {},
   "source": [
    "Note: the nt_search function does not accept Seq objects as an input. Agree, this is suboptimal, we have to work with what we get. "
   ]
  },
  {
   "cell_type": "code",
   "execution_count": null,
   "metadata": {
    "scrolled": true
   },
   "outputs": [],
   "source": [
    "from Bio.SeqUtils import molecular_weight\n",
    "weightDNA = molecular_weight(Seq(ex_seq))\n",
    "weightProt = molecular_weight(Seq(sub_seq).translate(), 'protein')\n",
    "print(f\"Molecular weight of DNA: {weightDNA:.2f}\\nMolecular weight of Protein: {weightProt:.2f}\")"
   ]
  },
  {
   "cell_type": "markdown",
   "metadata": {},
   "source": [
    "---"
   ]
  },
  {
   "cell_type": "markdown",
   "metadata": {},
   "source": [
    "Can you change the characters in a sequence? "
   ]
  },
  {
   "cell_type": "code",
   "execution_count": null,
   "metadata": {},
   "outputs": [],
   "source": [
    "my_seq[2]"
   ]
  },
  {
   "cell_type": "code",
   "execution_count": null,
   "metadata": {},
   "outputs": [],
   "source": [
    "#my_seq[2] = 'A'"
   ]
  },
  {
   "cell_type": "markdown",
   "metadata": {},
   "source": [
    "Just like the normal Python string, the `Seq` object is *read only* (immutable), as in many biological applications you want to ensure you are not changing your sequence data. If you need to edit your sequence, for example simulating a point mutation, you'll need the `MutableSeq` object. "
   ]
  },
  {
   "cell_type": "markdown",
   "metadata": {},
   "source": [
    "## 5.3 Working with sequences"
   ]
  },
  {
   "cell_type": "markdown",
   "metadata": {},
   "source": [
    "**1. Slicing**"
   ]
  },
  {
   "cell_type": "code",
   "execution_count": null,
   "metadata": {},
   "outputs": [],
   "source": [
    "# Slicing in its most basic form\n",
    "my_seq[2:6]"
   ]
  },
  {
   "cell_type": "markdown",
   "metadata": {},
   "source": [
    "Slicing sequences follows the normal conventions for Python strings. \n",
    "- The first element of the sequence is 0 (which is normal for computer science, but not so normal for biology).\n",
    "- The first item is included (i.e. 2 in this case) \n",
    "- The last item is excluded (i.e. 6 in this case).\n",
    "\n",
    "```\n",
    "GATTACCGATACGAGACCTATACATGATCG\n",
    "  TTAC\n",
    "```\n",
    "\n",
    "This is the way things work in Python, but of course not necessarily the way everyone in the world would expect. \n",
    "\n",
    "Also important to note is that the sequence object is maintained throughout the slicing process. Assign the result to a new variable if you want to work further with that result. "
   ]
  },
  {
   "cell_type": "code",
   "execution_count": null,
   "metadata": {},
   "outputs": [],
   "source": [
    "# Slicing every third starting from 0\n",
    "my_seq[0::3]"
   ]
  },
  {
   "cell_type": "code",
   "execution_count": null,
   "metadata": {},
   "outputs": [],
   "source": [
    "# Slicing every third starting from 1\n",
    "my_seq[1::3]"
   ]
  },
  {
   "cell_type": "code",
   "execution_count": null,
   "metadata": {},
   "outputs": [],
   "source": [
    "# Slicing every third starting from 2\n",
    "my_seq[2::3]"
   ]
  },
  {
   "cell_type": "markdown",
   "metadata": {},
   "source": [
    "The three cells above can be interpreted to some extent as a frameshift mutation. The cell below displays a trick to reverse the sequence. "
   ]
  },
  {
   "cell_type": "code",
   "execution_count": null,
   "metadata": {},
   "outputs": [],
   "source": [
    "my_seq[::-1]"
   ]
  },
  {
   "cell_type": "markdown",
   "metadata": {},
   "source": [
    "**2. Turning `Seq` objects into strings**\n"
   ]
  },
  {
   "cell_type": "code",
   "execution_count": null,
   "metadata": {},
   "outputs": [],
   "source": [
    "str(my_seq)"
   ]
  },
  {
   "cell_type": "code",
   "execution_count": null,
   "metadata": {},
   "outputs": [],
   "source": [
    "print(my_seq)"
   ]
  },
  {
   "cell_type": "markdown",
   "metadata": {},
   "source": [
    "Besides transforming the data type to a string, we can use the following method to constructs a simple FASTA format record. "
   ]
  },
  {
   "cell_type": "code",
   "execution_count": null,
   "metadata": {},
   "outputs": [],
   "source": [
    "# Python 3.8\n",
    "fasta_format_string = f'>Random sequence\\n{my_seq}\\n'\n",
    "\n",
    "# Python <3.8\n",
    "# fasta_format_string = f'>Name\\n{}\\n'.format(my_seq)\n",
    "\n",
    "print(fasta_format_string)"
   ]
  },
  {
   "cell_type": "markdown",
   "metadata": {},
   "source": [
    "**3. Concatenating or adding sequences**"
   ]
  },
  {
   "cell_type": "markdown",
   "metadata": {},
   "source": [
    "Any two `Seq` objects can be added together - just like you can with Python strings - to concatenate them. "
   ]
  },
  {
   "cell_type": "code",
   "execution_count": null,
   "metadata": {},
   "outputs": [],
   "source": [
    "# Define two protein sequences\n",
    "protein_seq1 = Seq(\"EVRNAK\")\n",
    "protein_seq2 = Seq(\"AGGATC\")\n",
    "\n",
    "# Concatenating two Seqs \n",
    "protein_seq1 + protein_seq2"
   ]
  },
  {
   "cell_type": "code",
   "execution_count": null,
   "metadata": {},
   "outputs": [],
   "source": [
    "# Define DNA and protein sequence\n",
    "dna_seq = Seq(\"AGGATC\")\n",
    "protein_seq = Seq(\"EVRNAK\")\n",
    "\n",
    "# This is possible now, however earlier with different alphabets this was not the case\n",
    "protein_seq + dna_seq"
   ]
  },
  {
   "cell_type": "markdown",
   "metadata": {},
   "source": [
    "Hence, watch out with the simplicity that Biopython is giving you. Keep thinking of the underlying biological processes. "
   ]
  },
  {
   "cell_type": "markdown",
   "metadata": {},
   "source": [
    "--- \n",
    "### 5.3.1 Exercise\n",
    "Can you concatenate the following sequences (using a `for`-loop or the built-in `sum` function)?\n",
    "- Seq(\"ACGT\")\n",
    "- Seq(\"GCTA\")\n",
    "- Seq(\"TACG\")"
   ]
  },
  {
   "cell_type": "code",
   "execution_count": null,
   "metadata": {},
   "outputs": [],
   "source": []
  },
  {
   "cell_type": "markdown",
   "metadata": {},
   "source": [
    "---"
   ]
  },
  {
   "cell_type": "markdown",
   "metadata": {},
   "source": [
    "**4. Changing case**"
   ]
  },
  {
   "cell_type": "markdown",
   "metadata": {},
   "source": [
    "Just like Python strings, the Seq object has an `.upper()` and `.lower()` method, useful for doing case insensitive matching:"
   ]
  },
  {
   "cell_type": "code",
   "execution_count": null,
   "metadata": {},
   "outputs": [],
   "source": [
    "# Create Sequence object with small and capitalized letters\n",
    "dna_seq = Seq(\"acgtACGT\")\n",
    "dna_seq"
   ]
  },
  {
   "cell_type": "code",
   "execution_count": null,
   "metadata": {},
   "outputs": [],
   "source": [
    "# Capitalize \n",
    "dna_seq.upper()"
   ]
  },
  {
   "cell_type": "code",
   "execution_count": null,
   "metadata": {},
   "outputs": [],
   "source": [
    "# Lower letters of sequence\n",
    "dna_seq.lower()"
   ]
  },
  {
   "cell_type": "markdown",
   "metadata": {},
   "source": [
    "Python is case sensitive, hence letters in a strings and hence also the letters of a Sequence objects are not found if the case doesn't match. "
   ]
  },
  {
   "cell_type": "code",
   "execution_count": null,
   "metadata": {},
   "outputs": [],
   "source": [
    "# Case sensitive matching\n",
    "\"GTAC\" in dna_seq"
   ]
  },
  {
   "cell_type": "code",
   "execution_count": null,
   "metadata": {},
   "outputs": [],
   "source": [
    "# Case insensitive matching\n",
    "\"GTAC\" in dna_seq.upper()"
   ]
  },
  {
   "cell_type": "markdown",
   "metadata": {},
   "source": [
    "## 5.4 Complements and reverse complements"
   ]
  },
  {
   "cell_type": "markdown",
   "metadata": {},
   "source": [
    "For nucleotide sequences, you can easily obtain the complement or reverse complement of a `Seq`-object using its built-in methods:"
   ]
  },
  {
   "cell_type": "code",
   "execution_count": null,
   "metadata": {},
   "outputs": [],
   "source": [
    "# Complement\n",
    "my_seq = Seq(\"GATCGATGGGCCTATATAGGATCGAAAATCGC\")\n",
    "my_seq.complement()"
   ]
  },
  {
   "cell_type": "code",
   "execution_count": null,
   "metadata": {},
   "outputs": [],
   "source": [
    "# Reverse complement\n",
    "my_seq.reverse_complement()"
   ]
  },
  {
   "cell_type": "code",
   "execution_count": null,
   "metadata": {},
   "outputs": [],
   "source": [
    "# just reverse a Seq object (or a Python string) is slice it with -1\n",
    "my_seq[::-1]"
   ]
  },
  {
   "cell_type": "markdown",
   "metadata": {},
   "source": [
    "As of the removal of the alphabet property, it is now technically possible to make a reverse complement or back-transcription on a ought-to-be protein sequence. This doesn't really makes sense though."
   ]
  },
  {
   "cell_type": "code",
   "execution_count": null,
   "metadata": {},
   "outputs": [],
   "source": [
    "protein_seq1 = Seq(\"EVRNAK\")\n",
    "\n",
    "# Do you agree with this output? \n",
    "print(protein_seq1.reverse_complement())\n",
    "print(protein_seq1.back_transcribe())"
   ]
  },
  {
   "cell_type": "markdown",
   "metadata": {},
   "source": [
    "## 5.5 Transcription"
   ]
  },
  {
   "cell_type": "markdown",
   "metadata": {},
   "source": [
    "Transcription is always confusing with coding, non-coding, sense and antisense, complements and reverse-complements. Consider the following stretch of double stranded DNA which encodes a short peptide:\n",
    "\n",
    "![transcription](img/transcriptionprocess.png)\n",
    "Source: [link](https://haygot.s3.amazonaws.com/questions/1308251_1631549_ans_f0c68de70b54468fa7116e7de655ad71.png)\n",
    "\n",
    "The actual biological transcription process works from the template strand, doing a reverse complement (TCAG --> CUGA) to give the mRNA. However, in Biopython and bioinformatics in general, we typically work directly with the coding strand because this means we can get the mRNA sequence just by switching\n",
    "T --> U.\n",
    "\n",
    "Now let's actually get down to doing a transcription in Biopython. First, let's create Seq objects for the coding and template DNA strands:"
   ]
  },
  {
   "cell_type": "code",
   "execution_count": null,
   "metadata": {},
   "outputs": [],
   "source": [
    "coding_dna = Seq(\"ATGATCTCGTAA\")\n",
    "print(f'Original DNA (gene) sequence is: {str(coding_dna):>18}')\n",
    "print(f\"Complement DNA sequence is: {str(coding_dna.complement()):>23}\") \n",
    "print(f\"Reverse complement DNA sequence is: {str(coding_dna.reverse_complement()):>15}\")"
   ]
  },
  {
   "cell_type": "code",
   "execution_count": null,
   "metadata": {},
   "outputs": [],
   "source": [
    "# Template DNA is reverse complement of coding DNA strand (in 5' to 3' direction)\n",
    "template_dna = coding_dna.reverse_complement()\n",
    "template_dna"
   ]
  },
  {
   "cell_type": "markdown",
   "metadata": {},
   "source": [
    "These should match the figure above - remember by convention nucleotide sequences are normally read from\n",
    "the 5' to 3' direction, while in the figure the template strand is shown reversed.\n",
    "Now let's transcribe the coding strand into the corresponding mRNA, using the `Seq` object's built in\n",
    "transcribe method:"
   ]
  },
  {
   "cell_type": "code",
   "execution_count": null,
   "metadata": {},
   "outputs": [],
   "source": [
    "coding_dna"
   ]
  },
  {
   "cell_type": "code",
   "execution_count": null,
   "metadata": {},
   "outputs": [],
   "source": [
    "# switch T --> U, and adjust the alphabet\n",
    "mRNA = coding_dna.transcribe()\n",
    "mRNA"
   ]
  },
  {
   "cell_type": "code",
   "execution_count": null,
   "metadata": {},
   "outputs": [],
   "source": [
    "# True biological transcription becomes a two step process: \n",
    "template_dna.reverse_complement().transcribe()"
   ]
  },
  {
   "cell_type": "markdown",
   "metadata": {},
   "source": [
    "The `Seq` object also includes a back-transcription method for going from the mRNA to the coding strand of the DNA. Again, this is a simple U --> T substitution and associated change of alphabet:"
   ]
  },
  {
   "cell_type": "code",
   "execution_count": null,
   "metadata": {},
   "outputs": [],
   "source": [
    "# back transcription method for mRNA to coding strand\n",
    "mRNA = Seq(\"AUGAUCUCGUAA\")\n",
    "mRNA.back_transcribe()"
   ]
  },
  {
   "cell_type": "markdown",
   "metadata": {},
   "source": [
    "## 5.6 Translation\n",
    "Let's translate a longer mRNA sequence into the corresponding protein sequence:"
   ]
  },
  {
   "cell_type": "code",
   "execution_count": null,
   "metadata": {},
   "outputs": [],
   "source": [
    "mRNA = Seq('AUGGCCAUUGUAAUGGGCCGCUGAAAGGGUUGA')\n",
    "mRNA.translate()"
   ]
  },
  {
   "cell_type": "markdown",
   "metadata": {},
   "source": [
    "You should notice in the above protein sequence that in addition to the end stop character, there is an internal stop as well. This was a deliberate choice, as it gives an excuse to talk about some optional arguments, including different translation tables (Genetic Codes).\n"
   ]
  },
  {
   "cell_type": "markdown",
   "metadata": {},
   "source": [
    "**Translation** tables available in Biopython are based on those from the NCBI. Depending on the organism that has been sequenced, the result of a translation process should be accounted for with the appropriate codons. By default, the standard genetic code translation table will be chosen (NCBI table ID 1: [here](www.ncbi.nlm.nih.gov/Taxonomy/Utils/wprintgc.cgi)). Let's have a look at that table:"
   ]
  },
  {
   "cell_type": "code",
   "execution_count": null,
   "metadata": {},
   "outputs": [],
   "source": [
    "from Bio.Data import CodonTable\n",
    "\n",
    "# Import the standard codon table\n",
    "standard_table = CodonTable.unambiguous_dna_by_name[\"Standard\"]\n",
    "print(standard_table)"
   ]
  },
  {
   "cell_type": "markdown",
   "metadata": {},
   "source": [
    "Suppose we are dealing with a mitochondrial sequence. We need to tell the translation function to use the relevant genetic code instead. Let's first inspect the vertebrate mitochondrial codon table and then translate the same coding DNA sequence:"
   ]
  },
  {
   "cell_type": "code",
   "execution_count": null,
   "metadata": {},
   "outputs": [],
   "source": [
    "mito_table = CodonTable.unambiguous_dna_by_name[\"Vertebrate Mitochondrial\"]\n",
    "print(mito_table)"
   ]
  },
  {
   "cell_type": "code",
   "execution_count": null,
   "metadata": {},
   "outputs": [],
   "source": [
    "# Using the same sequence (now translating from DNA) with a different codon table\n",
    "coding_dna = Seq('ATGGCCATTGTAATGGGCCGCTGAAAGGGTTGA')\n",
    "coding_dna.translate(table=\"Vertebrate Mitochondrial\")"
   ]
  },
  {
   "cell_type": "code",
   "execution_count": null,
   "metadata": {},
   "outputs": [],
   "source": [
    "# specify the table using the NCBI table number which is shorter\n",
    "coding_dna.translate(table=2)"
   ]
  },
  {
   "cell_type": "markdown",
   "metadata": {},
   "source": [
    "It makes sense that you want to translate the nucleotides up to the first in frame stop codon, and then stop (as happens in nature):"
   ]
  },
  {
   "cell_type": "code",
   "execution_count": null,
   "metadata": {},
   "outputs": [],
   "source": [
    "# Stop translation at first occurence of a stop codon\n",
    "coding_dna.translate(to_stop=True)"
   ]
  },
  {
   "cell_type": "code",
   "execution_count": null,
   "metadata": {},
   "outputs": [],
   "source": [
    "# Combination of table and stop codon\n",
    "coding_dna.translate(table=2, to_stop=True)"
   ]
  },
  {
   "cell_type": "markdown",
   "metadata": {},
   "source": [
    "Notice that when you use the to_stop argument, the stop codon itself is not translated - and the stop symbol\n",
    "is not included at the end of your protein sequence."
   ]
  },
  {
   "cell_type": "code",
   "execution_count": null,
   "metadata": {},
   "outputs": [],
   "source": [
    "# Specify the stop symbol nevertheless:\n",
    "coding_dna.translate(table=2, stop_symbol=\"@\")"
   ]
  },
  {
   "cell_type": "markdown",
   "metadata": {},
   "source": [
    "However, what if your sequence uses a non-standard start codon? This happens a lot in bacteria, e.g. the gene yaaX in E. coli K12:"
   ]
  },
  {
   "cell_type": "code",
   "execution_count": null,
   "metadata": {},
   "outputs": [],
   "source": [
    "gene = Seq(\"GTGAAAAAGATGCAATCTATCGTACTCGCACTTTCCCTGGTTCTGGTCGCTCCCATGGCA\" + \\\n",
    " \"GCACAGGCTGCGGAAATTACGTTAGTCCCGTCAGTAAAATTACAGATAGGCGATCGTGAT\" + \\\n",
    " \"AATCGTGGCTATTACTGGGATGGAGGTCACTGGCGCGACCACGGCTGGTGGAAACAACAT\" + \\\n",
    " \"TATGAATGGCGAGGCAATCGCTGGCACCTACACGGACCGCCGCCACCGCCGCGCCACCAT\" + \\\n",
    " \"AAGAAAGCTCCTCATGATCATCACGGCGGTCATGGTCCAGGCAAACATCACCGCTAA\")"
   ]
  },
  {
   "cell_type": "code",
   "execution_count": null,
   "metadata": {},
   "outputs": [],
   "source": [
    "gene.translate(table=\"Bacterial\")"
   ]
  },
  {
   "cell_type": "code",
   "execution_count": null,
   "metadata": {},
   "outputs": [],
   "source": [
    "gene.translate(table=\"Bacterial\",to_stop=True)"
   ]
  },
  {
   "cell_type": "markdown",
   "metadata": {},
   "source": [
    "In the bacterial genetic code GTG is a valid start codon, normally encode Valine, if used as a start codon it should be translated as methionine:"
   ]
  },
  {
   "cell_type": "code",
   "execution_count": null,
   "metadata": {},
   "outputs": [],
   "source": [
    "# telling Biopython your sequence is a complete coding sequence! \n",
    "gene.translate(table=\"Bacterial\", cds=True)"
   ]
  },
  {
   "cell_type": "markdown",
   "metadata": {},
   "source": [
    "If there is an internal stop codon, an error will be raised. This is due to the nature of the `cds = True` argument which basically forces that this is a complete CDS (with a valid start codon, stop codon, length of fragment with respect to codons, and no internal stop codons)."
   ]
  },
  {
   "cell_type": "markdown",
   "metadata": {},
   "source": [
    "## 5.7 Exercise\n",
    "\n",
    "Identifying genes is possible by looking for open reading frames (ORFs). For eukaryotic genes we know that there is a complex interaction between promotors, start codons, exons and introns. Nonetheless, for prokaryotic and virus genes this approach would still be useful. \n",
    "\n",
    "Depending on the organism you also need to use the according codon table. In this exercise we're using a bacterial plasmid fasta file for which we need to use codon [table 11](https://www.ncbi.nlm.nih.gov/Taxonomy/Utils/wprintgc.cgi#SG11). Write a function that accepts a DNA sequence and stores translated sequences in a pandas DataFrame, define the tranlate tables and define that a possible protein needs to be of a minimum length of 100 AA's. \n",
    "\n",
    "Input arguments of the function:\n",
    "- `record`: DNA sequence (`Seq` object)\n",
    "- `strand`: sense or antisense (+1/-1)\n",
    "- `frame`: frameshift mutation (0/1/2)\n",
    "- `table`: translation table (e.g. 11)\n",
    "- `min_len`: minimum length of protein sequences to be included (e.g. 100)\n"
   ]
  },
  {
   "cell_type": "markdown",
   "metadata": {},
   "source": [
    "The output might look something like this: \n",
    "\n",
    "|   |                                          Sequence | Length | Strand | Frame |\n",
    "|--:|--------------------------------------------------:|-------:|-------:|------:|\n",
    "| 0 | WGKLQVIGLSMWMVLFSQRFDDWLNEQEDALQEKVLADLKKLQVYG... |    125 |     -1 |     1 |\n",
    "| 1 | RGIFMSDTMVVNGSGGVPAFLFSGSTLSSYRPNFEANSITIALPHY... |    361 |     -1 |     1 |\n",
    "| 2 | WDVKTVTGVLHHPFHLTFSLCPEGATQSGREAHLLAELPQRRMEPV... |    111 |     -1 |     1 |"
   ]
  },
  {
   "cell_type": "code",
   "execution_count": null,
   "metadata": {},
   "outputs": [],
   "source": [
    "def extract_ORF(record, strand, frame, table, min_len):\n",
    "    \"\"\"extract_ORF accepts a sequence record object as argument together with a strand orientation \n",
    "    and frameshift and will give you as an output all of the possible ORFs from that sequence record object\n",
    "    that are longer than a predefined minimal length of AAs using a specific codon table\"\"\"\n",
    "\n",
    "    # Create empty dataframe that will store all the information\n",
    "    \n",
    "    # Change DNA sequence according to strand orientation \n",
    "\n",
    "    # Change DNA sequence according to frameshift mutation\n",
    "\n",
    "    # Iterate over each possible translation \n",
    "    \n",
    "    # If the possible translation is longer than min_len, add it to the DataFrame\n",
    "    \n",
    "    \n",
    "    return # DataFrame"
   ]
  },
  {
   "cell_type": "markdown",
   "metadata": {},
   "source": [
    "Test code: "
   ]
  },
  {
   "cell_type": "code",
   "execution_count": null,
   "metadata": {},
   "outputs": [],
   "source": [
    "import pandas as pd\n",
    "from Bio import SeqIO\n",
    "record = SeqIO.read(\"data/NC_005816.fna\", \"fasta\")\n",
    "table = 11\n",
    "min_len = 100\n",
    "extract_ORF(record=record, strand=-1, frame=1, table=11, min_len=100)"
   ]
  },
  {
   "cell_type": "markdown",
   "metadata": {},
   "source": [
    "## 5.8 Next session\n",
    "Click here to go to the [next session](06_Biopython_Sequence_annotation.ipynb). "
   ]
  }
 ],
 "metadata": {
  "kernelspec": {
   "display_name": "Python 3",
   "language": "python",
   "name": "python3"
  },
  "language_info": {
   "codemirror_mode": {
    "name": "ipython",
    "version": 3
   },
   "file_extension": ".py",
   "mimetype": "text/x-python",
   "name": "python",
   "nbconvert_exporter": "python",
   "pygments_lexer": "ipython3",
   "version": "3.7.9"
  }
 },
 "nbformat": 4,
 "nbformat_minor": 2
}
