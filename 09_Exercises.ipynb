{
 "cells": [
  {
   "cell_type": "markdown",
   "metadata": {},
   "source": [
    "# Cool use-cases\n",
    "\n",
    "Based on the materials from the BioPython Tutorial - Chapter 20: *Cookbook - Cool things to do with it*. "
   ]
  },
  {
   "cell_type": "markdown",
   "metadata": {},
   "source": [
    "## Identifying open reading frames\n",
    "\n",
    "Identifying genes is possible by looking for open reading frames (ORFs). For eukaryotic genes we know that there is a complex interaction between promotors, start codons, exons and introns. Nonetheless, for prokaryotic and virus genes this approach would still be useful. \n",
    "\n",
    "Depending on the organism you also need to use the according codon table. Codon tables are accessible from NCBI via [this link](https://www.ncbi.nlm.nih.gov/Taxonomy/Utils/wprintgc.cgi).  In this example we're using a bacterial plasmid fasta file for which we need to use codon [table 11](https://www.ncbi.nlm.nih.gov/Taxonomy/Utils/wprintgc.cgi#SG11). \n"
   ]
  },
  {
   "cell_type": "code",
   "execution_count": 1,
   "metadata": {},
   "outputs": [],
   "source": [
    "from Bio import SeqIO\n",
    "record = SeqIO.read(\"data/NC 005816.fna\", \"fasta\")\n",
    "table = 11\n",
    "min_pro_len = 100"
   ]
  },
  {
   "cell_type": "markdown",
   "metadata": {},
   "source": [
    "Consider the following trick using the `Seq` object's `split` method to get a list of all possible ORF translations. "
   ]
  },
  {
   "cell_type": "code",
   "execution_count": 25,
   "metadata": {},
   "outputs": [
    {
     "name": "stdout",
     "output_type": "stream",
     "text": [
      "GCLMKKSSIVATIITILSGSANAASSQLIP...YRF, - length 315, strand 1, frame 0\n",
      "KSGELRQTPPASSTLHLRLILQRSGVMMEL...NPE, - length 285, strand 1, frame 1\n",
      "GLNCSFFSICNWKFIDYINRLFQIIYLCKN...YYH, - length 176, strand 1, frame 1\n",
      "VKKILYIKALFLCTVIKLRRFIFSVNNMKF...DLP, - length 165, strand 1, frame 1\n",
      "NQIQGVICSPDSGEFMVTFETVMEIKILHK...GVA, - length 355, strand 1, frame 2\n",
      "RRKEHVSKKRRPQKRPRRRRFFHRLRPPDE...PTR, - length 128, strand 1, frame 2\n",
      "TGKQNSCQMSAIWQLRQNTATKTRQNRARI...AIK, - length 100, strand 1, frame 2\n",
      "QGSGYAFPHASILSGIAMSHFYFLVLHAVK...CSD, - length 114, strand -1, frame 0\n",
      "IYSTSEHTGEQVMRTLDEVIASRSPESQTR...FHV, - length 111, strand -1, frame 0\n",
      "WGKLQVIGLSMWMVLFSQRFDDWLNEQEDA...ESK, - length 125, strand -1, frame 1\n",
      "RGIFMSDTMVVNGSGGVPAFLFSGSTLSSY...LLK, - length 361, strand -1, frame 1\n",
      "WDVKTVTGVLHHPFHLTFSLCPEGATQSGR...VKR, - length 111, strand -1, frame 1\n",
      "LSHTVTDFTDQMAQVGLCQCVNVFLDEVTG...KAA, - length 107, strand -1, frame 2\n",
      "RALTGLSAPGIRSQTSCDRLRELRYVPVSL...PLQ, - length 119, strand -1, frame 2\n"
     ]
    }
   ],
   "source": [
    "# Make a for loop to access first the + strand and then the - strand\n",
    "for strand, nuc in [(+1, record.seq), (-1, record.seq.reverse_complement())]:\n",
    "    \n",
    "    # Allow frame shifts \n",
    "    for frame in range(3):\n",
    "        \n",
    "        # Length of sequence adjusted for frame shift \n",
    "        length = 3 * ((len(record)-frame)  // 3)\n",
    "        \n",
    "        # Translate sequence (nuc) to AA's. Split at * which decodes for a stop codon. These are all the ORFs\n",
    "        for pro in nuc[frame:frame+length].translate(table).split(\"*\"):\n",
    "            \n",
    "            # if length of ORF is >= predefined length\n",
    "            if len(pro) >= min_pro_len:\n",
    "                \n",
    "                # Print results\n",
    "                print(f\"{pro[:30]}...{pro[-3:]}, - length {len(pro)}, strand {strand}, frame {frame}\") "
   ]
  },
  {
   "cell_type": "markdown",
   "metadata": {},
   "source": [
    "You could easily edit the above loop based code to build up a list of the candidate proteins, or convert\n",
    "this to a list comprehension. Now, one thing this code doesn't do is keep track of where the proteins are.\n",
    "This could also be part of a follow-up exercise. \n",
    "\n",
    "Otherwise first make the code for finding the ORFs starting from the 5' end of the *forward* strand. "
   ]
  },
  {
   "cell_type": "markdown",
   "metadata": {},
   "source": [
    "## 20.1.6 Simple quality filtering for FASTQ files\n",
    "## 20.1.7 Trimming off primer sequences\n",
    "## 20.1.8 Trimming off adaptor sequences\n",
    "## 20.2.1 Histogram of sequence lengths\n",
    "## 20.2.2 Plot of sequence GC%\n",
    "From Tutorial Biopython"
   ]
  },
  {
   "cell_type": "markdown",
   "metadata": {},
   "source": [
    "## Diagnosing Sickle Cell Anemia"
   ]
  },
  {
   "cell_type": "markdown",
   "metadata": {},
   "source": [
    "Your goal is to develop an experimental test that reveals whether a patient suffers from the hereditary disease sickle cell anemia. The test for diagnosis should use a restriction enzyme on a patients’ DNA sample. For the test to work, you need to know exactly what genetic difference to test against. In this tutorial, you will use Biopython to find out."
   ]
  },
  {
   "cell_type": "markdown",
   "metadata": {},
   "source": [
    "The idea is to compare DNA and protein sequences of sickle cell and healthy globin, and to try out different restriction enzymes on them."
   ]
  },
  {
   "cell_type": "markdown",
   "metadata": {},
   "source": [
    "This tutorial consists of four parts:\n",
    "\n",
    "1. Use the module Bio.Entrez to retrieve DNA and protein sequences from NCBI databases.\n",
    "2. Use the module Bio.SeqIO to read, write, and filter information in sequence files.\n",
    "3. Use the modules Bio.Seq and Bio.SeqRecord to extract exons, transcribe and translate them to protein sequences.\n",
    "4. Use the module re to identify restriction sites."
   ]
  },
  {
   "cell_type": "markdown",
   "metadata": {},
   "source": [
    "# 1. Retrieving DNA and protein sequences with Bio.Entrez\n",
    "## 1.1 Search identifiers on NCBI\n",
    "Write Python code that searches for the cDNA sequence of the sickle cell globin protein from NCBI. Use the Entrez.esearch function. As keywords, use:\n",
    "```sickle AND homo sapiens AND globin NOT chromosome ``` \n",
    "Print the resulting database identifiers (not the full sequences). \n",
    "Use the NCBI examples from the previous chapter. \n"
   ]
  },
  {
   "cell_type": "code",
   "execution_count": 32,
   "metadata": {},
   "outputs": [],
   "source": [
    "from Bio import Entrez\n",
    "Entrez.email = 'A.N.Other@example.com'\n",
    "# use retmax parameter to limit the maximal number of sequences to extract. \n",
    "handle = Entrez.esearch(db=\"nucleotide\", term=\"sickle AND homo sapiens AND globin NOT chromosome\")\n",
    "records = Entrez.read(handle)\n",
    "identifiers = records['IdList']\n",
    "counts = records['Count']"
   ]
  },
  {
   "cell_type": "code",
   "execution_count": 4,
   "metadata": {},
   "outputs": [
    {
     "data": {
      "text/plain": [
       "['1868032479', '1515564438', '179408', '224959855', '2168937', '183859', '183844']"
      ]
     },
     "execution_count": 4,
     "metadata": {},
     "output_type": "execute_result"
    }
   ],
   "source": [
    "identifiers"
   ]
  },
  {
   "cell_type": "code",
   "execution_count": 14,
   "metadata": {},
   "outputs": [
    {
     "data": {
      "text/plain": [
       "'7'"
      ]
     },
     "execution_count": 14,
     "metadata": {},
     "output_type": "execute_result"
    }
   ],
   "source": [
    "counts"
   ]
  },
  {
   "cell_type": "markdown",
   "metadata": {},
   "source": [
    "## 1.2 Retrieve sequences using identifiers\n",
    "Use the identifiers from task 1.1, retrieve the full sequence with the `Entrez.efetch` function from the NCBI server.\n",
    "\n",
    "The parameter rettype should be 'fasta', retmode should be 'xml'.\n",
    "\n",
    "Print the identifier and define for each entry using a for loop. You can see the available fields for a single record with:\n",
    "\n",
    "print(r.keys())"
   ]
  },
  {
   "cell_type": "code",
   "execution_count": 5,
   "metadata": {},
   "outputs": [],
   "source": [
    "Entrez.email = 'A.N.Other@example.com'\n",
    "with Entrez.efetch(db=\"nucleotide\", id=identifiers, rettype='fasta', retmode='xml') as handle:\n",
    "    # To read entries from a text/sdtring:\n",
    "    #seqs = handle.read()\n",
    "    # To read records from XML entries:\n",
    "    records = Entrez.read(handle)"
   ]
  },
  {
   "cell_type": "code",
   "execution_count": 6,
   "metadata": {
    "scrolled": true
   },
   "outputs": [
    {
     "name": "stdout",
     "output_type": "stream",
     "text": [
      "[{'TSeq_seqtype': StringElement('', attributes={'value': 'nucleotide'}), 'TSeq_accver': 'MN609913.1', 'TSeq_taxid': '9606', 'TSeq_orgname': 'Homo sapiens', 'TSeq_defline': 'Homo sapiens A-gamma globin (HBG1) gene, exon 1 and partial cds', 'TSeq_length': '318', 'TSeq_sequence': 'CAATAGCCTTGACAAGGCAAACTTGACCAATAGTCTTAGAGTATCCAGTGAGGCCAGGGGCCGGCGGCTGGCTAGGGATGAAGAATAAAAGGAAGCACCCTTCAGCAGTTCCACACACTCGCTTCTGGAACGTCTGAGATTATCAATAAGCTCCTAGTCCAGACGCCATGGGTCATTTCACAGAGGAGGACAAGGCTACTATCACAAGCCTGTGGGGCAAGGTGAATGTGGAAGATGCTGGAGGAGAAACCCTGGGAAGGTAGGCTCTGGTGACCAGGACAAGGGAGGGAAGGAAGGACCCTGTGCCTGGCAAAAGTC'}, {'TSeq_seqtype': StringElement('', attributes={'value': 'nucleotide'}), 'TSeq_accver': 'MH580289.1', 'TSeq_taxid': '9606', 'TSeq_orgname': 'Homo sapiens', 'TSeq_defline': 'Homo sapiens voucher ATGLAB 2018103 hemoglobin beta subunit (HBB) gene, exon 3 and partial cds', 'TSeq_length': '881', 'TSeq_sequence': 'GTGCTTATTTGCATATTCATAATCTCCCTACTTTATTTTCTTTTATTTTTAATTGATACATAATCATTATACATATTTATGGGTTAAAGTGTAATGTTTTAATATGTGTACACATATTGACCAAATCAGGGTAATTTTGCATTTGTAATTTTAAAAAATGCTTTCTTCTTTTAATATACTTTTTTGTTTATCTTATTTCTAATACTTTCCCTAATCTCTTTCTTTCAGGGCAATAATGATACAATGTATCATGCCTCTTTGCACCATTCTAAAGAATAACAGTGATAATTTCTGGGTTAAGGCAATAGCAATATTTCTGCATATAAATATTTCTGCATATAAATTGTAACTGATGTAAGAGGTTTCATATTGCTAATAGCAGCTACAATCCAGCTACCATTCTGCTTTTATTTTATGGTTGGGATAAGGCTGGATTATTCTGAGTCCAAGCTAGGCCCTTTTGCTAATCATGTTCATACCTCTTATCTTCCTCCCACAGCTCCTGGGCAACGTGCTGGTCTGTGTGCTGGCCCATCACTTTGGCAAAGAATTCACCCCACCAGTGCAGGCTGCCTATCAGAAAGTGGTGGCTGGTGTGGCTAATGCCCTGGCCCACAAGTATCACTAAGCTCGCTTTCTTGCTGTCCAATTTCTATTAAAGGTTCCTTTGTTCCCTAAGTCCAACTACTAAACTGGGGGATATTATGAAGGGCCTTGAGCATCTGGATTCTGCCTAATAAAAAACATTTATTTTCATTGCAATGATGTATTTAAATTATTTCTGAATATTTTACTAAAAAGGGAATGTGGGAGGTCAGTGCATTTAAAACATAAAGAAATGAAGAGCTAGTTCAAACCTTGGGAAATAACCTAAGCATGCC'}, {'TSeq_seqtype': StringElement('', attributes={'value': 'nucleotide'}), 'TSeq_accver': 'M25079.1', 'TSeq_taxid': '9606', 'TSeq_orgname': 'Homo sapiens', 'TSeq_defline': 'Human sickle cell beta-globin mRNA, complete cds', 'TSeq_length': '468', 'TSeq_sequence': 'ATGGTNCAYYTNACNCCNGTGGAGAAGTCYGCYGTNACNGCNCTNTGGGGYAAGGTNAAYGTGGATGAAGYYGGYGGYGAGGCCCTGGGCAGNCTGCTNGTGGTCTACCCTTGGACCCAGAGGTTCTTNGANTCNTTYGGGGATCTGNNNACNCCNGANGCAGTTATGGGCAACCCTAAGGTGAAGGCTCATGGCAAGAAAGTGCTCGGTGCCTTTAGTGATGGCCTGGCTCACCTGGACAACCTCAAGGGCACCTTTGCCACACTGAGTGAGCTGCACTGTGACAAGCTNCAYGTGGATCCTGAGAACTTCAGGCTNCTNGGCAACGTGYTNGTCTGYGTGCTGGCCCATCACTTTGGCAAAGAATTCACCCCACCAGTGCANGCNGCCTATCAGAAAGTGGTNGCTGGTGTNGCTAATGCCCTGGCCCACAAGTATCACTAAGCTNGCYTTYTTGYTGTCCAATTT'}, {'TSeq_seqtype': StringElement('', attributes={'value': 'nucleotide'}), 'TSeq_accver': 'FJ766333.1', 'TSeq_taxid': '9606', 'TSeq_orgname': 'Homo sapiens', 'TSeq_defline': 'Homo sapiens A-gamma globin (HBG1) gene, promoter region', 'TSeq_length': '88', 'TSeq_sequence': 'CGGCTGACAAAAGAAGTCCTGGTATCTTCTATGGTGGGAGAGGAAAACTAGCTAAAGGGAAGAATAAATTAGAGAAAAAHTGGAATGA'}, {'TSeq_seqtype': StringElement('', attributes={'value': 'nucleotide'}), 'TSeq_accver': 'E00658.1', 'TSeq_sid': 'pat|JP|1986019500|1', 'TSeq_taxid': '9606', 'TSeq_orgname': 'Homo sapiens', 'TSeq_defline': 'Part of DNA encoding beta-globin gene', 'TSeq_length': '50', 'TSeq_sequence': 'AACCTCAAACAGACACCATGGTGCACCTGACTCCTGAGGAGAAGTCTGCC'}, {'TSeq_seqtype': StringElement('', attributes={'value': 'nucleotide'}), 'TSeq_accver': 'M33706.1', 'TSeq_taxid': '9606', 'TSeq_orgname': 'Homo sapiens', 'TSeq_defline': 'Human hemoglobin DNA with a deletion causing Indian delta-beta thalassemia', 'TSeq_length': '2337', 'TSeq_sequence': 'AAGCTTGGGTTTTGAGTTTTCATTATTTACCCAAAATTCATTCAGGAGCAGGTTGTTTAATTTCCATGTAATTGCATAGTTTTCAGCTATTCATTAGTCTTGAAATCTATTTTTATTCCTCTGTGGTCTGAGAGTGATTGATATGATTTTTTTGCATTTGCTGAGGATTGTTTTAGGTCCTCCCAAGGCTGAACCAGGAAGAAATCAATTTCCTGAAGAGATCCATGATGAGCTCTGAAAATGATTCAGTAATAAATAGCCTATCAAACAAAAAAAGCCCTGGACAATATGATTCACAACCAAATTCTATCAGATGCACAAAGAAGAGTTGGAAAAATTCCTACTGAAGCTACTCCAAAAAATTGAGGGGGAGGGATTCAACCTCAGCTCATTTTATGAGGCCAGCATCATCCTGATACCAAAACCTGATAGACACACAACAACAAAAAAAGAAAACTTCAGGCCAATATCCTTGAACATTGATGCAAAAATACTAGCAAGCCAAATCCAGCAACACATCACAAAGCTAATCCACCTCAATCAAGTAGGCTTTATCCCTGAGAAGCAAGATTGGTTCAGCATATACAAATTGATAAATGTGATTCATCATATATACAGCACTAAAAACAGAAACCACATGATCATTTCAATATGTGCAAAAAAAGATTTTGATAAAATTCAACTTCACTTCATATTAAAACCTCTCAACAAACTAGCTATTTAAGGACATGACCTCAAAATAATATGAGCCATCTATGACAAACCCACAGCCAACATCATACAGAATGGGCAAAACCTGGAAGCATTCTTCTTGAAAACTGGCACAAGACAAGGATGCCCTCTCTCACCACTGCTATTCAGTATAGTACTGGCAGTCCTGGCCAGAGCAATCAGGCAAGAGAAGGGAATAAAGGGCATCCAAATAGGAAGAGAGAAAGTCAAAGTATCCCTGTTTTCTGTATCTAGAAAACACCATAGTCAAGGCCCAAAAGCTCCTTCAGCTGATAACTTCAGCAAAGTTTCAGGATATAAAATCAATGTACAAAAATCACTAGCATTCCCATACATCAACAATAGCCAAGCCTAGAGCCAAATCAGGAAGTCAATCCCATTTACCGTTGCCACAAAAAGAATAAAATACCTAAGGATATATCTAACCAAGGAGTTGAAAGATCTCTACAATGAGATTTACAAAACACTGCTCAAAGAAATCAGAGCTGATAGAAACAAATGGAAAAACTTTCCATGCTCATGGATAAAAAGAATCAATATTGTTAAAATGTCCATACTGCCTAGAGCAATTTACAGTTTCAAAGCTATTCCTATCAAACTACCAATGACATTCTTCACAGAACTAGAAAAATACACTTTAAAGTTCATATGGAACAACAACAAAAAAAGTCCAAATAGCCTAGGAAATCCTAATACTCACAGGTGGGAATTGAAAAATGAGAACACTTGGACACAGGGTGGGGAACATCACACACCGGGGCCTGTCGTGGGGTGGTAGGAGAGNGGAGGGATAACATTAGGAGATATATCTAATGTAAATGACGAGTTAACGGGTGCAGCACACCAATATGGCACACGTATACATATGTAACAAACTGCACAGGTACCGTAGAACTTAGAGTACAAAAAAAAAAANGAGAAAAAGAAAAAAGCTGGAGATAACACATTGCCTAACTTCAAACCATACCACAGGGCTACAGTAACCAAAACAGTNTGGTACTGTTACAGAAAAGACACACAGACAAATGGAACAGAATAGAGAGCCCAGAAATAAGACCACATGCCTACAACCATCTGATCTTTGACAAAGCTGATAAAAACAAGCAATGAGGAAAAGACACCCTATTCAACAAGTCGTGTTGGGATAACTGACTAACCGTATGTAGAAGATTGAAACCAGACCCCGTTCTATATCATATACACAAATAAACTCAAGATGGATTAGAGACTTAAATGCAAAGCCCAAACTATAAAAATGCTTGAAAGCAACCTAGACAATACCATTCCGGACATAAGCAGGGGCAAAGATTTCATGACAAAGATGCCAAGAGTCATTGCAGCAAAAGCAAAAATTGACAAATAGGATCTAATTAAAATAAAGTTTCTGCACAGCAAAAGAAACTATCAACTGAGTAAACAACCTATAGAATGGGAGAAAATTTTTGCAAACTATGCATCCAACAAAGGCCTAATATTCAGAATCTATAAGGAACTTAAATGAATCTACAAGAACAAAACAAACAATGCCACAAAAAATGGGTAAAGGACATGAACAGACAGTATTCAAAAGAAGACATACATGTGGCCACCAAGCATATGAAAAAA'}, {'TSeq_seqtype': StringElement('', attributes={'value': 'nucleotide'}), 'TSeq_accver': 'M37467.1', 'TSeq_taxid': '9606', 'TSeq_orgname': 'Homo sapiens', 'TSeq_defline': 'Human hemoglobin-related sequence across the breakpoint for Indian delta-beta thalassemia', 'TSeq_length': '1552', 'TSeq_sequence': 'TTTTCTCAGTCAGTTAACATTCCTTCAACTAGATTAGTTGTGACAAAATTTCAGGCCTTGCTCAACTCTAACCTCAGTCTCTCCATATATTTCTGAGAGTCTTCCTTCTTATTTGTTTATAAGAATTTAGTAAATGGCAATATTGAGAAGTAGAAAATTTTGGAGACTTGTTTTTCATGAACCAGAACAATCTCAAAGCAGCAATACTAAACAGGAGCCAAGCCTAGAATAAAGTTGAATTTCTGGAATCAACAAGCTAGGGGAAAGTCTCCCATTAAGTCAAATATTTGACAACTGGGAGGTCAAGTCAGAGGTGAAAAATGATTAAAGATAACAAGAGGTCTGAAAACAAAGTGACCAATTAAAATAAAAAGAAAGAGCCAAGCTGGGCACAGTGGCTTGCATCTGTAGTCCCAGTAACCCAGGAGGCTGAAGTGATAGGATCACTTGAGCCCAGGATTTCAGGGTTGCAGTGAGCAATAATGACACCACTGCTCTCTAGCCTTGGTGACTGAGATCCTGTCTCTGAGGAAAAACAAACAAACAAGCAAAAAACAAACAAACAAACACACAGATATTAAGAACATAGAAGTTTTGTTACGGTGATGATATTCTCCAACACAGGTCTGAACCCCTTGCAGTGCCTCGGGGCTGTTTCTCCAGTGGATTCTTGGGTTCTTCACATCTTCTCAACTTTGTGAAAAGATATTCATCCAAAGGTCTCACCTGTCTTATTCAGAGCTTGGATTTTGGACTAGCTTTTTCTATTTCTTGGGATTCTCTAGAGCCATATATTCAGATATAACACAGATATAACCAAAAGAAGCAAAGGAGGCATCACAGAAGGGGCTTTGTATTCTGGGGAGGGGGACATAGAGTTGAGAGAAATACAGGAATTTATAGGACTCTACTCAAAGAGCCCTCAAATAAAGTACGGCTAGTCTTCTTTGCCTAAGACAATGAGCAGTCCAGGAAGTTATCCATTTCTTTTAGATTTTCTAGTTTATGTACATAGAGATGTTCATAGTAGTTTTTGATGATTATTTGTATTTCTGTGGGGTGAGTGATAATATTCCCTTTTCATTTCTAACTGTGCTTATTTGGATCTTCTCTCTTGTCTTCTTTATTAGTCTAGCTAGTGATCTACCTTATTAATTTTTTCACAAAACCAGCTCTTGGACTCATTAATCTTTTGAATGGTATTTTGTGTTTTAATATCCTTCAGTTAGCTTTGATCTTGTTTATTTCTTGTCTTCTGCTAGATTTAGGGTTGGTTTGCTCTTGGTTCTCTGGTTCTTTTAGTTGTGACATTAGGTTGTTAATTTGAGGGCTTTAAGACTTTTTGATGTGGGCATTTAGTGTATAAATTTCTCTCTTAACACTGTCTAAGCTGTGTCCCAGAGATTCCGGTATATTGTATCTTTGTTCTCATTAGTTTCAAAGAACTATTTTATTTTTGCCTTAGTTTTCATTATTTACCCAAAATTCATTCAGGAGCAGGTTGTTTAATTTCCATGTAATTGCATAGTTTTCAGCTATTCATTAGTCTTGA'}]\n"
     ]
    }
   ],
   "source": [
    "print(records)"
   ]
  },
  {
   "cell_type": "code",
   "execution_count": 7,
   "metadata": {},
   "outputs": [
    {
     "name": "stdout",
     "output_type": "stream",
     "text": [
      "MN609913.1\n",
      "Homo sapiens A-gamma globin (HBG1) gene, exon 1 and partial cds\n",
      "MH580289.1\n",
      "Homo sapiens voucher ATGLAB 2018103 hemoglobin beta subunit (HBB) gene, exon 3 and partial cds\n",
      "M25079.1\n",
      "Human sickle cell beta-globin mRNA, complete cds\n",
      "FJ766333.1\n",
      "Homo sapiens A-gamma globin (HBG1) gene, promoter region\n",
      "E00658.1\n",
      "Part of DNA encoding beta-globin gene\n",
      "M33706.1\n",
      "Human hemoglobin DNA with a deletion causing Indian delta-beta thalassemia\n",
      "M37467.1\n",
      "Human hemoglobin-related sequence across the breakpoint for Indian delta-beta thalassemia\n"
     ]
    }
   ],
   "source": [
    "for i in records:\n",
    "    print(i['TSeq_accver'])\n",
    "    print(i['TSeq_defline'])"
   ]
  },
  {
   "cell_type": "markdown",
   "metadata": {},
   "source": [
    "## 1.3 Retrieve a single GenBank entry\n",
    "In the output of task 1.2, locate the cDNA of the sickle cell globin manually. Copy the identifier. Use the identifier to download the full GenBank entry only for that sequence with efetch. Print the entry.\n",
    "\n",
    "The parameter rettype should be ‘gb’, retmodeshould be 'text'.\n",
    "\n"
   ]
  },
  {
   "cell_type": "code",
   "execution_count": 8,
   "metadata": {},
   "outputs": [
    {
     "name": "stdout",
     "output_type": "stream",
     "text": [
      "LOCUS       HUMBETGLA                468 bp    mRNA    linear   PRI 27-APR-1993\n",
      "DEFINITION  Human sickle cell beta-globin mRNA, complete cds.\n",
      "ACCESSION   M25079\n",
      "VERSION     M25079.1\n",
      "KEYWORDS    .\n",
      "SOURCE      Homo sapiens (human)\n",
      "  ORGANISM  Homo sapiens\n",
      "            Eukaryota; Metazoa; Chordata; Craniata; Vertebrata; Euteleostomi;\n",
      "            Mammalia; Eutheria; Euarchontoglires; Primates; Haplorrhini;\n",
      "            Catarrhini; Hominidae; Homo.\n",
      "REFERENCE   1  (bases 1 to 468)\n",
      "  AUTHORS   Marotta,C.A., Forget,B.G., Cohen-Solal,M. and Weissman,S.M.\n",
      "  TITLE     Nucleotide sequence analysis of coding and noncoding regions of\n",
      "            human beta-globin mRNA\n",
      "  JOURNAL   Prog. Nucleic Acid Res. Mol. Biol. 19, 165-175 (1976)\n",
      "   PUBMED   1019344\n",
      "COMMENT     Original source text: Human sickle cell, cDNA to mRNA.\n",
      "FEATURES             Location/Qualifiers\n",
      "     source          1..468\n",
      "                     /organism=\"Homo sapiens\"\n",
      "                     /mol_type=\"mRNA\"\n",
      "                     /db_xref=\"taxon:9606\"\n",
      "                     /cell_type=\"sickle cell\"\n",
      "     CDS             1..444\n",
      "                     /experiment=\"experimental evidence, no additional details\n",
      "                     recorded\"\n",
      "                     /codon_start=1\n",
      "                     /product=\"beta-globin\"\n",
      "                     /protein_id=\"AAA35597.1\"\n",
      "                     /translation=\"MVHXTPVEKSAVTALWGKVNVDEXGGEALGXLLVVYPWTQRFXX\n",
      "                     SFGDLXTPXAVMGNPKVKAHGKKVLGAFSDGLAHLDNLKGTFATLSELHCDKLHVDPE\n",
      "                     NFRLLGNVXVCVLAHHFGKEFTPPVXAAYQKVVAGVANALAHKYH\"\n",
      "ORIGIN      \n",
      "        1 atggtncayy tnacnccngt ggagaagtcy gcygtnacng cnctntgggg yaaggtnaay\n",
      "       61 gtggatgaag yyggyggyga ggccctgggc agnctgctng tggtctaccc ttggacccag\n",
      "      121 aggttcttng antcnttygg ggatctgnnn acnccngang cagttatggg caaccctaag\n",
      "      181 gtgaaggctc atggcaagaa agtgctcggt gcctttagtg atggcctggc tcacctggac\n",
      "      241 aacctcaagg gcacctttgc cacactgagt gagctgcact gtgacaagct ncaygtggat\n",
      "      301 cctgagaact tcaggctnct nggcaacgtg ytngtctgyg tgctggccca tcactttggc\n",
      "      361 aaagaattca ccccaccagt gcangcngcc tatcagaaag tggtngctgg tgtngctaat\n",
      "      421 gccctggccc acaagtatca ctaagctngc yttyttgytg tccaattt\n",
      "//\n",
      "\n",
      "\n"
     ]
    }
   ],
   "source": [
    "Entrez.email = 'A.N.Other@example.com'\n",
    "with Entrez.efetch(db=\"nucleotide\", id='M25079', rettype='gb', retmode='text') as handle:\n",
    "    # To read entries from a text/sdtring:\n",
    "    cds = handle.read()\n",
    "print(cds)"
   ]
  },
  {
   "cell_type": "code",
   "execution_count": 9,
   "metadata": {},
   "outputs": [
    {
     "data": {
      "text/plain": [
       "'LOCUS       HUMBETGLA                468 bp    mRNA    linear   PRI 27-APR-1993\\nDEFINITION  Human sickle cell beta-globin mRNA, complete cds.\\nACCESSION   M25079\\nVERSION     M25079.1\\nKEYWORDS    .\\nSOURCE      Homo sapiens (human)\\n  ORGANISM  Homo sapiens\\n            Eukaryota; Metazoa; Chordata; Craniata; Vertebrata; Euteleostomi;\\n            Mammalia; Eutheria; Euarchontoglires; Primates; Haplorrhini;\\n            Catarrhini; Hominidae; Homo.\\nREFERENCE   1  (bases 1 to 468)\\n  AUTHORS   Marotta,C.A., Forget,B.G., Cohen-Solal,M. and Weissman,S.M.\\n  TITLE     Nucleotide sequence analysis of coding and noncoding regions of\\n            human beta-globin mRNA\\n  JOURNAL   Prog. Nucleic Acid Res. Mol. Biol. 19, 165-175 (1976)\\n   PUBMED   1019344\\nCOMMENT     Original source text: Human sickle cell, cDNA to mRNA.\\nFEATURES             Location/Qualifiers\\n     source          1..468\\n                     /organism=\"Homo sapiens\"\\n                     /mol_type=\"mRNA\"\\n                     /db_xref=\"taxon:9606\"\\n                     /cell_type=\"sickle cell\"\\n     CDS             1..444\\n                     /experiment=\"experimental evidence, no additional details\\n                     recorded\"\\n                     /codon_start=1\\n                     /product=\"beta-globin\"\\n                     /protein_id=\"AAA35597.1\"\\n                     /translation=\"MVHXTPVEKSAVTALWGKVNVDEXGGEALGXLLVVYPWTQRFXX\\n                     SFGDLXTPXAVMGNPKVKAHGKKVLGAFSDGLAHLDNLKGTFATLSELHCDKLHVDPE\\n                     NFRLLGNVXVCVLAHHFGKEFTPPVXAAYQKVVAGVANALAHKYH\"\\nORIGIN      \\n        1 atggtncayy tnacnccngt ggagaagtcy gcygtnacng cnctntgggg yaaggtnaay\\n       61 gtggatgaag yyggyggyga ggccctgggc agnctgctng tggtctaccc ttggacccag\\n      121 aggttcttng antcnttygg ggatctgnnn acnccngang cagttatggg caaccctaag\\n      181 gtgaaggctc atggcaagaa agtgctcggt gcctttagtg atggcctggc tcacctggac\\n      241 aacctcaagg gcacctttgc cacactgagt gagctgcact gtgacaagct ncaygtggat\\n      301 cctgagaact tcaggctnct nggcaacgtg ytngtctgyg tgctggccca tcactttggc\\n      361 aaagaattca ccccaccagt gcangcngcc tatcagaaag tggtngctgg tgtngctaat\\n      421 gccctggccc acaagtatca ctaagctngc yttyttgytg tccaattt\\n//\\n\\n'"
      ]
     },
     "execution_count": 9,
     "metadata": {},
     "output_type": "execute_result"
    }
   ],
   "source": [
    "cds"
   ]
  },
  {
   "cell_type": "markdown",
   "metadata": {},
   "source": [
    "## 1.4 Write an output file\n",
    "Save the GenBank entry from task 1.3 to a file ‘sickle.gb’."
   ]
  },
  {
   "cell_type": "code",
   "execution_count": 33,
   "metadata": {},
   "outputs": [],
   "source": [
    "filename = \"data/sickle.gb\"\n",
    "out_handle = open(filename, \"w\")\n",
    "out_handle.write(cds)\n",
    "out_handle.close()"
   ]
  },
  {
   "cell_type": "markdown",
   "metadata": {},
   "source": [
    "## 1.5 Retrieve and write multiple GenBank entries\n",
    "Combine esearch and efetch to retrieve entries for the gene sequences of the human globin family. Find appropriate keywords to limit the search to beta-globin and only complete coding sequences. Write the outcome to a file.\n",
    "\n"
   ]
  },
  {
   "cell_type": "code",
   "execution_count": 34,
   "metadata": {},
   "outputs": [
    {
     "name": "stdout",
     "output_type": "stream",
     "text": [
      "137\n",
      "['1696834923', '1696834911', '1696834907', '1333950173', '1333950171', '1333950169', '1333950167', '1491828168', '1465231265', '1411295735', '1240501976', '1148299215', '1142724618', '1142721398', '1142720181', '1036032278', '1036031023', '973413026', '973413024', '413968625', '469476449', '469476446', '190336860', '156230554', '56971742', '183821', '177052', '45738207', '1418273', '432469', '432468', '432467', '432466', '432465', '432464', '432463', '432462', '432461', '432460', '432459', '432458', '432457', '432456', '432455', '432454', '432453', '179408', '164790', '21637364', '71727270', '71727268', '71727266', '71727264', '71727262', '71727260', '71727258', '71727256', '71727254', '71727252', '71727250', '71727248', '71727246', '71727244', '71727242', '71727240', '71727238', '71727236', '71727234', '71727232', '71727230', '71727228', '71727226', '71727224', '71727222', '71727220', '71727218', '71727216', '71727214', '71727212', '71727210', '71727208', '71727206', '71727204', '71727202', '71727200', '71727198', '71727196', '71727194', '71727192', '71727190', '71727188', '71727186', '71727184', '71727182', '71727180', '71727178', '71727176', '71727174', '71727172', '71727170', '71727168', '71727166', '71727164', '71727162', '71727160', '18462106', '18462104', '18462102', '18462100', '18462098', '18462096', '18462094', '18462092', '18462090', '18462088', '18462086', '18462084', '18462082', '18462080', '18462078', '18462076', '18462074', '158323699', '193790', '30349216', '18462035', '29436', '122893047', '122893045', '122893043', '122893041', '122893039', '124361330', '15072766', '15072763', '15072760', '15072757']\n"
     ]
    },
    {
     "data": {
      "text/plain": [
       "1527323"
      ]
     },
     "execution_count": 34,
     "metadata": {},
     "output_type": "execute_result"
    }
   ],
   "source": [
    "# search identifiers\n",
    "handle = Entrez.esearch(db=\"nucleotide\", term=\"beta-globin AND human AND complete cds NOT chromosome NOT thalassemia NOT zebra fish\", retmax=150)\n",
    "records = Entrez.read(handle)\n",
    "print(records['Count'])\n",
    "identifiers = records['IdList']\n",
    "print(identifiers)\n",
    "\n",
    "# retrieve sequence entries\n",
    "handle = Entrez.efetch(db=\"nucleotide\", id=identifiers, rettype=\"gb\", retmode=\"text\")\n",
    "records = handle.read()\n",
    "open(\"data/globins.gb\", \"w\").write(records)"
   ]
  },
  {
   "cell_type": "markdown",
   "metadata": {},
   "source": [
    "## 1.6 Optional Exercises\n",
    "- Save the retrieved entries to a single FASTA file.\n",
    "- Save each of the beta-globin sequences to a separate GenBank file.\n",
    "- Use Entrez to search 100 recent references related to malaria and sickle cell anemia on PubMed."
   ]
  },
  {
   "cell_type": "markdown",
   "metadata": {},
   "source": [
    "# 2. Bio.SeqIO\n",
    "Reading, writing and filtering sequence files"
   ]
  },
  {
   "cell_type": "markdown",
   "metadata": {},
   "source": [
    "## 2.1 Read a GenBank file\n",
    "Read the ‘sickle.gb’ file from task 1.4 using the SeqIO.parse() function:\n",
    "\n",
    "```python\n",
    "from Bio import SeqIO\n",
    "\n",
    "records = SeqIO.parse(filename, format)\n",
    "```\n",
    "\n",
    "The first parameter of parse() is the filename, the format is ‘genbank’. Print the records object.\n",
    "\n",
    "To see the actual entries, use the next() function on records or process the records in a for loop:\n",
    "```python\n",
    "rec = next(records)\n",
    "```"
   ]
  },
  {
   "cell_type": "code",
   "execution_count": 24,
   "metadata": {},
   "outputs": [
    {
     "name": "stdout",
     "output_type": "stream",
     "text": [
      "<generator object parse at 0x00000188E5F7FB10>\n",
      "ID: M25079.1\n",
      "Name: HUMBETGLA\n",
      "Description: Human sickle cell beta-globin mRNA, complete cds\n",
      "Number of features: 2\n",
      "/molecule_type=mRNA\n",
      "/topology=linear\n",
      "/data_file_division=PRI\n",
      "/date=27-APR-1993\n",
      "/accessions=['M25079']\n",
      "/sequence_version=1\n",
      "/keywords=['']\n",
      "/source=Homo sapiens (human)\n",
      "/organism=Homo sapiens\n",
      "/taxonomy=['Eukaryota', 'Metazoa', 'Chordata', 'Craniata', 'Vertebrata', 'Euteleostomi', 'Mammalia', 'Eutheria', 'Euarchontoglires', 'Primates', 'Haplorrhini', 'Catarrhini', 'Hominidae', 'Homo']\n",
      "/references=[Reference(title='Nucleotide sequence analysis of coding and noncoding regions of human beta-globin mRNA', ...)]\n",
      "/comment=Original source text: Human sickle cell, cDNA to mRNA.\n",
      "Seq('ATGGTNCAYYTNACNCCNGTGGAGAAGTCYGCYGTNACNGCNCTNTGGGGYAAG...TTT', IUPACAmbiguousDNA())\n"
     ]
    }
   ],
   "source": [
    "from Bio import SeqIO\n",
    "records = SeqIO.parse(\"data/sickle.gb\", format=\"genbank\")\n",
    "print(records)\n",
    "\n",
    "for rec in records:\n",
    "    print(rec)"
   ]
  },
  {
   "cell_type": "markdown",
   "metadata": {},
   "source": [
    "## 2.2 Print information for one sequence\n",
    "Use the dir() function on a single record object to find out what attributes it has.\n",
    "\n",
    "Print the id, name and description of the sickle cell globin entry."
   ]
  },
  {
   "cell_type": "code",
   "execution_count": 27,
   "metadata": {},
   "outputs": [
    {
     "name": "stdout",
     "output_type": "stream",
     "text": [
      "['__add__', '__bool__', '__class__', '__contains__', '__delattr__', '__dict__', '__dir__', '__doc__', '__eq__', '__format__', '__ge__', '__getattribute__', '__getitem__', '__gt__', '__hash__', '__init__', '__init_subclass__', '__iter__', '__le__', '__le___', '__len__', '__lt__', '__module__', '__ne__', '__new__', '__nonzero__', '__radd__', '__reduce__', '__reduce_ex__', '__repr__', '__setattr__', '__sizeof__', '__str__', '__subclasshook__', '__weakref__', '_per_letter_annotations', '_seq', '_set_per_letter_annotations', '_set_seq', 'annotations', 'dbxrefs', 'description', 'features', 'format', 'id', 'letter_annotations', 'lower', 'name', 'reverse_complement', 'seq', 'translate', 'upper']\n",
      "M25079.1\n",
      "HUMBETGLA\n",
      "Human sickle cell beta-globin mRNA, complete cds\n"
     ]
    }
   ],
   "source": [
    "records = SeqIO.parse(\"data/sickle.gb\", \"genbank\")\n",
    "for rec in records:\n",
    "    print(dir(rec))\n",
    "    print(rec.id)\n",
    "    print(rec.name)\n",
    "    print(rec.description)"
   ]
  },
  {
   "cell_type": "markdown",
   "metadata": {},
   "source": [
    "## 2.3 Write a FASTA file\n",
    "Save the GenBank entry from task 2.1 to a FASTA file using the `SeqIO.write()` function:\n",
    "```python\n",
    "SeqIO.write(records, file, format)\n",
    "```\n",
    "The first parameter of write() is a list of sequence records, the second a file open for writing, and the third should be ‘fasta’."
   ]
  },
  {
   "cell_type": "code",
   "execution_count": 35,
   "metadata": {},
   "outputs": [
    {
     "data": {
      "text/plain": [
       "1"
      ]
     },
     "execution_count": 35,
     "metadata": {},
     "output_type": "execute_result"
    }
   ],
   "source": [
    "from Bio import SeqIO\n",
    "\n",
    "records = SeqIO.parse(\"data/sickle.gb\", \"genbank\")\n",
    "SeqIO.write(records, \"data/sickle.fasta\", \"fasta\")"
   ]
  },
  {
   "cell_type": "markdown",
   "metadata": {},
   "source": [
    "## 2.4 Print information for multiple sequences\n",
    "Print the id, name, and description of all human beta-globins.\n",
    "\n",
    "Hint:\n",
    "This is a great occasion to exercise string formatting, e.g. to obtain a tabular output:\n",
    "```python\n",
    "print(f\"{'Ada':10s} {33:7d}\")\n",
    "```"
   ]
  },
  {
   "cell_type": "code",
   "execution_count": 39,
   "metadata": {},
   "outputs": [
    {
     "name": "stdout",
     "output_type": "stream",
     "text": [
      "ID: MK816963.1, Name: MK816963, Description: Cloning vector pDN-D2irTNG5kwh, complete sequence\n",
      "ID: MK816960.1, Name: MK816960, Description: Cloning vector pKF-D2irTNP2AG-T2APuroR-5kwh, complete sequence\n",
      "ID: MK816959.1, Name: MK816959, Description: Cloning vector pDN-D2irTN2AG5kwh, complete sequence\n",
      "ID: MF174873.1, Name: MF174873, Description: Synthetic construct clone pARVA_T-Ag, complete sequence\n",
      "ID: MF174872.1, Name: MF174872, Description: Synthetic construct clone pARVA_EBNA-1c, complete sequence\n",
      "ID: MF174871.1, Name: MF174871, Description: Synthetic construct clone pARVUS_GABRB3, complete sequence\n",
      "ID: MF174870.1, Name: MF174870, Description: Synthetic construct clone pARVUS_GABRA1, complete sequence\n",
      "ID: MG657341.1, Name: MG657341, Description: Homo sapiens hemoglobin subunit beta (HBB) gene, complete cds\n",
      "ID: MG675219.1, Name: MG675219, Description: Homo sapiens hemoglobin subunit beta (HBB) gene, complete cds\n",
      "ID: MH210859.1, Name: MH210859, Description: Cloning vector pLSB, complete sequence\n",
      "ID: MF462285.1, Name: MF462285, Description: Synthetic construct clone NFAT-CBR red-shifted luciferase (CBR) gene, complete cds\n",
      "ID: KY447298.1, Name: KY447298, Description: Cloning vector pGZ-DSB-CO, complete sequence\n",
      "ID: LT727607.1, Name: LT727607, Description: Vector pSP64GcHIL6, complete sequence\n",
      "ID: LT727153.1, Name: LT727153, Description: Mammalian expression vector pCAGGS-EhCdc42-DN, complete sequence\n",
      "ID: LT726858.1, Name: LT726858, Description: Mammalian expression vector pCAGGS-E-ASC, complete sequence\n",
      "ID: AH002981.2, Name: AH002981, Description: Homo sapiens S100 protein beta subunit (S100-beta) gene, complete cds\n",
      "ID: AH010109.2, Name: AH010109, Description: Homo sapiens odorant receptor HOR3'beta1, odorant receptor HOR3'beta2, odorant receptor HOR3'beta3, odorant receptor HOR3'beta4, and odorant receptor HOR3'beta5 genes, complete cds\n",
      "ID: KT345944.1, Name: KT345944, Description: Cloning vector pAAV-hSyn-CRMP2-hSyn-mCherry, complete sequence\n",
      "ID: KT345943.1, Name: KT345943, Description: Cloning vector pAAV-hSyn-mCherry-hSyn-9(5), complete sequence\n",
      "ID: JX877554.1, Name: JX877554, Description: Homo sapiens krueppel-like factor 1 (KLF1) gene, complete cds\n",
      "ID: KC176268.1, Name: KC176268, Description: Expression vector pFUSE-HEAVY, complete sequence\n",
      "ID: KC176267.1, Name: KC176267, Description: Expression vector pFUSE-LIGHT, complete sequence\n",
      "ID: BC162830.1, Name: BC162830, Description: Danio rerio similar to embryonic 1 beta-globin, mRNA (cDNA clone MGC:193906 IMAGE:9037133), complete cds\n",
      "ID: BC152121.1, Name: BC152121, Description: Danio rerio similar to embryonic 1 beta-globin, mRNA (cDNA clone MGC:173646 IMAGE:7433423), complete cds\n",
      "ID: BC088022.1, Name: BC088022, Description: Xenopus tropicalis beta globin, mRNA (cDNA clone MGC:107966 IMAGE:7025457), complete cds\n",
      "ID: M11428.1, Name: HUMHBB3E, Description: Human beta-globin mRNA, 3' end\n",
      "ID: M92295.1, Name: GORGM12GLB, Description: Gorilla gorilla gamma-1 and gamma-2 globin genes, complete cds\n",
      "ID: AY569693.1, Name: AY569693, Description: Expression vector pHCMV-SARS-S (FFM-1), complete sequence\n",
      "ID: U60902.1, Name: OCU60902, Description: Otolemur crassicaudatus epsilon-, gamma-, delta-, and beta-globin genes, complete cds, and eta-globin pseudogene\n",
      "ID: L26478.1, Name: HUMBETGLOR, Description: Human haplotype D3 beta-globin gene, complete cds\n",
      "ID: L26477.1, Name: HUMBETGLOP, Description: Human haplotype D2 beta-globin gene, complete cds\n",
      "ID: L26476.1, Name: HUMBETGLOO, Description: Human haplotype D1 beta-globin gene, complete cds\n",
      "ID: L26475.1, Name: HUMBETGLON, Description: Human haplotype C2 beta-globin gene, complete cds\n",
      "ID: L26474.1, Name: HUMBETGLOM, Description: Human haplotype C3 beta-globin gene, complete cds\n",
      "ID: L26473.1, Name: HUMBETGLOL, Description: Human haplotype C1 beta-globin gene, complete cds\n",
      "ID: L26472.1, Name: HUMBETGLOK, Description: Human haplotype B6 beta-globin gene, complete cds\n",
      "ID: L26471.1, Name: HUMBETGLOJ, Description: Human haplotype B5 beta-globin gene, complete cds\n",
      "ID: L26470.1, Name: HUMBETGLOI, Description: Human haplotype B4 beta-globin gene, complete cds\n",
      "ID: L26469.1, Name: HUMBETGLOH, Description: Human haplotype B3 beta-globin gene, complete cds\n",
      "ID: L26468.1, Name: HUMBETGLOG, Description: Human haplotype B2 beta-globin gene, complete cds\n",
      "ID: L26467.1, Name: HUMBETGLOF, Description: Human haplotype B1 beta-globin gene, complete cds\n",
      "ID: L26466.1, Name: HUMBETGLOE, Description: Human haplotype A4 beta-globin gene, complete cds\n",
      "ID: L26465.1, Name: HUMBETGLOD, Description: Human haplotype A3 beta-globin gene, complete cds\n",
      "ID: L26464.1, Name: HUMBETGLOC, Description: Human haplotype A2 beta-globin gene, complete cds\n",
      "ID: L26463.1, Name: HUMBETGLOB, Description: Human haplotype A1 beta-globin gene, complete cds\n",
      "ID: L26462.1, Name: HUMBETGLOA, Description: Human haplotype C4 beta-globin gene, complete cds\n",
      "ID: M25079.1, Name: HUMBETGLA, Description: Human sickle cell beta-globin mRNA, complete cds\n",
      "ID: M18818.1, Name: RABBGLOB, Description: Rabbit beta-like globin gene cluster encoding the epsilon, gamma, delta (pseudogene) and beta globin polypeptides, complete cds\n",
      "ID: AF515846.1, Name: AF515846, Description: Cloning vector pTransgene, complete sequence\n",
      "ID: DQ126325.1, Name: DQ126325, Description: Homo sapiens isolate HbC-Dgn83 beta globin (HBB) gene, complete cds\n",
      "ID: DQ126324.1, Name: DQ126324, Description: Homo sapiens isolate HbC-Dgn99 beta globin (HBB) gene, complete cds\n",
      "ID: DQ126323.1, Name: DQ126323, Description: Homo sapiens isolate HbC-Dgn66 beta globin (HBB) gene, complete cds\n",
      "ID: DQ126322.1, Name: DQ126322, Description: Homo sapiens isolate HbC-S782 beta globin (HBB) gene, complete cds\n",
      "ID: DQ126321.1, Name: DQ126321, Description: Homo sapiens isolate HbC-Ghn40 beta globin (HBB) gene, complete cds\n",
      "ID: DQ126320.1, Name: DQ126320, Description: Homo sapiens isolate HbC-Ghn133 beta globin (HBB) gene, complete cds\n",
      "ID: DQ126319.1, Name: DQ126319, Description: Homo sapiens isolate HbC-Ghn117 beta globin (HBB) gene, complete cds\n",
      "ID: DQ126318.1, Name: DQ126318, Description: Homo sapiens isolate HbC-Ghn195 beta globin (HBB) gene, complete cds\n",
      "ID: DQ126317.1, Name: DQ126317, Description: Homo sapiens isolate HbC-Nov24 beta globin (HBB) gene, complete cds\n",
      "ID: DQ126316.1, Name: DQ126316, Description: Homo sapiens isolate HbC-Ivc16 beta globin (HBB) gene, complete cds\n",
      "ID: DQ126315.1, Name: DQ126315, Description: Homo sapiens isolate HbC-Ghn154b beta globin (HBB) gene, complete cds\n",
      "ID: DQ126314.1, Name: DQ126314, Description: Homo sapiens isolate HbC-Ghn154a beta globin (HBB) gene, complete cds\n",
      "ID: DQ126313.1, Name: DQ126313, Description: Homo sapiens isolate HbC-Ghn023 beta globin (HBB) gene, complete cds\n",
      "ID: DQ126312.1, Name: DQ126312, Description: Homo sapiens isolate HbC-Ghn017 beta globin (HBB) gene, complete cds\n",
      "ID: DQ126311.1, Name: DQ126311, Description: Homo sapiens isolate HbC-Ghn009 beta globin (HBB) gene, complete cds\n",
      "ID: DQ126310.1, Name: DQ126310, Description: Homo sapiens isolate HbC-Dgn58 beta globin (HBB) gene, complete cds\n",
      "ID: DQ126309.1, Name: DQ126309, Description: Homo sapiens isolate HbC-Dgn52 beta globin (HBB) gene, complete cds\n",
      "ID: DQ126308.1, Name: DQ126308, Description: Homo sapiens isolate HbC-Dgn37 beta globin (HBB) gene, complete cds\n",
      "ID: DQ126307.1, Name: DQ126307, Description: Homo sapiens isolate HbC-Dgn31b beta globin (HBB) gene, complete cds\n",
      "ID: DQ126306.1, Name: DQ126306, Description: Homo sapiens isolate HbC-Dgn31a beta globin (HBB) gene, complete cds\n",
      "ID: DQ126305.1, Name: DQ126305, Description: Homo sapiens isolate HbC-Dgn06 beta globin (HBB) gene, complete cds\n",
      "ID: DQ126304.1, Name: DQ126304, Description: Homo sapiens isolate HbA-Dgn99 beta globin (HBB) gene, complete cds\n",
      "ID: DQ126303.1, Name: DQ126303, Description: Homo sapiens isolate HbA-Ivc18 beta globin (HBB) gene, complete cds\n",
      "ID: DQ126302.1, Name: DQ126302, Description: Homo sapiens isolate HbA-Dgn58 beta globin (HBB) gene, complete cds\n",
      "ID: DQ126301.1, Name: DQ126301, Description: Homo sapiens isolate HbA-G37 beta globin (HBB) gene, complete cds\n",
      "ID: DQ126300.1, Name: DQ126300, Description: Homo sapiens isolate HbA-Dgn66 beta globin (HBB) gene, complete cds\n",
      "ID: DQ126299.1, Name: DQ126299, Description: Homo sapiens isolate HbA-Cmn087 beta globin (HBB) gene, complete cds\n",
      "ID: DQ126298.1, Name: DQ126298, Description: Homo sapiens isolate HbA-Ghn117 beta globin (HBB) gene, complete cds\n",
      "ID: DQ126297.1, Name: DQ126297, Description: Homo sapiens isolate HbA-Ivc04 beta globin (HBB) gene, complete cds\n",
      "ID: DQ126296.1, Name: DQ126296, Description: Homo sapiens isolate HbA-Ivc16 beta globin (HBB) gene, complete cds\n",
      "ID: DQ126295.1, Name: DQ126295, Description: Homo sapiens isolate HbA-G08 beta globin (HBB) gene, complete cds\n",
      "ID: DQ126294.1, Name: DQ126294, Description: Homo sapiens isolate HbA-Dgn52 beta globin (HBB) gene, complete cds\n",
      "ID: DQ126293.1, Name: DQ126293, Description: Homo sapiens isolate HbA-Sen10 beta globin (HBB) gene, complete cds\n",
      "ID: DQ126292.1, Name: DQ126292, Description: Homo sapiens isolate HbA-G25 beta globin (HBB) gene, complete cds\n",
      "ID: DQ126291.1, Name: DQ126291, Description: Homo sapiens isolate HbA-Ivc11 beta globin (HBB) gene, complete cds\n",
      "ID: DQ126290.1, Name: DQ126290, Description: Homo sapiens isolate HbA-Ghn009 beta globin (HBB) gene, complete cds\n",
      "ID: DQ126289.1, Name: DQ126289, Description: Homo sapiens isolate HbA-Ghn017 beta globin (HBB) gene, complete cds\n",
      "ID: DQ126288.1, Name: DQ126288, Description: Homo sapiens isolate HbA-Nov24 beta globin (HBB) gene, complete cds\n",
      "ID: DQ126287.1, Name: DQ126287, Description: Homo sapiens isolate HbA-JK1033 beta globin (HBB) gene, complete cds\n",
      "ID: DQ126286.1, Name: DQ126286, Description: Homo sapiens isolate HbA-Cmn097 beta globin (HBB) gene, complete cds\n",
      "ID: DQ126285.1, Name: DQ126285, Description: Homo sapiens isolate HbA-Dgn67 beta globin (HBB) gene, complete cds\n",
      "ID: DQ126284.1, Name: DQ126284, Description: Homo sapiens isolate HbA-Dgn06 beta globin (HBB) gene, complete cds\n",
      "ID: DQ126283.1, Name: DQ126283, Description: Homo sapiens isolate HbA-Sen50 beta globin (HBB) gene, complete cds\n",
      "ID: DQ126282.1, Name: DQ126282, Description: Homo sapiens isolate HbA-S782 beta globin (HBB) gene, complete cds\n",
      "ID: DQ126281.1, Name: DQ126281, Description: Homo sapiens isolate HbA-Gna27 beta globin (HBB) gene, complete cds\n",
      "ID: DQ126280.1, Name: DQ126280, Description: Homo sapiens isolate HbA-Cmr15 beta globin (HBB) gene, complete cds\n",
      "ID: DQ126279.1, Name: DQ126279, Description: Homo sapiens isolate HbA-Dgn83 beta globin (HBB) gene, complete cds\n",
      "ID: DQ126278.1, Name: DQ126278, Description: Homo sapiens isolate HbA-Sen31 beta globin (HBB) gene, complete cds\n",
      "ID: DQ126277.1, Name: DQ126277, Description: Homo sapiens isolate HbA-Ghn133 beta globin (HBB) gene, complete cds\n",
      "ID: DQ126276.1, Name: DQ126276, Description: Homo sapiens isolate HbA-Ghn195 beta globin (HBB) gene, complete cds\n",
      "ID: DQ126275.1, Name: DQ126275, Description: Homo sapiens isolate HbA-Ghn40 beta globin (HBB) gene, complete cds\n",
      "ID: DQ126274.1, Name: DQ126274, Description: Homo sapiens isolate HbA-Ghn023 beta globin (HBB) gene, complete cds\n",
      "ID: DQ126273.1, Name: DQ126273, Description: Homo sapiens isolate HbA-Dgn37 beta globin (HBB) gene, complete cds\n",
      "ID: DQ126272.1, Name: DQ126272, Description: Homo sapiens isolate HbA-Sen42 beta globin (HBB) gene, complete cds\n",
      "ID: DQ126271.1, Name: DQ126271, Description: Homo sapiens isolate HbA-Cmr13 beta globin (HBB) gene, complete cds\n",
      "ID: DQ126270.1, Name: DQ126270, Description: Homo sapiens isolate HbA-Ivc05 beta globin (HBB) gene, complete cds\n",
      "ID: AF339417.1, Name: AF339417, Description: Homo sapiens haplotype T12 delta-globin (HBD) gene, complete cds\n",
      "ID: AF339416.1, Name: AF339416, Description: Homo sapiens haplotype T11 delta-globin (HBD) gene, complete cds\n",
      "ID: AF339415.1, Name: AF339415, Description: Homo sapiens haplotype T10 delta-globin (HBD) gene, complete cds\n",
      "ID: AF339414.1, Name: AF339414, Description: Homo sapiens haplotype T9 delta-globin (HBD) gene, complete cds\n",
      "ID: AF339413.1, Name: AF339413, Description: Homo sapiens haplotype T8 delta-globin (HBD) gene, complete cds\n",
      "ID: AF339412.1, Name: AF339412, Description: Homo sapiens haplotype T7 delta-globin (HBD) gene, complete cds\n",
      "ID: AF339411.1, Name: AF339411, Description: Homo sapiens haplotype T6 delta-globin (HBD) gene, complete cds\n",
      "ID: AF339410.1, Name: AF339410, Description: Homo sapiens haplotype T5 delta-globin (HBD) gene, complete cds\n",
      "ID: AF339409.1, Name: AF339409, Description: Homo sapiens haplotype T4 delta-globin (HBD) gene, complete cds\n",
      "ID: AF339408.1, Name: AF339408, Description: Homo sapiens haplotype T3 delta-globin (HBD) gene, complete cds\n",
      "ID: AF339407.1, Name: AF339407, Description: Homo sapiens haplotype T2 delta-globin (HBD) gene, complete cds\n",
      "ID: AF339406.1, Name: AF339406, Description: Homo sapiens haplotype T1 delta-globin (HBD) gene, complete cds\n",
      "ID: AF339405.1, Name: AF339405, Description: Homo sapiens haplotype R5 delta-globin (HBD) gene, complete cds\n",
      "ID: AF339404.1, Name: AF339404, Description: Homo sapiens haplotype R4 delta-globin (HBD) gene, complete cds\n",
      "ID: AF339403.1, Name: AF339403, Description: Homo sapiens haplotype R3 delta-globin (HBD) gene, complete cds\n",
      "ID: AF339402.1, Name: AF339402, Description: Homo sapiens haplotype R2 delta-globin (HBD) gene, complete cds\n",
      "ID: AF339401.1, Name: AF339401, Description: Homo sapiens haplotype R1 delta-globin (HBD) gene, complete cds\n",
      "ID: EU048698.1, Name: EU048698, Description: Shuttle vector phcAd.DYS-FL, complete sequence\n",
      "ID: K02590.1, Name: MUSHBBH3P, Description: Mouse beta-globin pseudogene, beta-h3\n",
      "ID: AY260740.1, Name: AY260740, Description: Homo sapiens beta globin chain gene, complete cds\n",
      "ID: AF339363.1, Name: AF339363, Description: Pan troglodytes delta-globin (HBD) gene, complete cds\n",
      "ID: V00497.1, Name: V00497, Description: Human messenger RNA for beta-globin\n",
      "ID: EF186088.1, Name: EF186088, Description: Shuttle vector pUCAG.TBX5, complete sequence\n",
      "ID: EF186087.1, Name: EF186087, Description: Shuttle vector pUCAG.MEF2C, complete sequence\n",
      "ID: EF186086.1, Name: EF186086, Description: Shuttle vector pUCAG.GATA4, complete sequence\n",
      "ID: EF186085.1, Name: EF186085, Description: Shuttle vector pUCAG.nkx2.5, complete sequence\n",
      "ID: EF186084.1, Name: EF186084, Description: Shuttle vector pUCAG.myocardin, complete sequence\n",
      "ID: EF208955.1, Name: EF208955, Description: Cloning vector pU.CAG.MyocS, complete sequence\n",
      "ID: AJ318515.1, Name: AJ318515, Description: Cloning vector pHCMV-A-MLVenv, complete sequence\n",
      "ID: AJ318514.1, Name: AJ318514, Description: Cloning vector pHCMV-VSV-G, complete sequence\n",
      "ID: AJ318513.1, Name: AJ318513, Description: Cloning vector pHCMV-LCMV-GP(WE), complete sequence\n",
      "ID: AJ318512.1, Name: AJ318512, Description: Cloning vector pHCMV-LCMV-GP(WE-HPI), complete sequence\n"
     ]
    }
   ],
   "source": [
    "from Bio import SeqIO\n",
    "records = SeqIO.parse(\"data/globins.gb\", \"genbank\")\n",
    "for rec in records:\n",
    "    print(f\"ID: {rec.id}, Name: {rec.name}, Description: {rec.description}\")\n"
   ]
  },
  {
   "cell_type": "markdown",
   "metadata": {},
   "source": [
    "## 2.5 Filtering sequence entries\n",
    "Print the same information as in task 2.4, but do not show non-globin entries. If the description contains either ‘vector’ or ‘isolate’, don’t print anything."
   ]
  },
  {
   "cell_type": "code",
   "execution_count": 41,
   "metadata": {},
   "outputs": [
    {
     "name": "stdout",
     "output_type": "stream",
     "text": [
      "ID: MF174873.1, Name: MF174873, Description: Synthetic construct clone pARVA_T-Ag, complete sequence\n",
      "ID: MF174872.1, Name: MF174872, Description: Synthetic construct clone pARVA_EBNA-1c, complete sequence\n",
      "ID: MF174871.1, Name: MF174871, Description: Synthetic construct clone pARVUS_GABRB3, complete sequence\n",
      "ID: MF174870.1, Name: MF174870, Description: Synthetic construct clone pARVUS_GABRA1, complete sequence\n",
      "ID: MG657341.1, Name: MG657341, Description: Homo sapiens hemoglobin subunit beta (HBB) gene, complete cds\n",
      "ID: MG675219.1, Name: MG675219, Description: Homo sapiens hemoglobin subunit beta (HBB) gene, complete cds\n",
      "ID: MF462285.1, Name: MF462285, Description: Synthetic construct clone NFAT-CBR red-shifted luciferase (CBR) gene, complete cds\n",
      "ID: LT727607.1, Name: LT727607, Description: Vector pSP64GcHIL6, complete sequence\n",
      "ID: AH002981.2, Name: AH002981, Description: Homo sapiens S100 protein beta subunit (S100-beta) gene, complete cds\n",
      "ID: AH010109.2, Name: AH010109, Description: Homo sapiens odorant receptor HOR3'beta1, odorant receptor HOR3'beta2, odorant receptor HOR3'beta3, odorant receptor HOR3'beta4, and odorant receptor HOR3'beta5 genes, complete cds\n",
      "ID: JX877554.1, Name: JX877554, Description: Homo sapiens krueppel-like factor 1 (KLF1) gene, complete cds\n",
      "ID: BC162830.1, Name: BC162830, Description: Danio rerio similar to embryonic 1 beta-globin, mRNA (cDNA clone MGC:193906 IMAGE:9037133), complete cds\n",
      "ID: BC152121.1, Name: BC152121, Description: Danio rerio similar to embryonic 1 beta-globin, mRNA (cDNA clone MGC:173646 IMAGE:7433423), complete cds\n",
      "ID: BC088022.1, Name: BC088022, Description: Xenopus tropicalis beta globin, mRNA (cDNA clone MGC:107966 IMAGE:7025457), complete cds\n",
      "ID: M11428.1, Name: HUMHBB3E, Description: Human beta-globin mRNA, 3' end\n",
      "ID: M92295.1, Name: GORGM12GLB, Description: Gorilla gorilla gamma-1 and gamma-2 globin genes, complete cds\n",
      "ID: U60902.1, Name: OCU60902, Description: Otolemur crassicaudatus epsilon-, gamma-, delta-, and beta-globin genes, complete cds, and eta-globin pseudogene\n",
      "ID: L26478.1, Name: HUMBETGLOR, Description: Human haplotype D3 beta-globin gene, complete cds\n",
      "ID: L26477.1, Name: HUMBETGLOP, Description: Human haplotype D2 beta-globin gene, complete cds\n",
      "ID: L26476.1, Name: HUMBETGLOO, Description: Human haplotype D1 beta-globin gene, complete cds\n",
      "ID: L26475.1, Name: HUMBETGLON, Description: Human haplotype C2 beta-globin gene, complete cds\n",
      "ID: L26474.1, Name: HUMBETGLOM, Description: Human haplotype C3 beta-globin gene, complete cds\n",
      "ID: L26473.1, Name: HUMBETGLOL, Description: Human haplotype C1 beta-globin gene, complete cds\n",
      "ID: L26472.1, Name: HUMBETGLOK, Description: Human haplotype B6 beta-globin gene, complete cds\n",
      "ID: L26471.1, Name: HUMBETGLOJ, Description: Human haplotype B5 beta-globin gene, complete cds\n",
      "ID: L26470.1, Name: HUMBETGLOI, Description: Human haplotype B4 beta-globin gene, complete cds\n",
      "ID: L26469.1, Name: HUMBETGLOH, Description: Human haplotype B3 beta-globin gene, complete cds\n",
      "ID: L26468.1, Name: HUMBETGLOG, Description: Human haplotype B2 beta-globin gene, complete cds\n",
      "ID: L26467.1, Name: HUMBETGLOF, Description: Human haplotype B1 beta-globin gene, complete cds\n",
      "ID: L26466.1, Name: HUMBETGLOE, Description: Human haplotype A4 beta-globin gene, complete cds\n",
      "ID: L26465.1, Name: HUMBETGLOD, Description: Human haplotype A3 beta-globin gene, complete cds\n",
      "ID: L26464.1, Name: HUMBETGLOC, Description: Human haplotype A2 beta-globin gene, complete cds\n",
      "ID: L26463.1, Name: HUMBETGLOB, Description: Human haplotype A1 beta-globin gene, complete cds\n",
      "ID: L26462.1, Name: HUMBETGLOA, Description: Human haplotype C4 beta-globin gene, complete cds\n",
      "ID: M25079.1, Name: HUMBETGLA, Description: Human sickle cell beta-globin mRNA, complete cds\n",
      "ID: M18818.1, Name: RABBGLOB, Description: Rabbit beta-like globin gene cluster encoding the epsilon, gamma, delta (pseudogene) and beta globin polypeptides, complete cds\n",
      "ID: AF339417.1, Name: AF339417, Description: Homo sapiens haplotype T12 delta-globin (HBD) gene, complete cds\n",
      "ID: AF339416.1, Name: AF339416, Description: Homo sapiens haplotype T11 delta-globin (HBD) gene, complete cds\n",
      "ID: AF339415.1, Name: AF339415, Description: Homo sapiens haplotype T10 delta-globin (HBD) gene, complete cds\n",
      "ID: AF339414.1, Name: AF339414, Description: Homo sapiens haplotype T9 delta-globin (HBD) gene, complete cds\n",
      "ID: AF339413.1, Name: AF339413, Description: Homo sapiens haplotype T8 delta-globin (HBD) gene, complete cds\n",
      "ID: AF339412.1, Name: AF339412, Description: Homo sapiens haplotype T7 delta-globin (HBD) gene, complete cds\n",
      "ID: AF339411.1, Name: AF339411, Description: Homo sapiens haplotype T6 delta-globin (HBD) gene, complete cds\n",
      "ID: AF339410.1, Name: AF339410, Description: Homo sapiens haplotype T5 delta-globin (HBD) gene, complete cds\n",
      "ID: AF339409.1, Name: AF339409, Description: Homo sapiens haplotype T4 delta-globin (HBD) gene, complete cds\n",
      "ID: AF339408.1, Name: AF339408, Description: Homo sapiens haplotype T3 delta-globin (HBD) gene, complete cds\n",
      "ID: AF339407.1, Name: AF339407, Description: Homo sapiens haplotype T2 delta-globin (HBD) gene, complete cds\n",
      "ID: AF339406.1, Name: AF339406, Description: Homo sapiens haplotype T1 delta-globin (HBD) gene, complete cds\n",
      "ID: AF339405.1, Name: AF339405, Description: Homo sapiens haplotype R5 delta-globin (HBD) gene, complete cds\n",
      "ID: AF339404.1, Name: AF339404, Description: Homo sapiens haplotype R4 delta-globin (HBD) gene, complete cds\n",
      "ID: AF339403.1, Name: AF339403, Description: Homo sapiens haplotype R3 delta-globin (HBD) gene, complete cds\n",
      "ID: AF339402.1, Name: AF339402, Description: Homo sapiens haplotype R2 delta-globin (HBD) gene, complete cds\n",
      "ID: AF339401.1, Name: AF339401, Description: Homo sapiens haplotype R1 delta-globin (HBD) gene, complete cds\n",
      "ID: K02590.1, Name: MUSHBBH3P, Description: Mouse beta-globin pseudogene, beta-h3\n",
      "ID: AY260740.1, Name: AY260740, Description: Homo sapiens beta globin chain gene, complete cds\n",
      "ID: AF339363.1, Name: AF339363, Description: Pan troglodytes delta-globin (HBD) gene, complete cds\n",
      "ID: V00497.1, Name: V00497, Description: Human messenger RNA for beta-globin\n"
     ]
    }
   ],
   "source": [
    "from Bio import SeqIO\n",
    "records = SeqIO.parse(\"data/globins.gb\", \"genbank\")\n",
    "for rec in records:\n",
    "    if not(\"vector\" in rec.description or \"isolate\" in rec.description): \n",
    "        print(f\"ID: {rec.id}, Name: {rec.name}, Description: {rec.description}\")\n"
   ]
  },
  {
   "cell_type": "markdown",
   "metadata": {},
   "source": [
    "## 2.6 Optional Exercises\n",
    "- Collect the entries matching all criteria in a new list\n",
    "- Save the filtered list to a FASTA file\n",
    "- Filter the list of sequence entries even further using your own criteria"
   ]
  },
  {
   "cell_type": "markdown",
   "metadata": {},
   "source": [
    "---"
   ]
  },
  {
   "cell_type": "markdown",
   "metadata": {},
   "source": [
    "# 3. Bio.Seq and Bio.SeqRecord\n",
    "Working with sequences"
   ]
  },
  {
   "cell_type": "markdown",
   "metadata": {},
   "source": [
    "## 3.1 The DNA sequence\n",
    "Read the sequence of the sickle cell globin cDNA. Print the DNA sequence. Use the seq attribute of the SeqRecord object from the previous exercise:\n",
    "```python\n",
    "sequence = rec.seq\n",
    "```"
   ]
  },
  {
   "cell_type": "code",
   "execution_count": 47,
   "metadata": {},
   "outputs": [
    {
     "name": "stdout",
     "output_type": "stream",
     "text": [
      "['__add__', '__bool__', '__class__', '__contains__', '__delattr__', '__dict__', '__dir__', '__doc__', '__eq__', '__format__', '__ge__', '__getattribute__', '__getitem__', '__gt__', '__hash__', '__init__', '__init_subclass__', '__iter__', '__le__', '__le___', '__len__', '__lt__', '__module__', '__ne__', '__new__', '__nonzero__', '__radd__', '__reduce__', '__reduce_ex__', '__repr__', '__setattr__', '__sizeof__', '__str__', '__subclasshook__', '__weakref__', '_per_letter_annotations', '_seq', '_set_per_letter_annotations', '_set_seq', 'annotations', 'dbxrefs', 'description', 'features', 'format', 'id', 'letter_annotations', 'lower', 'name', 'reverse_complement', 'seq', 'translate', 'upper']\n",
      "M25079.1\n",
      "Human sickle cell beta-globin mRNA, complete cds\n",
      "ATGGTNCAYYTNACNCCNGTGGAGAAGTCYGCYGTNACNGCNCTNTGGGGYAAGGTNAAYGTGGATGAAGYYGGYGGYGAGGCCCTGGGCAGNCTGCTNGTGGTCTACCCTTGGACCCAGAGGTTCTTNGANTCNTTYGGGGATCTGNNNACNCCNGANGCAGTTATGGGCAACCCTAAGGTGAAGGCTCATGGCAAGAAAGTGCTCGGTGCCTTTAGTGATGGCCTGGCTCACCTGGACAACCTCAAGGGCACCTTTGCCACACTGAGTGAGCTGCACTGTGACAAGCTNCAYGTGGATCCTGAGAACTTCAGGCTNCTNGGCAACGTGYTNGTCTGYGTGCTGGCCCATCACTTTGGCAAAGAATTCACCCCACCAGTGCANGCNGCCTATCAGAAAGTGGTNGCTGGTGTNGCTAATGCCCTGGCCCACAAGTATCACTAAGCTNGCYTTYTTGYTGTCCAATTT\n"
     ]
    }
   ],
   "source": [
    "from Bio import SeqIO\n",
    "\n",
    "# task 3.1\n",
    "records = SeqIO.parse(\"data/sickle.gb\", \"genbank\")\n",
    "sickle = next(records)\n",
    "print(dir(sickle))\n",
    "\n",
    "print(sickle.id)\n",
    "print(sickle.description)\n",
    "print(sickle.seq)\n"
   ]
  },
  {
   "cell_type": "markdown",
   "metadata": {},
   "source": [
    "## 3.2 Transcribe DNA to RNA\n",
    "Transcribe the sickle cell cDNA sequence to RNA and print it. Use the `transcribe()` method of the Seq object.\n"
   ]
  },
  {
   "cell_type": "code",
   "execution_count": 50,
   "metadata": {},
   "outputs": [
    {
     "name": "stdout",
     "output_type": "stream",
     "text": [
      "AUGGUNCAYYUNACNCCNGUGGAGAAGUCYGCYGUNACNGCNCUNUGGGGYAAGGUNAAYGUGGAUGAAGYYGGYGGYGAGGCCCUGGGCAGNCUGCUNGUGGUCUACCCUUGGACCCAGAGGUUCUUNGANUCNUUYGGGGAUCUGNNNACNCCNGANGCAGUUAUGGGCAACCCUAAGGUGAAGGCUCAUGGCAAGAAAGUGCUCGGUGCCUUUAGUGAUGGCCUGGCUCACCUGGACAACCUCAAGGGCACCUUUGCCACACUGAGUGAGCUGCACUGUGACAAGCUNCAYGUGGAUCCUGAGAACUUCAGGCUNCUNGGCAACGUGYUNGUCUGYGUGCUGGCCCAUCACUUUGGCAAAGAAUUCACCCCACCAGUGCANGCNGCCUAUCAGAAAGUGGUNGCUGGUGUNGCUAAUGCCCUGGCCCACAAGUAUCACUAAGCUNGCYUUYUUGYUGUCCAAUUU\n"
     ]
    }
   ],
   "source": [
    "from Bio import Seq\n",
    "seq = sickle.seq\n",
    "rna = seq.transcribe()\n",
    "print(rna)"
   ]
  },
  {
   "cell_type": "markdown",
   "metadata": {},
   "source": [
    "## 3.3 Translate RNA to protein\n",
    "Translate the sickle cell RNA to a protein sequence and print it. Use the `translate()` method of a Seq object.\n",
    "\n",
    "Save the protein sequence to a separate file.\n"
   ]
  },
  {
   "cell_type": "code",
   "execution_count": 76,
   "metadata": {},
   "outputs": [
    {
     "data": {
      "text/plain": [
       "'MVHXTPVEKSAVTALWGKVNVDEXGGEALGXLLVVYPWTQRFXXSFGDLXTPXAVMGNPKVKAHGKKVLGAFSDGLAHLDNLKGTFATLSELHCDKLHVDPENFRLLGNVXVCVLAHHFGKEFTPPVXAAYQKVVAGVANALAHKYH*AXXXXVQF'"
      ]
     },
     "execution_count": 76,
     "metadata": {},
     "output_type": "execute_result"
    }
   ],
   "source": [
    "from Bio import Seq\n",
    "from Bio.Seq import Seq\n",
    "seq = sickle.seq\n",
    "rna = seq.transcribe()\n",
    "prot = rna.translate()\n",
    "str(prot)"
   ]
  },
  {
   "cell_type": "code",
   "execution_count": 77,
   "metadata": {},
   "outputs": [],
   "source": [
    "protfilename = \"data/sickleprot.pep\"\n",
    "with open(protfilename, \"w\") as fh:\n",
    "    fh.write(str(prot))"
   ]
  },
  {
   "cell_type": "markdown",
   "metadata": {},
   "source": [
    "## 3.4 Analyze annotations of beta-globin\n",
    "In the file with many globins, find the beta-globin entry with accession L26462. Use the field `r.annotations['accessions']` on a SeqRecord object to find it. Write the entry to a separate GenBank file.\n"
   ]
  },
  {
   "cell_type": "code",
   "execution_count": 78,
   "metadata": {},
   "outputs": [
    {
     "data": {
      "text/plain": [
       "['AJ318512']"
      ]
     },
     "execution_count": 78,
     "metadata": {},
     "output_type": "execute_result"
    }
   ],
   "source": [
    "rec.annotations['accessions']"
   ]
  },
  {
   "cell_type": "code",
   "execution_count": 83,
   "metadata": {},
   "outputs": [
    {
     "name": "stdout",
     "output_type": "stream",
     "text": [
      "ID: L26462.1\n",
      "Name: HUMBETGLOA\n",
      "Description: Human haplotype C4 beta-globin gene, complete cds\n",
      "Number of features: 26\n",
      "/molecule_type=DNA\n",
      "/topology=linear\n",
      "/data_file_division=PRI\n",
      "/date=26-AUG-1994\n",
      "/accessions=['L26462']\n",
      "/sequence_version=1\n",
      "/keywords=['beta-globin']\n",
      "/source=Homo sapiens (human)\n",
      "/organism=Homo sapiens\n",
      "/taxonomy=['Eukaryota', 'Metazoa', 'Chordata', 'Craniata', 'Vertebrata', 'Euteleostomi', 'Mammalia', 'Eutheria', 'Euarchontoglires', 'Primates', 'Haplorrhini', 'Catarrhini', 'Hominidae', 'Homo']\n",
      "/references=[Reference(title='Molecular and population genetic analysis of allelic sequence diversity at the human beta-globin locus', ...)]\n",
      "Seq('ACCTCCTATTTGACACCACTGATTACCCCATTGATAGTCACACTTTGGGTTGTA...ATC', IUPACAmbiguousDNA())\n"
     ]
    }
   ],
   "source": [
    "from Bio import SeqIO\n",
    "from Bio import SeqRecord\n",
    "records = SeqIO.parse(\"data/globins.gb\", \"genbank\")\n",
    "\n",
    "num = 0\n",
    "for rec in records:\n",
    "    if 'L26462' in rec.annotations['accessions']:\n",
    "        print(rec)\n",
    "        SeqIO.write(rec, f'data/L26462_{num}.gb', \"genbank\")\n",
    "        num += 1\n"
   ]
  },
  {
   "cell_type": "markdown",
   "metadata": {},
   "source": [
    "## 3.5 Extract sequence features\n",
    "Print all features of the L26462 entry. Use the field `r.features` on a SeqRecord object."
   ]
  },
  {
   "cell_type": "code",
   "execution_count": 88,
   "metadata": {},
   "outputs": [
    {
     "name": "stdout",
     "output_type": "stream",
     "text": [
      "type: source\n",
      "location: [0:3002](+)\n",
      "qualifiers:\n",
      "    Key: db_xref, Value: ['taxon:9606']\n",
      "    Key: haplotype, Value: ['C4']\n",
      "    Key: mol_type, Value: ['genomic DNA']\n",
      "    Key: note, Value: ['sequence found in a Melanesian population']\n",
      "    Key: organism, Value: ['Homo sapiens']\n",
      "\n",
      "type: variation\n",
      "location: [110:111](+)\n",
      "qualifiers:\n",
      "    Key: replace, Value: ['t']\n",
      "\n",
      "type: variation\n",
      "location: [262:263](+)\n",
      "qualifiers:\n",
      "    Key: note, Value: ['Rsa I polymorphism']\n",
      "    Key: replace, Value: ['t']\n",
      "\n",
      "type: variation\n",
      "location: [272:273](+)\n",
      "qualifiers:\n",
      "    Key: replace, Value: ['c']\n",
      "\n",
      "type: variation\n",
      "location: [285:287](+)\n",
      "qualifiers:\n",
      "    Key: note, Value: ['2 bp insertion of AT']\n",
      "    Key: replace, Value: ['']\n",
      "\n",
      "type: variation\n",
      "location: [287:288](+)\n",
      "qualifiers:\n",
      "    Key: replace, Value: ['t']\n",
      "\n",
      "type: variation\n",
      "location: [294:296](+)\n",
      "qualifiers:\n",
      "    Key: note, Value: ['1 bp deletion of C or 2 bp deletion of CT']\n",
      "    Key: replace, Value: ['']\n",
      "\n",
      "type: variation\n",
      "location: [346:347](+)\n",
      "qualifiers:\n",
      "    Key: replace, Value: ['c']\n",
      "\n",
      "type: variation\n",
      "location: [475:476](+)\n",
      "qualifiers:\n",
      "    Key: replace, Value: ['t']\n",
      "\n",
      "type: variation\n",
      "location: [499:500](+)\n",
      "qualifiers:\n",
      "    Key: replace, Value: ['c']\n",
      "\n",
      "type: CDS\n",
      "location: join{[865:957](+), [1087:1310](+), [2160:2289](+)}\n",
      "qualifiers:\n",
      "    Key: codon_start, Value: ['1']\n",
      "    Key: product, Value: ['beta-globin']\n",
      "    Key: protein_id, Value: ['AAA21100.1']\n",
      "    Key: translation, Value: ['MVHLTPEEKSAVTALWGKVNVDEVGGEALGRLLVVYPWTQRFFESFGDLSTPDAVMGNPKVKAHGKKVLGAFSDGLAHLDNLKGTFATLSELHCDKLHVDPENFRLLGNVLVCVLAHHFGKEFTPPVQAAYQKVVAGVANALAHKYH']\n",
      "\n",
      "type: exon\n",
      "location: [<865:957](+)\n",
      "qualifiers:\n",
      "    Key: number, Value: ['1']\n",
      "\n",
      "type: variation\n",
      "location: [873:874](+)\n",
      "qualifiers:\n",
      "    Key: replace, Value: ['c']\n",
      "\n",
      "type: intron\n",
      "location: [957:1087](+)\n",
      "qualifiers:\n",
      "    Key: number, Value: ['1']\n",
      "\n",
      "type: exon\n",
      "location: [1087:1310](+)\n",
      "qualifiers:\n",
      "    Key: number, Value: ['2']\n",
      "\n",
      "type: intron\n",
      "location: [1310:2160](+)\n",
      "qualifiers:\n",
      "    Key: number, Value: ['2']\n",
      "\n",
      "type: variation\n",
      "location: [1325:1326](+)\n",
      "qualifiers:\n",
      "    Key: note, Value: ['Ava II polymorphism']\n",
      "    Key: replace, Value: ['g']\n",
      "\n",
      "type: variation\n",
      "location: [1383:1384](+)\n",
      "qualifiers:\n",
      "    Key: replace, Value: ['g']\n",
      "\n",
      "type: variation\n",
      "location: [1390:1391](+)\n",
      "qualifiers:\n",
      "    Key: replace, Value: ['t']\n",
      "\n",
      "type: variation\n",
      "location: [1975:1976](+)\n",
      "qualifiers:\n",
      "    Key: replace, Value: ['t']\n",
      "\n",
      "type: exon\n",
      "location: [2160:>2289](+)\n",
      "qualifiers:\n",
      "    Key: number, Value: ['3']\n",
      "\n",
      "type: variation\n",
      "location: [2521:2522](+)\n",
      "qualifiers:\n",
      "    Key: replace, Value: ['c']\n",
      "\n",
      "type: variation\n",
      "location: [2601:2602](+)\n",
      "qualifiers:\n",
      "    Key: replace, Value: ['a']\n",
      "\n",
      "type: variation\n",
      "location: [2603:2604](+)\n",
      "qualifiers:\n",
      "    Key: replace, Value: ['c']\n",
      "\n",
      "type: variation\n",
      "location: [2759:2760](+)\n",
      "qualifiers:\n",
      "    Key: note, Value: ['Hinf I polymorphism']\n",
      "    Key: replace, Value: ['t']\n",
      "\n",
      "type: variation\n",
      "location: [2912:2913](+)\n",
      "qualifiers:\n",
      "    Key: replace, Value: ['g']\n",
      "\n"
     ]
    }
   ],
   "source": [
    "L26462 = SeqIO.parse('data/L26462_0.gb', 'gb')\n",
    "globin = next(L26462)\n",
    "for f in globin.features:\n",
    "    print(f)"
   ]
  },
  {
   "cell_type": "code",
   "execution_count": 90,
   "metadata": {
    "scrolled": true
   },
   "outputs": [
    {
     "name": "stdout",
     "output_type": "stream",
     "text": [
      "type: source\n",
      "location: [0:3002](+)\n",
      "qualifiers:\n",
      "    Key: db_xref, Value: ['taxon:9606']\n",
      "    Key: haplotype, Value: ['C4']\n",
      "    Key: mol_type, Value: ['genomic DNA']\n",
      "    Key: note, Value: ['sequence found in a Melanesian population']\n",
      "    Key: organism, Value: ['Homo sapiens']\n",
      "\n",
      "type: variation\n",
      "location: [110:111](+)\n",
      "qualifiers:\n",
      "    Key: replace, Value: ['t']\n",
      "\n",
      "type: variation\n",
      "location: [262:263](+)\n",
      "qualifiers:\n",
      "    Key: note, Value: ['Rsa I polymorphism']\n",
      "    Key: replace, Value: ['t']\n",
      "\n",
      "type: variation\n",
      "location: [272:273](+)\n",
      "qualifiers:\n",
      "    Key: replace, Value: ['c']\n",
      "\n",
      "type: variation\n",
      "location: [285:287](+)\n",
      "qualifiers:\n",
      "    Key: note, Value: ['2 bp insertion of AT']\n",
      "    Key: replace, Value: ['']\n",
      "\n",
      "type: variation\n",
      "location: [287:288](+)\n",
      "qualifiers:\n",
      "    Key: replace, Value: ['t']\n",
      "\n",
      "type: variation\n",
      "location: [294:296](+)\n",
      "qualifiers:\n",
      "    Key: note, Value: ['1 bp deletion of C or 2 bp deletion of CT']\n",
      "    Key: replace, Value: ['']\n",
      "\n",
      "type: variation\n",
      "location: [346:347](+)\n",
      "qualifiers:\n",
      "    Key: replace, Value: ['c']\n",
      "\n",
      "type: variation\n",
      "location: [475:476](+)\n",
      "qualifiers:\n",
      "    Key: replace, Value: ['t']\n",
      "\n",
      "type: variation\n",
      "location: [499:500](+)\n",
      "qualifiers:\n",
      "    Key: replace, Value: ['c']\n",
      "\n",
      "type: CDS\n",
      "location: join{[865:957](+), [1087:1310](+), [2160:2289](+)}\n",
      "qualifiers:\n",
      "    Key: codon_start, Value: ['1']\n",
      "    Key: product, Value: ['beta-globin']\n",
      "    Key: protein_id, Value: ['AAA21100.1']\n",
      "    Key: translation, Value: ['MVHLTPEEKSAVTALWGKVNVDEVGGEALGRLLVVYPWTQRFFESFGDLSTPDAVMGNPKVKAHGKKVLGAFSDGLAHLDNLKGTFATLSELHCDKLHVDPENFRLLGNVLVCVLAHHFGKEFTPPVQAAYQKVVAGVANALAHKYH']\n",
      "\n",
      "type: exon\n",
      "location: [<865:957](+)\n",
      "qualifiers:\n",
      "    Key: number, Value: ['1']\n",
      "\n",
      "type: variation\n",
      "location: [873:874](+)\n",
      "qualifiers:\n",
      "    Key: replace, Value: ['c']\n",
      "\n",
      "type: intron\n",
      "location: [957:1087](+)\n",
      "qualifiers:\n",
      "    Key: number, Value: ['1']\n",
      "\n",
      "type: exon\n",
      "location: [1087:1310](+)\n",
      "qualifiers:\n",
      "    Key: number, Value: ['2']\n",
      "\n",
      "type: intron\n",
      "location: [1310:2160](+)\n",
      "qualifiers:\n",
      "    Key: number, Value: ['2']\n",
      "\n",
      "type: variation\n",
      "location: [1325:1326](+)\n",
      "qualifiers:\n",
      "    Key: note, Value: ['Ava II polymorphism']\n",
      "    Key: replace, Value: ['g']\n",
      "\n",
      "type: variation\n",
      "location: [1383:1384](+)\n",
      "qualifiers:\n",
      "    Key: replace, Value: ['g']\n",
      "\n",
      "type: variation\n",
      "location: [1390:1391](+)\n",
      "qualifiers:\n",
      "    Key: replace, Value: ['t']\n",
      "\n",
      "type: variation\n",
      "location: [1975:1976](+)\n",
      "qualifiers:\n",
      "    Key: replace, Value: ['t']\n",
      "\n",
      "type: exon\n",
      "location: [2160:>2289](+)\n",
      "qualifiers:\n",
      "    Key: number, Value: ['3']\n",
      "\n",
      "type: variation\n",
      "location: [2521:2522](+)\n",
      "qualifiers:\n",
      "    Key: replace, Value: ['c']\n",
      "\n",
      "type: variation\n",
      "location: [2601:2602](+)\n",
      "qualifiers:\n",
      "    Key: replace, Value: ['a']\n",
      "\n",
      "type: variation\n",
      "location: [2603:2604](+)\n",
      "qualifiers:\n",
      "    Key: replace, Value: ['c']\n",
      "\n",
      "type: variation\n",
      "location: [2759:2760](+)\n",
      "qualifiers:\n",
      "    Key: note, Value: ['Hinf I polymorphism']\n",
      "    Key: replace, Value: ['t']\n",
      "\n",
      "type: variation\n",
      "location: [2912:2913](+)\n",
      "qualifiers:\n",
      "    Key: replace, Value: ['g']\n",
      "\n"
     ]
    }
   ],
   "source": [
    "L26462 = SeqIO.read('data/L26462_0.gb', 'gb')\n",
    "for f in L26462.features:\n",
    "    print(f)"
   ]
  },
  {
   "cell_type": "code",
   "execution_count": 91,
   "metadata": {},
   "outputs": [
    {
     "data": {
      "text/plain": [
       "'variation'"
      ]
     },
     "execution_count": 91,
     "metadata": {},
     "output_type": "execute_result"
    }
   ],
   "source": []
  },
  {
   "cell_type": "markdown",
   "metadata": {},
   "source": [
    "## 3.6 Extract exons\n",
    "Print all exon features and their attributes start, end and nofuzzy_start, nofuzzy_end:\n",
    "```python\n",
    "for feature in seq['features']:\n",
    "    print(feature)\n",
    "    ...\n",
    "    # add printing attributes here\n",
    "```\n",
    "    \n",
    "For each exon, extract the interval\n",
    "\n",
    "```python\n",
    "feature[nofuzzy_start:nofuzzy_end]\n",
    "``` \n",
    "\n",
    "Use the indices to extract portions of the complete sequence. Concatenate all exon sequences to a single string.\n"
   ]
  },
  {
   "cell_type": "code",
   "execution_count": 93,
   "metadata": {},
   "outputs": [
    {
     "name": "stdout",
     "output_type": "stream",
     "text": [
      "[<865:957](+)\n",
      "[1087:1310](+)\n",
      "[2160:>2289](+)\n",
      "ATGGTGCATCTGACTCCTGAGGAGAAGTCTGCCGTTACTGCCCTGTGGGGCAAGGTGAACGTGGATGAAGTTGGTGGTGAGGCCCTGGGCAGGCTGCTGGTGGTCTACCCTTGGACCCAGAGGTTCTTTGAGTCCTTTGGGGATCTGTCCACTCCTGATGCTGTTATGGGCAACCCTAAGGTGAAGGCTCATGGCAAGAAAGTGCTCGGTGCCTTTAGTGATGGCCTGGCTCACCTGGACAACCTCAAGGGCACCTTTGCCACACTGAGTGAGCTGCACTGTGACAAGCTGCACGTGGATCCTGAGAACTTCAGGCTCCTGGGCAACGTGCTGGTCTGTGTGCTGGCCCATCACTTTGGCAAAGAATTCACCCCACCAGTGCAGGCTGCCTATCAGAAAGTGGTGGCTGGTGTGGCTAATGCCCTGGCCCACAAGTATCACTAA\n"
     ]
    },
    {
     "data": {
      "text/plain": [
       "1"
      ]
     },
     "execution_count": 93,
     "metadata": {},
     "output_type": "execute_result"
    }
   ],
   "source": [
    "from Bio.Seq import Seq\n",
    "from Bio.SeqRecord import SeqRecord\n",
    "from Bio import SeqIO\n",
    "\n",
    "# task 3.6\n",
    "records = SeqIO.parse('data/L26462_0.gb', \"genbank\")\n",
    "entry = next(records)\n",
    "\n",
    "exon_seq = Seq('')\n",
    "for f in entry.features:\n",
    "    if f.type == 'exon':\n",
    "        print(f.location)\n",
    "        start = f.location.nofuzzy_start\n",
    "        end = f.location.nofuzzy_end\n",
    "        exon_seq += entry.seq[start:end]\n",
    "print(exon_seq)\n",
    "\n",
    "rec = [SeqRecord(exon_seq, 'L26462 exon sequence')]\n",
    "SeqIO.write(rec, 'data/L26462_exon.fasta', 'fasta')"
   ]
  },
  {
   "cell_type": "markdown",
   "metadata": {},
   "source": [
    "## 3.7 Extract the beta-globin protein sequence\n",
    "Transcribe and translate the concatenated exon sequence and print it."
   ]
  },
  {
   "cell_type": "code",
   "execution_count": 102,
   "metadata": {},
   "outputs": [
    {
     "name": "stdout",
     "output_type": "stream",
     "text": [
      "AUGGUGCAUCUGACUCCUGAGGAGAAGUCUGCCGUUACUGCCCUGUGGGGCAAGGUGAACGUGGAUGAAGUUGGUGGUGAGGCCCUGGGCAGGCUGCUGGUGGUCUACCCUUGGACCCAGAGGUUCUUUGAGUCCUUUGGGGAUCUGUCCACUCCUGAUGCUGUUAUGGGCAACCCUAAGGUGAAGGCUCAUGGCAAGAAAGUGCUCGGUGCCUUUAGUGAUGGCCUGGCUCACCUGGACAACCUCAAGGGCACCUUUGCCACACUGAGUGAGCUGCACUGUGACAAGCUGCACGUGGAUCCUGAGAACUUCAGGCUCCUGGGCAACGUGCUGGUCUGUGUGCUGGCCCAUCACUUUGGCAAAGAAUUCACCCCACCAGUGCAGGCUGCCUAUCAGAAAGUGGUGGCUGGUGUGGCUAAUGCCCUGGCCCACAAGUAUCACUAA\n",
      "MVHLTPEEKSAVTALWGKVNVDEVGGEALGRLLVVYPWTQRFFESFGDLSTPDAVMGNPKVKAHGKKVLGAFSDGLAHLDNLKGTFATLSELHCDKLHVDPENFRLLGNVLVCVLAHHFGKEFTPPVQAAYQKVVAGVANALAHKYH*\n"
     ]
    }
   ],
   "source": [
    "from Bio.Seq import Seq\n",
    "from Bio.SeqRecord import SeqRecord\n",
    "from Bio import SeqIO\n",
    "\n",
    "# task 3.7\n",
    "records = SeqIO.parse('data/L26462_exon.fasta', \"fasta\")\n",
    "globin = next(records)\n",
    "\n",
    "rna = globin.seq.transcribe()\n",
    "print(rna)\n",
    "\n",
    "protein = rna.translate()\n",
    "print(protein)"
   ]
  },
  {
   "cell_type": "code",
   "execution_count": 103,
   "metadata": {},
   "outputs": [
    {
     "name": "stdout",
     "output_type": "stream",
     "text": [
      "MVHLTPEEKSAVTALWGKVNVDEVGGEALGRLLVVYPWTQRFFESFGDLSTPDAVMGNPKVKAHGKKVLGAFSDGLAHLDNLKGTFATLSELHCDKLHVDPENFRLLGNVLVCVLAHHFGKEFTPPVQAAYQKVVAGVANALAHKYH*\n"
     ]
    }
   ],
   "source": [
    "# Shorter:\n",
    "exons = SeqIO.read('data/L26462_exon.fasta', 'fasta')\n",
    "\n",
    "beta_glob_prot = exons.seq.transcribe().translate()\n",
    "print(beta_glob_prot)"
   ]
  },
  {
   "cell_type": "markdown",
   "metadata": {},
   "source": [
    "## 3.8 Results\n",
    "Print the sickle cell and healthy beta-globin sequence in subsequent lines or a text file. Also print the two corresponding protein sequences in subsequent lines. What differences do you see?"
   ]
  },
  {
   "cell_type": "code",
   "execution_count": 106,
   "metadata": {},
   "outputs": [
    {
     "name": "stdout",
     "output_type": "stream",
     "text": [
      "ATGGTGCATCTGACTCCTGAGGAGAAGTCTGCCGTTACTGCCCTGTGGGGCAAGGTGAACGTGGATGAAG\n",
      "ATGGTNCAYYTNACNCCNGTGGAGAAGTCYGCYGTNACNGCNCTNTGGGGYAAGGTNAAYGTGGATGAAG\n",
      "\n",
      "MVHLTPEEKSAVTALWGKVNVDEVGGEALGRLLVVYPWTQRFFESFGDLSTPDAVMGNPKVKAHGKKVLG\n",
      "MVHXTPVEKSAVTALWGKVNVDEXGGEALGXLLVVYPWTQRFXXSFGDLXTPXAVMGNPKVKAHGKKVLG\n"
     ]
    }
   ],
   "source": [
    "from Bio import SeqIO\n",
    "\n",
    "# task 3.9\n",
    "records = SeqIO.parse('data/L26462_exon.fasta', \"fasta\")\n",
    "globin = next(records)\n",
    "\n",
    "records = SeqIO.parse('data/sickle.gb', \"genbank\")\n",
    "sickle = next(records)\n",
    "\n",
    "print(globin.seq[:70])\n",
    "print(sickle.seq[:70])\n",
    "\n",
    "print()\n",
    "\n",
    "prot1 = globin.seq.transcribe().translate()\n",
    "prot2 = sickle.seq.transcribe().translate()\n",
    "\n",
    "print(prot1[:70])\n",
    "print(prot2[:70])\n"
   ]
  },
  {
   "cell_type": "markdown",
   "metadata": {},
   "source": [
    "## 3.9 Optional Exercises\n",
    "- What are the ‘N’ characters in the sickle cell globin cDNA? How did they affect the transcription/translation?\n",
    "- Check in the documentation how to read an alignment of multiple sequences using Biopython\n",
    "- Propose a PCR primer that specifically recognizes the sickle cell gene."
   ]
  },
  {
   "cell_type": "code",
   "execution_count": null,
   "metadata": {},
   "outputs": [],
   "source": []
  }
 ],
 "metadata": {
  "kernelspec": {
   "display_name": "Python 3",
   "language": "python",
   "name": "python3"
  },
  "language_info": {
   "codemirror_mode": {
    "name": "ipython",
    "version": 3
   },
   "file_extension": ".py",
   "mimetype": "text/x-python",
   "name": "python",
   "nbconvert_exporter": "python",
   "pygments_lexer": "ipython3",
   "version": "3.7.3"
  }
 },
 "nbformat": 4,
 "nbformat_minor": 4
}
