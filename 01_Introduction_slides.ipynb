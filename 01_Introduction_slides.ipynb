{
 "cells": [
  {
   "cell_type": "markdown",
   "metadata": {
    "slideshow": {
     "slide_type": "slide"
    }
   },
   "source": [
    "# Welcome !\n",
    "Welcome to our course *Python for downstream data analysis*. \n",
    "<center> <img src=\"img/python-logo.png\" width=40%> </center>"
   ]
  },
  {
   "cell_type": "markdown",
   "metadata": {
    "slideshow": {
     "slide_type": "slide"
    }
   },
   "source": [
    "\n",
    "## Objectives\n",
    "This course essentially is the follow-up course of our *Gentle hands-on introduction to Python programming* course and focuses on:\n",
    "- Advanced data manipulation and tidying using Pandas\n",
    "- Visualizations using Seaborn (customized with matplotlib)\n",
    "- Working with biological data in Biopython\n",
    "- Being able to write scripts and functions from scratch for specific biological or scientific problems\n",
    "\n",
    "Especially the latter will be the ultimate outcome for this course. Throughout this course we will challenge you to search for solutions yourself. "
   ]
  },
  {
   "cell_type": "markdown",
   "metadata": {
    "slideshow": {
     "slide_type": "slide"
    }
   },
   "source": [
    "## Target audience\n",
    "- Beginner or mid-level programmers \n",
    "- Learn-by-doing: solving interesting problems in biology/biotechnology.\n",
    "- Researchers with no computer science background, however with keen interest in discovering how to process (biological) data in Python"
   ]
  },
  {
   "cell_type": "markdown",
   "metadata": {
    "slideshow": {
     "slide_type": "slide"
    }
   },
   "source": [
    "## Platform\n",
    "We will use Jupyter Lab as it allow us to structure the information, exercises and solutions in a neatly manner making it the ideal platform for training purposes. It's one of the most popular environments for data science in Python."
   ]
  },
  {
   "cell_type": "markdown",
   "metadata": {
    "slideshow": {
     "slide_type": "slide"
    }
   },
   "source": [
    "## How to run *Python*?\n",
    "\n",
    "- Python is an *interpreted* language, this means that your computer does not run Python code natively, but instead we run our code using the Python interpreter\n",
    "- There are three ways in which you can run Python code:\n",
    "    - Directly typing **commands into the interpreter**: *Good for experimenting with the language, and for some interactive work*\n",
    "    - Using a **Jupyter notebook**: *Great for experimenting with the language, and for sharing and learning*\n",
    "    - Typing code **into a file** and then telling the interpreter to run the code from this file: *Good for larger programs, and when you want to run the same code repeatedly*"
   ]
  },
  {
   "cell_type": "markdown",
   "metadata": {
    "slideshow": {
     "slide_type": "slide"
    }
   },
   "source": [
    "## Course materials\n",
    "\n",
    "- The course materials is accessible on GitHub: https://github.com/vibbits/python-data-analysis\n",
    "- We’d like you to follow along with the example code as we go through the material, and attempt the exercises to practice what you’ve learned\n",
    "- If you have specific projects/problems that you think could be attempted using Python, we are happy to (try to) help during the exercises. Just let us know!"
   ]
  },
  {
   "cell_type": "markdown",
   "metadata": {
    "slideshow": {
     "slide_type": "slide"
    }
   },
   "source": [
    "## General remarks\n",
    "- Questions? Shoot! Or type in Discord chat.\n",
    "- Exercises: :thumbsup: or :thumbsdown:\n",
    "- Feedback at the end ([link](https://vib.formstack.com/forms/training_evaluation))"
   ]
  },
  {
   "cell_type": "markdown",
   "metadata": {
    "slideshow": {
     "slide_type": "slide"
    }
   },
   "source": [
    "## Questions?\n",
    "Do you have some additional questions afterwards? Don't hesitate to ask us:\n",
    "- Tuur Muyldermans: tuur.muyldermans@vib.be\n",
    "- James Collier: james.collier@vib.be"
   ]
  }
 ],
 "metadata": {
  "celltoolbar": "Slideshow",
  "kernelspec": {
   "display_name": "Python 3",
   "language": "python",
   "name": "python3"
  },
  "language_info": {
   "codemirror_mode": {
    "name": "ipython",
    "version": 3
   },
   "file_extension": ".py",
   "mimetype": "text/x-python",
   "name": "python",
   "nbconvert_exporter": "python",
   "pygments_lexer": "ipython3",
   "version": "3.7.5"
  }
 },
 "nbformat": 4,
 "nbformat_minor": 2
}
