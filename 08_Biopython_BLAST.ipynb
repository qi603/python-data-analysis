{
 "cells": [
  {
   "cell_type": "markdown",
   "metadata": {},
   "source": [
    "# 8. BLAST"
   ]
  },
  {
   "cell_type": "markdown",
   "metadata": {},
   "source": [
    "Dealing with BLAST can be split up into two steps, both of which can be done from within Biopython.\n",
    "Firstly, running BLAST for your query sequence(s), and getting some output. Secondly, parsing the BLAST\n",
    "output in Python for further analysis.\n",
    "\n",
    "Your first introduction to running BLAST was probably via the NCBI web-service. In fact, there are\n",
    "lots of ways you can run BLAST, which can be categorised in several ways. The most important distinction\n",
    "is running BLAST locally (on your own machine), and running BLAST remotely (on another machine,\n",
    "typically the NCBI servers). The former will not be part of this Python course, however we will run BLAST from within a Python script in this chapter. "
   ]
  },
  {
   "cell_type": "markdown",
   "metadata": {},
   "source": [
    "## 8.1 Running BLAST over the internet\n",
    "\n",
    "We use the function `qblast()` in the `Bio.Blast.NCBIWWW` module to call the online version of BLAST. This\n",
    "has three non-optional arguments:\n",
    "- The first argument is the blast program to use for the search, as a lower case string. The options and descriptions of the programs are available at https://blast.ncbi.nlm.nih.gov/Blast.cgi. Currently qblast only works with blastn, blastp, blastx, tblast and tblastx.\n",
    "- The second argument specifies the databases to search against. Again, the options for this are available on the NCBI Guide to BLAST ftp://ftp.ncbi.nlm.nih.gov/pub/factsheets/HowTo_BLASTGuide.pdf.\n",
    "- The third argument is a string containing your query sequence. This can either be the **sequence** itself, the **sequence in fasta** format, or an **identifier like a GI number**.\n",
    "\n",
    "The `qblast` function also takes a number of other option arguments which are basically analogous to the\n",
    "different parameters you can set on the BLAST web page. We'll just highlight a few of them here:\n",
    "\n",
    "- The argument `url_base` sets the base URL for running BLAST over the internet. By default it connects to the NCBI, but one can use this to connect to an instance of NCBI BLAST running in the cloud. \n",
    "- The `qblast` function can return the BLAST results in various formats, which you can choose with the optional format_type keyword: \"HTML\", \"Text\", \"ASN.1\", or \"XML\". The default is \"XML\", as that is the format expected by the parser, described in section 7.3 below.\n",
    "- The argument `expect` sets the expectation or *e-value* threshold."
   ]
  },
  {
   "cell_type": "code",
   "execution_count": null,
   "metadata": {},
   "outputs": [],
   "source": [
    "# Imports\n",
    "from Bio.Blast import NCBIWWW\n",
    "help(NCBIWWW.qblast)"
   ]
  },
  {
   "cell_type": "markdown",
   "metadata": {},
   "source": [
    "Note that the default settings on the NCBI BLAST website are not quite the same as the defaults\n",
    "on QBLAST. If you get different results, you'll need to check the parameters (e.g., the expectation value\n",
    "threshold and the gap values).\n",
    "\n",
    "For example, if you have a nucleotide sequence you want to search against the nucleotide database (nt)\n",
    "using BLASTN, and you know the GI number of your query sequence, you can use:"
   ]
  },
  {
   "cell_type": "code",
   "execution_count": null,
   "metadata": {},
   "outputs": [],
   "source": [
    "# Takes a long time to run\n",
    "result_handle = NCBIWWW.qblast(\"blastn\", \"nt\", \"8332116\")\n",
    "result_handle"
   ]
  },
  {
   "cell_type": "markdown",
   "metadata": {},
   "source": [
    "Alternatively, if we have our query sequence already in a FASTA formatted file, we just need to open the\n",
    "file and read in this record as a string, and use that as the query argument:"
   ]
  },
  {
   "cell_type": "code",
   "execution_count": null,
   "metadata": {},
   "outputs": [],
   "source": [
    "with open(\"data/NC_005816.fna\") as fh:\n",
    "    fasta_string = fh.read()\n",
    "    result_handle = NCBIWWW.qblast(\"blastn\", \"nt\", fasta_string)\n",
    "result_handle"
   ]
  },
  {
   "cell_type": "markdown",
   "metadata": {},
   "source": [
    "We could also have read in the FASTA file as a SeqRecord and then supplied just the sequence itself:"
   ]
  },
  {
   "cell_type": "code",
   "execution_count": null,
   "metadata": {},
   "outputs": [],
   "source": [
    "from Bio import SeqIO\n",
    "record = SeqIO.read(\"data/NC_005816.fna\", format=\"fasta\")\n",
    "result_handle = NCBIWWW.qblast(\"blastn\", \"nt\", record.seq)\n",
    "result_handle"
   ]
  },
  {
   "cell_type": "markdown",
   "metadata": {},
   "source": [
    "Supplying just the sequence means that BLAST will assign an identifier for your sequence automatically.\n",
    "You might prefer to use the `SeqRecord object`'s *format method* to make a FASTA string (which will include\n",
    "the existing identifier):"
   ]
  },
  {
   "cell_type": "code",
   "execution_count": null,
   "metadata": {},
   "outputs": [],
   "source": [
    "record = SeqIO.read(\"data/NC_005816.fna\", format=\"fasta\")\n",
    "result_handle = NCBIWWW.qblast(\"blastn\", \"nt\", record.format(\"fasta\"))\n",
    "result_handle"
   ]
  },
  {
   "cell_type": "markdown",
   "metadata": {},
   "source": [
    "This approach makes more sense if you have your sequence(s) in a non-FASTA file format which you can\n",
    "extract using `Bio.SeqIO`.\n",
    "Whatever arguments you give the `qblast()` function, you should get back your results in a handle\n",
    "object (by default in XML format). The next step would be to parse the XML output into Python objects\n",
    "representing the search results (Section 7.3), but you might want to save a local copy of the output file first.\n",
    "\n",
    "This is especially useful when debugging code that extracts info from the BLAST results (because\n",
    "re-running the online search is slow and wastes the NCBI computer time).\n",
    "\n",
    "**You can use `result_handle.read()` to read the BLAST output only\n",
    "once - calling `result_handle.read()` again returns an empty string.**"
   ]
  },
  {
   "cell_type": "code",
   "execution_count": null,
   "metadata": {},
   "outputs": [],
   "source": [
    "with open(\"data/my_blast.xml\", \"w\") as out_handle:\n",
    "    out_handle.write(result_handle.read())"
   ]
  },
  {
   "cell_type": "markdown",
   "metadata": {},
   "source": [
    "After doing this, the results are in the file `my_blast.xml` and the original handle has had all its data\n",
    "extracted (so we closed it). However, the parse function of the BLAST parser (described in 7.3) takes a\n",
    "file-handle-like object, so we can just open the saved file for input:"
   ]
  },
  {
   "cell_type": "code",
   "execution_count": null,
   "metadata": {},
   "outputs": [],
   "source": [
    "with open(\"data/my_blast.xml\", 'r') as fh:\n",
    "    my_blast = fh.read()\n",
    "    \n",
    "#print(my_blast)"
   ]
  },
  {
   "cell_type": "markdown",
   "metadata": {},
   "source": [
    "Now that we've got the BLAST results back into a handle again, we are ready to do something with\n",
    "them, so this leads us right into the parsing section."
   ]
  },
  {
   "cell_type": "markdown",
   "metadata": {},
   "source": [
    "## 8.2 Parsing BLAST output\n",
    "BLAST can generate output in various formats, such as XML, HTML and plain text. It is however highly recommended to work with the XML format. Not only is the XML output more stable than the plain text and HTML output, it is also much easier to parse automatically, making Biopython a whole lot more stable.\n",
    "\n",
    "You can get BLAST output in XML format in various ways. For the parser, it doesn't matter how the output was generated, as long as it is in the XML format. You then need to get a handle to the results. "
   ]
  },
  {
   "cell_type": "markdown",
   "metadata": {},
   "source": [
    "Let's fetch some data"
   ]
  },
  {
   "cell_type": "code",
   "execution_count": null,
   "metadata": {},
   "outputs": [],
   "source": [
    "# Uncomment following lines if you haven't run them above\n",
    "#from Bio.Blast import NCBIWWW\n",
    "result_handle = NCBIWWW.qblast(\"blastn\", \"nt\", \"8332116\")"
   ]
  },
  {
   "cell_type": "code",
   "execution_count": null,
   "metadata": {},
   "outputs": [],
   "source": [
    "result_handle"
   ]
  },
  {
   "cell_type": "markdown",
   "metadata": {},
   "source": [
    "Once we have a handle to the BLAST output (in XML format), we can either parse a single result or multiple results. \n",
    "\n",
    "Just like `Bio.SeqIO` and `Bio.AlignIO`, we have a pair of input functions, read\n",
    "and parse, where read is for when you have exactly one object, and parse is an iterator for when you can\n",
    "have lots of objects. The result of this reading/parsing process is/are a BLAST\n",
    "record objects."
   ]
  },
  {
   "cell_type": "code",
   "execution_count": null,
   "metadata": {},
   "outputs": [],
   "source": [
    "from Bio.Blast import NCBIXML"
   ]
  },
  {
   "cell_type": "code",
   "execution_count": null,
   "metadata": {},
   "outputs": [],
   "source": [
    "# For a single BLAST result\n",
    "#blast_record = NCBIXML.read(result_handle)"
   ]
  },
  {
   "cell_type": "code",
   "execution_count": null,
   "metadata": {},
   "outputs": [],
   "source": [
    "# For multiple BLAST results in one XML file\n",
    "blast_records = NCBIXML.parse(result_handle)\n",
    "blast_records"
   ]
  },
  {
   "cell_type": "markdown",
   "metadata": {},
   "source": [
    "In order to iterate over the objects that are part of the `blast_records`, we can use the following:"
   ]
  },
  {
   "cell_type": "markdown",
   "metadata": {},
   "source": [
    "## 8.3 Exercise\n",
    "Write a script that blasts the top 5 overrepresented sequences in a fastq-file. Save the following information in a pandas dataframe: title, e-value and score. \n",
    "\n",
    "\n",
    "Here is a table that is part of the output of a FastQC process. The raw data can be obtained from the zipped folder that is always created as part of the process. This part represents the overrepresented sequences in a fastq file. The file that contains the data is stored under `data/overrepresented_sequences.txt`. \n",
    "\n",
    "\n",
    "```\n",
    "#Sequence\tCount\tPercentage\tPossible Source\n",
    "GCGCCAGGTTCCACACGAACGTGCGTTCAACGTGACGGGCGAGAGGGCGG\t634749\t0.9399698125201895\tNo Hit\n",
    "GCCAGGTTCCACACGAACGTGCGTTCAACGTGACGGGCGAGAGGGCGGCC\t437871\t0.6484224816077345\tNo Hit\n",
    "GGGGACAGTCCGCCCCGCCCCCCACCGGGCCCCGAGAGAGGCGACGGAGG\t319343\t0.47289996493044484\tNo Hit\n",
    "GGCTTCCTCGGCCCCGGGATTCGGCGAAAGCTGCGGCCGGAGGGCTGTAA\t310651\t0.4600283926862577\tNo Hit\n",
    "GGGCCTTCCCGGCCGTCCCGGAGCCGGTCGCGGCGCACCGCCACGGTGGA\t260086\t0.3851490725611636\tNo Hit\n",
    "ACGAATGGTTTAGCGCCAGGTTCCACACGAACGTGCGTTCAACGTGACGG\t247602\t0.3666621066273818\tNo Hit\n",
    "CGGCTTCGTCGGGAGACGCGTGACCGACGGTCCCCCCGGGACCCGACGGC\t170383\t0.25231213687083787   No Hit\n",
    "...\n",
    "```"
   ]
  },
  {
   "cell_type": "code",
   "execution_count": null,
   "metadata": {},
   "outputs": [],
   "source": [
    "# Imports\n",
    "import pandas as pd\n",
    "from Bio.Seq import Seq\n",
    "from Bio.Blast import NCBIWWW\n",
    "from Bio.Blast import NCBIXML\n",
    "from Bio.Alphabet import IUPAC"
   ]
  },
  {
   "cell_type": "markdown",
   "metadata": {},
   "source": [
    "Here is an example output: \n",
    "\n",
    "| Title |                                             Score | E-value |              |  \n",
    "|------:|--------------------------------------------------:|--------:|-------------:|\n",
    "|     0 | PREDICTED: Arvicanthis niloticus 28S ribosomal... |    90.0 | 7.825980e-13 |  \n",
    "|     1 | PREDICTED: Arvicanthis niloticus 28S ribosomal... |    90.0 | 7.825980e-13 |   \n",
    "|     2 | Streptomyces sp. RPA4-2 chromosome, complete g... |    47.0 | 6.864950e-01 |  \n",
    "|     3 | PREDICTED: Canis lupus dingo 28S ribosomal RNA... |    73.0 | 6.016610e-08 | \n",
    "| 4     | Chain 2, 28S rRNA                                 | 86.0    | 9.534000e-12 | "
   ]
  },
  {
   "cell_type": "markdown",
   "metadata": {},
   "source": [
    "## Next session\n",
    "Next session contains all the exercises. Practice makes perfect! Go to the exercises [here](09_Exercises_Day2.ipynb)"
   ]
  }
 ],
 "metadata": {
  "kernelspec": {
   "display_name": "Python 3",
   "language": "python",
   "name": "python3"
  },
  "language_info": {
   "codemirror_mode": {
    "name": "ipython",
    "version": 3
   },
   "file_extension": ".py",
   "mimetype": "text/x-python",
   "name": "python",
   "nbconvert_exporter": "python",
   "pygments_lexer": "ipython3",
   "version": "3.7.3"
  }
 },
 "nbformat": 4,
 "nbformat_minor": 4
}
