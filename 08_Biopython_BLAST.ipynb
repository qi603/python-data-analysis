{
 "cells": [
  {
   "cell_type": "markdown",
   "metadata": {},
   "source": [
    "# BLAST\n",
    "\n"
   ]
  },
  {
   "cell_type": "markdown",
   "metadata": {},
   "source": [
    "Dealing with BLAST can be split up into two steps, both of which can be done from within Biopython.\n",
    "Firstly, running BLAST for your query sequence(s), and getting some output. Secondly, parsing the BLAST\n",
    "output in Python for further analysis.\n",
    "\n",
    "Your first introduction to running BLAST was probably via the NCBI web-service. In fact, there are\n",
    "lots of ways you can run BLAST, which can be categorised in several ways. The most important distinction\n",
    "is running BLAST locally (on your own machine), and running BLAST remotely (on another machine,\n",
    "typically the NCBI servers). The former will not be part of this Python course, however we will run BLAST from within a Python script in this chapter. "
   ]
  },
  {
   "cell_type": "markdown",
   "metadata": {},
   "source": [
    "## 7.1 Running BLAST over the internet\n",
    "\n",
    "We use the function `qblast()` in the `Bio.Blast.NCBIWWW` module to call the online version of BLAST. This\n",
    "has three non-optional arguments:\n",
    "- The first argument is the blast program to use for the search, as a lower case string. The options and descriptions of the programs are available at https://blast.ncbi.nlm.nih.gov/Blast.cgi. Currently qblast only works with blastn, blastp, blastx, tblast and tblastx.\n",
    "- The second argument specifies the databases to search against. Again, the options for this are available on the NCBI Guide to BLAST ftp://ftp.ncbi.nlm.nih.gov/pub/factsheets/HowTo_BLASTGuide.pdf.\n",
    "- The third argument is a string containing your query sequence. This can either be the **sequence** itself, the **sequence in fasta** format, or an **identifier like a GI number**.\n",
    "\n",
    "The `qblast` function also takes a number of other option arguments which are basically analogous to the\n",
    "different parameters you can set on the BLAST web page. We'll just highlight a few of them here:\n",
    "\n",
    "- The argument `url_base` sets the base URL for running BLAST over the internet. By default it connects to the NCBI, but one can use this to connect to an instance of NCBI BLAST running in the cloud. \n",
    "- The `qblast` function can return the BLAST results in various formats, which you can choose with the optional format_type keyword: \"HTML\", \"Text\", \"ASN.1\", or \"XML\". The default is \"XML\", as that is the format expected by the parser, described in section 7.3 below.\n",
    "- The argument `expect` sets the expectation or *e-value* threshold."
   ]
  },
  {
   "cell_type": "code",
   "execution_count": 1,
   "metadata": {
    "collapsed": true
   },
   "outputs": [
    {
     "name": "stdout",
     "output_type": "stream",
     "text": [
      "Help on function qblast in module Bio.Blast.NCBIWWW:\n",
      "\n",
      "qblast(program, database, sequence, url_base='https://blast.ncbi.nlm.nih.gov/Blast.cgi', auto_format=None, composition_based_statistics=None, db_genetic_code=None, endpoints=None, entrez_query='(none)', expect=10.0, filter=None, gapcosts=None, genetic_code=None, hitlist_size=50, i_thresh=None, layout=None, lcase_mask=None, matrix_name=None, nucl_penalty=None, nucl_reward=None, other_advanced=None, perc_ident=None, phi_pattern=None, query_file=None, query_believe_defline=None, query_from=None, query_to=None, searchsp_eff=None, service=None, threshold=None, ungapped_alignment=None, word_size=None, short_query=None, alignments=500, alignment_view=None, descriptions=500, entrez_links_new_window=None, expect_low=None, expect_high=None, format_entrez_query=None, format_object=None, format_type='XML', ncbi_gi=None, results_file=None, show_overview=None, megablast=None, template_type=None, template_length=None)\n",
      "    BLAST search using NCBI's QBLAST server or a cloud service provider.\n",
      "    \n",
      "    Supports all parameters of the old qblast API for Put and Get.\n",
      "    \n",
      "    Please note that NCBI uses the new Common URL API for BLAST searches\n",
      "    on the internet (http://ncbi.github.io/blast-cloud/dev/api.html). Thus,\n",
      "    some of the parameters used by this function are not (or are no longer)\n",
      "    officially supported by NCBI. Although they are still functioning, this\n",
      "    may change in the future.\n",
      "    \n",
      "    The Common URL API (http://ncbi.github.io/blast-cloud/dev/api.html) allows\n",
      "    doing BLAST searches on cloud servers. To use this feature, please set\n",
      "    ``url_base='http://host.my.cloud.service.provider.com/cgi-bin/blast.cgi'``\n",
      "    and ``format_object='Alignment'``. For more details, please see\n",
      "    https://blast.ncbi.nlm.nih.gov/Blast.cgi?PAGE_TYPE=BlastDocs&DOC_TYPE=CloudBlast\n",
      "    \n",
      "    Some useful parameters:\n",
      "    \n",
      "     - program        blastn, blastp, blastx, tblastn, or tblastx (lower case)\n",
      "     - database       Which database to search against (e.g. \"nr\").\n",
      "     - sequence       The sequence to search.\n",
      "     - ncbi_gi        TRUE/FALSE whether to give 'gi' identifier.\n",
      "     - descriptions   Number of descriptions to show.  Def 500.\n",
      "     - alignments     Number of alignments to show.  Def 500.\n",
      "     - expect         An expect value cutoff.  Def 10.0.\n",
      "     - matrix_name    Specify an alt. matrix (PAM30, PAM70, BLOSUM80, BLOSUM45).\n",
      "     - filter         \"none\" turns off filtering.  Default no filtering\n",
      "     - format_type    \"HTML\", \"Text\", \"ASN.1\", or \"XML\".  Def. \"XML\".\n",
      "     - entrez_query   Entrez query to limit Blast search\n",
      "     - hitlist_size   Number of hits to return. Default 50\n",
      "     - megablast      TRUE/FALSE whether to use MEga BLAST algorithm (blastn only)\n",
      "     - short_query    TRUE/FALSE whether to adjust the search parameters for a\n",
      "                      short query sequence. Note that this will override\n",
      "                      manually set parameters like word size and e value. Turns\n",
      "                      off when sequence length is > 30 residues. Default: None.\n",
      "     - service        plain, psi, phi, rpsblast, megablast (lower case)\n",
      "    \n",
      "    This function does no checking of the validity of the parameters\n",
      "    and passes the values to the server as is.  More help is available at:\n",
      "    https://ncbi.github.io/blast-cloud/dev/api.html\n",
      "\n"
     ]
    }
   ],
   "source": [
    "from Bio.Blast import NCBIWWW\n",
    "help(NCBIWWW.qblast)"
   ]
  },
  {
   "cell_type": "markdown",
   "metadata": {},
   "source": [
    "Note that the default settings on the NCBI BLAST website are not quite the same as the defaults\n",
    "on QBLAST. If you get different results, you'll need to check the parameters (e.g., the expectation value\n",
    "threshold and the gap values).\n",
    "\n",
    "For example, if you have a nucleotide sequence you want to search against the nucleotide database (nt)\n",
    "using BLASTN, and you know the GI number of your query sequence, you can use:"
   ]
  },
  {
   "cell_type": "code",
   "execution_count": 2,
   "metadata": {},
   "outputs": [
    {
     "data": {
      "text/plain": [
       "<_io.StringIO at 0x21049e25f78>"
      ]
     },
     "execution_count": 2,
     "metadata": {},
     "output_type": "execute_result"
    }
   ],
   "source": [
    "# Takes a long time to run\n",
    "result_handle = NCBIWWW.qblast(\"blastn\", \"nt\", \"8332116\")\n",
    "result_handle"
   ]
  },
  {
   "cell_type": "markdown",
   "metadata": {},
   "source": [
    "Alternatively, if we have our query sequence already in a FASTA formatted file, we just need to open the\n",
    "file and read in this record as a string, and use that as the query argument:"
   ]
  },
  {
   "cell_type": "code",
   "execution_count": 4,
   "metadata": {},
   "outputs": [
    {
     "data": {
      "text/plain": [
       "<_io.StringIO at 0x21049f8be58>"
      ]
     },
     "execution_count": 4,
     "metadata": {},
     "output_type": "execute_result"
    }
   ],
   "source": [
    "with open(\"data/NC_005816.fna\") as fh:\n",
    "    fasta_string = fh.read()\n",
    "    result_handle = NCBIWWW.qblast(\"blastn\", \"nt\", fasta_string)\n",
    "result_handle"
   ]
  },
  {
   "cell_type": "markdown",
   "metadata": {},
   "source": [
    "We could also have read in the FASTA file as a SeqRecord and then supplied just the sequence itself:"
   ]
  },
  {
   "cell_type": "code",
   "execution_count": 5,
   "metadata": {},
   "outputs": [
    {
     "data": {
      "text/plain": [
       "<_io.StringIO at 0x2104a116af8>"
      ]
     },
     "execution_count": 5,
     "metadata": {},
     "output_type": "execute_result"
    }
   ],
   "source": [
    "from Bio import SeqIO\n",
    "record = SeqIO.read(\"data/NC_005816.fna\", format=\"fasta\")\n",
    "result_handle = NCBIWWW.qblast(\"blastn\", \"nt\", record.seq)\n",
    "result_handle"
   ]
  },
  {
   "cell_type": "markdown",
   "metadata": {},
   "source": [
    "Supplying just the sequence means that BLAST will assign an identifier for your sequence automatically.\n",
    "You might prefer to use the `SeqRecord object`'s *format method* to make a FASTA string (which will include\n",
    "the existing identifier):"
   ]
  },
  {
   "cell_type": "code",
   "execution_count": null,
   "metadata": {},
   "outputs": [],
   "source": [
    "record = SeqIO.read(\"data/NC_005816.fna\", format=\"fasta\")\n",
    "result_handle = NCBIWWW.qblast(\"blastn\", \"nt\", record.format(\"fasta\"))\n",
    "result_handle"
   ]
  },
  {
   "cell_type": "markdown",
   "metadata": {},
   "source": [
    "This approach makes more sense if you have your sequence(s) in a non-FASTA file format which you can\n",
    "extract using `Bio.SeqIO`.\n",
    "Whatever arguments you give the `qblast()` function, you should get back your results in a handle\n",
    "object (by default in XML format). The next step would be to parse the XML output into Python objects\n",
    "representing the search results (Section 7.3), but you might want to save a local copy of the output file first.\n",
    "\n",
    "This is especially useful when debugging code that extracts info from the BLAST results (because\n",
    "re-running the online search is slow and wastes the NCBI computer time).\n",
    "\n",
    "**We need to be a bit careful since we can use `result_handle.read()` to read the BLAST output only\n",
    "once - calling `result_handle.read()` again returns an empty string.**"
   ]
  },
  {
   "cell_type": "code",
   "execution_count": 6,
   "metadata": {},
   "outputs": [],
   "source": [
    "with open(\"data/my_blast.xml\", \"w\") as out_handle:\n",
    "    out_handle.write(result_handle.read())"
   ]
  },
  {
   "cell_type": "markdown",
   "metadata": {},
   "source": [
    "After doing this, the results are in the file `my_blast.xml` and the original handle has had all its data\n",
    "extracted (so we closed it). However, the parse function of the BLAST parser (described in 7.3) takes a\n",
    "file-handle-like object, so we can just open the saved file for input:"
   ]
  },
  {
   "cell_type": "code",
   "execution_count": null,
   "metadata": {},
   "outputs": [],
   "source": [
    "with open(\"data/my_blast.xml\", 'r') as fh:\n",
    "    my_blast = fh.read()\n",
    "    \n",
    "#print(my_blast)"
   ]
  },
  {
   "cell_type": "markdown",
   "metadata": {},
   "source": [
    "Now that we've got the BLAST results back into a handle again, we are ready to do something with\n",
    "them, so this leads us right into the parsing section."
   ]
  },
  {
   "cell_type": "markdown",
   "metadata": {},
   "source": [
    "## 7.3 Parsing BLAST output\n",
    "BLAST can generate output in various formats, such as XML, HTML and plain text. It is however highly recommended to work with the XML format. Not only is the XML output more stable than the plain text and HTML output, it is also much easier to parse automatically, making Biopython a whole lot more stable.\n",
    "\n",
    "You can get BLAST output in XML format in various ways. For the parser, it doesn't matter how the output was generated, as long as it is in the XML format. You then need to get a handle to the results. "
   ]
  },
  {
   "cell_type": "markdown",
   "metadata": {},
   "source": [
    "Let's fetch some data"
   ]
  },
  {
   "cell_type": "code",
   "execution_count": 15,
   "metadata": {},
   "outputs": [],
   "source": [
    "# Uncomment following lines if you haven't run them above\n",
    "#from Bio.Blast import NCBIWWW\n",
    "result_handle = NCBIWWW.qblast(\"blastn\", \"nt\", \"8332116\")"
   ]
  },
  {
   "cell_type": "code",
   "execution_count": 7,
   "metadata": {},
   "outputs": [
    {
     "data": {
      "text/plain": [
       "<_io.StringIO at 0x2104a116af8>"
      ]
     },
     "execution_count": 7,
     "metadata": {},
     "output_type": "execute_result"
    }
   ],
   "source": [
    "result_handle"
   ]
  },
  {
   "cell_type": "markdown",
   "metadata": {},
   "source": [
    "Once we have a handle to the BLAST output (in XML format), we can either parse a single result or multiple results. \n",
    "\n",
    "Just like `Bio.SeqIO` and `Bio.AlignIO`, we have a pair of input functions, read\n",
    "and parse, where read is for when you have exactly one object, and parse is an iterator for when you can\n",
    "have lots of objects. The result of this reading/parsing process is/are a BLAST\n",
    "record objects."
   ]
  },
  {
   "cell_type": "code",
   "execution_count": 8,
   "metadata": {},
   "outputs": [],
   "source": [
    "from Bio.Blast import NCBIXML"
   ]
  },
  {
   "cell_type": "code",
   "execution_count": null,
   "metadata": {},
   "outputs": [],
   "source": [
    "# For a single BLAST result\n",
    "#blast_record = NCBIXML.read(result_handle)"
   ]
  },
  {
   "cell_type": "code",
   "execution_count": 16,
   "metadata": {},
   "outputs": [
    {
     "data": {
      "text/plain": [
       "<generator object parse at 0x0000021049DE6750>"
      ]
     },
     "execution_count": 16,
     "metadata": {},
     "output_type": "execute_result"
    }
   ],
   "source": [
    "# For multiple BLAST results in one XML file\n",
    "blast_records = NCBIXML.parse(result_handle)\n",
    "blast_records"
   ]
  },
  {
   "cell_type": "markdown",
   "metadata": {},
   "source": [
    "In order to iterate over the objects that are part of the `blast_records`, we can use the following:"
   ]
  },
  {
   "cell_type": "markdown",
   "metadata": {},
   "source": [
    "# This i did myself"
   ]
  },
  {
   "cell_type": "code",
   "execution_count": 23,
   "metadata": {},
   "outputs": [
    {
     "name": "stdout",
     "output_type": "stream",
     "text": [
      "gi|45357364|gb|AE017046.1| Yersinia pestis biovar Microtus str. 91001 plasmid pPCP1, complete sequence\n",
      "gi|311902116|gb|HM807366.1| Yersinia pestis strain C790 plasmid pPCP1, complete sequence\n",
      "gi|262363963|gb|CP001588.1| Yersinia pestis D106004 plasmid pPCY1, complete sequence\n",
      "gi|1518099693|gb|CP033698.1| Yersinia pestis strain FDAARGOS_601 plasmid unnamed2, complete sequence\n",
      "gi|1046916732|gb|CP016276.1| Yersinia pestis strain Cadman plasmid pPCP1, complete sequence\n",
      "gi|294352540|gb|CP001596.1| Yersinia pestis Z176003 plasmid pPCP1, complete sequence\n",
      "gi|5763810|emb|AL109969.1| Yersinia pestis CO92 plasmid pPCP1\n",
      "gi|2996216|gb|AF053945.1| Yersinia pestis strain KIM5 plasmid pPCP1, complete sequence >gi|311902126|gb|HM807367.1| Yersinia pestis strain C2614 plasmid pPCP1, complete sequence >gi|311902136|gb|HM807368.1| Yersinia pestis strain C2944 plasmid pPCP1, complete sequence\n",
      "gi|162350793|gb|CP000900.1| Yersinia pestis Angola plasmid pMT-pPCP, complete sequence\n",
      "gi|262364123|gb|CP001592.1| Yersinia pestis D182038 plasmid pPCP1, complete sequence\n",
      "gi|320017637|gb|CP001611.1| Yersinia pestis biovar Medievalis str. Harbin 35 plasmid pPCP, complete sequence\n",
      "gi|1769106759|gb|CP045165.1| Yersinia pestis strain SCPM-O-B-6291 (C-25) plasmid pPCP, complete sequence\n",
      "gi|1148994970|gb|CP019711.1| Yersinia pestis strain 195/P plasmid pPCP1, complete sequence\n",
      "gi|321161190|gb|CP002180.1| Yersinia pestis Java 9 plasmid pPCP, complete sequence\n",
      "gi|755404253|gb|CP009839.1| Yersinia pestis A1122 plasmid pPCP, complete sequence\n",
      "gi|805410893|gb|CP009833.1| Yersinia pestis strain KIM5 plasmid pPCP sequence\n",
      "gi|755437805|gb|CP009992.1| Yersinia pestis strain Java9 plasmid p4\n",
      "gi|755395584|gb|CP009782.1| Yersinia pestis strain El Dorado plasmid pPCP sequence\n",
      "gi|755446264|gb|CP010020.1| Yersinia pestis str. Pestoides B plasmid pPCP, complete sequence\n",
      "gi|108777901|gb|CP000307.1| Yersinia pestis Nepal516 plasmid pPCP, complete sequence\n",
      "gi|908266269|gb|CP006797.1| Yersinia pestis 1045 plasmid pPCP, complete sequence\n",
      "gi|108782179|gb|CP000310.1| Yersinia pestis Antiqua plasmid pPCP, complete sequence\n",
      "gi|755420934|gb|CP009903.1| Yersinia pestis Antiqua plasmid pPCP, complete sequence\n",
      "gi|1769098320|gb|CP045157.1| Yersinia pestis strain SCPM-O-B-5935 (I-1996) plasmid pPCP, complete sequence\n",
      "gi|755442098|gb|CP009988.1| Yersinia pestis strain Nicholisk 41 plasmid 3, complete genome\n",
      "gi|908249451|gb|CP006808.1| Yersinia pestis 790 plasmid pPCP, complete sequence\n",
      "gi|755466532|gb|CP010294.1| Yersinia pestis strain Nairobi plasmid pPCP, complete sequence\n",
      "gi|755291801|gb|CP009489.1| Yersinia pestis strain PBM19 plasmid pPCP1, complete sequence\n",
      "gi|1769926293|gb|CP045262.1| Yersinia pestis strain SCPM-O-B-5942 (I-2638) plasmid pPCP, complete sequence\n",
      "gi|1769094081|gb|CP045153.1| Yersinia pestis strain SCPM-O-DNA-18 (I-3113) plasmid pPCP, complete sequence\n",
      "gi|1769102649|gb|CP045161.1| Yersinia pestis subsp. pestis bv. Medievalis strain SCPM-O-B-6530 plasmid pPCP, complete sequence\n",
      "gi|908225876|gb|CP006793.1| Yersinia pestis 2944 plasmid pPCP, complete sequence\n",
      "gi|755359163|gb|CP009724.1| Yersinia pestis strain Shasta plasmid pPCP, complete sequence\n",
      "gi|1518099396|gb|CP033691.1| Yersinia pestis strain FDAARGOS_603 plasmid unnamed2, complete sequence\n",
      "gi|755312027|gb|CP009701.1| Yersinia pestis strain Harbin35 plasmid unnamed3, complete sequence\n",
      "gi|342856375|gb|CP002958.1| Yersinia pestis A1122 plasmid, complete sequence\n",
      "gi|1769089825|gb|CP045148.1| Yersinia pestis strain SCPM-O-B-6899 (231) plasmid pPCP, complete sequence\n",
      "gi|345499151|emb|HE576987.1| Yersinia pestis plasmid pPCP1 partial sequence, isolated from ancient DNA\n",
      "gi|755429516|gb|CP009936.1| Yersinia pestis Angola plasmid pPCP, complete sequence\n",
      "gi|1200165|emb|Z54145.1| Y.pestis plasmid pYP358 pst and pim genes\n",
      "gi|675819280|emb|LM995843.1| Escherichia coli genome assembly FHI29, scaffold scaffold-5_contig-17.0_1_6815_[organism:Escherichia\n",
      "gi|1488653|emb|X92856.1| Y.pestis pst and pim genes\n",
      "gi|1769926051|gb|CP045259.1| Yersinia pestis strain SCPM-O-B-5942 (I-2638) plasmid pMT, complete sequence\n",
      "gi|1769106643|gb|CP045164.1| Yersinia pestis strain SCPM-O-B-6291 (C-25) plasmid pMT, complete sequence\n",
      "gi|1769098130|gb|CP045155.1| Yersinia pestis strain SCPM-O-B-5935 (I-1996) plasmid pMT, complete sequence\n",
      "gi|1769093841|gb|CP045150.1| Yersinia pestis strain SCPM-O-DNA-18 (I-3113) plasmid pMT, complete sequence\n",
      "gi|1769089629|gb|CP045146.1| Yersinia pestis strain SCPM-O-B-6899 (231) plasmid pMT, complete sequence\n",
      "gi|1518103899|gb|CP033700.1| Yersinia pestis strain FDAARGOS_601 plasmid unnamed3\n",
      "gi|1518099508|gb|CP033693.1| Yersinia pestis strain FDAARGOS_603 plasmid unnamed4\n",
      "gi|1046916624|gb|CP016275.1| Yersinia pestis strain Cadman plasmid pMT1, complete sequence\n"
     ]
    }
   ],
   "source": [
    "with open(\"data/my_blast.xml\") as result_handle:\n",
    "    blast_records = NCBIXML.parse(result_handle)\n",
    "    for record in blast_records:\n",
    "        # Each record has \n",
    "        for descr in record.descriptions:\n",
    "            print(descr.title)\n",
    "            print(descr.e)\n",
    "            print(descr.score)"
   ]
  },
  {
   "cell_type": "code",
   "execution_count": null,
   "metadata": {},
   "outputs": [],
   "source": []
  }
 ],
 "metadata": {
  "kernelspec": {
   "display_name": "Python 3",
   "language": "python",
   "name": "python3"
  },
  "language_info": {
   "codemirror_mode": {
    "name": "ipython",
    "version": 3
   },
   "file_extension": ".py",
   "mimetype": "text/x-python",
   "name": "python",
   "nbconvert_exporter": "python",
   "pygments_lexer": "ipython3",
   "version": "3.7.3"
  }
 },
 "nbformat": 4,
 "nbformat_minor": 4
}
