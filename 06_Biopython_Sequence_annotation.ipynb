{
 "cells": [
  {
   "cell_type": "markdown",
   "metadata": {},
   "source": [
    "# 6. Sequence Record objects\n",
    "Uptil now, we've been using sequence (Seq) objects that stored a sequence and the file format (i.e. fasta, genbank, etc.). \n",
    "Biopython allows us to annotate these Seq objects with additional information like an identifier, a name of the sequence, a description, features and ultimately a bunch of annotations. All of this information is stored in the so-called SeqRecord object which is the follow-up of the Seq object. "
   ]
  },
  {
   "cell_type": "code",
   "execution_count": 1,
   "metadata": {},
   "outputs": [],
   "source": [
    "from Bio.Seq import Seq\n",
    "from Bio.SeqRecord import SeqRecord"
   ]
  },
  {
   "cell_type": "code",
   "execution_count": 2,
   "metadata": {
    "collapsed": true
   },
   "outputs": [
    {
     "name": "stdout",
     "output_type": "stream",
     "text": [
      "Help on class SeqRecord in module Bio.SeqRecord:\n",
      "\n",
      "class SeqRecord(builtins.object)\n",
      " |  SeqRecord(seq, id='<unknown id>', name='<unknown name>', description='<unknown description>', dbxrefs=None, features=None, annotations=None, letter_annotations=None)\n",
      " |  \n",
      " |  A SeqRecord object holds a sequence and information about it.\n",
      " |  \n",
      " |  Main attributes:\n",
      " |   - id          - Identifier such as a locus tag (string)\n",
      " |   - seq         - The sequence itself (Seq object or similar)\n",
      " |  \n",
      " |  Additional attributes:\n",
      " |   - name        - Sequence name, e.g. gene name (string)\n",
      " |   - description - Additional text (string)\n",
      " |   - dbxrefs     - List of database cross references (list of strings)\n",
      " |   - features    - Any (sub)features defined (list of SeqFeature objects)\n",
      " |   - annotations - Further information about the whole sequence (dictionary).\n",
      " |     Most entries are strings, or lists of strings.\n",
      " |   - letter_annotations - Per letter/symbol annotation (restricted\n",
      " |     dictionary). This holds Python sequences (lists, strings\n",
      " |     or tuples) whose length matches that of the sequence.\n",
      " |     A typical use would be to hold a list of integers\n",
      " |     representing sequencing quality scores, or a string\n",
      " |     representing the secondary structure.\n",
      " |  \n",
      " |  You will typically use Bio.SeqIO to read in sequences from files as\n",
      " |  SeqRecord objects.  However, you may want to create your own SeqRecord\n",
      " |  objects directly (see the __init__ method for further details):\n",
      " |  \n",
      " |  >>> from Bio.Seq import Seq\n",
      " |  >>> from Bio.SeqRecord import SeqRecord\n",
      " |  >>> from Bio.Alphabet import IUPAC\n",
      " |  >>> record = SeqRecord(Seq(\"MKQHKAMIVALIVICITAVVAALVTRKDLCEVHIRTGQTEVAVF\",\n",
      " |  ...                         IUPAC.protein),\n",
      " |  ...                    id=\"YP_025292.1\", name=\"HokC\",\n",
      " |  ...                    description=\"toxic membrane protein\")\n",
      " |  >>> print(record)\n",
      " |  ID: YP_025292.1\n",
      " |  Name: HokC\n",
      " |  Description: toxic membrane protein\n",
      " |  Number of features: 0\n",
      " |  Seq('MKQHKAMIVALIVICITAVVAALVTRKDLCEVHIRTGQTEVAVF', IUPACProtein())\n",
      " |  \n",
      " |  If you want to save SeqRecord objects to a sequence file, use Bio.SeqIO\n",
      " |  for this.  For the special case where you want the SeqRecord turned into\n",
      " |  a string in a particular file format there is a format method which uses\n",
      " |  Bio.SeqIO internally:\n",
      " |  \n",
      " |  >>> print(record.format(\"fasta\"))\n",
      " |  >YP_025292.1 toxic membrane protein\n",
      " |  MKQHKAMIVALIVICITAVVAALVTRKDLCEVHIRTGQTEVAVF\n",
      " |  <BLANKLINE>\n",
      " |  \n",
      " |  You can also do things like slicing a SeqRecord, checking its length, etc\n",
      " |  \n",
      " |  >>> len(record)\n",
      " |  44\n",
      " |  >>> edited = record[:10] + record[11:]\n",
      " |  >>> print(edited.seq)\n",
      " |  MKQHKAMIVAIVICITAVVAALVTRKDLCEVHIRTGQTEVAVF\n",
      " |  >>> print(record.seq)\n",
      " |  MKQHKAMIVALIVICITAVVAALVTRKDLCEVHIRTGQTEVAVF\n",
      " |  \n",
      " |  Methods defined here:\n",
      " |  \n",
      " |  __add__(self, other)\n",
      " |      Add another sequence or string to this sequence.\n",
      " |      \n",
      " |      The other sequence can be a SeqRecord object, a Seq object (or\n",
      " |      similar, e.g. a MutableSeq) or a plain Python string. If you add\n",
      " |      a plain string or a Seq (like) object, the new SeqRecord will simply\n",
      " |      have this appended to the existing data. However, any per letter\n",
      " |      annotation will be lost:\n",
      " |      \n",
      " |      >>> from Bio import SeqIO\n",
      " |      >>> record = SeqIO.read(\"Quality/solexa_faked.fastq\", \"fastq-solexa\")\n",
      " |      >>> print(\"%s %s\" % (record.id, record.seq))\n",
      " |      slxa_0001_1_0001_01 ACGTACGTACGTACGTACGTACGTACGTACGTACGTACGTNNNNNN\n",
      " |      >>> print(list(record.letter_annotations))\n",
      " |      ['solexa_quality']\n",
      " |      \n",
      " |      >>> new = record + \"ACT\"\n",
      " |      >>> print(\"%s %s\" % (new.id, new.seq))\n",
      " |      slxa_0001_1_0001_01 ACGTACGTACGTACGTACGTACGTACGTACGTACGTACGTNNNNNNACT\n",
      " |      >>> print(list(new.letter_annotations))\n",
      " |      []\n",
      " |      \n",
      " |      The new record will attempt to combine the annotation, but for any\n",
      " |      ambiguities (e.g. different names) it defaults to omitting that\n",
      " |      annotation.\n",
      " |      \n",
      " |      >>> from Bio import SeqIO\n",
      " |      >>> with open(\"GenBank/pBAD30.gb\") as handle:\n",
      " |      ...     plasmid = SeqIO.read(handle, \"gb\")\n",
      " |      >>> print(\"%s %i\" % (plasmid.id, len(plasmid)))\n",
      " |      pBAD30 4923\n",
      " |      \n",
      " |      Now let's cut the plasmid into two pieces, and join them back up the\n",
      " |      other way round (i.e. shift the starting point on this plasmid, have\n",
      " |      a look at the annotated features in the original file to see why this\n",
      " |      particular split point might make sense):\n",
      " |      \n",
      " |      >>> left = plasmid[:3765]\n",
      " |      >>> right = plasmid[3765:]\n",
      " |      >>> new = right + left\n",
      " |      >>> print(\"%s %i\" % (new.id, len(new)))\n",
      " |      pBAD30 4923\n",
      " |      >>> str(new.seq) == str(right.seq + left.seq)\n",
      " |      True\n",
      " |      >>> len(new.features) == len(left.features) + len(right.features)\n",
      " |      True\n",
      " |      \n",
      " |      When we add the left and right SeqRecord objects, their annotation\n",
      " |      is all consistent, so it is all conserved in the new SeqRecord:\n",
      " |      \n",
      " |      >>> new.id == left.id == right.id == plasmid.id\n",
      " |      True\n",
      " |      >>> new.name == left.name == right.name == plasmid.name\n",
      " |      True\n",
      " |      >>> new.description == plasmid.description\n",
      " |      True\n",
      " |      >>> new.annotations == left.annotations == right.annotations\n",
      " |      True\n",
      " |      >>> new.letter_annotations == plasmid.letter_annotations\n",
      " |      True\n",
      " |      >>> new.dbxrefs == left.dbxrefs == right.dbxrefs\n",
      " |      True\n",
      " |      \n",
      " |      However, we should point out that when we sliced the SeqRecord,\n",
      " |      any annotations dictionary or dbxrefs list entries were lost.\n",
      " |      You can explicitly copy them like this:\n",
      " |      \n",
      " |      >>> new.annotations = plasmid.annotations.copy()\n",
      " |      >>> new.dbxrefs = plasmid.dbxrefs[:]\n",
      " |  \n",
      " |  __bool__(self)\n",
      " |      Boolean value of an instance of this class (True).\n",
      " |      \n",
      " |      This behaviour is for backwards compatibility, since until the\n",
      " |      __len__ method was added, a SeqRecord always evaluated as True.\n",
      " |      \n",
      " |      Note that in comparison, a Seq object will evaluate to False if it\n",
      " |      has a zero length sequence.\n",
      " |      \n",
      " |      WARNING: The SeqRecord may in future evaluate to False when its\n",
      " |      sequence is of zero length (in order to better match the Seq\n",
      " |      object behaviour)!\n",
      " |  \n",
      " |  __contains__(self, char)\n",
      " |      Implement the 'in' keyword, searches the sequence.\n",
      " |      \n",
      " |      e.g.\n",
      " |      \n",
      " |      >>> from Bio import SeqIO\n",
      " |      >>> record = SeqIO.read(\"Fasta/sweetpea.nu\", \"fasta\")\n",
      " |      >>> \"GAATTC\" in record\n",
      " |      False\n",
      " |      >>> \"AAA\" in record\n",
      " |      True\n",
      " |      \n",
      " |      This essentially acts as a proxy for using \"in\" on the sequence:\n",
      " |      \n",
      " |      >>> \"GAATTC\" in record.seq\n",
      " |      False\n",
      " |      >>> \"AAA\" in record.seq\n",
      " |      True\n",
      " |      \n",
      " |      Note that you can also use Seq objects as the query,\n",
      " |      \n",
      " |      >>> from Bio.Seq import Seq\n",
      " |      >>> from Bio.Alphabet import generic_dna\n",
      " |      >>> Seq(\"AAA\") in record\n",
      " |      True\n",
      " |      >>> Seq(\"AAA\", generic_dna) in record\n",
      " |      True\n",
      " |      \n",
      " |      See also the Seq object's __contains__ method.\n",
      " |  \n",
      " |  __eq__(self, other)\n",
      " |      Define the equal-to operand (not implemented).\n",
      " |  \n",
      " |  __format__(self, format_spec)\n",
      " |      Return the record as a string in the specified file format.\n",
      " |      \n",
      " |      This method supports the python format() function added in\n",
      " |      Python 2.6/3.0.  The format_spec should be a lower case string\n",
      " |      supported by Bio.SeqIO as an output file format. See also the\n",
      " |      SeqRecord's format() method.\n",
      " |      \n",
      " |      Under Python 3 please note that for binary formats a bytes\n",
      " |      string is returned, otherwise a (unicode) string is returned.\n",
      " |  \n",
      " |  __ge__(self, other)\n",
      " |      Define the greater-than-or-equal-to operand (not implemented).\n",
      " |  \n",
      " |  __getitem__(self, index)\n",
      " |      Return a sub-sequence or an individual letter.\n",
      " |      \n",
      " |      Slicing, e.g. my_record[5:10], returns a new SeqRecord for\n",
      " |      that sub-sequence with some annotation preserved as follows:\n",
      " |      \n",
      " |      * The name, id and description are kept as-is.\n",
      " |      * Any per-letter-annotations are sliced to match the requested\n",
      " |        sub-sequence.\n",
      " |      * Unless a stride is used, all those features which fall fully\n",
      " |        within the subsequence are included (with their locations\n",
      " |        adjusted accordingly). If you want to preserve any truncated\n",
      " |        features (e.g. GenBank/EMBL source features), you must\n",
      " |        explicitly add them to the new SeqRecord yourself.\n",
      " |      * The annotations dictionary and the dbxrefs list are not used\n",
      " |        for the new SeqRecord, as in general they may not apply to the\n",
      " |        subsequence. If you want to preserve them, you must explicitly\n",
      " |        copy them to the new SeqRecord yourself.\n",
      " |      \n",
      " |      Using an integer index, e.g. my_record[5] is shorthand for\n",
      " |      extracting that letter from the sequence, my_record.seq[5].\n",
      " |      \n",
      " |      For example, consider this short protein and its secondary\n",
      " |      structure as encoded by the PDB (e.g. H for alpha helices),\n",
      " |      plus a simple feature for its histidine self phosphorylation\n",
      " |      site:\n",
      " |      \n",
      " |      >>> from Bio.Seq import Seq\n",
      " |      >>> from Bio.SeqRecord import SeqRecord\n",
      " |      >>> from Bio.SeqFeature import SeqFeature, FeatureLocation\n",
      " |      >>> from Bio.Alphabet import IUPAC\n",
      " |      >>> rec = SeqRecord(Seq(\"MAAGVKQLADDRTLLMAGVSHDLRTPLTRIRLAT\"\n",
      " |      ...                     \"EMMSEQDGYLAESINKDIEECNAIIEQFIDYLR\",\n",
      " |      ...                     IUPAC.protein),\n",
      " |      ...                 id=\"1JOY\", name=\"EnvZ\",\n",
      " |      ...                 description=\"Homodimeric domain of EnvZ from E. coli\")\n",
      " |      >>> rec.letter_annotations[\"secondary_structure\"] = \"  S  SSSSSSHHHHHTTTHHHHHHHHHHHHHHHHHHHHHHTHHHHHHHHHHHHHHHHHHHHHTT  \"\n",
      " |      >>> rec.features.append(SeqFeature(FeatureLocation(20, 21),\n",
      " |      ...                     type = \"Site\"))\n",
      " |      \n",
      " |      Now let's have a quick look at the full record,\n",
      " |      \n",
      " |      >>> print(rec)\n",
      " |      ID: 1JOY\n",
      " |      Name: EnvZ\n",
      " |      Description: Homodimeric domain of EnvZ from E. coli\n",
      " |      Number of features: 1\n",
      " |      Per letter annotation for: secondary_structure\n",
      " |      Seq('MAAGVKQLADDRTLLMAGVSHDLRTPLTRIRLATEMMSEQDGYLAESINKDIEE...YLR', IUPACProtein())\n",
      " |      >>> rec.letter_annotations[\"secondary_structure\"]\n",
      " |      '  S  SSSSSSHHHHHTTTHHHHHHHHHHHHHHHHHHHHHHTHHHHHHHHHHHHHHHHHHHHHTT  '\n",
      " |      >>> print(rec.features[0].location)\n",
      " |      [20:21]\n",
      " |      \n",
      " |      Now let's take a sub sequence, here chosen as the first (fractured)\n",
      " |      alpha helix which includes the histidine phosphorylation site:\n",
      " |      \n",
      " |      >>> sub = rec[11:41]\n",
      " |      >>> print(sub)\n",
      " |      ID: 1JOY\n",
      " |      Name: EnvZ\n",
      " |      Description: Homodimeric domain of EnvZ from E. coli\n",
      " |      Number of features: 1\n",
      " |      Per letter annotation for: secondary_structure\n",
      " |      Seq('RTLLMAGVSHDLRTPLTRIRLATEMMSEQD', IUPACProtein())\n",
      " |      >>> sub.letter_annotations[\"secondary_structure\"]\n",
      " |      'HHHHHTTTHHHHHHHHHHHHHHHHHHHHHH'\n",
      " |      >>> print(sub.features[0].location)\n",
      " |      [9:10]\n",
      " |      \n",
      " |      You can also of course omit the start or end values, for\n",
      " |      example to get the first ten letters only:\n",
      " |      \n",
      " |      >>> print(rec[:10])\n",
      " |      ID: 1JOY\n",
      " |      Name: EnvZ\n",
      " |      Description: Homodimeric domain of EnvZ from E. coli\n",
      " |      Number of features: 0\n",
      " |      Per letter annotation for: secondary_structure\n",
      " |      Seq('MAAGVKQLAD', IUPACProtein())\n",
      " |      \n",
      " |      Or for the last ten letters:\n",
      " |      \n",
      " |      >>> print(rec[-10:])\n",
      " |      ID: 1JOY\n",
      " |      Name: EnvZ\n",
      " |      Description: Homodimeric domain of EnvZ from E. coli\n",
      " |      Number of features: 0\n",
      " |      Per letter annotation for: secondary_structure\n",
      " |      Seq('IIEQFIDYLR', IUPACProtein())\n",
      " |      \n",
      " |      If you omit both, then you get a copy of the original record (although\n",
      " |      lacking the annotations and dbxrefs):\n",
      " |      \n",
      " |      >>> print(rec[:])\n",
      " |      ID: 1JOY\n",
      " |      Name: EnvZ\n",
      " |      Description: Homodimeric domain of EnvZ from E. coli\n",
      " |      Number of features: 1\n",
      " |      Per letter annotation for: secondary_structure\n",
      " |      Seq('MAAGVKQLADDRTLLMAGVSHDLRTPLTRIRLATEMMSEQDGYLAESINKDIEE...YLR', IUPACProtein())\n",
      " |      \n",
      " |      Finally, indexing with a simple integer is shorthand for pulling out\n",
      " |      that letter from the sequence directly:\n",
      " |      \n",
      " |      >>> rec[5]\n",
      " |      'K'\n",
      " |      >>> rec.seq[5]\n",
      " |      'K'\n",
      " |  \n",
      " |  __gt__(self, other)\n",
      " |      Define the greater-than operand (not implemented).\n",
      " |  \n",
      " |  __init__(self, seq, id='<unknown id>', name='<unknown name>', description='<unknown description>', dbxrefs=None, features=None, annotations=None, letter_annotations=None)\n",
      " |      Create a SeqRecord.\n",
      " |      \n",
      " |      Arguments:\n",
      " |       - seq         - Sequence, required (Seq, MutableSeq or UnknownSeq)\n",
      " |       - id          - Sequence identifier, recommended (string)\n",
      " |       - name        - Sequence name, optional (string)\n",
      " |       - description - Sequence description, optional (string)\n",
      " |       - dbxrefs     - Database cross references, optional (list of strings)\n",
      " |       - features    - Any (sub)features, optional (list of SeqFeature objects)\n",
      " |       - annotations - Dictionary of annotations for the whole sequence\n",
      " |       - letter_annotations - Dictionary of per-letter-annotations, values\n",
      " |         should be strings, list or tuples of the same length as the full\n",
      " |         sequence.\n",
      " |      \n",
      " |      You will typically use Bio.SeqIO to read in sequences from files as\n",
      " |      SeqRecord objects.  However, you may want to create your own SeqRecord\n",
      " |      objects directly.\n",
      " |      \n",
      " |      Note that while an id is optional, we strongly recommend you supply a\n",
      " |      unique id string for each record.  This is especially important\n",
      " |      if you wish to write your sequences to a file.\n",
      " |      \n",
      " |      If you don't have the actual sequence, but you do know its length,\n",
      " |      then using the UnknownSeq object from Bio.Seq is appropriate.\n",
      " |      \n",
      " |      You can create a 'blank' SeqRecord object, and then populate the\n",
      " |      attributes later.\n",
      " |  \n",
      " |  __iter__(self)\n",
      " |      Iterate over the letters in the sequence.\n",
      " |      \n",
      " |      For example, using Bio.SeqIO to read in a protein FASTA file:\n",
      " |      \n",
      " |      >>> from Bio import SeqIO\n",
      " |      >>> record = SeqIO.read(\"Fasta/loveliesbleeding.pro\", \"fasta\")\n",
      " |      >>> for amino in record:\n",
      " |      ...     print(amino)\n",
      " |      ...     if amino == \"L\": break\n",
      " |      X\n",
      " |      A\n",
      " |      G\n",
      " |      L\n",
      " |      >>> print(record.seq[3])\n",
      " |      L\n",
      " |      \n",
      " |      This is just a shortcut for iterating over the sequence directly:\n",
      " |      \n",
      " |      >>> for amino in record.seq:\n",
      " |      ...     print(amino)\n",
      " |      ...     if amino == \"L\": break\n",
      " |      X\n",
      " |      A\n",
      " |      G\n",
      " |      L\n",
      " |      >>> print(record.seq[3])\n",
      " |      L\n",
      " |      \n",
      " |      Note that this does not facilitate iteration together with any\n",
      " |      per-letter-annotation.  However, you can achieve that using the\n",
      " |      python zip function on the record (or its sequence) and the relevant\n",
      " |      per-letter-annotation:\n",
      " |      \n",
      " |      >>> from Bio import SeqIO\n",
      " |      >>> rec = SeqIO.read(\"Quality/solexa_faked.fastq\", \"fastq-solexa\")\n",
      " |      >>> print(\"%s %s\" % (rec.id, rec.seq))\n",
      " |      slxa_0001_1_0001_01 ACGTACGTACGTACGTACGTACGTACGTACGTACGTACGTNNNNNN\n",
      " |      >>> print(list(rec.letter_annotations))\n",
      " |      ['solexa_quality']\n",
      " |      >>> for nuc, qual in zip(rec, rec.letter_annotations[\"solexa_quality\"]):\n",
      " |      ...     if qual > 35:\n",
      " |      ...         print(\"%s %i\" % (nuc, qual))\n",
      " |      A 40\n",
      " |      C 39\n",
      " |      G 38\n",
      " |      T 37\n",
      " |      A 36\n",
      " |      \n",
      " |      You may agree that using zip(rec.seq, ...) is more explicit than using\n",
      " |      zip(rec, ...) as shown above.\n",
      " |  \n",
      " |  __le___(self, other)\n",
      " |      Define the less-than-or-equal-to operand (not implemented).\n",
      " |  \n",
      " |  __len__(self)\n",
      " |      Return the length of the sequence.\n",
      " |      \n",
      " |      For example, using Bio.SeqIO to read in a FASTA nucleotide file:\n",
      " |      \n",
      " |      >>> from Bio import SeqIO\n",
      " |      >>> record = SeqIO.read(\"Fasta/sweetpea.nu\", \"fasta\")\n",
      " |      >>> len(record)\n",
      " |      309\n",
      " |      >>> len(record.seq)\n",
      " |      309\n",
      " |  \n",
      " |  __lt__(self, other)\n",
      " |      Define the less-than operand (not implemented).\n",
      " |  \n",
      " |  __ne__(self, other)\n",
      " |      Define the not-equal-to operand (not implemented).\n",
      " |  \n",
      " |  __nonzero__ = __bool__(self)\n",
      " |  \n",
      " |  __radd__(self, other)\n",
      " |      Add another sequence or string to this sequence (from the left).\n",
      " |      \n",
      " |      This method handles adding a Seq object (or similar, e.g. MutableSeq)\n",
      " |      or a plain Python string (on the left) to a SeqRecord (on the right).\n",
      " |      See the __add__ method for more details, but for example:\n",
      " |      \n",
      " |      >>> from Bio import SeqIO\n",
      " |      >>> record = SeqIO.read(\"Quality/solexa_faked.fastq\", \"fastq-solexa\")\n",
      " |      >>> print(\"%s %s\" % (record.id, record.seq))\n",
      " |      slxa_0001_1_0001_01 ACGTACGTACGTACGTACGTACGTACGTACGTACGTACGTNNNNNN\n",
      " |      >>> print(list(record.letter_annotations))\n",
      " |      ['solexa_quality']\n",
      " |      \n",
      " |      >>> new = \"ACT\" + record\n",
      " |      >>> print(\"%s %s\" % (new.id, new.seq))\n",
      " |      slxa_0001_1_0001_01 ACTACGTACGTACGTACGTACGTACGTACGTACGTACGTACGTNNNNNN\n",
      " |      >>> print(list(new.letter_annotations))\n",
      " |      []\n",
      " |  \n",
      " |  __repr__(self)\n",
      " |      Return a concise summary of the record for debugging (string).\n",
      " |      \n",
      " |      The python built in function repr works by calling the object's ___repr__\n",
      " |      method.  e.g.\n",
      " |      \n",
      " |      >>> from Bio.Seq import Seq\n",
      " |      >>> from Bio.SeqRecord import SeqRecord\n",
      " |      >>> from Bio.Alphabet import generic_protein\n",
      " |      >>> rec = SeqRecord(Seq(\"MASRGVNKVILVGNLGQDPEVRYMPNGGAVANITLATSESWRDKAT\"\n",
      " |      ...                    +\"GEMKEQTEWHRVVLFGKLAEVASEYLRKGSQVYIEGQLRTRKWTDQ\"\n",
      " |      ...                    +\"SGQDRYTTEVVVNVGGTMQMLGGRQGGGAPAGGNIGGGQPQGGWGQ\"\n",
      " |      ...                    +\"PQQPQGGNQFSGGAQSRPQQSAPAAPSNEPPMDFDDDIPF\",\n",
      " |      ...                    generic_protein),\n",
      " |      ...                 id=\"NP_418483.1\", name=\"b4059\",\n",
      " |      ...                 description=\"ssDNA-binding protein\",\n",
      " |      ...                 dbxrefs=[\"ASAP:13298\", \"GI:16131885\", \"GeneID:948570\"])\n",
      " |      >>> print(repr(rec))\n",
      " |      SeqRecord(seq=Seq('MASRGVNKVILVGNLGQDPEVRYMPNGGAVANITLATSESWRDKATGEMKEQTE...IPF', ProteinAlphabet()), id='NP_418483.1', name='b4059', description='ssDNA-binding protein', dbxrefs=['ASAP:13298', 'GI:16131885', 'GeneID:948570'])\n",
      " |      \n",
      " |      At the python prompt you can also use this shorthand:\n",
      " |      \n",
      " |      >>> rec\n",
      " |      SeqRecord(seq=Seq('MASRGVNKVILVGNLGQDPEVRYMPNGGAVANITLATSESWRDKATGEMKEQTE...IPF', ProteinAlphabet()), id='NP_418483.1', name='b4059', description='ssDNA-binding protein', dbxrefs=['ASAP:13298', 'GI:16131885', 'GeneID:948570'])\n",
      " |      \n",
      " |      Note that long sequences are shown truncated. Also note that any\n",
      " |      annotations, letter_annotations and features are not shown (as they\n",
      " |      would lead to a very long string).\n",
      " |  \n",
      " |  __str__(self)\n",
      " |      Return a human readable summary of the record and its annotation (string).\n",
      " |      \n",
      " |      The python built in function str works by calling the object's ___str__\n",
      " |      method.  e.g.\n",
      " |      \n",
      " |      >>> from Bio.Seq import Seq\n",
      " |      >>> from Bio.SeqRecord import SeqRecord\n",
      " |      >>> from Bio.Alphabet import IUPAC\n",
      " |      >>> record = SeqRecord(Seq(\"MKQHKAMIVALIVICITAVVAALVTRKDLCEVHIRTGQTEVAVF\",\n",
      " |      ...                         IUPAC.protein),\n",
      " |      ...                    id=\"YP_025292.1\", name=\"HokC\",\n",
      " |      ...                    description=\"toxic membrane protein, small\")\n",
      " |      >>> print(str(record))\n",
      " |      ID: YP_025292.1\n",
      " |      Name: HokC\n",
      " |      Description: toxic membrane protein, small\n",
      " |      Number of features: 0\n",
      " |      Seq('MKQHKAMIVALIVICITAVVAALVTRKDLCEVHIRTGQTEVAVF', IUPACProtein())\n",
      " |      \n",
      " |      In this example you don't actually need to call str explicity, as the\n",
      " |      print command does this automatically:\n",
      " |      \n",
      " |      >>> print(record)\n",
      " |      ID: YP_025292.1\n",
      " |      Name: HokC\n",
      " |      Description: toxic membrane protein, small\n",
      " |      Number of features: 0\n",
      " |      Seq('MKQHKAMIVALIVICITAVVAALVTRKDLCEVHIRTGQTEVAVF', IUPACProtein())\n",
      " |      \n",
      " |      Note that long sequences are shown truncated.\n",
      " |  \n",
      " |  format(self, format)\n",
      " |      Return the record as a string in the specified file format.\n",
      " |      \n",
      " |      The format should be a lower case string supported as an output\n",
      " |      format by Bio.SeqIO, which is used to turn the SeqRecord into a\n",
      " |      string.  e.g.\n",
      " |      \n",
      " |      >>> from Bio.Seq import Seq\n",
      " |      >>> from Bio.SeqRecord import SeqRecord\n",
      " |      >>> from Bio.Alphabet import IUPAC\n",
      " |      >>> record = SeqRecord(Seq(\"MKQHKAMIVALIVICITAVVAALVTRKDLCEVHIRTGQTEVAVF\",\n",
      " |      ...                         IUPAC.protein),\n",
      " |      ...                    id=\"YP_025292.1\", name=\"HokC\",\n",
      " |      ...                    description=\"toxic membrane protein\")\n",
      " |      >>> record.format(\"fasta\")\n",
      " |      '>YP_025292.1 toxic membrane protein\\nMKQHKAMIVALIVICITAVVAALVTRKDLCEVHIRTGQTEVAVF\\n'\n",
      " |      >>> print(record.format(\"fasta\"))\n",
      " |      >YP_025292.1 toxic membrane protein\n",
      " |      MKQHKAMIVALIVICITAVVAALVTRKDLCEVHIRTGQTEVAVF\n",
      " |      <BLANKLINE>\n",
      " |      \n",
      " |      The python print command automatically appends a new line, meaning\n",
      " |      in this example a blank line is shown.  If you look at the string\n",
      " |      representation you can see there is a trailing new line (shown as\n",
      " |      slash n) which is important when writing to a file or if\n",
      " |      concatenating multiple sequence strings together.\n",
      " |      \n",
      " |      Note that this method will NOT work on every possible file format\n",
      " |      supported by Bio.SeqIO (e.g. some are for multiple sequences only).\n",
      " |  \n",
      " |  lower(self)\n",
      " |      Return a copy of the record with a lower case sequence.\n",
      " |      \n",
      " |      All the annotation is preserved unchanged. e.g.\n",
      " |      \n",
      " |      >>> from Bio import SeqIO\n",
      " |      >>> record = SeqIO.read(\"Fasta/aster.pro\", \"fasta\")\n",
      " |      >>> print(record.format(\"fasta\"))\n",
      " |      >gi|3298468|dbj|BAA31520.1| SAMIPF\n",
      " |      GGHVNPAVTFGAFVGGNITLLRGIVYIIAQLLGSTVACLLLKFVTNDMAVGVFSLSAGVG\n",
      " |      VTNALVFEIVMTFGLVYTVYATAIDPKKGSLGTIAPIAIGFIVGANI\n",
      " |      <BLANKLINE>\n",
      " |      >>> print(record.lower().format(\"fasta\"))\n",
      " |      >gi|3298468|dbj|BAA31520.1| SAMIPF\n",
      " |      gghvnpavtfgafvggnitllrgivyiiaqllgstvaclllkfvtndmavgvfslsagvg\n",
      " |      vtnalvfeivmtfglvytvyataidpkkgslgtiapiaigfivgani\n",
      " |      <BLANKLINE>\n",
      " |      \n",
      " |      To take a more annotation rich example,\n",
      " |      \n",
      " |      >>> from Bio import SeqIO\n",
      " |      >>> old = SeqIO.read(\"EMBL/TRBG361.embl\", \"embl\")\n",
      " |      >>> len(old.features)\n",
      " |      3\n",
      " |      >>> new = old.lower()\n",
      " |      >>> len(old.features) == len(new.features)\n",
      " |      True\n",
      " |      >>> old.annotations[\"organism\"] == new.annotations[\"organism\"]\n",
      " |      True\n",
      " |      >>> old.dbxrefs == new.dbxrefs\n",
      " |      True\n",
      " |  \n",
      " |  reverse_complement(self, id=False, name=False, description=False, features=True, annotations=False, letter_annotations=True, dbxrefs=False)\n",
      " |      Return new SeqRecord with reverse complement sequence.\n",
      " |      \n",
      " |      By default the new record does NOT preserve the sequence identifier,\n",
      " |      name, description, general annotation or database cross-references -\n",
      " |      these are unlikely to apply to the reversed sequence.\n",
      " |      \n",
      " |      You can specify the returned record's id, name and description as\n",
      " |      strings, or True to keep that of the parent, or False for a default.\n",
      " |      \n",
      " |      You can specify the returned record's features with a list of\n",
      " |      SeqFeature objects, or True to keep that of the parent, or False to\n",
      " |      omit them. The default is to keep the original features (with the\n",
      " |      strand and locations adjusted).\n",
      " |      \n",
      " |      You can also specify both the returned record's annotations and\n",
      " |      letter_annotations as dictionaries, True to keep that of the parent,\n",
      " |      or False to omit them. The default is to keep the original\n",
      " |      annotations (with the letter annotations reversed).\n",
      " |      \n",
      " |      To show what happens to the pre-letter annotations, consider an\n",
      " |      example Solexa variant FASTQ file with a single entry, which we'll\n",
      " |      read in as a SeqRecord:\n",
      " |      \n",
      " |      >>> from Bio import SeqIO\n",
      " |      >>> record = SeqIO.read(\"Quality/solexa_faked.fastq\", \"fastq-solexa\")\n",
      " |      >>> print(\"%s %s\" % (record.id, record.seq))\n",
      " |      slxa_0001_1_0001_01 ACGTACGTACGTACGTACGTACGTACGTACGTACGTACGTNNNNNN\n",
      " |      >>> print(list(record.letter_annotations))\n",
      " |      ['solexa_quality']\n",
      " |      >>> print(record.letter_annotations[\"solexa_quality\"])\n",
      " |      [40, 39, 38, 37, 36, 35, 34, 33, 32, 31, 30, 29, 28, 27, 26, 25, 24, 23, 22, 21, 20, 19, 18, 17, 16, 15, 14, 13, 12, 11, 10, 9, 8, 7, 6, 5, 4, 3, 2, 1, 0, -1, -2, -3, -4, -5]\n",
      " |      \n",
      " |      Now take the reverse complement, here we explicitly give a new\n",
      " |      identifier (the old identifier with a suffix):\n",
      " |      \n",
      " |      >>> rc_record = record.reverse_complement(id=record.id + \"_rc\")\n",
      " |      >>> print(\"%s %s\" % (rc_record.id, rc_record.seq))\n",
      " |      slxa_0001_1_0001_01_rc NNNNNNACGTACGTACGTACGTACGTACGTACGTACGTACGTACGT\n",
      " |      \n",
      " |      Notice that the per-letter-annotations have also been reversed,\n",
      " |      although this may not be appropriate for all cases.\n",
      " |      \n",
      " |      >>> print(rc_record.letter_annotations[\"solexa_quality\"])\n",
      " |      [-5, -4, -3, -2, -1, 0, 1, 2, 3, 4, 5, 6, 7, 8, 9, 10, 11, 12, 13, 14, 15, 16, 17, 18, 19, 20, 21, 22, 23, 24, 25, 26, 27, 28, 29, 30, 31, 32, 33, 34, 35, 36, 37, 38, 39, 40]\n",
      " |      \n",
      " |      Now for the features, we need a different example. Parsing a GenBank\n",
      " |      file is probably the easiest way to get an nice example with features\n",
      " |      in it...\n",
      " |      \n",
      " |      >>> from Bio import SeqIO\n",
      " |      >>> with open(\"GenBank/pBAD30.gb\") as handle:\n",
      " |      ...     plasmid = SeqIO.read(handle, \"gb\")\n",
      " |      >>> print(\"%s %i\" % (plasmid.id, len(plasmid)))\n",
      " |      pBAD30 4923\n",
      " |      >>> plasmid.seq\n",
      " |      Seq('GCTAGCGGAGTGTATACTGGCTTACTATGTTGGCACTGATGAGGGTGTCAGTGA...ATG', IUPACAmbiguousDNA())\n",
      " |      >>> len(plasmid.features)\n",
      " |      13\n",
      " |      \n",
      " |      Now, let's take the reverse complement of this whole plasmid:\n",
      " |      \n",
      " |      >>> rc_plasmid = plasmid.reverse_complement(id=plasmid.id+\"_rc\")\n",
      " |      >>> print(\"%s %i\" % (rc_plasmid.id, len(rc_plasmid)))\n",
      " |      pBAD30_rc 4923\n",
      " |      >>> rc_plasmid.seq\n",
      " |      Seq('CATGGGCAAATATTATACGCAAGGCGACAAGGTGCTGATGCCGCTGGCGATTCA...AGC', IUPACAmbiguousDNA())\n",
      " |      >>> len(rc_plasmid.features)\n",
      " |      13\n",
      " |      \n",
      " |      Let's compare the first CDS feature - it has gone from being the\n",
      " |      second feature (index 1) to the second last feature (index -2), its\n",
      " |      strand has changed, and the location switched round.\n",
      " |      \n",
      " |      >>> print(plasmid.features[1])\n",
      " |      type: CDS\n",
      " |      location: [1081:1960](-)\n",
      " |      qualifiers:\n",
      " |          Key: label, Value: ['araC']\n",
      " |          Key: note, Value: ['araC regulator of the arabinose BAD promoter']\n",
      " |          Key: vntifkey, Value: ['4']\n",
      " |      <BLANKLINE>\n",
      " |      >>> print(rc_plasmid.features[-2])\n",
      " |      type: CDS\n",
      " |      location: [2963:3842](+)\n",
      " |      qualifiers:\n",
      " |          Key: label, Value: ['araC']\n",
      " |          Key: note, Value: ['araC regulator of the arabinose BAD promoter']\n",
      " |          Key: vntifkey, Value: ['4']\n",
      " |      <BLANKLINE>\n",
      " |      \n",
      " |      You can check this new location, based on the length of the plasmid:\n",
      " |      \n",
      " |      >>> len(plasmid) - 1081\n",
      " |      3842\n",
      " |      >>> len(plasmid) - 1960\n",
      " |      2963\n",
      " |      \n",
      " |      Note that if the SeqFeature annotation includes any strand specific\n",
      " |      information (e.g. base changes for a SNP), this information is not\n",
      " |      amended, and would need correction after the reverse complement.\n",
      " |      \n",
      " |      Note trying to reverse complement a protein SeqRecord raises an\n",
      " |      exception:\n",
      " |      \n",
      " |      >>> from Bio.SeqRecord import SeqRecord\n",
      " |      >>> from Bio.Seq import Seq\n",
      " |      >>> from Bio.Alphabet import IUPAC\n",
      " |      >>> protein_rec = SeqRecord(Seq(\"MAIVMGR\", IUPAC.protein), id=\"Test\")\n",
      " |      >>> protein_rec.reverse_complement()\n",
      " |      Traceback (most recent call last):\n",
      " |         ...\n",
      " |      ValueError: Proteins do not have complements!\n",
      " |      \n",
      " |      Also note you can reverse complement a SeqRecord using a MutableSeq:\n",
      " |      \n",
      " |      >>> from Bio.SeqRecord import SeqRecord\n",
      " |      >>> from Bio.Seq import MutableSeq\n",
      " |      >>> from Bio.Alphabet import generic_dna\n",
      " |      >>> rec = SeqRecord(MutableSeq(\"ACGT\", generic_dna), id=\"Test\")\n",
      " |      >>> rec.seq[0] = \"T\"\n",
      " |      >>> print(\"%s %s\" % (rec.id, rec.seq))\n",
      " |      Test TCGT\n",
      " |      >>> rc = rec.reverse_complement(id=True)\n",
      " |      >>> print(\"%s %s\" % (rc.id, rc.seq))\n",
      " |      Test ACGA\n",
      " |  \n",
      " |  translate(self, table='Standard', stop_symbol='*', to_stop=False, cds=False, gap=None, id=False, name=False, description=False, features=False, annotations=False, letter_annotations=False, dbxrefs=False)\n",
      " |      Return new SeqRecord with translated sequence.\n",
      " |      \n",
      " |      This calls the record's .seq.translate() method (which describes\n",
      " |      the translation related arguments, like table for the genetic code),\n",
      " |      \n",
      " |      By default the new record does NOT preserve the sequence identifier,\n",
      " |      name, description, general annotation or database cross-references -\n",
      " |      these are unlikely to apply to the translated sequence.\n",
      " |      \n",
      " |      You can specify the returned record's id, name and description as\n",
      " |      strings, or True to keep that of the parent, or False for a default.\n",
      " |      \n",
      " |      You can specify the returned record's features with a list of\n",
      " |      SeqFeature objects, or False (default) to omit them.\n",
      " |      \n",
      " |      You can also specify both the returned record's annotations and\n",
      " |      letter_annotations as dictionaries, True to keep that of the parent\n",
      " |      (annotations only), or False (default) to omit them.\n",
      " |      \n",
      " |      e.g. Loading a FASTA gene and translating it,\n",
      " |      \n",
      " |      >>> from Bio import SeqIO\n",
      " |      >>> gene_record = SeqIO.read(\"Fasta/sweetpea.nu\", \"fasta\")\n",
      " |      >>> print(gene_record.format(\"fasta\"))\n",
      " |      >gi|3176602|gb|U78617.1|LOU78617 Lathyrus odoratus phytochrome A (PHYA) gene, partial cds\n",
      " |      CAGGCTGCGCGGTTTCTATTTATGAAGAACAAGGTCCGTATGATAGTTGATTGTCATGCA\n",
      " |      AAACATGTGAAGGTTCTTCAAGACGAAAAACTCCCATTTGATTTGACTCTGTGCGGTTCG\n",
      " |      ACCTTAAGAGCTCCACATAGTTGCCATTTGCAGTACATGGCTAACATGGATTCAATTGCT\n",
      " |      TCATTGGTTATGGCAGTGGTCGTCAATGACAGCGATGAAGATGGAGATAGCCGTGACGCA\n",
      " |      GTTCTACCACAAAAGAAAAAGAGACTTTGGGGTTTGGTAGTTTGTCATAACACTACTCCG\n",
      " |      AGGTTTGTT\n",
      " |      <BLANKLINE>\n",
      " |      \n",
      " |      And now translating the record, specifying the new ID and description:\n",
      " |      \n",
      " |      >>> protein_record = gene_record.translate(table=11,\n",
      " |      ...                                        id=\"phya\",\n",
      " |      ...                                        description=\"translation\")\n",
      " |      >>> print(protein_record.format(\"fasta\"))\n",
      " |      >phya translation\n",
      " |      QAARFLFMKNKVRMIVDCHAKHVKVLQDEKLPFDLTLCGSTLRAPHSCHLQYMANMDSIA\n",
      " |      SLVMAVVVNDSDEDGDSRDAVLPQKKKRLWGLVVCHNTTPRFV\n",
      " |      <BLANKLINE>\n",
      " |  \n",
      " |  upper(self)\n",
      " |      Return a copy of the record with an upper case sequence.\n",
      " |      \n",
      " |      All the annotation is preserved unchanged. e.g.\n",
      " |      \n",
      " |      >>> from Bio.Alphabet import generic_dna\n",
      " |      >>> from Bio.Seq import Seq\n",
      " |      >>> from Bio.SeqRecord import SeqRecord\n",
      " |      >>> record = SeqRecord(Seq(\"acgtACGT\", generic_dna), id=\"Test\",\n",
      " |      ...                    description = \"Made up for this example\")\n",
      " |      >>> record.letter_annotations[\"phred_quality\"] = [1, 2, 3, 4, 5, 6, 7, 8]\n",
      " |      >>> print(record.upper().format(\"fastq\"))\n",
      " |      @Test Made up for this example\n",
      " |      ACGTACGT\n",
      " |      +\n",
      " |      \"#$%&'()\n",
      " |      <BLANKLINE>\n",
      " |      \n",
      " |      Naturally, there is a matching lower method:\n",
      " |      \n",
      " |      >>> print(record.lower().format(\"fastq\"))\n",
      " |      @Test Made up for this example\n",
      " |      acgtacgt\n",
      " |      +\n",
      " |      \"#$%&'()\n",
      " |      <BLANKLINE>\n",
      " |  \n",
      " |  ----------------------------------------------------------------------\n",
      " |  Data descriptors defined here:\n",
      " |  \n",
      " |  __dict__\n",
      " |      dictionary for instance variables (if defined)\n",
      " |  \n",
      " |  __weakref__\n",
      " |      list of weak references to the object (if defined)\n",
      " |  \n",
      " |  letter_annotations\n",
      " |      Dictionary of per-letter-annotation for the sequence.\n",
      " |      \n",
      " |      For example, this can hold quality scores used in FASTQ or QUAL files.\n",
      " |      Consider this example using Bio.SeqIO to read in an example Solexa\n",
      " |      variant FASTQ file as a SeqRecord:\n",
      " |      \n",
      " |      >>> from Bio import SeqIO\n",
      " |      >>> record = SeqIO.read(\"Quality/solexa_faked.fastq\", \"fastq-solexa\")\n",
      " |      >>> print(\"%s %s\" % (record.id, record.seq))\n",
      " |      slxa_0001_1_0001_01 ACGTACGTACGTACGTACGTACGTACGTACGTACGTACGTNNNNNN\n",
      " |      >>> print(list(record.letter_annotations))\n",
      " |      ['solexa_quality']\n",
      " |      >>> print(record.letter_annotations[\"solexa_quality\"])\n",
      " |      [40, 39, 38, 37, 36, 35, 34, 33, 32, 31, 30, 29, 28, 27, 26, 25, 24, 23, 22, 21, 20, 19, 18, 17, 16, 15, 14, 13, 12, 11, 10, 9, 8, 7, 6, 5, 4, 3, 2, 1, 0, -1, -2, -3, -4, -5]\n",
      " |      \n",
      " |      The letter_annotations get sliced automatically if you slice the\n",
      " |      parent SeqRecord, for example taking the last ten bases:\n",
      " |      \n",
      " |      >>> sub_record = record[-10:]\n",
      " |      >>> print(\"%s %s\" % (sub_record.id, sub_record.seq))\n",
      " |      slxa_0001_1_0001_01 ACGTNNNNNN\n",
      " |      >>> print(sub_record.letter_annotations[\"solexa_quality\"])\n",
      " |      [4, 3, 2, 1, 0, -1, -2, -3, -4, -5]\n",
      " |      \n",
      " |      Any python sequence (i.e. list, tuple or string) can be recorded in\n",
      " |      the SeqRecord's letter_annotations dictionary as long as the length\n",
      " |      matches that of the SeqRecord's sequence.  e.g.\n",
      " |      \n",
      " |      >>> len(sub_record.letter_annotations)\n",
      " |      1\n",
      " |      >>> sub_record.letter_annotations[\"dummy\"] = \"abcdefghij\"\n",
      " |      >>> len(sub_record.letter_annotations)\n",
      " |      2\n",
      " |      \n",
      " |      You can delete entries from the letter_annotations dictionary as usual:\n",
      " |      \n",
      " |      >>> del sub_record.letter_annotations[\"solexa_quality\"]\n",
      " |      >>> sub_record.letter_annotations\n",
      " |      {'dummy': 'abcdefghij'}\n",
      " |      \n",
      " |      You can completely clear the dictionary easily as follows:\n",
      " |      \n",
      " |      >>> sub_record.letter_annotations = {}\n",
      " |      >>> sub_record.letter_annotations\n",
      " |      {}\n",
      " |      \n",
      " |      Note that if replacing the record's sequence with a sequence of a\n",
      " |      different length you must first clear the letter_annotations dict.\n",
      " |  \n",
      " |  seq\n",
      " |      The sequence itself, as a Seq or MutableSeq object.\n",
      " |  \n",
      " |  ----------------------------------------------------------------------\n",
      " |  Data and other attributes defined here:\n",
      " |  \n",
      " |  __hash__ = None\n",
      "\n"
     ]
    }
   ],
   "source": [
    "help(SeqRecord)"
   ]
  },
  {
   "cell_type": "markdown",
   "metadata": {},
   "source": [
    "Content:\n",
    "- 6.1 The SeqRecord object\n",
    "- 6.2 Features\n",
    "- 6.3 Slicing a SeqRecord object"
   ]
  },
  {
   "cell_type": "markdown",
   "metadata": {},
   "source": [
    "## 6.1 The SeqRecord object"
   ]
  },
  {
   "cell_type": "markdown",
   "metadata": {},
   "source": [
    "Let's have a look at a SeqRecord object to have an idea how they look like. \n",
    "\n",
    "In this case we'll read in a GenBank file, *NC_005816.gb*, which we’ll load using the SeqIO module. It's accessible in [NCBI](https://www.ncbi.nlm.nih.gov/nuccore/NC_005816). The next chapter will discuss the SeqIO module, however here we're just using it to read in a SeqRecord object from a file. "
   ]
  },
  {
   "cell_type": "code",
   "execution_count": 2,
   "metadata": {},
   "outputs": [
    {
     "name": "stdout",
     "output_type": "stream",
     "text": [
      "ID: NC_005816.1\n",
      "Name: NC_005816\n",
      "Description: Yersinia pestis biovar Microtus str. 91001 plasmid pPCP1, complete sequence\n",
      "Database cross-references: Project:58037\n",
      "Number of features: 41\n",
      "/molecule_type=DNA\n",
      "/topology=circular\n",
      "/data_file_division=BCT\n",
      "/date=21-JUL-2008\n",
      "/accessions=['NC_005816']\n",
      "/sequence_version=1\n",
      "/gi=45478711\n",
      "/keywords=['']\n",
      "/source=Yersinia pestis biovar Microtus str. 91001\n",
      "/organism=Yersinia pestis biovar Microtus str. 91001\n",
      "/taxonomy=['Bacteria', 'Proteobacteria', 'Gammaproteobacteria', 'Enterobacteriales', 'Enterobacteriaceae', 'Yersinia']\n",
      "/references=[Reference(title='Genetics of metabolic variations between Yersinia pestis biovars and the proposal of a new biovar, microtus', ...), Reference(title='Complete genome sequence of Yersinia pestis strain 91001, an isolate avirulent to humans', ...), Reference(title='Direct Submission', ...), Reference(title='Direct Submission', ...)]\n",
      "/comment=PROVISIONAL REFSEQ: This record has not yet been subject to final\n",
      "NCBI review. The reference sequence was derived from AE017046.\n",
      "COMPLETENESS: full length.\n",
      "Seq('TGTAACGAACGGTGCAATAGTGATCCACACCCAACGCCTGAAATCAGATCCAGG...CTG', IUPACAmbiguousDNA())\n"
     ]
    }
   ],
   "source": [
    "from Bio import SeqIO\n",
    "record = SeqIO.read(\"data/NC_005816.gb\",\"gb\")\n",
    "print(record)"
   ]
  },
  {
   "cell_type": "markdown",
   "metadata": {},
   "source": [
    "The following elements are present (amongst others):\n",
    "- **ID**: usually the accession number of the sequence\n",
    "- **Name**: the more commonly used name of the sequence (often the same as accession number)\n",
    "- **Description**: a description or expressive name for the sequence\n",
    "- **Features**: a list of SeqFeature objects with more structured information about the sequence (discussed below)\n",
    "- **Annotations**: a dictionary of additional information about the sequence. \n",
    "- **Seq**: the sequence itself"
   ]
  },
  {
   "cell_type": "markdown",
   "metadata": {},
   "source": [
    "We can retrieve the methods and properties of this record using the `dir()` function as well. "
   ]
  },
  {
   "cell_type": "code",
   "execution_count": 13,
   "metadata": {
    "collapsed": true
   },
   "outputs": [
    {
     "data": {
      "text/plain": [
       "['__add__',\n",
       " '__bool__',\n",
       " '__class__',\n",
       " '__contains__',\n",
       " '__delattr__',\n",
       " '__dict__',\n",
       " '__dir__',\n",
       " '__doc__',\n",
       " '__eq__',\n",
       " '__format__',\n",
       " '__ge__',\n",
       " '__getattribute__',\n",
       " '__getitem__',\n",
       " '__gt__',\n",
       " '__hash__',\n",
       " '__init__',\n",
       " '__init_subclass__',\n",
       " '__iter__',\n",
       " '__le__',\n",
       " '__le___',\n",
       " '__len__',\n",
       " '__lt__',\n",
       " '__module__',\n",
       " '__ne__',\n",
       " '__new__',\n",
       " '__nonzero__',\n",
       " '__radd__',\n",
       " '__reduce__',\n",
       " '__reduce_ex__',\n",
       " '__repr__',\n",
       " '__setattr__',\n",
       " '__sizeof__',\n",
       " '__str__',\n",
       " '__subclasshook__',\n",
       " '__weakref__',\n",
       " '_per_letter_annotations',\n",
       " '_seq',\n",
       " '_set_per_letter_annotations',\n",
       " '_set_seq',\n",
       " 'annotations',\n",
       " 'dbxrefs',\n",
       " 'description',\n",
       " 'features',\n",
       " 'format',\n",
       " 'id',\n",
       " 'letter_annotations',\n",
       " 'lower',\n",
       " 'name',\n",
       " 'reverse_complement',\n",
       " 'seq',\n",
       " 'translate',\n",
       " 'upper']"
      ]
     },
     "execution_count": 13,
     "metadata": {},
     "output_type": "execute_result"
    }
   ],
   "source": [
    "dir(record)"
   ]
  },
  {
   "cell_type": "markdown",
   "metadata": {},
   "source": [
    "The first method in this list is annotations and returns a dictionary with annotations of this object. You'll typically find more information regarding the organism, accession numbers and date, taxonomy, etc.  "
   ]
  },
  {
   "cell_type": "code",
   "execution_count": 11,
   "metadata": {
    "collapsed": true
   },
   "outputs": [
    {
     "data": {
      "text/plain": [
       "{'molecule_type': 'DNA',\n",
       " 'topology': 'circular',\n",
       " 'data_file_division': 'BCT',\n",
       " 'date': '21-JUL-2008',\n",
       " 'accessions': ['NC_005816'],\n",
       " 'sequence_version': 1,\n",
       " 'gi': '45478711',\n",
       " 'keywords': [''],\n",
       " 'source': 'Yersinia pestis biovar Microtus str. 91001',\n",
       " 'organism': 'Yersinia pestis biovar Microtus str. 91001',\n",
       " 'taxonomy': ['Bacteria',\n",
       "  'Proteobacteria',\n",
       "  'Gammaproteobacteria',\n",
       "  'Enterobacteriales',\n",
       "  'Enterobacteriaceae',\n",
       "  'Yersinia'],\n",
       " 'references': [Reference(title='Genetics of metabolic variations between Yersinia pestis biovars and the proposal of a new biovar, microtus', ...),\n",
       "  Reference(title='Complete genome sequence of Yersinia pestis strain 91001, an isolate avirulent to humans', ...),\n",
       "  Reference(title='Direct Submission', ...),\n",
       "  Reference(title='Direct Submission', ...)],\n",
       " 'comment': 'PROVISIONAL REFSEQ: This record has not yet been subject to final\\nNCBI review. The reference sequence was derived from AE017046.\\nCOMPLETENESS: full length.'}"
      ]
     },
     "execution_count": 11,
     "metadata": {},
     "output_type": "execute_result"
    }
   ],
   "source": [
    "record.annotations"
   ]
  },
  {
   "cell_type": "markdown",
   "metadata": {},
   "source": [
    "Another property allows us to fetch the sequence. Do you recognize the format of the output?"
   ]
  },
  {
   "cell_type": "code",
   "execution_count": 17,
   "metadata": {},
   "outputs": [
    {
     "data": {
      "text/plain": [
       "Seq('TGTAACGAACGGTGCAATAGTGATCCACACCCAACGCCTGAAATCAGATCCAGG...CTG', IUPACAmbiguousDNA())"
      ]
     },
     "execution_count": 17,
     "metadata": {},
     "output_type": "execute_result"
    }
   ],
   "source": [
    "record.seq"
   ]
  },
  {
   "cell_type": "code",
   "execution_count": 18,
   "metadata": {},
   "outputs": [
    {
     "name": "stdout",
     "output_type": "stream",
     "text": [
      "NC_005816.1\n",
      "NC_005816\n",
      "Yersinia pestis biovar Microtus str. 91001 plasmid pPCP1, complete sequence\n"
     ]
    }
   ],
   "source": [
    "# Other possibilities are:\n",
    "# ID\n",
    "print(record.id)\n",
    "# Name\n",
    "print(record.name)\n",
    "# Description\n",
    "print(record.description)"
   ]
  },
  {
   "cell_type": "markdown",
   "metadata": {},
   "source": [
    "---\n",
    "### 6.1.1 Exercise\n",
    "Find the title of all the articles related to the genbank entry 'NC_005816'. Import this file using the following block of code.  \n",
    "\n",
    "Extra: Create a list of URL-links that brings you directly to the article. For this you can use the Pubmed ID in combination with `https://pubmed.ncbi.nlm.nih.gov/`. \n",
    "\n",
    "\n",
    "Hint: look at the section of *references* of [this link](https://biopython.readthedocs.io/en/latest/chapter_seq_annot.html)"
   ]
  },
  {
   "cell_type": "code",
   "execution_count": 11,
   "metadata": {},
   "outputs": [],
   "source": [
    "from Bio import SeqIO\n",
    "record = SeqIO.read(\"data/NC_005816.gb\",\"gb\")"
   ]
  },
  {
   "cell_type": "code",
   "execution_count": null,
   "metadata": {},
   "outputs": [],
   "source": []
  },
  {
   "cell_type": "markdown",
   "metadata": {},
   "source": [
    "----"
   ]
  },
  {
   "cell_type": "markdown",
   "metadata": {},
   "source": [
    "## 6.2 Features\n",
    "The features and their SeqFeature object are a fairly complex thing on their own. Basically they contain more abstract and detailed information about the SeqRecord object (and thus the sequence). It attempts to encapsulate as much of the information about the sequence as possible by describing a region on the parent sequence. For the sake of completeness, we'll give a short example here, however we consider features to be part of an even more detailed course. If you're interested we advise you to have a look at the official documentation [here](http://biopython.org/DIST/docs/tutorial/Tutorial.html#sec38). "
   ]
  },
  {
   "cell_type": "markdown",
   "metadata": {},
   "source": [
    "A SeqFeature or location object doesn't directly contain a sequence, instead the location (see Section 4.3.2)\n",
    "describes how to get this from the parent sequence. For example consider a (short) gene sequence with\n",
    "location 5:18 on the reverse strand, which in GenBank/EMBL notation using 1-based counting would be\n",
    "complement(6..18), like this:"
   ]
  },
  {
   "cell_type": "code",
   "execution_count": 21,
   "metadata": {},
   "outputs": [],
   "source": [
    "from Bio.Seq import Seq\n",
    "from Bio.SeqFeature import SeqFeature, FeatureLocation\n",
    "\n",
    "example_parent = Seq(\"ACCGAGACGGCAAAGGCTAGCATAGGTATGAGACTTCCTTCCTGCCAGTGCTGAGGAACTGGGAGCCTAC\")\n",
    "example_feature = SeqFeature(FeatureLocation(5, 18), type=\"gene\", strand=-1)"
   ]
  },
  {
   "cell_type": "markdown",
   "metadata": {},
   "source": [
    "You could take the parent sequence, slice it to extract 5:18, and then take the reverse complement. If\n",
    "you are using Biopython 1.59 or later, the feature location's start and end are integer like so this works:"
   ]
  },
  {
   "cell_type": "code",
   "execution_count": 26,
   "metadata": {
    "scrolled": true
   },
   "outputs": [
    {
     "data": {
      "text/plain": [
       "Seq('AGCCTTTGCCGTC')"
      ]
     },
     "execution_count": 26,
     "metadata": {},
     "output_type": "execute_result"
    }
   ],
   "source": [
    "feature_seq = example_parent[example_feature.location.start:example_feature.location.end].reverse_complement()\n",
    "feature_seq"
   ]
  },
  {
   "cell_type": "markdown",
   "metadata": {},
   "source": [
    "Or you could simply use the extract method:"
   ]
  },
  {
   "cell_type": "code",
   "execution_count": 28,
   "metadata": {},
   "outputs": [
    {
     "data": {
      "text/plain": [
       "Seq('AGCCTTTGCCGTC')"
      ]
     },
     "execution_count": 28,
     "metadata": {},
     "output_type": "execute_result"
    }
   ],
   "source": [
    "feature_seq = example_feature.extract(example_parent)\n",
    "feature_seq"
   ]
  },
  {
   "cell_type": "markdown",
   "metadata": {},
   "source": [
    "Location testing"
   ]
  },
  {
   "cell_type": "code",
   "execution_count": 32,
   "metadata": {},
   "outputs": [
    {
     "name": "stdout",
     "output_type": "stream",
     "text": [
      "type: misc_feature\n",
      "location: [<110:209](+)\n",
      "qualifiers:\n",
      "    Key: db_xref, Value: ['CDD:186341']\n",
      "    Key: locus_tag, Value: ['YP_pPCP01']\n",
      "    Key: note, Value: ['Helix-turn-helix domain of Hin and related proteins, a family of DNA-binding domains unique to bacteria and represented by the Hin protein of Salmonella. The basic HTH domain is a simple fold comprised of three core helices that form a right-handed...; Region: HTH_Hin_like; cl01116']\n",
      "\n"
     ]
    }
   ],
   "source": [
    "my_snp = 4350\n",
    "record = SeqIO.read(\"data/NC_005816.gb\", \"genbank\")\n",
    "print(record.features[5])\n",
    "#print(record.feature[5][\"type\"])"
   ]
  },
  {
   "cell_type": "code",
   "execution_count": 3,
   "metadata": {},
   "outputs": [
    {
     "name": "stdout",
     "output_type": "stream",
     "text": [
      "source ['taxon:229193']\n",
      "gene ['GeneID:2767712']\n",
      "CDS ['GI:45478716', 'GeneID:2767712']\n"
     ]
    }
   ],
   "source": [
    "# Extract features and check whether SNP of interest (4350) is present\n",
    "my_snp = 4350\n",
    "record = SeqIO.read(\"data/NC_005816.gb\", \"genbank\")\n",
    "\n",
    "for feature in record.features:\n",
    "    if my_snp in feature: \n",
    "        print(\"{} {}\".format(feature.type, feature.qualifiers.get(\"db_xref\")))"
   ]
  },
  {
   "cell_type": "markdown",
   "metadata": {},
   "source": [
    "Note that gene and CDS features from GenBank or EMBL files defined with joins are the union of the exons - they do not cover any introns."
   ]
  },
  {
   "cell_type": "markdown",
   "metadata": {},
   "source": [
    "## 6.3 Slicing a SeqRecord"
   ]
  },
  {
   "cell_type": "code",
   "execution_count": 46,
   "metadata": {
    "collapsed": true
   },
   "outputs": [
    {
     "data": {
      "text/plain": [
       "SeqRecord(seq=Seq('TGTAACGAACGGTGCAATAGTGATCCACACCCAACGCCTGAAATCAGATCCAGG...CTG', IUPACAmbiguousDNA()), id='NC_005816.1', name='NC_005816', description='Yersinia pestis biovar Microtus str. 91001 plasmid pPCP1, complete sequence', dbxrefs=['Project:58037'])"
      ]
     },
     "execution_count": 46,
     "metadata": {},
     "output_type": "execute_result"
    }
   ],
   "source": [
    "from Bio import SeqIO\n",
    "record = SeqIO.read(\"data/NC_005816.gb\", \"genbank\") # Takes local file, so this one is stored in ./data/ \n",
    "record"
   ]
  },
  {
   "cell_type": "code",
   "execution_count": 47,
   "metadata": {
    "collapsed": true
   },
   "outputs": [
    {
     "name": "stdout",
     "output_type": "stream",
     "text": [
      "type: gene\n",
      "location: [4342:4780](+)\n",
      "qualifiers:\n",
      "    Key: db_xref, Value: ['GeneID:2767712']\n",
      "    Key: gene, Value: ['pim']\n",
      "    Key: locus_tag, Value: ['YP_pPCP05']\n",
      "\n"
     ]
    }
   ],
   "source": [
    "# Extract pim gene from SeqRecord and all its features/annotations\n",
    "print(record.features[20])"
   ]
  },
  {
   "cell_type": "code",
   "execution_count": 48,
   "metadata": {
    "collapsed": true
   },
   "outputs": [
    {
     "name": "stdout",
     "output_type": "stream",
     "text": [
      "type: CDS\n",
      "location: [4342:4780](+)\n",
      "qualifiers:\n",
      "    Key: codon_start, Value: ['1']\n",
      "    Key: db_xref, Value: ['GI:45478716', 'GeneID:2767712']\n",
      "    Key: gene, Value: ['pim']\n",
      "    Key: locus_tag, Value: ['YP_pPCP05']\n",
      "    Key: note, Value: ['similar to many previously sequenced pesticin immunity protein entries of Yersinia pestis plasmid pPCP, e.g. gi| 16082683|,ref|NP_395230.1| (NC_003132) , gi|1200166|emb|CAA90861.1| (Z54145 ) , gi|1488655| emb|CAA63439.1| (X92856) , gi|2996219|gb|AAC62543.1| (AF053945) , and gi|5763814|emb|CAB531 67.1| (AL109969)']\n",
      "    Key: product, Value: ['pesticin immunity protein']\n",
      "    Key: protein_id, Value: ['NP_995571.1']\n",
      "    Key: transl_table, Value: ['11']\n",
      "    Key: translation, Value: ['MGGGMISKLFCLALIFLSSSGLAEKNTYTAKDILQNLELNTFGNSLSHGIYGKQTTFKQTEFTNIKSNTKKHIALINKDNSWMISLKILGIKRDEYTVCFEDFSLIRPPTYVAIHPLLIKKVKSGNFIVVKEIKKSIPGCTVYYH']\n",
      "\n"
     ]
    }
   ],
   "source": [
    "print(record.features[21])"
   ]
  },
  {
   "cell_type": "code",
   "execution_count": 50,
   "metadata": {},
   "outputs": [
    {
     "data": {
      "text/plain": [
       "SeqRecord(seq=Seq('ATAAATAGATTATTCCAAATAATTTATTTATGTAAGAACAGGATGGGAGGGGGA...TTA', IUPACAmbiguousDNA()), id='NC_005816.1', name='NC_005816', description='Yersinia pestis biovar Microtus str. 91001 plasmid pPCP1, complete sequence', dbxrefs=[])"
      ]
     },
     "execution_count": 50,
     "metadata": {},
     "output_type": "execute_result"
    }
   ],
   "source": [
    "sub_record = record[4300:4800]\n",
    "sub_record"
   ]
  },
  {
   "cell_type": "code",
   "execution_count": 51,
   "metadata": {},
   "outputs": [
    {
     "data": {
      "text/plain": [
       "500"
      ]
     },
     "execution_count": 51,
     "metadata": {},
     "output_type": "execute_result"
    }
   ],
   "source": [
    "len(sub_record)"
   ]
  },
  {
   "cell_type": "code",
   "execution_count": 52,
   "metadata": {},
   "outputs": [
    {
     "data": {
      "text/plain": [
       "2"
      ]
     },
     "execution_count": 52,
     "metadata": {},
     "output_type": "execute_result"
    }
   ],
   "source": [
    "len(sub_record.features)"
   ]
  },
  {
   "cell_type": "code",
   "execution_count": 53,
   "metadata": {},
   "outputs": [
    {
     "name": "stdout",
     "output_type": "stream",
     "text": [
      "type: gene\n",
      "location: [42:480](+)\n",
      "qualifiers:\n",
      "    Key: db_xref, Value: ['GeneID:2767712']\n",
      "    Key: gene, Value: ['pim']\n",
      "    Key: locus_tag, Value: ['YP_pPCP05']\n",
      "\n"
     ]
    }
   ],
   "source": [
    "print(sub_record.features[0])"
   ]
  },
  {
   "cell_type": "code",
   "execution_count": 54,
   "metadata": {},
   "outputs": [
    {
     "name": "stdout",
     "output_type": "stream",
     "text": [
      "type: CDS\n",
      "location: [42:480](+)\n",
      "qualifiers:\n",
      "    Key: codon_start, Value: ['1']\n",
      "    Key: db_xref, Value: ['GI:45478716', 'GeneID:2767712']\n",
      "    Key: gene, Value: ['pim']\n",
      "    Key: locus_tag, Value: ['YP_pPCP05']\n",
      "    Key: note, Value: ['similar to many previously sequenced pesticin immunity protein entries of Yersinia pestis plasmid pPCP, e.g. gi| 16082683|,ref|NP_395230.1| (NC_003132) , gi|1200166|emb|CAA90861.1| (Z54145 ) , gi|1488655| emb|CAA63439.1| (X92856) , gi|2996219|gb|AAC62543.1| (AF053945) , and gi|5763814|emb|CAB531 67.1| (AL109969)']\n",
      "    Key: product, Value: ['pesticin immunity protein']\n",
      "    Key: protein_id, Value: ['NP_995571.1']\n",
      "    Key: transl_table, Value: ['11']\n",
      "    Key: translation, Value: ['MGGGMISKLFCLALIFLSSSGLAEKNTYTAKDILQNLELNTFGNSLSHGIYGKQTTFKQTEFTNIKSNTKKHIALINKDNSWMISLKILGIKRDEYTVCFEDFSLIRPPTYVAIHPLLIKKVKSGNFIVVKEIKKSIPGCTVYYH']\n",
      "\n"
     ]
    }
   ],
   "source": [
    "print(sub_record.features[1])"
   ]
  },
  {
   "cell_type": "code",
   "execution_count": 55,
   "metadata": {},
   "outputs": [],
   "source": [
    "#Notice that their locations have been adjusted to reflect the new parent sequence!"
   ]
  },
  {
   "cell_type": "code",
   "execution_count": 57,
   "metadata": {},
   "outputs": [
    {
     "data": {
      "text/plain": [
       "{}"
      ]
     },
     "execution_count": 57,
     "metadata": {},
     "output_type": "execute_result"
    }
   ],
   "source": [
    "sub_record.annotations"
   ]
  },
  {
   "cell_type": "code",
   "execution_count": 58,
   "metadata": {},
   "outputs": [
    {
     "data": {
      "text/plain": [
       "[]"
      ]
     },
     "execution_count": 58,
     "metadata": {},
     "output_type": "execute_result"
    }
   ],
   "source": [
    "sub_record.dbxrefs"
   ]
  },
  {
   "cell_type": "code",
   "execution_count": 60,
   "metadata": {},
   "outputs": [
    {
     "data": {
      "text/plain": [
       "'NC_005816.1'"
      ]
     },
     "execution_count": 60,
     "metadata": {},
     "output_type": "execute_result"
    }
   ],
   "source": [
    "sub_record.id"
   ]
  },
  {
   "cell_type": "code",
   "execution_count": 61,
   "metadata": {},
   "outputs": [
    {
     "data": {
      "text/plain": [
       "'NC_005816'"
      ]
     },
     "execution_count": 61,
     "metadata": {},
     "output_type": "execute_result"
    }
   ],
   "source": [
    "sub_record.name"
   ]
  },
  {
   "cell_type": "code",
   "execution_count": 62,
   "metadata": {},
   "outputs": [
    {
     "data": {
      "text/plain": [
       "'Yersinia pestis biovar Microtus str. 91001 plasmid pPCP1, complete sequence'"
      ]
     },
     "execution_count": 62,
     "metadata": {},
     "output_type": "execute_result"
    }
   ],
   "source": [
    "sub_record.description"
   ]
  },
  {
   "cell_type": "code",
   "execution_count": 63,
   "metadata": {},
   "outputs": [],
   "source": [
    "sub_record.description = 'Yersinia pestis biovar Microtus str. 91001 plasmid pPCP1, partial' #partial!"
   ]
  },
  {
   "cell_type": "code",
   "execution_count": 64,
   "metadata": {
    "collapsed": true
   },
   "outputs": [
    {
     "name": "stdout",
     "output_type": "stream",
     "text": [
      "LOCUS       NC_005816                500 bp    DNA              UNK 01-JAN-1980\n",
      "DEFINITION  Yersinia pestis biovar Microtus str. 91001 plasmid pPCP1, partial.\n",
      "ACCESSION   NC_005816\n",
      "VERSION     NC_005816.1\n",
      "KEYWORDS    .\n",
      "SOURCE      .\n",
      "  ORGANISM  .\n",
      "            .\n",
      "FEATURES             Location/Qualifiers\n",
      "     gene            43..480\n",
      "                     /gene=\"pim\"\n",
      "                     /locus_tag=\"YP_pPCP05\"\n",
      "                     /db_xref=\"GeneID:2767712\"\n",
      "     CDS             43..480\n",
      "                     /gene=\"pim\"\n",
      "                     /locus_tag=\"YP_pPCP05\"\n",
      "                     /note=\"similar to many previously sequenced pesticin\n",
      "                     immunity protein entries of Yersinia pestis plasmid pPCP,\n",
      "                     e.g. gi| 16082683|,ref|NP_395230.1| (NC_003132) ,\n",
      "                     gi|1200166|emb|CAA90861.1| (Z54145 ) , gi|1488655|\n",
      "                     emb|CAA63439.1| (X92856) , gi|2996219|gb|AAC62543.1|\n",
      "                     (AF053945) , and gi|5763814|emb|CAB531 67.1| (AL109969)\"\n",
      "                     /codon_start=1\n",
      "                     /transl_table=11\n",
      "                     /product=\"pesticin immunity protein\"\n",
      "                     /protein_id=\"NP_995571.1\"\n",
      "                     /db_xref=\"GI:45478716\"\n",
      "                     /db_xref=\"GeneID:2767712\"\n",
      "                     /translation=\"MGGGMISKLFCLALIFLSSSGLAEKNTYTAKDILQNLELNTFGNS\n",
      "                     LSHGIYGKQTTFKQTEFTNIKSNTKKHIALINKDNSWMISLKILGIKRDEYTVCFEDFS\n",
      "                     LIRPPTYVAIHPLLIKKVKSGNFIVVKEIKKSIPGCTVYYH\"\n",
      "ORIGIN\n",
      "        1 ataaatagat tattccaaat aatttattta tgtaagaaca ggatgggagg gggaatgatc\n",
      "       61 tcaaagttat tttgcttggc tctcatattt ttatcatcaa gtggccttgc agaaaaaaac\n",
      "      121 acatatacag caaaagacat cttgcaaaac ctagaattaa atacctttgg caattcattg\n",
      "      181 tctcatggca tctatgggaa acagacaacc ttcaagcaaa ccgagtttac aaatattaaa\n",
      "      241 agcaacacca aaaaacacat tgcacttatc aataaagaca actcatggat gatatcatta\n",
      "      301 aaaatactag gaattaagag agatgagtat actgtctgtt ttgaagattt ctctctaata\n",
      "      361 agaccgccaa catatgtagc catacatcct ctacttataa aaaaagtaaa atctggaaac\n",
      "      421 tttatagtag tgaaagaaat aaagaaatct atccctggtt gcactgtata ttatcattaa\n",
      "      481 tagcaagccc ctcattatta\n",
      "//\n",
      "\n"
     ]
    }
   ],
   "source": [
    "print(sub_record.format(\"genbank\"))"
   ]
  },
  {
   "cell_type": "markdown",
   "metadata": {},
   "source": [
    "You could also create your own SeqRecord object from scratch. This is however not considered during this course, but some preliminary reading can be done in the further reading section ([here](\"further_reading/06_Biopython_sequence_annotation_Extra.ipynb\"))."
   ]
  },
  {
   "cell_type": "markdown",
   "metadata": {},
   "source": [
    "## 6.4 Next session\n",
    "Click here to go to the [next session](07_Biopython_SeqIO.ipynb). "
   ]
  }
 ],
 "metadata": {
  "kernelspec": {
   "display_name": "Python 3",
   "language": "python",
   "name": "python3"
  },
  "language_info": {
   "codemirror_mode": {
    "name": "ipython",
    "version": 3
   },
   "file_extension": ".py",
   "mimetype": "text/x-python",
   "name": "python",
   "nbconvert_exporter": "python",
   "pygments_lexer": "ipython3",
   "version": "3.7.3"
  }
 },
 "nbformat": 4,
 "nbformat_minor": 4
}
