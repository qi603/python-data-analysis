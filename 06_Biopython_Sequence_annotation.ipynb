{
 "cells": [
  {
   "cell_type": "markdown",
   "metadata": {},
   "source": [
    "# 6. Sequence Record objects\n",
    "Uptil now, we've been using sequences (`Seq`) objects that stored a sequence and the file format (i.e. fasta, genbank, etc.). \n",
    "Biopython allows us to annotate these `Seq` objects with additional information like an identifier, a name of the sequence, a description, features and ultimately a bunch of annotations. All of this information is stored in the so-called `SeqRecord` object which is the follow-up of the `Seq` object. "
   ]
  },
  {
   "cell_type": "code",
   "execution_count": null,
   "metadata": {},
   "outputs": [],
   "source": [
    "from Bio.Seq import Seq\n",
    "from Bio.SeqRecord import SeqRecord"
   ]
  },
  {
   "cell_type": "code",
   "execution_count": null,
   "metadata": {},
   "outputs": [],
   "source": [
    "help(SeqRecord)"
   ]
  },
  {
   "cell_type": "markdown",
   "metadata": {},
   "source": [
    "Content:\n",
    "- 6.1 The SeqRecord object\n",
    "- 6.2 Features\n",
    "- 6.3 Slicing a SeqRecord object"
   ]
  },
  {
   "cell_type": "markdown",
   "metadata": {},
   "source": [
    "## 6.1 The SeqRecord object"
   ]
  },
  {
   "cell_type": "markdown",
   "metadata": {},
   "source": [
    "As an example we'll read in a GenBank file, *NC_005816.gb*, accessible via [NCBI](https://www.ncbi.nlm.nih.gov/nuccore/NC_005816) and which we’ll load using the SeqIO module. The next chapter will discuss the `SeqIO` module, however here we're just using it to read in a `SeqRecord` object from a file. "
   ]
  },
  {
   "cell_type": "code",
   "execution_count": null,
   "metadata": {},
   "outputs": [],
   "source": [
    "from Bio import SeqIO\n",
    "\n",
    "# Read in a SeqRecord object & print it out\n",
    "record = SeqIO.read(\"data/NC_005816.gb\",\"gb\")\n",
    "print(record)"
   ]
  },
  {
   "cell_type": "markdown",
   "metadata": {},
   "source": [
    "The following elements are present (amongst others):\n",
    "- **ID**: usually the accession number of the sequence\n",
    "- **Name**: the more commonly used name of the sequence (often the same as accession number)\n",
    "- **Description**: a description or expressive name for the sequence\n",
    "- **Features**: a list of SeqFeature objects with more structured information about the sequence (discussed below)\n",
    "- **Annotations**: a dictionary of additional information about the sequence. \n",
    "- **Seq**: the sequence itself"
   ]
  },
  {
   "cell_type": "markdown",
   "metadata": {},
   "source": [
    "We can retrieve the methods and properties of this record using the `dir()` function as well. "
   ]
  },
  {
   "cell_type": "code",
   "execution_count": null,
   "metadata": {},
   "outputs": [],
   "source": [
    "dir(record)"
   ]
  },
  {
   "cell_type": "markdown",
   "metadata": {},
   "source": [
    "The `seq` property allows us to fetch the sequence. Do you recognize the format of the output?"
   ]
  },
  {
   "cell_type": "code",
   "execution_count": null,
   "metadata": {},
   "outputs": [],
   "source": [
    "# Access the Seq object from a SeqRecord\n",
    "record.seq"
   ]
  },
  {
   "cell_type": "markdown",
   "metadata": {},
   "source": [
    "With annotations we can acces a dictionary with annotations of this object. You'll typically find more information regarding the organism, accession numbers and date, taxonomy, etc.  "
   ]
  },
  {
   "cell_type": "code",
   "execution_count": null,
   "metadata": {},
   "outputs": [],
   "source": [
    "# Access the annotations as part of the record\n",
    "record.annotations"
   ]
  },
  {
   "cell_type": "code",
   "execution_count": null,
   "metadata": {},
   "outputs": [],
   "source": [
    "# Other possibilities are:\n",
    "# ID\n",
    "print(record.id)\n",
    "# Name\n",
    "print(record.name)\n",
    "# Description\n",
    "print(record.description)"
   ]
  },
  {
   "cell_type": "markdown",
   "metadata": {},
   "source": [
    "---\n",
    "### 6.1.1 Exercise\n",
    "Find the title of all the articles related to the genbank entry 'NC_005816'. Import this file using the following block of code.  \n",
    "\n",
    "Extra: Create a list of URL-links that brings you directly to the article. For this you can use the Pubmed ID in combination with `https://pubmed.ncbi.nlm.nih.gov/` (e.g.: https://pubmed.ncbi.nlm.nih.gov/15368893/). \n",
    "\n",
    "\n",
    "Hint: look at the section of *references* of the annotations ([some more information](https://biopython.readthedocs.io/en/latest/chapter_seq_annot.html))"
   ]
  },
  {
   "cell_type": "code",
   "execution_count": null,
   "metadata": {},
   "outputs": [],
   "source": [
    "from Bio import SeqIO\n",
    "record = SeqIO.read(\"data/NC_005816.gb\",\"gb\")"
   ]
  },
  {
   "cell_type": "code",
   "execution_count": null,
   "metadata": {},
   "outputs": [],
   "source": []
  },
  {
   "cell_type": "markdown",
   "metadata": {},
   "source": [
    "----"
   ]
  },
  {
   "cell_type": "markdown",
   "metadata": {},
   "source": [
    "## 6.2 Features\n",
    "The features and their `SeqFeature` object are a fairly complex thing on their own. Basically they contain more abstract and detailed information about the `SeqRecord` object (and thus the sequence). It attempts to encapsulate as much of the information about the sequence as possible by describing a region on the parent sequence. For the sake of completeness, we'll give a short example here, however we consider features to be part of an even more detailed course. If you're interested we advise you to have a look at the official documentation [here](http://biopython.org/DIST/docs/tutorial/Tutorial.html#sec38). "
   ]
  },
  {
   "cell_type": "markdown",
   "metadata": {},
   "source": [
    "A `SeqFeature` or location object doesn't directly contain a sequence, instead the location describes how to get this from the parent sequence. For example consider a (short) gene sequence with\n",
    "location 5:18 on the reverse strand, which in GenBank/EMBL notation using 1-based counting would be\n",
    "complement(6..18), like this:"
   ]
  },
  {
   "cell_type": "code",
   "execution_count": null,
   "metadata": {},
   "outputs": [],
   "source": [
    "from Bio.Seq import Seq\n",
    "from Bio.SeqFeature import SeqFeature, FeatureLocation\n",
    "\n",
    "# Creating a Sequence and a subpart of it as a SeqFeature with a location, strand and type (e.g. gene, intron, exon)\n",
    "example_parent = Seq(\"ACCGAGACGGCAAAGGCTAGCATAGGTATGAGACTTCCTTCCTGCCAGTGCTGAGGAACTGGGAGCCTAC\")\n",
    "example_feature = SeqFeature(FeatureLocation(5, 18), type=\"gene\", strand=-1)"
   ]
  },
  {
   "cell_type": "markdown",
   "metadata": {},
   "source": [
    "You could take the parent sequence, slice it to extract 5:18, and then take the reverse complement."
   ]
  },
  {
   "cell_type": "code",
   "execution_count": null,
   "metadata": {
    "scrolled": true
   },
   "outputs": [],
   "source": [
    "# Exploiting the SeqFeature methods to define beginning and end of a feature\n",
    "start = example_feature.location.start\n",
    "end = example_feature.location.end\n",
    "feature_seq = example_parent[start:end].reverse_complement()\n",
    "feature_seq"
   ]
  },
  {
   "cell_type": "markdown",
   "metadata": {},
   "source": [
    "Or you could simply use the extract method:"
   ]
  },
  {
   "cell_type": "code",
   "execution_count": null,
   "metadata": {},
   "outputs": [],
   "source": [
    "# Alternatively, making life easier for yourself\n",
    "feature_seq = example_feature.extract(example_parent)\n",
    "feature_seq"
   ]
  },
  {
   "cell_type": "markdown",
   "metadata": {},
   "source": [
    "When there are multiple features - which is usually the case - we can slice them from the record:"
   ]
  },
  {
   "cell_type": "code",
   "execution_count": null,
   "metadata": {},
   "outputs": [],
   "source": [
    "# Reading in the same genbank file and slicing the 6th feature from it\n",
    "record = SeqIO.read(\"data/NC_005816.gb\", \"genbank\")\n",
    "print(record.features[5])"
   ]
  },
  {
   "cell_type": "markdown",
   "metadata": {},
   "source": [
    "Checking if a SNP on a specific location is part of a feature and extracting some information from that feature"
   ]
  },
  {
   "cell_type": "code",
   "execution_count": null,
   "metadata": {},
   "outputs": [],
   "source": [
    "# Extract features and check whether SNP of interest (4350) is present\n",
    "my_snp = 4350\n",
    "record = SeqIO.read(\"data/NC_005816.gb\", \"genbank\")\n",
    "\n",
    "for feature in record.features:\n",
    "    if my_snp in feature: \n",
    "        print(\"{} {}\".format(feature.type, feature.qualifiers.get(\"db_xref\")))"
   ]
  },
  {
   "cell_type": "markdown",
   "metadata": {},
   "source": [
    "Note that gene and CDS features from GenBank or EMBL files defined with joins are the union of the exons - they do not cover any introns."
   ]
  },
  {
   "cell_type": "markdown",
   "metadata": {},
   "source": [
    "## 6.3 Slicing a SeqRecord"
   ]
  },
  {
   "cell_type": "markdown",
   "metadata": {},
   "source": [
    "As briefly shown here above, we can slice `SeqRecord`s similarly as strings or sequences. The following lines of code will give some examples on the same record that we defined earlier:"
   ]
  },
  {
   "cell_type": "code",
   "execution_count": null,
   "metadata": {},
   "outputs": [],
   "source": [
    "# Extract pim gene from SeqRecord and all its features/annotations\n",
    "print(record.features[20])"
   ]
  },
  {
   "cell_type": "code",
   "execution_count": null,
   "metadata": {},
   "outputs": [],
   "source": [
    "# Slice in the sequence of the record and keep information on  the ID, name, description & features with it\n",
    "sub_record = record[4300:4800]\n",
    "print(sub_record)"
   ]
  },
  {
   "cell_type": "code",
   "execution_count": null,
   "metadata": {
    "scrolled": true
   },
   "outputs": [],
   "source": [
    "# The length of the Sequence which is part of the SeqRecord\n",
    "len(sub_record)"
   ]
  },
  {
   "cell_type": "code",
   "execution_count": null,
   "metadata": {},
   "outputs": [],
   "source": [
    "# Number of features on this subSequence, (as seen in the record)\n",
    "len(sub_record.features)"
   ]
  },
  {
   "cell_type": "code",
   "execution_count": null,
   "metadata": {},
   "outputs": [],
   "source": [
    "print(sub_record.features[0])"
   ]
  },
  {
   "cell_type": "code",
   "execution_count": null,
   "metadata": {},
   "outputs": [],
   "source": [
    "print(sub_record.features[1])"
   ]
  },
  {
   "cell_type": "markdown",
   "metadata": {},
   "source": [
    "Notice that their locations have been adjusted to reflect the new parent sequence!"
   ]
  },
  {
   "cell_type": "code",
   "execution_count": null,
   "metadata": {},
   "outputs": [],
   "source": [
    "# The annotations are now empty\n",
    "sub_record.annotations"
   ]
  },
  {
   "cell_type": "code",
   "execution_count": null,
   "metadata": {},
   "outputs": [],
   "source": [
    "# Get an overview of all possible methods on the references\n",
    "r = record.annotations['references']\n",
    "dir(r[0])"
   ]
  },
  {
   "cell_type": "code",
   "execution_count": null,
   "metadata": {},
   "outputs": [],
   "source": [
    "# Also database cross-references are empty\n",
    "sub_record.dbxrefs"
   ]
  },
  {
   "cell_type": "code",
   "execution_count": null,
   "metadata": {},
   "outputs": [],
   "source": [
    "# Still remains parent ID\n",
    "print(sub_record.id)\n",
    "print(sub_record.name)\n",
    "print(sub_record.description)"
   ]
  },
  {
   "cell_type": "code",
   "execution_count": null,
   "metadata": {},
   "outputs": [],
   "source": [
    "# However we can overwrite this\n",
    "sub_record.description = 'Yersinia pestis biovar Microtus str. 91001 plasmid pPCP1, partial' #partial!"
   ]
  },
  {
   "cell_type": "code",
   "execution_count": null,
   "metadata": {},
   "outputs": [],
   "source": [
    "# We can create a fasta lay-out using the format method on this subrecord\n",
    "print(sub_record.format(\"fasta\"))"
   ]
  },
  {
   "cell_type": "markdown",
   "metadata": {},
   "source": [
    "You could also create your own SeqRecord object from scratch. This is however not considered during this course, but some preliminary reading can be done in the further reading section ([here](\"further_reading/06_Biopython_sequence_annotation_Extra.ipynb\"))."
   ]
  },
  {
   "cell_type": "markdown",
   "metadata": {},
   "source": [
    "## 6.4 Next session\n",
    "Click here to go to the [next session](07_Biopython_SeqIO.ipynb). "
   ]
  }
 ],
 "metadata": {
  "kernelspec": {
   "display_name": "Python 3",
   "language": "python",
   "name": "python3"
  },
  "language_info": {
   "codemirror_mode": {
    "name": "ipython",
    "version": 3
   },
   "file_extension": ".py",
   "mimetype": "text/x-python",
   "name": "python",
   "nbconvert_exporter": "python",
   "pygments_lexer": "ipython3",
   "version": "3.7.9"
  }
 },
 "nbformat": 4,
 "nbformat_minor": 4
}
