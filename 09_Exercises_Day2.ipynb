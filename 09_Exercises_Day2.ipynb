{
 "cells": [
  {
   "cell_type": "markdown",
   "metadata": {},
   "source": [
    "# Exercises"
   ]
  },
  {
   "cell_type": "markdown",
   "metadata": {},
   "source": [
    "---\n",
    "### 5.2.1 Exercise\n",
    "Calculate the GC-content in the following sequence:\n",
    "```\n",
    "GATTACCACTCACTGACTCACTGACACGAGACCTATACATGATCGCCGGATGATACGAGAATTACTGACGACTAATCCCGGATACTGCATACACTGACGACGACT\n",
    "```\n",
    "- Use the `.count()` method as shown above\n",
    "- Search through Bio.SeqUtils for a function that might help you"
   ]
  },
  {
   "cell_type": "code",
   "execution_count": null,
   "metadata": {},
   "outputs": [],
   "source": [
    "ex_seq = Seq(\"GATTACCACTCACTGACTCACTGACACGAGACCTATACATGATCGCCGGATGATACGAGAATTACTGACGACTAATCCCGGATACTGCATACACTGACGACGACT\", IUPAC.unambiguous_dna)"
   ]
  },
  {
   "cell_type": "code",
   "execution_count": null,
   "metadata": {},
   "outputs": [],
   "source": []
  },
  {
   "cell_type": "markdown",
   "metadata": {},
   "source": [
    "\n",
    "--- \n",
    "### 5.3.1 Exercise\n",
    "Can you concatenate the following sequences using a for-loop?\n",
    "- Seq(\"ACGT\", generic_dna)\n",
    "- Seq(\"GCTA\", generic_dna)\n",
    "- Seq(\"TACG\", generic_dna)"
   ]
  },
  {
   "cell_type": "code",
   "execution_count": null,
   "metadata": {},
   "outputs": [],
   "source": []
  },
  {
   "cell_type": "markdown",
   "metadata": {},
   "source": [
    "## 5.7 Identifying open reading frames\n",
    "\n",
    "Identifying genes is possible by looking for open reading frames (ORFs). For eukaryotic genes we know that there is a complex interaction between promotors, start codons, exons and introns. Nonetheless, for prokaryotic and virus genes this approach would still be useful. \n",
    "\n",
    "Depending on the organism you also need to use the according codon table. In this example we're using a bacterial plasmid fasta file for which we need to use codon [table 11](https://www.ncbi.nlm.nih.gov/Taxonomy/Utils/wprintgc.cgi#SG11). By using the following block of code, we will store the sequence in the variable `record`, define the tranlate tables and define that a possible protein needs to be of a minimum length of 100 AA's. \n"
   ]
  },
  {
   "cell_type": "code",
   "execution_count": null,
   "metadata": {},
   "outputs": [],
   "source": [
    "from Bio import SeqIO\n",
    "record = SeqIO.read(\"data/NC 005816.fna\", \"fasta\")\n",
    "table = 11\n",
    "min_pro_len = 100"
   ]
  },
  {
   "cell_type": "markdown",
   "metadata": {},
   "source": [
    "The output might look something like this: \n",
    "```\n",
    "GCLMKKSSIVATIITILSGSANAASSQLIP...YRF, - length 315, strand 1, frame 0\n",
    "KSGELRQTPPASSTLHLRLILQRSGVMMEL...NPE, - length 285, strand 1, frame 1\n",
    "NQIQGVICSPDSGEFMVTFETVMEIKILHK...GVA, - length 355, strand 1, frame 2\n",
    "QGSGYAFPHASILSGIAMSHFYFLVLHAVK...CSD, - length 114, strand -1, frame 0\n",
    "```"
   ]
  },
  {
   "cell_type": "code",
   "execution_count": null,
   "metadata": {},
   "outputs": [],
   "source": []
  },
  {
   "cell_type": "markdown",
   "metadata": {},
   "source": [
    "You could easily edit the above loop based code to build up a list of the candidate proteins, or convert this to a list comprehension. "
   ]
  },
  {
   "cell_type": "markdown",
   "metadata": {},
   "source": [
    "---\n",
    "### 6.1.1 Exercise\n",
    "Find the title of all the articles related to the genbank entry 'NC_005816'. Import this file using the following block of code.  \n",
    "\n",
    "Extra: Create a list of URL-links that brings you directly to the article. For this you can use the Pubmed ID in combination with `https://pubmed.ncbi.nlm.nih.gov/`. \n",
    "\n",
    "\n",
    "Hint: look at the section of *references* of [this link](https://biopython.readthedocs.io/en/latest/chapter_seq_annot.html)"
   ]
  },
  {
   "cell_type": "code",
   "execution_count": null,
   "metadata": {},
   "outputs": [],
   "source": [
    "from Bio import SeqIO\n",
    "record = SeqIO.read(\"data/NC_005816.gb\",\"gb\")"
   ]
  },
  {
   "cell_type": "markdown",
   "metadata": {},
   "source": [
    "--- \n",
    "### 7.1.1 Exercise\n",
    "Return a list that contains the organism of each record in the `data/ls_orchid.gbk`-file. \n",
    "\n",
    "Tip: you should make an empty list, iterate over all the records, access the organism and append it to the  list. "
   ]
  },
  {
   "cell_type": "code",
   "execution_count": null,
   "metadata": {},
   "outputs": [],
   "source": [
    "from Bio import SeqIO"
   ]
  },
  {
   "cell_type": "code",
   "execution_count": null,
   "metadata": {},
   "outputs": [],
   "source": []
  },
  {
   "cell_type": "markdown",
   "metadata": {},
   "source": [
    "## 8.3 Exercise\n",
    "Write a script that blasts the top 5 overrepresented sequences in a fastq-file. Save the following information in a pandas dataframe: title, e-value and score. \n",
    "\n",
    "\n",
    "Here is a table that is part of the output of a FastQC process. The raw data can be obtained from the zipped folder that is always created as part of the process. This part represents the overrepresented sequences in a fastq file. The file that contains the data is stored under `data/overrepresented_sequences.txt`. \n",
    "\n",
    "\n",
    "```\n",
    "#Sequence\tCount\tPercentage\tPossible Source\n",
    "GCGCCAGGTTCCACACGAACGTGCGTTCAACGTGACGGGCGAGAGGGCGG\t634749\t0.9399698125201895\tNo Hit\n",
    "GCCAGGTTCCACACGAACGTGCGTTCAACGTGACGGGCGAGAGGGCGGCC\t437871\t0.6484224816077345\tNo Hit\n",
    "GGGGACAGTCCGCCCCGCCCCCCACCGGGCCCCGAGAGAGGCGACGGAGG\t319343\t0.47289996493044484\tNo Hit\n",
    "GGCTTCCTCGGCCCCGGGATTCGGCGAAAGCTGCGGCCGGAGGGCTGTAA\t310651\t0.4600283926862577\tNo Hit\n",
    "GGGCCTTCCCGGCCGTCCCGGAGCCGGTCGCGGCGCACCGCCACGGTGGA\t260086\t0.3851490725611636\tNo Hit\n",
    "ACGAATGGTTTAGCGCCAGGTTCCACACGAACGTGCGTTCAACGTGACGG\t247602\t0.3666621066273818\tNo Hit\n",
    "CGGCTTCGTCGGGAGACGCGTGACCGACGGTCCCCCCGGGACCCGACGGC\t170383\t0.25231213687083787   No Hit\n",
    "...\n",
    "```"
   ]
  },
  {
   "cell_type": "code",
   "execution_count": null,
   "metadata": {},
   "outputs": [],
   "source": [
    "# Imports\n",
    "import pandas as pd\n",
    "from Bio.Seq import Seq\n",
    "from Bio.Blast import NCBIWWW\n",
    "from Bio.Blast import NCBIXML\n",
    "from Bio.Alphabet import IUPAC"
   ]
  },
  {
   "cell_type": "markdown",
   "metadata": {},
   "source": [
    "Here is an example output: \n",
    "\n",
    "| Title |                                             Score | E-value |              |  \n",
    "|------:|--------------------------------------------------:|--------:|-------------:|\n",
    "|     0 | PREDICTED: Arvicanthis niloticus 28S ribosomal... |    90.0 | 7.825980e-13 |  \n",
    "|     1 | PREDICTED: Arvicanthis niloticus 28S ribosomal... |    90.0 | 7.825980e-13 |   \n",
    "|     2 | Streptomyces sp. RPA4-2 chromosome, complete g... |    47.0 | 6.864950e-01 |  \n",
    "|     3 | PREDICTED: Canis lupus dingo 28S ribosomal RNA... |    73.0 | 6.016610e-08 | \n",
    "| 4     | Chain 2, 28S rRNA                                 | 86.0    | 9.534000e-12 | "
   ]
  },
  {
   "cell_type": "markdown",
   "metadata": {},
   "source": [
    "# 9. Two more exercises\n",
    "The following two exercises are a bit longer and require a combination of the materials that we learned today (9.1) or dive into the world of proteins (9.2). The choice is yours as to which one might be more relevant."
   ]
  },
  {
   "cell_type": "markdown",
   "metadata": {},
   "source": [
    "## 9.1 Diagnosing Sickle Cell Anemia\n",
    "[This link](https://krother.gitbooks.io/biopython-tutorial/content/sicklecell.html) will bring you to a great example exercise from Kristian Rother that combines all of the things that we learned today. \n",
    "\n",
    "Your goal is to develop an experimental test that reveals whether a patient suffers from the hereditary disease sickle cell anemia. The test for diagnosis should use a restriction enzyme on a patients’ DNA sample. For the test to work, you need to know exactly what genetic difference to test against. In this tutorial, you will use Biopython to find out.\n",
    "\n",
    "The idea is to compare DNA and protein sequences of sickle cell and healthy globin, and to try out different restriction enzymes on them.\n",
    "\n",
    "This tutorial consists of four parts:\n",
    "\n",
    "1. Use the module Bio.Entrez to retrieve DNA and protein sequences from NCBI databases.\n",
    "2. Use the module Bio.SeqIO to read, write, and filter information in sequence files.\n",
    "3. Use the modules Bio.Seq and Bio.SeqRecord to extract exons, transcribe and translate them to protein sequences.\n",
    "4. Use the module re to identify restriction sites. Regular expressions are not part of the course."
   ]
  },
  {
   "cell_type": "markdown",
   "metadata": {},
   "source": []
  },
  {
   "cell_type": "markdown",
   "metadata": {},
   "source": [
    "## 9.2 Protein plots\n",
    "Make two 3D plots of protein structures using the matplotlib pyplot library. For this you can use a Biopython module to retrieve the protein's PDB data and another one to parse it. \n",
    "1. The first one of the [human oxyhaemoglobin](https://www.rcsb.org/structure/1hho) chain A.\n",
    "2. The second one with the superposition of chain B on top of chain A. "
   ]
  },
  {
   "cell_type": "code",
   "execution_count": null,
   "metadata": {},
   "outputs": [],
   "source": []
  },
  {
   "cell_type": "code",
   "execution_count": null,
   "metadata": {},
   "outputs": [],
   "source": []
  },
  {
   "cell_type": "markdown",
   "metadata": {},
   "source": [
    "Here is a quick way of plotting a 3D structure of the protein as well:"
   ]
  },
  {
   "cell_type": "code",
   "execution_count": null,
   "metadata": {},
   "outputs": [],
   "source": [
    "pip install py3Dmol\n",
    "import py3Dmol\n",
    "view1 = py3Dmol.view(query='pdb:1HHO')\n",
    "view1.setStyle({'cartoon':{'color':'spectrum'}})\n",
    "view1"
   ]
  },
  {
   "cell_type": "markdown",
   "metadata": {},
   "source": [
    "## Extra exercises\n",
    "- Simple quality filtering for FASTQ files\n",
    "- Trimming off primer sequences\n",
    "- Trimming off adaptor sequences\n",
    "- Histogram of sequence lengths\n",
    "\n"
   ]
  },
  {
   "cell_type": "markdown",
   "metadata": {},
   "source": [
    "## References\n",
    "- Example exercise from https://krother.gitbooks.io/biopython-tutorial/content/\n",
    "- Example exercise from the BioPython Tutorial - Chapter 20: *Cookbook - Cool things to do with it*. "
   ]
  }
 ],
 "metadata": {
  "kernelspec": {
   "display_name": "Python 3",
   "language": "python",
   "name": "python3"
  },
  "language_info": {
   "codemirror_mode": {
    "name": "ipython",
    "version": 3
   },
   "file_extension": ".py",
   "mimetype": "text/x-python",
   "name": "python",
   "nbconvert_exporter": "python",
   "pygments_lexer": "ipython3",
   "version": "3.7.3"
  }
 },
 "nbformat": 4,
 "nbformat_minor": 4
}
