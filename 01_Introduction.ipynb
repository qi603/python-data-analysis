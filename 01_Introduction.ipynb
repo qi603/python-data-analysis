{
 "cells": [
  {
   "cell_type": "markdown",
   "metadata": {},
   "source": [
    "# Welcome !\n",
    "Welcome to our course *Python for downstream data analysis*. \n",
    "\n",
    "\n",
    "## Objectives\n",
    "This course essentially is the follow-up course of our *Gentle hands-on introduction to Python programming* course and focuses on:\n",
    "- Advanced data manipulation and tidying using Pandas\n",
    "- Visualization libraries focused on Seaborn\n",
    "- Working with biological data using Biopython\n",
    "- Being able to write scripts and functions from scratch for specific biological or scientific problems\n",
    "\n",
    "Especially the latter will be the ultimate outcome for this course. Throughout this course we will challenge you to search for solutions yourself. \n",
    "\n",
    "\n",
    "\n",
    "## Target audience\n",
    "- Beginner or mid-level programmers, interested in switching to something more interesting than generic programming and learning by solving interesting problems in biology.\n",
    "- Researchers with no computer science background, however with some programming experience, interested in learning how they can process genomic and other types of data using python. \n",
    "\n",
    "\n",
    "\n",
    "## Platform\n",
    "We will use Jupyter Notebooks as they allow us to structure the information, exercises and solutions in a neatly manner making it the ideal platform for training purposes. It's one of the most popular environments for data science in Python. \n",
    "\n",
    "## Installation\n",
    "The easiest way to install Python and Jupyter is to install [Anaconda](https://docs.anaconda.com/anaconda/install/) (Navigator) on your computer. It's worth it to struggle through all the documentation and get things up and running on your own machine. \n",
    "\n",
    "Anaconda Navigator contains some applications like Jupyter where you can run your Python code. Moreover, Anaconda is also a package and environment manager which makes it ideal for reproducibility purposes as well. \n",
    "\n",
    "## Schedule\n",
    "**Day 1:**\n",
    "- short recap quiz \n",
    "- data wrangling in Pandas\n",
    "- Visualization with Seaborn\n",
    "- COVID-19 in Belgium case studies\n",
    "- (Extra: web scraping)\n",
    "- (Extra: managing your analysis environment)\n",
    "\n",
    "**Day 2:**\n",
    "- Introduction to BioPython\n",
    "- Exploring BioPython's functionalities with use-case: diagnosing sickle-cell anemia\n",
    "- Sequence analysis exercises from BioPython's cookbook (e.g.: identifying ORFs, quality filtering for FASTQ files, trimming off primer sequences, i.a.)\n",
    "- Protein biological use case (James)\n",
    "\n",
    "## General remarks\n",
    "- Questions? Shoot! Or type in Discord chat.\n",
    "- Exercises: :thumbsup: or :thumbsdown:\n",
    "- Feedback at the end ([link](https://vib.formstack.com/forms/training_evaluation))\n",
    "\n",
    "## Questions?\n",
    "Do you have some additional questions afterwards? Don't hesitate to ask us:\n",
    "- Tuur Muyldermans: tuur.muyldermans@vib.be\n",
    "- James Collier: james.collier@vib.be"
   ]
  },
  {
   "cell_type": "markdown",
   "metadata": {},
   "source": [
    "To do:\n",
    "- 6.2: slicing seqrecord objects\n",
    "- Exercise James?"
   ]
  }
 ],
 "metadata": {
  "kernelspec": {
   "display_name": "Python 3",
   "language": "python",
   "name": "python3"
  },
  "language_info": {
   "codemirror_mode": {
    "name": "ipython",
    "version": 3
   },
   "file_extension": ".py",
   "mimetype": "text/x-python",
   "name": "python",
   "nbconvert_exporter": "python",
   "pygments_lexer": "ipython3",
   "version": "3.7.3"
  }
 },
 "nbformat": 4,
 "nbformat_minor": 2
}
