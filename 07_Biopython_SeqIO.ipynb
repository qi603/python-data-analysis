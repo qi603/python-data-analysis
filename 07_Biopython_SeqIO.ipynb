{
 "cells": [
  {
   "cell_type": "markdown",
   "metadata": {},
   "source": [
    "# 7. Sequence input/output"
   ]
  },
  {
   "cell_type": "markdown",
   "metadata": {},
   "source": [
    "Content:\n",
    "- 7.1 Sequence input\n",
    "- 7.2 Parsing sequences from the internet\n",
    "- 7.3 Accessing NCBI's Entrez database\n",
    "    "
   ]
  },
  {
   "cell_type": "markdown",
   "metadata": {},
   "source": [
    "The `SeqIO` module provides a simple interface to input and output sequence file formats. Basically, you're working with a `SeqRecord` object which contains the `Seq` object as we've seen in the previous chapter, along with annotations like an identifier and description. "
   ]
  },
  {
   "cell_type": "code",
   "execution_count": null,
   "metadata": {},
   "outputs": [],
   "source": [
    "# Import SeqIO\n",
    "from Bio import SeqIO"
   ]
  },
  {
   "cell_type": "markdown",
   "metadata": {},
   "source": [
    "## 7.1 Sequence input\n",
    "The main function that is used for interacting with `Seq` objects is `Bio.SeqIO.read()`. It expects two arguments:\n",
    "1. An explicit **path to a file, a filehandle or a link** to data that can be downloaded from the internet \n",
    "2. A lower case string specifying the **sequence format**. Examples are: clustal, fasta, embl, fastq, genbank or gb, pdb-atom, swiss, uniprot-xml,... Best to specify the file format because [*explicit is better than implicit*](https://www.python.org/dev/peps/pep-0020/). \n",
    "\n",
    "The output of `Bio.SeqIO.parse()` is a `SeqRecord` iterator. \n"
   ]
  },
  {
   "cell_type": "code",
   "execution_count": null,
   "metadata": {
    "scrolled": true
   },
   "outputs": [],
   "source": [
    "# Here we're using the explicit path to a fasta file (in the data folder)\n",
    "for seq_record in SeqIO.parse(\"data/ls_orchid.fasta\", \"fasta\"):\n",
    "    print(seq_record.id)\n",
    "#    print(repr(seq_record.seq))\n",
    "#    print(len(seq_record))"
   ]
  },
  {
   "cell_type": "markdown",
   "metadata": {},
   "source": [
    "Alternatively, the same is also possible by using a handle. The `with` statement makes sure that the file is properly closed after reading it. "
   ]
  },
  {
   "cell_type": "code",
   "execution_count": null,
   "metadata": {
    "scrolled": true
   },
   "outputs": [],
   "source": [
    "# Similar to reading files in Python with a filehandle\n",
    "with open(\"data/ls_orchid.fasta\", \"r\") as handle:\n",
    "    for record in SeqIO.parse(handle, \"fasta\"):\n",
    "        print(record.id)"
   ]
  },
  {
   "cell_type": "markdown",
   "metadata": {},
   "source": [
    "It should be clear now that the `Bio.SeqIO.parse()` returns an *iterator* which gives `SeqRecord` objects. In the following cell blocks we'll showcase a couple of variants. Let's start with a more elegant, one-liner approach to retrieve **only the IDs**. "
   ]
  },
  {
   "cell_type": "code",
   "execution_count": null,
   "metadata": {},
   "outputs": [],
   "source": [
    "identifiers = [seq_record.id for seq_record in SeqIO.parse(\"data/ls_orchid.gbk\",\"genbank\")]"
   ]
  },
  {
   "cell_type": "markdown",
   "metadata": {},
   "source": [
    "If you're interested in the **first record** of this file:"
   ]
  },
  {
   "cell_type": "code",
   "execution_count": null,
   "metadata": {},
   "outputs": [],
   "source": [
    "# One special case to consider is when your sequence files have multiple records, but you only want the first one. \n",
    "first_record = next(SeqIO.parse(\"data/ls_orchid.gbk\", \"genbank\"))"
   ]
  },
  {
   "cell_type": "markdown",
   "metadata": {},
   "source": [
    "If there is only one record in the file, you might as well use the `Bio.SeqIO.read()` function. It takes the same two arguments and returns a SeqRecord object with one record. "
   ]
  },
  {
   "cell_type": "markdown",
   "metadata": {},
   "source": [
    "Iterators are great for when you only need the records one by one, in the order found in the file. For some tasks you may need to have **random access to the records in any order**. In this case, we're interested in using the `list`-function. "
   ]
  },
  {
   "cell_type": "code",
   "execution_count": null,
   "metadata": {},
   "outputs": [],
   "source": [
    "records = list(SeqIO.parse(\"data/ls_orchid.gbk\",\"genbank\"))\n",
    "print(f\"Found {len(records)} records\")"
   ]
  },
  {
   "cell_type": "markdown",
   "metadata": {},
   "source": [
    "Let's explore this list of records:"
   ]
  },
  {
   "cell_type": "code",
   "execution_count": null,
   "metadata": {},
   "outputs": [],
   "source": [
    "# Retrieve the third record:\n",
    "print(records[2])"
   ]
  },
  {
   "cell_type": "code",
   "execution_count": null,
   "metadata": {},
   "outputs": [],
   "source": [
    "# Explore the last record by first saving it in a separate variable:\n",
    "last_record = records[-1]\n",
    "print(last_record.id)\n",
    "print(repr(last_record.seq))\n",
    "print(len(last_record))"
   ]
  },
  {
   "cell_type": "markdown",
   "metadata": {},
   "source": [
    "--- \n",
    "### 7.1.1 Exercise\n",
    "Make a list that contains the organism of each record in the `data/ls_orchid.gbk`-file. \n",
    "\n",
    "Tip: you should make an empty list, iterate over all the records, access the organism and append it to the  list. "
   ]
  },
  {
   "cell_type": "code",
   "execution_count": null,
   "metadata": {},
   "outputs": [],
   "source": []
  },
  {
   "cell_type": "markdown",
   "metadata": {},
   "source": [
    "---"
   ]
  },
  {
   "cell_type": "markdown",
   "metadata": {},
   "source": [
    "Besides reading sequences (sequence input), it's also possible to write records out to a file (sequence output). The function that you'll need for this is `Bio.SeqIO.write()`. We will not cover it here, but more information is available on [Biopython's wiki page](https://biopython.org/wiki/SeqIO). Idem dito for file format conversions with `Bio.SeqIO.convert()`. This function is used for transforming e.g. a GenBank file to a Fasta file. These combinations of sequence inputs and outputs or file converters allow you to manipulate or filter data in some way. \n",
    "\n",
    "\n",
    "On a side note, sequence alignment files formats can be treated with `Bio.SeqIO`, however the newer `Bio.AlignIO` is designed to work with such alignment files directly. "
   ]
  },
  {
   "cell_type": "markdown",
   "metadata": {},
   "source": [
    "## 7.2 Parsing sequences from the internet\n",
    "In the previous sections, we looked at parsing sequence data from a file (using a filename or handle). As discussed in the introduction of this chapter, it's also possible to **download and parse sequences from the internet**.\n",
    "Note that just because you can download sequence data and parse it into a `SeqRecord` object in one go doesn't mean this is a good idea. In general, you should probably **download sequences once and save them to a file for later usage**.\n",
    "\n",
    "Entrez (https://www.ncbi.nlm.nih.gov/Web/Search/entrezfs.html) is a data retrieval system that provides\n",
    "users access to NCBI's databases such as PubMed, GenBank, GEO, and many others. You can access\n",
    "Entrez from a web browser to manually enter queries, or you can use Biopython's Bio.Entrez module for\n",
    "programmatic access to Entrez. Read the guidelines [here](https://www.ncbi.nlm.nih.gov/books/NBK25497/). The latter allows you for example to search PubMed or download GenBank records from within a Python script.\n",
    "\n",
    "Let's try to retrieve a sequence from the NCBI website, more specifically the entry with the following ID: [6273291](https://www.ncbi.nlm.nih.gov/nuccore/6273291). \n",
    "- First, we'll have to define who we are. This is a standard process when fetching data from a database.\n",
    "- Then, we're telling the `efetch()` function that we want to access the nucleotide database, we're looking for a fasta sequence, the file format and the id in the form of a handle, which we will subsequently read with the `Bio.SeqIO.read()` function. "
   ]
  },
  {
   "cell_type": "code",
   "execution_count": null,
   "metadata": {},
   "outputs": [],
   "source": [
    "# Imports\n",
    "from Bio import Entrez\n",
    "from Bio import SeqIO\n",
    "\n",
    "# Identify yourself for NCBI\n",
    "Entrez.email = \"hello@its.me\"\n",
    "\n",
    "# Create a handle to some specific data (a sequence in fasta format)\n",
    "with Entrez.efetch(db=\"nucleotide\", rettype=\"fasta\", retmode=\"text\", id=\"6273291\") as handle:\n",
    "    # Read in the fasta file\n",
    "    seq_record = SeqIO.read(handle, \"fasta\")\n",
    "\n",
    "print(seq_record)"
   ]
  },
  {
   "cell_type": "markdown",
   "metadata": {},
   "source": [
    "Idem dito for the genbank file of this entry:"
   ]
  },
  {
   "cell_type": "code",
   "execution_count": null,
   "metadata": {},
   "outputs": [],
   "source": [
    "# Downloading genbank file of the same ID\n",
    "with Entrez.efetch(db=\"nucleotide\", rettype=\"gb\", retmode=\"text\", id=\"6273291\") as handle:\n",
    "    # Read in the genbank file\n",
    "    seq_record = SeqIO.read(handle, \"gb\")\n",
    "    \n",
    "# Print out the results\n",
    "print(f\"{seq_record.id} with {len(seq_record.features)} features\")"
   ]
  },
  {
   "cell_type": "code",
   "execution_count": null,
   "metadata": {},
   "outputs": [],
   "source": [
    "# Check some annotations of the genbank (SeqRecord) data\n",
    "seq_record.annotations"
   ]
  },
  {
   "cell_type": "markdown",
   "metadata": {},
   "source": [
    "## 7.3 Accessing NCBI's Entrez database\n",
    "\n",
    "Although we've been explicitly requesting to get outputs in text-format in the examples above, the output returned by `Entrez` is typically in XML format. To parse such output, you have several options, however most appropriate is often to use `Bio.Entrez`'s parser to parse the XML output into a Python object. "
   ]
  },
  {
   "cell_type": "code",
   "execution_count": null,
   "metadata": {},
   "outputs": [],
   "source": [
    "# Imports\n",
    "from Bio import Entrez"
   ]
  },
  {
   "cell_type": "markdown",
   "metadata": {},
   "source": [
    "Next, we have to enter our e-mail address as you're limited to the amount of requests and the NCBI server might block you to prevent any spamming behaviour:"
   ]
  },
  {
   "cell_type": "code",
   "execution_count": null,
   "metadata": {},
   "outputs": [],
   "source": [
    "# Identify yourself\n",
    "Entrez.email = \"hello@itsme.eu\""
   ]
  },
  {
   "cell_type": "markdown",
   "metadata": {},
   "source": [
    "Now we can use `Bio.Entrez.esearch()` to search any of the databases of NCBI. Along with the esearch we define the parameters:\n",
    "- db: for the database, i.e. nucleotide for a genbank file\n",
    "- term: the search term in the style of NCBI searches\n",
    "- idtype: if idtype is set to ‘acc’, ESearch will return accession.version identifiers rather than GI (GenInfo Identifier) numbers."
   ]
  },
  {
   "cell_type": "code",
   "execution_count": null,
   "metadata": {},
   "outputs": [],
   "source": [
    "# Search through NCBI nucleotide database for a gene from an organism. \n",
    "handle = Entrez.esearch(db=\"nucleotide\", term=\"Cypripedioideae[Orgn] AND matK[Gene]\", idtype=\"acc\")\n",
    "record = Entrez.read(handle)\n",
    "print(record[\"Count\"])\n",
    "print(record[\"IdList\"])\n"
   ]
  },
  {
   "cell_type": "markdown",
   "metadata": {},
   "source": [
    "Each of these IDs is aGenBank identifier (accession number). We can download this GenBank record(s) by using `efetch()`. `efetch()` is what you use when you want to retrieve a full record from Entrez. This covers several possible databases. For most of their databases, the NCBI support several different file formats. Requesting a specific file format from Entrez using `Bio.Entrez.efetch()` requires specifying the `rettype` and/or `retmode` (default = xml) optional arguments. The different combinations are described for each database type on the pages linked to on [NCBI efetch webpage](https://www.ncbi.nlm.nih.gov/books/NBK25499/#chapter4.EFetch)."
   ]
  },
  {
   "cell_type": "code",
   "execution_count": null,
   "metadata": {},
   "outputs": [],
   "source": [
    "handle = Entrez.efetch(db=\"nucleotide\", id=\"EU490707\", rettype=\"gb\", retmode=\"text\")\n",
    "print(handle.read())"
   ]
  },
  {
   "cell_type": "markdown",
   "metadata": {},
   "source": [
    "The arguments `rettype=\"gb\"` and `retmode=\"text\"` let us download this record in the GenBank format. Alternatively, you could for example use `rettype=\"fasta\"` to get the Fasta-format. "
   ]
  },
  {
   "cell_type": "markdown",
   "metadata": {},
   "source": [
    "**Note** that a more typical use would be to save the sequence data to a local file, and then parse it with\n",
    "Bio.SeqIO. This can save you having to re-download the same file repeatedly while working on your script,\n",
    "and places less load on the NCBI's servers. For example:"
   ]
  },
  {
   "cell_type": "code",
   "execution_count": null,
   "metadata": {},
   "outputs": [],
   "source": [
    "# Imports\n",
    "import os\n",
    "from Bio import SeqIO\n",
    "from Bio import Entrez\n",
    "\n",
    "# Name of the new file with the genbank record\n",
    "filename = \"data/EU490707.gbk\"\n",
    "# Check whether file exists\n",
    "if not os.path.isfile(filename):\n",
    "    # Downloading entry from NCBI nt database in text output  and storing as filehandle\n",
    "    with Entrez.efetch(db=\"nucleotide\", id=\"EU490707\", rettype=\"gb\", retmode=\"text\") as net_handle:\n",
    "        # Make filehandle to where the file will be written to\n",
    "        with open(filename, \"w\") as out_handle:\n",
    "            # Write out the information to the file\n",
    "            out_handle.write(net_handle.read())\n",
    "    \n",
    "# Read the record back in\n",
    "record = SeqIO.read(filename, \"genbank\")\n",
    "print(record)"
   ]
  },
  {
   "cell_type": "markdown",
   "metadata": {},
   "source": [
    "## 7.4 Next session\n",
    "Click here to go to the [next session](08_Biopython_BLAST.ipynb). "
   ]
  }
 ],
 "metadata": {
  "kernelspec": {
   "display_name": "Python 3",
   "language": "python",
   "name": "python3"
  },
  "language_info": {
   "codemirror_mode": {
    "name": "ipython",
    "version": 3
   },
   "file_extension": ".py",
   "mimetype": "text/x-python",
   "name": "python",
   "nbconvert_exporter": "python",
   "pygments_lexer": "ipython3",
   "version": "3.7.9"
  }
 },
 "nbformat": 4,
 "nbformat_minor": 2
}
