{
 "cells": [
  {
   "cell_type": "markdown",
   "metadata": {},
   "source": [
    "# 5. Sequence Objects\n",
    "Some further reading on sequence objects\n"
   ]
  },
  {
   "cell_type": "markdown",
   "metadata": {},
   "source": [
    "## 5.7 Comparing Seq objects\n"
   ]
  },
  {
   "cell_type": "markdown",
   "metadata": {},
   "source": [
    "you might argue that the two DNA Seq objects Seq(\"ACGT\", IUPAC.unambiguous dna)\n",
    "and Seq(\"ACGT\", IUPAC.ambiguous dna) should be equal, even though they do have different alphabets.\n",
    "Depending on the context this could be important\n",
    "\n",
    "\n",
    "This gets worse - suppose you think Seq(\"ACGT\", IUPAC.unambiguous dna) and Seq(\"ACGT\") (i.e. the\n",
    "default generic alphabet) should be equal. Then, logically, Seq(\"ACGT\", IUPAC.protein) and Seq(\"ACGT\")\n",
    "should also be equal. Now, in logic if A = B and B = C, by transitivity we expect A = C. So for logical\n",
    "consistency we'd require Seq(\"ACGT\", IUPAC.unambiguous dna) and Seq(\"ACGT\", IUPAC.protein) to be\n",
    "equal { which most people would agree is just not right. This transitivity also has implications for using Seq\n",
    "objects as Python dictionary keys."
   ]
  },
  {
   "cell_type": "code",
   "execution_count": 57,
   "metadata": {},
   "outputs": [
    {
     "data": {
      "text/plain": [
       "True"
      ]
     },
     "execution_count": 57,
     "metadata": {},
     "output_type": "execute_result"
    }
   ],
   "source": [
    "from Bio.Seq import Seq\n",
    "from Bio.Alphabet import IUPAC\n",
    "seq1 = Seq(\"ACGT\", IUPAC.unambiguous_dna)\n",
    "seq2 = Seq(\"ACGT\", IUPAC.ambiguous_dna)\n",
    "str(seq1) == str(seq2)\n",
    "#str(seq1) == str(seq1)"
   ]
  },
  {
   "cell_type": "markdown",
   "metadata": {},
   "source": [
    "comparison only looks at the sequence, essentially ignoring the alphabet:"
   ]
  },
  {
   "cell_type": "code",
   "execution_count": 58,
   "metadata": {},
   "outputs": [
    {
     "data": {
      "text/plain": [
       "True"
      ]
     },
     "execution_count": 58,
     "metadata": {},
     "output_type": "execute_result"
    }
   ],
   "source": [
    "seq1 == seq2"
   ]
  },
  {
   "cell_type": "code",
   "execution_count": 59,
   "metadata": {},
   "outputs": [
    {
     "data": {
      "text/plain": [
       "True"
      ]
     },
     "execution_count": 59,
     "metadata": {},
     "output_type": "execute_result"
    }
   ],
   "source": [
    "seq1 == \"ACGT\""
   ]
  },
  {
   "cell_type": "markdown",
   "metadata": {},
   "source": [
    "using sequence objects as keys in a Python dictionary is now equivalent to using\n",
    "the sequence as a plain string for the key.\n",
    "\n",
    "Note if you compare sequences with incompatible alphabets (e.g. DNA vs RNA, or nucleotide versus\n",
    "protein), then you will get a warning but for the comparison itself only the string of letters in the sequence\n",
    "is used:"
   ]
  },
  {
   "cell_type": "code",
   "execution_count": 60,
   "metadata": {},
   "outputs": [
    {
     "name": "stderr",
     "output_type": "stream",
     "text": [
      "C:\\Users\\tuurm\\Anaconda3\\lib\\site-packages\\Bio\\Seq.py:217: BiopythonWarning: Incompatible alphabets DNAAlphabet() and ProteinAlphabet()\n",
      "  BiopythonWarning)\n"
     ]
    },
    {
     "data": {
      "text/plain": [
       "True"
      ]
     },
     "execution_count": 60,
     "metadata": {},
     "output_type": "execute_result"
    }
   ],
   "source": [
    "from Bio.Alphabet import generic_dna, generic_protein\n",
    "dna_seq = Seq(\"ACGT\", generic_dna)\n",
    "prot_seq = Seq(\"ACGT\", generic_protein)\n",
    "dna_seq == prot_seq"
   ]
  },
  {
   "cell_type": "markdown",
   "metadata": {},
   "source": [
    "## 5.8 MutableSeq objects\n",
    "Just like the normal Python string, the Seq object is \"read only\" (immutable).\n",
    "\n",
    "also a useful default since in many biological\n",
    "applications you want to ensure you are not changing your sequence data"
   ]
  },
  {
   "cell_type": "code",
   "execution_count": null,
   "metadata": {},
   "outputs": [],
   "source": [
    "my_seq = Seq(\"GCCATTGTAATGGGCCGCTGAAAGGGTGCCCGA\", IUPAC.unambiguous_dna)\n",
    "my_seq[5]"
   ]
  },
  {
   "cell_type": "code",
   "execution_count": null,
   "metadata": {},
   "outputs": [],
   "source": [
    "# This won't work because it's not possible to change the sequence in a Seq object\n",
    "# my_seq[5] = \"G\""
   ]
  },
  {
   "cell_type": "markdown",
   "metadata": {},
   "source": [
    "convert it into a mutable sequence MutableSeq object"
   ]
  },
  {
   "cell_type": "code",
   "execution_count": null,
   "metadata": {},
   "outputs": [],
   "source": [
    "mutable_seq = my_seq.tomutable()\n",
    "mutable_seq"
   ]
  },
  {
   "cell_type": "code",
   "execution_count": null,
   "metadata": {},
   "outputs": [],
   "source": [
    "# create a MutableSeq object directly from a string\n",
    "from Bio.Seq import MutableSeq\n",
    "mutable_seq = MutableSeq(\"GCCATTGTAATGGGCCGCTGAAAGGGTGCCCGA\", IUPAC.unambiguous_dna)"
   ]
  },
  {
   "cell_type": "code",
   "execution_count": null,
   "metadata": {},
   "outputs": [],
   "source": [
    "mutable_seq"
   ]
  },
  {
   "cell_type": "code",
   "execution_count": null,
   "metadata": {},
   "outputs": [],
   "source": [
    "mutable_seq[5] = \"G\"\n",
    "mutable_seq"
   ]
  },
  {
   "cell_type": "code",
   "execution_count": null,
   "metadata": {},
   "outputs": [],
   "source": [
    "# Remove the first T\n",
    "mutable_seq.remove(\"T\")\n",
    "mutable_seq"
   ]
  },
  {
   "cell_type": "code",
   "execution_count": null,
   "metadata": {},
   "outputs": [],
   "source": [
    "mutable_seq.reverse()\n",
    "mutable_seq"
   ]
  },
  {
   "cell_type": "markdown",
   "metadata": {},
   "source": [
    "Do note that unlike the Seq object, the MutableSeq object's methods like reverse_complement() and\n",
    "reverse() act in-situ!\n",
    "\n",
    "can't use a MutableSeq object as a dictionary key, but you can use a Python string or a Seq object in this\n",
    "way.\n"
   ]
  },
  {
   "cell_type": "code",
   "execution_count": null,
   "metadata": {},
   "outputs": [],
   "source": [
    "new_seq = mutable_seq.toseq()"
   ]
  },
  {
   "cell_type": "markdown",
   "metadata": {},
   "source": [
    "## 5.9 UnknownSeq objects\n",
    "a subclass of the basic Seq object and its purpose is to represent a sequence where\n",
    "we know the length, but not the actual letters making it up\n",
    "\n",
    "normal Seq object wastes a lot of memory to hold a string of a million \"N\" characters with desired length as an integer:"
   ]
  },
  {
   "cell_type": "code",
   "execution_count": null,
   "metadata": {},
   "outputs": [],
   "source": [
    "from Bio.Seq import UnknownSeq\n",
    "unk = UnknownSeq(20)\n",
    "unk"
   ]
  },
  {
   "cell_type": "code",
   "execution_count": null,
   "metadata": {},
   "outputs": [],
   "source": [
    "len(unk)"
   ]
  },
  {
   "cell_type": "markdown",
   "metadata": {},
   "source": [
    "specify an alphabet, meaning for nucleotide sequences the letter defaults to \"N\" and\n",
    "for proteins \"X\", rather than just \"?\"."
   ]
  },
  {
   "cell_type": "code",
   "execution_count": null,
   "metadata": {},
   "outputs": [],
   "source": [
    "unk_dna = UnknownSeq(20, alphabet = IUPAC.ambiguous_dna)\n",
    "unk_dna"
   ]
  },
  {
   "cell_type": "code",
   "execution_count": null,
   "metadata": {},
   "outputs": [],
   "source": [
    "print(unk_dna)"
   ]
  },
  {
   "cell_type": "markdown",
   "metadata": {},
   "source": [
    "You can use all the usual Seq object methods too, note these give back memory saving UnknownSeq\n",
    "objects where appropriate as you might expect:"
   ]
  },
  {
   "cell_type": "code",
   "execution_count": null,
   "metadata": {},
   "outputs": [],
   "source": [
    "unk_dna\n",
    "unk_dna.reverse_complement()\n",
    "unk_dna.complement()\n",
    "unk_dna.transcribe()\n",
    "unk_prot = unk_dna.translate()\n",
    "unk_prot"
   ]
  },
  {
   "cell_type": "markdown",
   "metadata": {},
   "source": [
    "You may be able to find a use for the `UnknownSeq` object in your own code, but it is more likely that you\n",
    "will first come across them in a `SeqRecord` object created by `Bio.SeqIO`. Some sequence file\n",
    "formats don't always include the actual sequence, for example GenBank and EMBL files may include a list\n",
    "of features but for the sequence just present the contig information (set of overlapping DNA segments that together represent a consensus region of DNA). Alternatively, the QUAL² files used in sequencing work hold quality scores but they never contain a sequence - instead there is a partner FASTA file which does have the sequence.\n",
    " \n",
    " ² A QUAL file contains quality scores for one or more biological sequences stored in a corresponding FASTA file. QUAL format is very similar to FASTA format: it stores records sequentially, with each record beginning with a header line containing a sequence ID and description."
   ]
  },
  {
   "cell_type": "markdown",
   "metadata": {},
   "source": [
    "## 5.10 Working with strings directly\n",
    "Not keen on object oriented programming? Functional programming is possible as well, however it is encouraged to work with Seq objects by default"
   ]
  }
 ],
 "metadata": {
  "kernelspec": {
   "display_name": "Python 3",
   "language": "python",
   "name": "python3"
  },
  "language_info": {
   "codemirror_mode": {
    "name": "ipython",
    "version": 3
   },
   "file_extension": ".py",
   "mimetype": "text/x-python",
   "name": "python",
   "nbconvert_exporter": "python",
   "pygments_lexer": "ipython3",
   "version": "3.7.3"
  }
 },
 "nbformat": 4,
 "nbformat_minor": 2
}
