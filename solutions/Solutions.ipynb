{
 "cells": [
  {
   "cell_type": "markdown",
   "metadata": {},
   "source": [
    "# Solutions"
   ]
  },
  {
   "cell_type": "markdown",
   "metadata": {},
   "source": [
    "---\n",
    "### 2.3.1 Exercise:\n",
    "\n",
    "Add the following data to the `mySerie1` pandas Series object as a new row:\n",
    "\n",
    "```\n",
    "GeneK   25\n",
    "```"
   ]
  },
  {
   "cell_type": "code",
   "execution_count": null,
   "metadata": {},
   "outputs": [],
   "source": [
    "# Make a pandas Series from a dictionary and append it to the `mySerie1` pandas Series object. \n",
    "mySerie2 = pd.Series({\"GeneK\" : 25})\n",
    "mySerie1.append(mySerie2)"
   ]
  },
  {
   "cell_type": "markdown",
   "metadata": {},
   "source": [
    "---\n",
    "### Exercise 2.4.1\n",
    "- Select the number of counts in *GeneD* for the second and third experiment. \n",
    "- Add a new column to the dataframe with the average of the three experiments."
   ]
  },
  {
   "cell_type": "code",
   "execution_count": null,
   "metadata": {},
   "outputs": [],
   "source": [
    "# Subquestion one\n",
    "#df[['counts_exp2','counts_exp3']][3:4]\n",
    "#df.iloc[[3],[1,2]]\n",
    "#df.loc[['GeneD'],['counts_exp2','counts_exp3']]\n",
    "\n",
    "# Subquestion two\n",
    "#df['avg'] = (df['counts_exp1'] + df['counts_exp2'] + df['counts_exp3']) / 3"
   ]
  },
  {
   "cell_type": "markdown",
   "metadata": {},
   "source": [
    "---\n",
    "### Exercise 2.4.2\n",
    "\n",
    "- Search in the pandas documentation for the median method and add a column that describes the median value per gene.\n",
    "- Search in the pandas documentation for a method that will count all of the values of one experiment and add it as an extra row to the table. \n",
    "- Remove the row with the sum of the counts that we added in the previous step. "
   ]
  },
  {
   "cell_type": "code",
   "execution_count": null,
   "metadata": {},
   "outputs": [],
   "source": [
    "# Subquestion one\n",
    "df.median(axis = 1, skipna = True)\n",
    "df[['counts_exp1','counts_exp2','counts_exp3']].median(axis = 1, skipna = True)\n",
    "df['median'] = df[['counts_exp1','counts_exp2','counts_exp3']].median(axis = 1, skipna = True)\n",
    "\n",
    "# Subquestion two (some extra reading regarding this method: https://stackoverflow.com/questions/10715965/add-one-row-to-pandas-dataframe)\n",
    "df.sum()\n",
    "df[['counts_exp1','counts_exp2','counts_exp3']].sum()\n",
    "df.loc['sum'] = df[['counts_exp1','counts_exp2','counts_exp3','avg']].sum()\n",
    "df\n",
    "\n",
    "# Subquestion three\n",
    "df.drop('sum', axis = 0, inplace=True)"
   ]
  },
  {
   "cell_type": "markdown",
   "metadata": {},
   "source": [
    "---\n",
    "### 2.5.1 Exercise\n",
    "Search for the parameters of `.read_csv` that you need in order to read in the `annotation.csv` file where:\n",
    "- chromosomes are the index of the rows, and \n",
    "- only the first 10 rows are imported.  "
   ]
  },
  {
   "cell_type": "code",
   "execution_count": null,
   "metadata": {},
   "outputs": [],
   "source": [
    "annotation_sub = pd.read_csv('data/annotation.csv', index_col = 'chr', nrows = 10)\n",
    "#annotation_sub"
   ]
  },
  {
   "cell_type": "markdown",
   "metadata": {},
   "source": [
    "---\n",
    "### 2.5.2 Exercise\n",
    "Can you find a method that will retrieve the indices of all the virginica flowers? "
   ]
  },
  {
   "cell_type": "code",
   "execution_count": null,
   "metadata": {},
   "outputs": [],
   "source": [
    "iris.loc[iris['species'] == 'virginica'].index"
   ]
  },
  {
   "cell_type": "markdown",
   "metadata": {},
   "source": [
    "---\n",
    "### 2.5.3 Exercise\n",
    "From the file `annotation.csv`:\n",
    "- Sort, in descending way, the table based on the counts in exons  \n",
    "- Make a subselection with all chromosomes where at least 15 counts in introns. "
   ]
  },
  {
   "cell_type": "code",
   "execution_count": null,
   "metadata": {},
   "outputs": [],
   "source": [
    "annotations = pd.read_csv('data/annotation.csv', index_col = 'chr')\n",
    "#annotations"
   ]
  },
  {
   "cell_type": "code",
   "execution_count": null,
   "metadata": {},
   "outputs": [],
   "source": [
    "# Subquestion one\n",
    "annotations.sort_values(by=['exon'], ascending = False)\n",
    "\n",
    "# Subquestion two\n",
    "annotations[annotations['intron'] >= 15]"
   ]
  },
  {
   "cell_type": "markdown",
   "metadata": {},
   "source": [
    "---\n",
    "### 2.5.4 Exercise\n",
    "In this exercise, derived from the [GTN](https://galaxyproject.github.io/training-material/topics/transcriptomics/tutorials/rna-seq-viz-with-heatmap2/tutorial.html), we will prepare the data to create a heatmap (*Exercise 3.x.y?*) of the top differentially expressed genes in an RNA-seq counts dataset. \n",
    "- [`counts`](https://zenodo.org/record/2529926/files/limma-voom_normalised_counts)\n",
    "- [`de_genes`](https://zenodo.org/record/2529926/files/limma-voom_luminalpregnant-luminallactate)  \n",
    "\n",
    "The latter file contains the results from comparing gene expression in the luminal cells in the pregnant versus lactating mice. It includes genes that are not significantly differentially expressed. We’ll call genes significantly differentially expressed in this dataset if they pass the thresholds of `adjusted P-value < 0.01` and `fold change of > 1.5 (log2FC of 0.58)`. Filter the top 20 DE genes from that table and create a joint dataframe that contains only the following columns and looks like this:\n",
    "\n",
    "| SYMBOL_x |  MCL1.DG |  MCL1.DH |  MCL1.DI |  MCL1.DJ |   MCL1.DK |   MCL1.DL |  MCL1.LA |  MCL1.LB |  MCL1.LC |  MCL1.LD |  MCL1.LE |  MCL1.LF |\n",
    "|---------:|---------:|---------:|---------:|---------:|----------:|----------:|---------:|---------:|---------:|---------:|---------:|----------|\n",
    "|     Ggt1 | 6.732347 | 6.556047 | 6.558849 | 6.586562 |  6.437596 |  6.394067 | 5.193118 | 5.526432 | 4.223990 | 4.341605 | 7.243899 | 7.354535 |\n",
    "|  Slc39a4 | 2.722153 | 3.027691 | 2.175532 | 1.993214 | -0.193255 | -0.016902 | 3.071502 | 2.928202 | 6.472918 | 6.526836 | 2.430346 | 1.847241 |\n",
    "|      Ppl | 5.102274 | 4.900942 | 5.755087 | 5.951023 |  6.851420 |  6.881858 | 7.359977 | 7.732010 | 8.227118 | 8.437499 | 4.646145 | 4.798986 |\n",
    "| ...   |     ...     |      ...    |   ...       |        ...  |    ...       |         ...  |       ...  |        ...   |      ...    |      ...    |       ...   |       ...   |\n",
    "\n",
    "Save the file as a csv-file in the data-folder. "
   ]
  },
  {
   "cell_type": "code",
   "execution_count": null,
   "metadata": {},
   "outputs": [],
   "source": [
    "counts = pd.read_csv('https://zenodo.org/record/2529926/files/limma-voom_normalised_counts', sep='\\t')\n",
    "de_genes = pd.read_csv('https://zenodo.org/record/2529926/files/limma-voom_luminalpregnant-luminallactate', sep='\\t')"
   ]
  },
  {
   "cell_type": "code",
   "execution_count": null,
   "metadata": {},
   "outputs": [],
   "source": [
    "# Filters\n",
    "p_adj_lim = 0.01\n",
    "logFC_lim = 0.58\n",
    "\n",
    "\n",
    "de_tmp = de_genes[abs(de_genes['logFC']) > logFC_lim] \n",
    "de_filter = de_tmp[de_tmp['P.Value'] < p_adj_lim] \n",
    "de_filter \n",
    "de_filter = de_filter.sort_values('P.Value')\n",
    "de_top20 = de_filter.iloc[0:20, :]\n",
    "de_top20\n",
    "df_heatmap = pd.merge(counts, de_top20, on='ENTREZID')\n",
    "df_heatmap\n",
    "de_set = df_heatmap.iloc[:, [1, 3, 4, 5, 6, 7, 8, 9, 10, 11, 12, 13, 14]]\n",
    "de_set = de_set.set_index('SYMBOL_x')\n",
    "de_set"
   ]
  },
  {
   "cell_type": "code",
   "execution_count": null,
   "metadata": {},
   "outputs": [],
   "source": [
    "de_set.to_csv('data/heatmap_data.csv')"
   ]
  },
  {
   "cell_type": "markdown",
   "metadata": {},
   "source": [
    "---\n",
    "### 3.2.1 Exercise \n",
    "Edit the lineplot above with the following adjustments:\n",
    "- Set the style to a white background with ticks on the axes\n",
    "- Set the context to a paper format\n",
    "- Change the figure size\n",
    "- Rename the axes and title of the plot \n",
    "\n",
    "Use the information here below to change the lay-out of the plot."
   ]
  },
  {
   "cell_type": "code",
   "execution_count": null,
   "metadata": {},
   "outputs": [],
   "source": [
    "# 1. Import data\n",
    "\n",
    "# 2. Set style of the plot\n",
    "sns.set_style(\"ticks\")\n",
    "sns.set_context(\"paper\")\n",
    "\n",
    "# 3. Define/create the plot\n",
    "f = plt.figure(figsize=(10,4))\n",
    "ax = sns.lineplot(x = 'Date', y = 'Cost per Mb', data = seqcost)\n",
    "\n",
    "# 4. Tweak lay-out\n",
    "ax.set(xlabel='Years', ylabel='Cost per Mb', title='Cost of sequencing')\n",
    "plt.setp(ax.get_xticklabels(), rotation=90)\n",
    "sns.despine()\n",
    "#plt.savefig('img/seqcost.png')"
   ]
  },
  {
   "cell_type": "markdown",
   "metadata": {},
   "source": [
    "---\n",
    "### 3.2.2 Extra exercise\n",
    "Make two subplots underneath each other that plot the Cost per Mb over years and the Total cost. \n",
    "Find more information on subplots [here](https://matplotlib.org/3.1.0/gallery/subplots_axes_and_figures/subplots_demo.html)."
   ]
  },
  {
   "cell_type": "code",
   "execution_count": null,
   "metadata": {},
   "outputs": [],
   "source": [
    "fig, axs = plt.subplots(nrows = 2, ncols = 1, figsize= (10,7))\n",
    "sns.despine()\n",
    "fig.suptitle('Vertically stacked subplots')\n",
    "sns.lineplot(x = 'Date', y = 'Cost per Mb', data = seqcost, color = 'b', ax = axs[0])\n",
    "sns.lineplot(x = 'Date', y = 'Cost per Genome', data = seqcost, color = 'r', ax = axs[1])\n",
    "\n",
    "#plt.setp(axs, yticks=[])\n",
    "plt.setp(axs[0].get_xticklabels(), rotation=90)\n",
    "plt.setp(axs[1].get_xticklabels(), rotation=90)\n",
    "plt.tight_layout()\n",
    "#plt.savefig('img/subplots_seqcost.png')"
   ]
  }
 ],
 "metadata": {
  "kernelspec": {
   "display_name": "Python 3",
   "language": "python",
   "name": "python3"
  },
  "language_info": {
   "codemirror_mode": {
    "name": "ipython",
    "version": 3
   },
   "file_extension": ".py",
   "mimetype": "text/x-python",
   "name": "python",
   "nbconvert_exporter": "python",
   "pygments_lexer": "ipython3",
   "version": "3.7.3"
  }
 },
 "nbformat": 4,
 "nbformat_minor": 2
}
