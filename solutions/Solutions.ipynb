{
 "cells": [
  {
   "cell_type": "markdown",
   "metadata": {},
   "source": [
    "# Solutions"
   ]
  },
  {
   "cell_type": "markdown",
   "metadata": {},
   "source": [
    "---\n",
    "### 2.3.1 Exercise:\n",
    "\n",
    "Add the following data to the `mySerie1` pandas Series object as a new row:\n",
    "\n",
    "```\n",
    "GeneK   25\n",
    "```"
   ]
  },
  {
   "cell_type": "code",
   "execution_count": null,
   "metadata": {},
   "outputs": [],
   "source": [
    "# Make a pandas Series from a dictionary and append it to the `mySerie1` pandas Series object. \n",
    "mySerie2 = pd.Series({\"GeneK\" : 25})\n",
    "mySerie1.append(mySerie2)"
   ]
  },
  {
   "cell_type": "markdown",
   "metadata": {},
   "source": [
    "---\n",
    "### Exercise 2.4.1\n",
    "- Select the number of counts in *GeneD* for the second and third experiment. \n",
    "- Add a new column to the dataframe with the average of the three experiments."
   ]
  },
  {
   "cell_type": "code",
   "execution_count": null,
   "metadata": {},
   "outputs": [],
   "source": [
    "# Subquestion one\n",
    "#df[['counts_exp2','counts_exp3']][3:4]\n",
    "#df.iloc[[3],[1,2]]\n",
    "#df.loc[['GeneD'],['counts_exp2','counts_exp3']]\n",
    "\n",
    "# Subquestion two\n",
    "#df['avg'] = (df['counts_exp1'] + df['counts_exp2'] + df['counts_exp3']) / 3"
   ]
  },
  {
   "cell_type": "markdown",
   "metadata": {},
   "source": [
    "---\n",
    "### Exercise 2.4.2\n",
    "\n",
    "- Search in the pandas documentation for the median method and add a column that describes the median value per gene.\n",
    "- Search in the pandas documentation for a method that will count all of the values of one experiment and add it as an extra row to the table. \n",
    "- Remove the row with the sum of the counts that we added in the previous step. "
   ]
  },
  {
   "cell_type": "code",
   "execution_count": null,
   "metadata": {},
   "outputs": [],
   "source": [
    "# Subquestion one\n",
    "df.median(axis = 1, skipna = True)\n",
    "df[['counts_exp1','counts_exp2','counts_exp3']].median(axis = 1, skipna = True)\n",
    "df['median'] = df[['counts_exp1','counts_exp2','counts_exp3']].median(axis = 1, skipna = True)\n",
    "\n",
    "# Subquestion two (some extra reading regarding this method: https://stackoverflow.com/questions/10715965/add-one-row-to-pandas-dataframe)\n",
    "df.sum()\n",
    "df[['counts_exp1','counts_exp2','counts_exp3']].sum()\n",
    "df.loc['sum'] = df[['counts_exp1','counts_exp2','counts_exp3','avg']].sum()\n",
    "df\n",
    "\n",
    "# Subquestion three\n",
    "df.drop('sum', axis = 0, inplace=True)"
   ]
  },
  {
   "cell_type": "markdown",
   "metadata": {},
   "source": [
    "---\n",
    "### 2.5.1 Exercise\n",
    "Search for the parameters of `.read_csv` that you need in order to read in the `annotation.csv` file where:\n",
    "- chromosomes are the index of the rows, and \n",
    "- only the first 10 rows are imported.  "
   ]
  },
  {
   "cell_type": "code",
   "execution_count": null,
   "metadata": {},
   "outputs": [],
   "source": [
    "annotation_sub = pd.read_csv('data/annotation.csv', index_col = 'chr', nrows = 10)\n",
    "#annotation_sub"
   ]
  },
  {
   "cell_type": "markdown",
   "metadata": {},
   "source": [
    "---\n",
    "### 2.5.2 Exercise\n",
    "Can you find a method that will retrieve the indices of all the virginica flowers? "
   ]
  },
  {
   "cell_type": "code",
   "execution_count": null,
   "metadata": {},
   "outputs": [],
   "source": [
    "iris.loc[iris['species'] == 'virginica'].index"
   ]
  },
  {
   "cell_type": "markdown",
   "metadata": {},
   "source": [
    "---\n",
    "### 2.5.3 Exercise\n",
    "From the file `annotation.csv`:\n",
    "- Sort, in descending way, the table based on the counts in exons  \n",
    "- Make a subselection with all chromosomes where at least 15 counts in introns. "
   ]
  },
  {
   "cell_type": "code",
   "execution_count": null,
   "metadata": {},
   "outputs": [],
   "source": [
    "annotations = pd.read_csv('data/annotation.csv', index_col = 'chr')\n",
    "#annotations"
   ]
  },
  {
   "cell_type": "code",
   "execution_count": null,
   "metadata": {},
   "outputs": [],
   "source": [
    "# Subquestion one\n",
    "annotations.sort_values(by=['exon'], ascending = False)\n",
    "\n",
    "# Subquestion two\n",
    "annotations[annotations['intron'] >= 15]"
   ]
  },
  {
   "cell_type": "markdown",
   "metadata": {},
   "source": [
    "---\n",
    "### 2.5.4 Exercise\n",
    "In this exercise, derived from the [GTN](https://galaxyproject.github.io/training-material/topics/transcriptomics/tutorials/rna-seq-viz-with-heatmap2/tutorial.html), we will prepare the data to create a heatmap (*Exercise 3.x.y?*) of the top differentially expressed genes in an RNA-seq counts dataset. \n",
    "- [`counts`](https://zenodo.org/record/2529926/files/limma-voom_normalised_counts)\n",
    "- [`de_genes`](https://zenodo.org/record/2529926/files/limma-voom_luminalpregnant-luminallactate)  \n",
    "\n",
    "The latter file contains the results from comparing gene expression in the luminal cells in the pregnant versus lactating mice. It includes genes that are not significantly differentially expressed. We’ll call genes significantly differentially expressed in this dataset if they pass the thresholds of `adjusted P-value < 0.01` and `fold change of > 1.5 (log2FC of 0.58)`. Filter the top 20 DE genes from that table and create a joint dataframe that contains only the following columns and looks like this:\n",
    "\n",
    "| SYMBOL_x |  MCL1.DG |  MCL1.DH |  MCL1.DI |  MCL1.DJ |   MCL1.DK |   MCL1.DL |  MCL1.LA |  MCL1.LB |  MCL1.LC |  MCL1.LD |  MCL1.LE |  MCL1.LF |\n",
    "|---------:|---------:|---------:|---------:|---------:|----------:|----------:|---------:|---------:|---------:|---------:|---------:|----------|\n",
    "|     Ggt1 | 6.732347 | 6.556047 | 6.558849 | 6.586562 |  6.437596 |  6.394067 | 5.193118 | 5.526432 | 4.223990 | 4.341605 | 7.243899 | 7.354535 |\n",
    "|  Slc39a4 | 2.722153 | 3.027691 | 2.175532 | 1.993214 | -0.193255 | -0.016902 | 3.071502 | 2.928202 | 6.472918 | 6.526836 | 2.430346 | 1.847241 |\n",
    "|      Ppl | 5.102274 | 4.900942 | 5.755087 | 5.951023 |  6.851420 |  6.881858 | 7.359977 | 7.732010 | 8.227118 | 8.437499 | 4.646145 | 4.798986 |\n",
    "| ...   |     ...     |      ...    |   ...       |        ...  |    ...       |         ...  |       ...  |        ...   |      ...    |      ...    |       ...   |       ...   |\n",
    "\n",
    "Save the file as a csv-file in the data-folder. "
   ]
  },
  {
   "cell_type": "code",
   "execution_count": null,
   "metadata": {},
   "outputs": [],
   "source": [
    "counts = pd.read_csv('https://zenodo.org/record/2529926/files/limma-voom_normalised_counts', sep='\\t')\n",
    "de_genes = pd.read_csv('https://zenodo.org/record/2529926/files/limma-voom_luminalpregnant-luminallactate', sep='\\t')"
   ]
  },
  {
   "cell_type": "code",
   "execution_count": null,
   "metadata": {},
   "outputs": [],
   "source": [
    "# Filters\n",
    "p_adj_lim = 0.01\n",
    "logFC_lim = 0.58\n",
    "\n",
    "\n",
    "de_tmp = de_genes[abs(de_genes['logFC']) > logFC_lim] \n",
    "de_filter = de_tmp[de_tmp['P.Value'] < p_adj_lim] \n",
    "de_filter \n",
    "de_filter = de_filter.sort_values('P.Value')\n",
    "de_top20 = de_filter.iloc[0:20, :]\n",
    "de_top20\n",
    "df_heatmap = pd.merge(counts, de_top20, on='ENTREZID')\n",
    "df_heatmap\n",
    "de_set = df_heatmap.iloc[:, [1, 3, 4, 5, 6, 7, 8, 9, 10, 11, 12, 13, 14]]\n",
    "de_set = de_set.set_index('SYMBOL_x')\n",
    "de_set"
   ]
  },
  {
   "cell_type": "code",
   "execution_count": null,
   "metadata": {},
   "outputs": [],
   "source": [
    "de_set.to_csv('data/heatmap_data.csv')"
   ]
  },
  {
   "cell_type": "markdown",
   "metadata": {},
   "source": [
    "---\n",
    "### 3.2.1 Exercise \n",
    "Edit the lineplot above with the following adjustments:\n",
    "- Set the style to a white background with ticks on the axes\n",
    "- Set the context to a paper format\n",
    "- Change the figure size\n",
    "- Rename the axes and title of the plot \n",
    "\n",
    "Use the information here below to change the lay-out of the plot."
   ]
  },
  {
   "cell_type": "code",
   "execution_count": null,
   "metadata": {},
   "outputs": [],
   "source": [
    "# 1. Import data\n",
    "\n",
    "# 2. Set style of the plot\n",
    "sns.set_style(\"ticks\")\n",
    "sns.set_context(\"paper\")\n",
    "\n",
    "# 3. Define/create the plot\n",
    "f = plt.figure(figsize=(10,4))\n",
    "ax = sns.lineplot(x = 'Date', y = 'Cost per Mb', data = seqcost)\n",
    "\n",
    "# 4. Tweak lay-out\n",
    "ax.set(xlabel='Years', ylabel='Cost per Mb', title='Cost of sequencing')\n",
    "plt.setp(ax.get_xticklabels(), rotation=90)\n",
    "sns.despine()\n",
    "#plt.savefig('img/seqcost.png')"
   ]
  },
  {
   "cell_type": "markdown",
   "metadata": {},
   "source": [
    "---\n",
    "### 3.2.2 Extra exercise\n",
    "Make two subplots underneath each other that plot the Cost per Mb over years and the Total cost. \n",
    "Find more information on subplots [here](https://matplotlib.org/3.1.0/gallery/subplots_axes_and_figures/subplots_demo.html)."
   ]
  },
  {
   "cell_type": "code",
   "execution_count": null,
   "metadata": {},
   "outputs": [],
   "source": [
    "fig, axs = plt.subplots(nrows = 2, ncols = 1, figsize= (10,7))\n",
    "sns.despine()\n",
    "fig.suptitle('Vertically stacked subplots')\n",
    "sns.lineplot(x = 'Date', y = 'Cost per Mb', data = seqcost, color = 'b', ax = axs[0])\n",
    "sns.lineplot(x = 'Date', y = 'Cost per Genome', data = seqcost, color = 'r', ax = axs[1])\n",
    "\n",
    "#plt.setp(axs, yticks=[])\n",
    "plt.setp(axs[0].get_xticklabels(), rotation=90)\n",
    "plt.setp(axs[1].get_xticklabels(), rotation=90)\n",
    "plt.tight_layout()\n",
    "#plt.savefig('img/subplots_seqcost.png')"
   ]
  },
  {
   "cell_type": "markdown",
   "metadata": {},
   "source": [
    "---\n",
    "### 5.2.1 Exercise\n",
    "Calculate the GC-content in the following sequence:\n",
    "```\n",
    "GATTACCACTCACTGACTCACTGACACGAGACCTATACATGATCGCCGGATGATACGAGAATTACTGACGACTAATCCCGGATACTGCATACACTGACGACGACT\n",
    "```\n",
    "- Use the `.count()` method as shown above\n",
    "- Search through Bio.SeqUtils for a function that might help you"
   ]
  },
  {
   "cell_type": "code",
   "execution_count": 1,
   "metadata": {},
   "outputs": [
    {
     "ename": "NameError",
     "evalue": "name 'Seq' is not defined",
     "output_type": "error",
     "traceback": [
      "\u001b[1;31m---------------------------------------------------------------------------\u001b[0m",
      "\u001b[1;31mNameError\u001b[0m                                 Traceback (most recent call last)",
      "\u001b[1;32m<ipython-input-1-40a9ea03570b>\u001b[0m in \u001b[0;36m<module>\u001b[1;34m\u001b[0m\n\u001b[1;32m----> 1\u001b[1;33m \u001b[0mex_seq\u001b[0m \u001b[1;33m=\u001b[0m \u001b[0mSeq\u001b[0m\u001b[1;33m(\u001b[0m\u001b[1;34m\"GATTACCACTCACTGACTCACTGACACGAGACCTATACATGATCGCCGGATGATACGAGAATTACTGACGACTAATCCCGGATACTGCATACACTGACGACGACT\"\u001b[0m\u001b[1;33m,\u001b[0m \u001b[0mIUPAC\u001b[0m\u001b[1;33m.\u001b[0m\u001b[0munambiguous_dna\u001b[0m\u001b[1;33m)\u001b[0m\u001b[1;33m\u001b[0m\u001b[1;33m\u001b[0m\u001b[0m\n\u001b[0m",
      "\u001b[1;31mNameError\u001b[0m: name 'Seq' is not defined"
     ]
    }
   ],
   "source": [
    "ex_seq = Seq(\"GATTACCACTCACTGACTCACTGACACGAGACCTATACATGATCGCCGGATGATACGAGAATTACTGACGACTAATCCCGGATACTGCATACACTGACGACGACT\", IUPAC.unambiguous_dna)"
   ]
  },
  {
   "cell_type": "code",
   "execution_count": null,
   "metadata": {},
   "outputs": [],
   "source": [
    "# GC content\n",
    "100*float(ex_seq.count(\"G\")+ex_seq.count(\"C\"))/len(ex_seq)"
   ]
  },
  {
   "cell_type": "code",
   "execution_count": null,
   "metadata": {},
   "outputs": [],
   "source": [
    "# Use the built-in method of Bio.SeqUtils\n",
    "from Bio.SeqUtils import GC\n",
    "GC(ex_seq)\n",
    "\n",
    "# the Bio.SeqUtils.GC() function should automatically cope with mixed case \n",
    "# sequences and the ambiguous nucleotide S which means G or C."
   ]
  },
  {
   "cell_type": "markdown",
   "metadata": {},
   "source": [
    "\n",
    "--- \n",
    "### 5.3.1 Exercise\n",
    "Can you concatenate the following sequences using a for-loop?\n",
    "- Seq(\"ACGT\", generic_dna)\n",
    "- Seq(\"GCTA\", generic_dna)\n",
    "- Seq(\"TACG\", generic_dna)"
   ]
  },
  {
   "cell_type": "code",
   "execution_count": null,
   "metadata": {},
   "outputs": [],
   "source": [
    "# Method 1\n",
    "from Bio.Alphabet import generic_dna\n",
    "list_of_seqs = [Seq(\"ACGT\", generic_dna), Seq(\"GCTA\", generic_dna), Seq(\"TACG\", generic_dna)]\n",
    "concatenated = Seq(\"\", generic_dna)\n",
    "for s in list_of_seqs:\n",
    "    concatenated += s\n",
    "\n",
    "print(list_of_seqs)\n",
    "concatenated"
   ]
  },
  {
   "cell_type": "code",
   "execution_count": 2,
   "metadata": {},
   "outputs": [
    {
     "ename": "NameError",
     "evalue": "name 'Seq' is not defined",
     "output_type": "error",
     "traceback": [
      "\u001b[1;31m---------------------------------------------------------------------------\u001b[0m",
      "\u001b[1;31mNameError\u001b[0m                                 Traceback (most recent call last)",
      "\u001b[1;32m<ipython-input-2-1e5d550ce946>\u001b[0m in \u001b[0;36m<module>\u001b[1;34m\u001b[0m\n\u001b[0;32m      1\u001b[0m \u001b[1;31m# Method 2\u001b[0m\u001b[1;33m\u001b[0m\u001b[1;33m\u001b[0m\u001b[1;33m\u001b[0m\u001b[0m\n\u001b[1;32m----> 2\u001b[1;33m \u001b[0mlist_of_seqs\u001b[0m \u001b[1;33m=\u001b[0m \u001b[1;33m[\u001b[0m\u001b[0mSeq\u001b[0m\u001b[1;33m(\u001b[0m\u001b[1;34m\"ACGT\"\u001b[0m\u001b[1;33m,\u001b[0m \u001b[0mgeneric_dna\u001b[0m\u001b[1;33m)\u001b[0m\u001b[1;33m,\u001b[0m \u001b[0mSeq\u001b[0m\u001b[1;33m(\u001b[0m\u001b[1;34m\"GCTA\"\u001b[0m\u001b[1;33m,\u001b[0m \u001b[0mgeneric_dna\u001b[0m\u001b[1;33m)\u001b[0m\u001b[1;33m,\u001b[0m\u001b[0mSeq\u001b[0m\u001b[1;33m(\u001b[0m\u001b[1;34m\"TACG\"\u001b[0m\u001b[1;33m,\u001b[0m \u001b[0mgeneric_dna\u001b[0m\u001b[1;33m)\u001b[0m\u001b[1;33m]\u001b[0m\u001b[1;33m\u001b[0m\u001b[1;33m\u001b[0m\u001b[0m\n\u001b[0m\u001b[0;32m      3\u001b[0m \u001b[0msum\u001b[0m\u001b[1;33m(\u001b[0m\u001b[0mlist_of_seqs\u001b[0m\u001b[1;33m,\u001b[0m \u001b[0mSeq\u001b[0m\u001b[1;33m(\u001b[0m\u001b[1;34m\"\"\u001b[0m\u001b[1;33m,\u001b[0m\u001b[0mgeneric_dna\u001b[0m\u001b[1;33m)\u001b[0m\u001b[1;33m)\u001b[0m\u001b[1;33m\u001b[0m\u001b[1;33m\u001b[0m\u001b[0m\n",
      "\u001b[1;31mNameError\u001b[0m: name 'Seq' is not defined"
     ]
    }
   ],
   "source": [
    "# Method 2\n",
    "list_of_seqs = [Seq(\"ACGT\", generic_dna), Seq(\"GCTA\", generic_dna),Seq(\"TACG\", generic_dna)]\n",
    "sum(list_of_seqs, Seq(\"\",generic_dna))"
   ]
  },
  {
   "cell_type": "markdown",
   "metadata": {},
   "source": [
    "---\n",
    "## 5.7 Exercise\n",
    "\n",
    "Identifying genes is possible by looking for open reading frames (ORFs). For eukaryotic genes we know that there is a complex interaction between promotors, start codons, exons and introns. Nonetheless, for prokaryotic and virus genes this approach would still be useful. \n",
    "\n",
    "Depending on the organism you also need to use the according codon table. In this example we're using a bacterial plasmid fasta file for which we need to use codon [table 11](https://www.ncbi.nlm.nih.gov/Taxonomy/Utils/wprintgc.cgi#SG11). By using the following block of code, we will store the sequence in the variable `record`, define the tranlate tables and define that a possible protein needs to be of a minimum length of 100 AA's. "
   ]
  },
  {
   "cell_type": "code",
   "execution_count": null,
   "metadata": {},
   "outputs": [],
   "source": [
    "from Bio import SeqIO\n",
    "record = SeqIO.read(\"data/NC_005816.fna\", \"fasta\")\n",
    "table = 11\n",
    "min_pro_len = 100"
   ]
  },
  {
   "cell_type": "markdown",
   "metadata": {},
   "source": [
    "The output might look something like this: \n",
    "```\n",
    "GCLMKKSSIVATIITILSGSANAASSQLIP...YRF, - length 315, strand 1, frame 0\n",
    "KSGELRQTPPASSTLHLRLILQRSGVMMEL...NPE, - length 285, strand 1, frame 1\n",
    "NQIQGVICSPDSGEFMVTFETVMEIKILHK...GVA, - length 355, strand 1, frame 2\n",
    "QGSGYAFPHASILSGIAMSHFYFLVLHAVK...CSD, - length 114, strand -1, frame 0\n",
    "```"
   ]
  },
  {
   "cell_type": "code",
   "execution_count": null,
   "metadata": {},
   "outputs": [],
   "source": [
    "# Make a for loop to access first the + strand and then the - strand\n",
    "for strand, nuc in [(+1, record.seq), (-1, record.seq.reverse_complement())]:\n",
    "    \n",
    "    # Allow frame shifts \n",
    "    for frame in range(3):\n",
    "        \n",
    "        # Length of sequence adjusted for frame shift \n",
    "        length = 3 * ((len(record)-frame)  // 3)\n",
    "        \n",
    "        # Translate sequence (nuc) to AA's. Split at * which decodes for a stop codon. These are all the ORFs\n",
    "        for pro in nuc[frame:frame+length].translate(table).split(\"*\"):\n",
    "            \n",
    "            # if length of ORF is >= predefined length\n",
    "            if len(pro) >= min_pro_len:\n",
    "                \n",
    "                # Print results\n",
    "                print(f\"{pro[:30]}...{pro[-3:]}, - length {len(pro)}, strand {strand}, frame {frame}\") "
   ]
  },
  {
   "cell_type": "markdown",
   "metadata": {},
   "source": [
    "---\n",
    "### 6.1.1 Exercise\n",
    "Find the title of all the articles related to the genbank entry 'NC_005816'. Import this file using the following block of code.  \n",
    "\n",
    "Extra: Create a list of URL-links that brings you directly to the article. For this you can use the Pubmed ID in combination with `https://pubmed.ncbi.nlm.nih.gov/`. \n",
    "\n",
    "\n",
    "Hint: look at the section of *references* of [this link](https://biopython.readthedocs.io/en/latest/chapter_seq_annot.html)"
   ]
  },
  {
   "cell_type": "code",
   "execution_count": null,
   "metadata": {},
   "outputs": [],
   "source": [
    "from Bio import SeqIO\n",
    "record = SeqIO.read(\"data/NC_005816.gb\",\"gb\")"
   ]
  },
  {
   "cell_type": "code",
   "execution_count": null,
   "metadata": {},
   "outputs": [],
   "source": [
    "# First create an empty list that will store the URL-links. \n",
    "list_pubmed = []\n",
    "base_url = 'https://pubmed.ncbi.nlm.nih.gov/'\n",
    "for ref in record.annotations['references']:\n",
    "    # The titles of the journals are written in the title submodule\n",
    "    print(ref.title)\n",
    "    \n",
    "    # Extra: if there is a pubmed ID\n",
    "    if not ref.pubmed_id:\n",
    "        # Prepare to add pubmed ID together with Base URL\n",
    "        url_link = (base_url, ref.pubmed_id)\n",
    "        # Join the pubmed ID with Base URL and append this to the list of Pubmed ID's\n",
    "        list_pubmed.append(''.join(url_link))\n",
    "print(list_pubmed)"
   ]
  },
  {
   "cell_type": "markdown",
   "metadata": {},
   "source": [
    "--- \n",
    "### 7.1.1 Exercise\n",
    "Return a list that contains the organism of each record in the `data/ls_orchid.gbk`-file. \n",
    "\n",
    "Tip: you should make an empty list, iterate over all the records, access the organism and append it to the  list. "
   ]
  },
  {
   "cell_type": "code",
   "execution_count": null,
   "metadata": {},
   "outputs": [],
   "source": [
    "from Bio import SeqIO"
   ]
  },
  {
   "cell_type": "code",
   "execution_count": null,
   "metadata": {},
   "outputs": [],
   "source": [
    "# Method 1 by using the annotations (cleaner)\n",
    "all_species= []\n",
    "for seq_record in SeqIO.parse(\"data/ls_orchid.gbk\",\"genbank\"):\n",
    "    all_species.append(seq_record.annotations[\"organism\"])\n",
    "    \n",
    "print(set(all_species))"
   ]
  },
  {
   "cell_type": "code",
   "execution_count": null,
   "metadata": {},
   "outputs": [],
   "source": [
    "# Method 2 by using the description (can be a bit tricky if the name of the organism is not on the second location)\n",
    "all_species = []\n",
    "for seq_record in SeqIO.parse(\"data/ls_orchid.fasta\",\"fasta\"):\n",
    "    all_species.append(seq_record.description.split()[1])\n",
    "print(all_species)"
   ]
  },
  {
   "cell_type": "markdown",
   "metadata": {},
   "source": [
    "## 8.3 Exercise\n",
    "Write a script that blasts the top 5 overrepresented sequences in a fastq-file. Save the following information in a pandas dataframe: title, e-value and score. \n",
    "\n",
    "\n",
    "Here is a table that is part of the output of a FastQC process. The raw data can be obtained from the zipped folder that is always created as part of the process. This part represents the overrepresented sequences in a fastq file. The file that contains the data is stored under `data/overrepresented_sequences.txt`. \n",
    "\n",
    "\n",
    "```\n",
    "#Sequence\tCount\tPercentage\tPossible Source\n",
    "GCGCCAGGTTCCACACGAACGTGCGTTCAACGTGACGGGCGAGAGGGCGG\t634749\t0.9399698125201895\tNo Hit\n",
    "GCCAGGTTCCACACGAACGTGCGTTCAACGTGACGGGCGAGAGGGCGGCC\t437871\t0.6484224816077345\tNo Hit\n",
    "GGGGACAGTCCGCCCCGCCCCCCACCGGGCCCCGAGAGAGGCGACGGAGG\t319343\t0.47289996493044484\tNo Hit\n",
    "GGCTTCCTCGGCCCCGGGATTCGGCGAAAGCTGCGGCCGGAGGGCTGTAA\t310651\t0.4600283926862577\tNo Hit\n",
    "GGGCCTTCCCGGCCGTCCCGGAGCCGGTCGCGGCGCACCGCCACGGTGGA\t260086\t0.3851490725611636\tNo Hit\n",
    "ACGAATGGTTTAGCGCCAGGTTCCACACGAACGTGCGTTCAACGTGACGG\t247602\t0.3666621066273818\tNo Hit\n",
    "CGGCTTCGTCGGGAGACGCGTGACCGACGGTCCCCCCGGGACCCGACGGC\t170383\t0.25231213687083787   No Hit\n",
    "...\n",
    "```"
   ]
  },
  {
   "cell_type": "code",
   "execution_count": null,
   "metadata": {},
   "outputs": [],
   "source": [
    "# amount of overrepresented sequences it should blast (exercise = 5 but that takes a while)\n",
    "nr = 3\n",
    "\n",
    "# The output of the fastQC process has already been filtered a bit\n",
    "df_overrepr = pd.read_table('data/overrepresented_sequences.txt', sep='\\t') \n",
    "# Create df that will contain results\n",
    "df_results = pd.DataFrame(columns=['Title','Score','E-value'])\n",
    "\n",
    "\n",
    "\n",
    "# Only select 5 most overrepresented sequences\n",
    "for i in range(nr-1):\n",
    "    # Extract sequence\n",
    "    seq = df_overrepr['#Sequence'][i]\n",
    "    # Make Seq for Biopython\n",
    "    seq_blast = Seq(seq, IUPAC.unambiguous_dna)\n",
    "    # blast sequence\n",
    "    result_handle = NCBIWWW.qblast(\"blastn\", \"nt\", seq_blast)\n",
    "\n",
    "    # Parse the blast handle and extract only first record (without writing it to a file first)\n",
    "    blast_records = NCBIXML.parse(result_handle)\n",
    "    blast_record = next(blast_records)\n",
    "\n",
    "    # Each record has \n",
    "    for descr in blast_record.descriptions:\n",
    "        title = descr.title\n",
    "        score = descr.score\n",
    "        e = descr.e\n",
    "    df_results = df_results.append({'Title': title, \n",
    "                   'Score': score,\n",
    "                   'E-value': e}, ignore_index=True)\n",
    "        \n",
    "df_results"
   ]
  }
 ],
 "metadata": {
  "kernelspec": {
   "display_name": "Python 3",
   "language": "python",
   "name": "python3"
  },
  "language_info": {
   "codemirror_mode": {
    "name": "ipython",
    "version": 3
   },
   "file_extension": ".py",
   "mimetype": "text/x-python",
   "name": "python",
   "nbconvert_exporter": "python",
   "pygments_lexer": "ipython3",
   "version": "3.7.3"
  }
 },
 "nbformat": 4,
 "nbformat_minor": 2
}
