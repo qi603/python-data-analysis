{
 "cells": [
  {
   "cell_type": "markdown",
   "metadata": {},
   "source": [
    "# FAQ \n",
    "An uncleaned list of questions with raw answers that have been asked during the course."
   ]
  },
  {
   "cell_type": "markdown",
   "metadata": {},
   "source": [
    "## Pandas"
   ]
  },
  {
   "cell_type": "code",
   "execution_count": null,
   "metadata": {},
   "outputs": [],
   "source": [
    "How do you remove a row from a serie?\n",
    "https://pandas.pydata.org/pandas-docs/stable/reference/api/pandas.Series.pop.html\n",
    "    Note that under normal circumstances you won't be mutating Series like this\n",
    "Another option: https://pandas.pydata.org/pandas-docs/stable/reference/api/pandas.Series.drop.html\n",
    "Series.drop"
   ]
  },
  {
   "cell_type": "code",
   "execution_count": null,
   "metadata": {},
   "outputs": [],
   "source": [
    "I'm used to work with Pycharm to make python scripts, is it also possible to debug in jupyter?\n"
   ]
  },
  {
   "cell_type": "code",
   "execution_count": null,
   "metadata": {},
   "outputs": [],
   "source": [
    "if you use iloc you define always first the rows and then the columns?\n",
    "rows then columns\n"
   ]
  },
  {
   "cell_type": "code",
   "execution_count": null,
   "metadata": {},
   "outputs": [],
   "source": [
    "can you only show 2 decimals in a DataFrame?\n",
    "https://pandas.pydata.org/pandas-docs/stable/reference/api/pandas.DataFrame.round.html "
   ]
  },
  {
   "cell_type": "code",
   "execution_count": null,
   "metadata": {},
   "outputs": [],
   "source": [
    "what does the \"axis\" argument exactly mean in the context of the dataframe?\n",
    "https://i.stack.imgur.com/h1alT.jpg\n",
    "    "
   ]
  },
  {
   "cell_type": "code",
   "execution_count": null,
   "metadata": {},
   "outputs": [],
   "source": [
    "Can I import multiple files to a list , for instance to loop through each data frame?\n",
    "data = []\n",
    "filenames = [...]\n",
    "for fn in filenames:\n",
    "  data.append(pd.read_csv(fn))"
   ]
  },
  {
   "cell_type": "code",
   "execution_count": null,
   "metadata": {},
   "outputs": [],
   "source": [
    "Remark: iteratively appending rows to a DataFrame can be more computationally intensive than a single concatenate. A better solution is to append those rows to a list and then concatenate the list with the original DataFrame all at once.\n",
    "if we want to use this remark then the row indeces will be ruined?\n",
    "\n",
    "if the row indeces are integers you can use ignore_index = True to let them keep counting. If you know how the keys will look like you can use also an argument key that accepts a list of let's say strings that will be your row indeces"
   ]
  },
  {
   "cell_type": "markdown",
   "metadata": {},
   "source": [
    "## Visualizations"
   ]
  },
  {
   "cell_type": "code",
   "execution_count": null,
   "metadata": {},
   "outputs": [],
   "source": [
    "what does sns.set_context(\"paper\") do exactly?\n",
    "scaling: https://seaborn.pydata.org/generated/seaborn.plotting_context.html#seaborn.plotting_context"
   ]
  },
  {
   "cell_type": "markdown",
   "metadata": {},
   "source": [
    "## BioPython"
   ]
  },
  {
   "cell_type": "code",
   "execution_count": null,
   "metadata": {},
   "outputs": [],
   "source": [
    "How do I search for a method for instance, Now that I see that append doesn't work for a seq object. How can I find the correct method?\n",
    "dir(...)"
   ]
  },
  {
   "cell_type": "code",
   "execution_count": null,
   "metadata": {},
   "outputs": [],
   "source": [
    "so, how can we see all the things in annotations?\n",
    "basically you can call  the annotations and see everytihng that is in there print(record.annotations. But you'll indeed see that not everything is in there. So this link will give you more information.\n",
    "https://biopython.readthedocs.io/en/latest/chapter_seq_annot.html\n",
    "(scroll down to references)\n",
    "\n",
    "r = record.annotations['references']\n",
    "dir(r[0])"
   ]
  },
  {
   "cell_type": "code",
   "execution_count": null,
   "metadata": {},
   "outputs": [],
   "source": [
    "'Parsing' basically means reading in?\n",
    "Parsing means to \"understand\" the structure of the data\n"
   ]
  },
  {
   "cell_type": "code",
   "execution_count": null,
   "metadata": {},
   "outputs": [],
   "source": [
    "Is it also possible to do a multiple alignment with specific proteins?\n"
   ]
  },
  {
   "cell_type": "code",
   "execution_count": null,
   "metadata": {},
   "outputs": [],
   "source": [
    "Can you use qblast() to aling a fasta sequence against other fasta sequences instead aling the first one agains the all data base?\n"
   ]
  },
  {
   "cell_type": "code",
   "execution_count": null,
   "metadata": {},
   "outputs": [],
   "source": []
  },
  {
   "cell_type": "markdown",
   "metadata": {},
   "source": [
    "## General questions"
   ]
  },
  {
   "cell_type": "code",
   "execution_count": null,
   "metadata": {},
   "outputs": [],
   "source": [
    "Question regarding the usage of R and Python, how to know which is best to use for the any given task?\n",
    "Following the literature in your field helps. What are the rest of the academic people in your field using moistly. This language likely has the most libraries that could be useful for you. For intstance, I work mostly with single cell omics. Most of the articles also give a link to the code they used for the analsys and I can see that they mostly use R and occasionally python.  With th hints about the algorithms used, you can start browsing github to see various tools"
   ]
  },
  {
   "cell_type": "code",
   "execution_count": null,
   "metadata": {},
   "outputs": [],
   "source": []
  }
 ],
 "metadata": {
  "kernelspec": {
   "display_name": "Python 3",
   "language": "python",
   "name": "python3"
  },
  "language_info": {
   "codemirror_mode": {
    "name": "ipython",
    "version": 3
   },
   "file_extension": ".py",
   "mimetype": "text/x-python",
   "name": "python",
   "nbconvert_exporter": "python",
   "pygments_lexer": "ipython3",
   "version": "3.7.3"
  }
 },
 "nbformat": 4,
 "nbformat_minor": 2
}
