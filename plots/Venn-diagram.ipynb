{
 "cells": [
  {
   "cell_type": "markdown",
   "metadata": {},
   "source": [
    "Venn diagrams are a bit more difficult as they don't have a library that can be imported via a conda environment. We have to add it manually to our environment with `pip install`. "
   ]
  },
  {
   "cell_type": "code",
   "execution_count": 1,
   "metadata": {},
   "outputs": [
    {
     "name": "stdout",
     "output_type": "stream",
     "text": [
      "Requirement already satisfied: matplotlib_venn in c:\\users\\tuurm\\anaconda3\\lib\\site-packages\\matplotlib_venn-0.11.5-py3.7.egg (0.11.5)\n",
      "Requirement already satisfied: matplotlib in c:\\users\\tuurm\\anaconda3\\lib\\site-packages (from matplotlib_venn) (3.0.3)\n",
      "Requirement already satisfied: numpy in c:\\users\\tuurm\\anaconda3\\lib\\site-packages (from matplotlib_venn) (1.16.2)\n",
      "Requirement already satisfied: scipy in c:\\users\\tuurm\\anaconda3\\lib\\site-packages (from matplotlib_venn) (1.2.1)\n",
      "Requirement already satisfied: cycler>=0.10 in c:\\users\\tuurm\\anaconda3\\lib\\site-packages (from matplotlib->matplotlib_venn) (0.10.0)\n",
      "Requirement already satisfied: kiwisolver>=1.0.1 in c:\\users\\tuurm\\anaconda3\\lib\\site-packages (from matplotlib->matplotlib_venn) (1.0.1)\n",
      "Requirement already satisfied: pyparsing!=2.0.4,!=2.1.2,!=2.1.6,>=2.0.1 in c:\\users\\tuurm\\anaconda3\\lib\\site-packages (from matplotlib->matplotlib_venn) (2.3.1)\n",
      "Requirement already satisfied: python-dateutil>=2.1 in c:\\users\\tuurm\\anaconda3\\lib\\site-packages (from matplotlib->matplotlib_venn) (2.8.0)\n",
      "Requirement already satisfied: six in c:\\users\\tuurm\\anaconda3\\lib\\site-packages (from cycler>=0.10->matplotlib->matplotlib_venn) (1.12.0)\n",
      "Requirement already satisfied: setuptools in c:\\users\\tuurm\\anaconda3\\lib\\site-packages (from kiwisolver>=1.0.1->matplotlib->matplotlib_venn) (40.8.0)\n",
      "Note: you may need to restart the kernel to use updated packages.\n"
     ]
    }
   ],
   "source": [
    "pip install matplotlib_venn"
   ]
  },
  {
   "cell_type": "markdown",
   "metadata": {},
   "source": [
    "This package is depending on `NumPy`, `scipy` and needs to be imported itself as well. Here are the import statements:"
   ]
  },
  {
   "cell_type": "code",
   "execution_count": 2,
   "metadata": {},
   "outputs": [],
   "source": [
    "%matplotlib inline\n",
    "import numpy as np\n",
    "import scipy\n",
    "from matplotlib import pyplot as plt\n",
    "from matplotlib_venn import venn2"
   ]
  },
  {
   "cell_type": "markdown",
   "metadata": {},
   "source": [
    "From here on it's easy to exploit this package either by searching its documentation or using `help()`. Here is the most simplest example:"
   ]
  },
  {
   "cell_type": "code",
   "execution_count": 3,
   "metadata": {},
   "outputs": [],
   "source": [
    "listGenes1 = ['geneA', 'geneB', 'geneC', 'geneD', 'geneE']\n",
    "listGenes2 = ['geneC', 'geneD', 'geneE', 'geneF']"
   ]
  },
  {
   "cell_type": "code",
   "execution_count": 4,
   "metadata": {},
   "outputs": [
    {
     "data": {
      "text/plain": [
       "<matplotlib_venn._common.VennDiagram at 0x1a514281a20>"
      ]
     },
     "execution_count": 4,
     "metadata": {},
     "output_type": "execute_result"
    },
    {
     "data": {
      "image/png": "[encoded data removed]",
      "text/plain": [
       "<Figure size 432x288 with 1 Axes>"
      ]
     },
     "metadata": {},
     "output_type": "display_data"
    }
   ],
   "source": [
    "venn2(subsets=[set(listGenes1), set(listGenes2)], set_labels = (\"list 1\", \"list 2\"))"
   ]
  },
  {
   "cell_type": "markdown",
   "metadata": {},
   "source": [
    "Further reading:\n",
    "- https://towardsdatascience.com/how-to-design-professional-venn-diagrams-in-python-693c9ed2c288\n",
    "- https://morioh.com/p/f90743ccdba7"
   ]
  }
 ],
 "metadata": {
  "kernelspec": {
   "display_name": "Python 3",
   "language": "python",
   "name": "python3"
  },
  "language_info": {
   "codemirror_mode": {
    "name": "ipython",
    "version": 3
   },
   "file_extension": ".py",
   "mimetype": "text/x-python",
   "name": "python",
   "nbconvert_exporter": "python",
   "pygments_lexer": "ipython3",
   "version": "3.7.3"
  }
 },
 "nbformat": 4,
 "nbformat_minor": 2
}
