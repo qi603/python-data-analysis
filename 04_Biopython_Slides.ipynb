{
 "cells": [
  {
   "cell_type": "markdown",
   "metadata": {
    "slideshow": {
     "slide_type": "slide"
    }
   },
   "source": [
    "# Introduction to Biopython\n",
    "<center> <img src=\"img/logo_biopython.PNG\" width=\"500\" height=\"300\"/> </center>\n"
   ]
  },
  {
   "cell_type": "markdown",
   "metadata": {
    "slideshow": {
     "slide_type": "notes"
    }
   },
   "source": [
    "Biopython is a set of freely available Python tools that help us to work with biological data. It contains components that are developed specifically for bioinformatics purposes. Today I'll give you the highlights and the rest will be yours to explore. \n",
    "\n",
    "On a small side note, before diving into your (biological) data and try analyzing it with complex self-written scripts, it often makes sense that you search through the official documentation for the parts that might help you. This is because it's a huge library that can do a variety of things such as sequence analysis, multiple alignments, protein structures, phylogenetics, population genetics, etc. etc. "
   ]
  },
  {
   "cell_type": "markdown",
   "metadata": {
    "slideshow": {
     "slide_type": "slide"
    }
   },
   "source": [
    "**Installing** the complete module can be done:\n",
    "- In the Environments section of Anaconda Navigator and manually selecting the package, \n",
    "- Installing in the Conda environment: `conda install -c conda-forge biopython`, \n",
    "- Installing in the Jupyter Notebook: `pip install biopython`"
   ]
  },
  {
   "cell_type": "code",
   "execution_count": null,
   "metadata": {
    "slideshow": {
     "slide_type": "fragment"
    }
   },
   "outputs": [],
   "source": [
    "pip install biopython "
   ]
  },
  {
   "cell_type": "code",
   "execution_count": null,
   "metadata": {
    "slideshow": {
     "slide_type": "fragment"
    }
   },
   "outputs": [],
   "source": [
    "# Import the Biopython library\n",
    "import Bio\n",
    "\n",
    "# Check version for proper installment (v1.74)\n",
    "print(Bio.__version__)"
   ]
  },
  {
   "cell_type": "markdown",
   "metadata": {
    "slideshow": {
     "slide_type": "notes"
    }
   },
   "source": [
    "it makes sense to install functions or submodules that are part of Biopython in order to ease the use. Imagine that you want to work with sequences, you can import only the Seq-object."
   ]
  },
  {
   "cell_type": "markdown",
   "metadata": {
    "slideshow": {
     "slide_type": "slide"
    }
   },
   "source": [
    "**Content for today**\n",
    "- Working with sequences in : `Seq` and `Alphabets`\n",
    "- Sequence annotations with: `SeqRecord` objects\n",
    "- Reading, writing and parsing files with: `SeqIO`\n",
    "- Querying NCBI with: `SeqIO`\n",
    "- BLAST from within Python"
   ]
  },
  {
   "cell_type": "markdown",
   "metadata": {
    "slideshow": {
     "slide_type": "slide"
    }
   },
   "source": [
    "## Working with sequences\n",
    "- A sequence is stored in a `Seq`-object"
   ]
  },
  {
   "cell_type": "markdown",
   "metadata": {
    "slideshow": {
     "slide_type": "notes"
    }
   },
   "source": [
    "Biological sequences (DNA, RNA, proteins) are arguably the most important object in bioinformatics. Hence biggest part of Biopython is built around sequences as wel. So in Biopython a sequence is stored in a so-called Sequence object. \n",
    "Minor note: Before Oct 2020, each `Seq` object was associated with a specific alphabet type to identify its biological origin (DNA, RNA, Protein, and all derivatives), however `Bio.Alphabet` has now been removed from Biopython. \n",
    "\n",
    "Change `type(my_seq)` to `dir(my_seq)`."
   ]
  },
  {
   "cell_type": "code",
   "execution_count": 7,
   "metadata": {
    "slideshow": {
     "slide_type": "fragment"
    }
   },
   "outputs": [],
   "source": [
    "# Imports\n",
    "from Bio.Seq import Seq"
   ]
  },
  {
   "cell_type": "code",
   "execution_count": 8,
   "metadata": {
    "slideshow": {
     "slide_type": "fragment"
    }
   },
   "outputs": [
    {
     "data": {
      "text/plain": [
       "Seq('AGTACACTGGAT')"
      ]
     },
     "execution_count": 8,
     "metadata": {},
     "output_type": "execute_result"
    }
   ],
   "source": [
    "# Creating our first Seq object\n",
    "my_seq = Seq(\"AGTACACTGGAT\")\n",
    "my_seq"
   ]
  },
  {
   "cell_type": "code",
   "execution_count": 12,
   "metadata": {
    "slideshow": {
     "slide_type": "fragment"
    }
   },
   "outputs": [
    {
     "data": {
      "text/plain": [
       "Bio.Seq.Seq"
      ]
     },
     "execution_count": 12,
     "metadata": {},
     "output_type": "execute_result"
    }
   ],
   "source": [
    "type(my_seq)"
   ]
  },
  {
   "cell_type": "markdown",
   "metadata": {
    "slideshow": {
     "slide_type": "slide"
    }
   },
   "source": [
    "## Working with sequences\n",
    "- `Seq`-objects behave like strings"
   ]
  },
  {
   "cell_type": "markdown",
   "metadata": {
    "slideshow": {
     "slide_type": "notes"
    }
   },
   "source": [
    "Once created, `Seq` objects can be used as if they were normal Python strings regarding retrieving the length of the sequence or iterating over the characters"
   ]
  },
  {
   "cell_type": "code",
   "execution_count": 14,
   "metadata": {
    "slideshow": {
     "slide_type": "fragment"
    }
   },
   "outputs": [
    {
     "name": "stdout",
     "output_type": "stream",
     "text": [
      "1\n",
      "9\n"
     ]
    }
   ],
   "source": [
    "# Get element at position 0\n",
    "my_seq = Seq('AGTACACTGGAT')\n",
    "my_seq[0]\n",
    "\n",
    "# Find how many times \"GAT\" appears in the sequence\n",
    "print(my_seq.count(\"GAT\"))\n",
    "\n",
    "# Find where \"GAT\" appears in the sequence\n",
    "print(my_seq.find(\"GAT\"))"
   ]
  },
  {
   "cell_type": "markdown",
   "metadata": {
    "slideshow": {
     "slide_type": "fragment"
    }
   },
   "source": [
    "- `Seq`-objects are immutable"
   ]
  },
  {
   "cell_type": "code",
   "execution_count": null,
   "metadata": {
    "slideshow": {
     "slide_type": "fragment"
    }
   },
   "outputs": [],
   "source": [
    "my_seq[2] = 'A'"
   ]
  },
  {
   "cell_type": "markdown",
   "metadata": {
    "slideshow": {
     "slide_type": "slide"
    }
   },
   "source": [
    "## Working with sequences\n",
    "- `Seq`-objects can be sliced"
   ]
  },
  {
   "cell_type": "markdown",
   "metadata": {
    "slideshow": {
     "slide_type": "notes"
    }
   },
   "source": [
    "Notes: slicing following conventions of Python : starting at 0 with first item included en last item excluded. Also do: my_seq[0::3], my_seq[::-1], ..."
   ]
  },
  {
   "cell_type": "code",
   "execution_count": 19,
   "metadata": {
    "slideshow": {
     "slide_type": "fragment"
    }
   },
   "outputs": [
    {
     "data": {
      "text/plain": [
       "Seq('TACA')"
      ]
     },
     "execution_count": 19,
     "metadata": {},
     "output_type": "execute_result"
    }
   ],
   "source": [
    "# Slicing in its most basic form\n",
    "my_seq[2:6]"
   ]
  },
  {
   "cell_type": "markdown",
   "metadata": {
    "slideshow": {
     "slide_type": "fragment"
    }
   },
   "source": [
    "- Turning `Seq`-objects into strings"
   ]
  },
  {
   "cell_type": "code",
   "execution_count": 20,
   "metadata": {
    "scrolled": true,
    "slideshow": {
     "slide_type": "fragment"
    }
   },
   "outputs": [
    {
     "data": {
      "text/plain": [
       "'AGTACACTGGAT'"
      ]
     },
     "execution_count": 20,
     "metadata": {},
     "output_type": "execute_result"
    }
   ],
   "source": [
    "str(my_seq)\n",
    "#print(my_seq)"
   ]
  },
  {
   "cell_type": "markdown",
   "metadata": {
    "slideshow": {
     "slide_type": "fragment"
    }
   },
   "source": [
    "- Concatenating or adding sequences"
   ]
  },
  {
   "cell_type": "code",
   "execution_count": null,
   "metadata": {
    "slideshow": {
     "slide_type": "fragment"
    }
   },
   "outputs": [],
   "source": [
    "# This will work\n",
    "protein_seq1 = Seq(\"EVRNAK\")\n",
    "protein_seq2 = Seq(\"AGGATC\")\n",
    "protein_seq1 + protein_seq2"
   ]
  },
  {
   "cell_type": "markdown",
   "metadata": {
    "slideshow": {
     "slide_type": "fragment"
    }
   },
   "source": [
    "- and much more..."
   ]
  },
  {
   "cell_type": "markdown",
   "metadata": {
    "slideshow": {
     "slide_type": "slide"
    }
   },
   "source": [
    "## Methods on `Seq` objects\n",
    "- transcribe()\n",
    "- translate()\n",
    "- complement()\n",
    "- reverse_complement()\n",
    "\n"
   ]
  },
  {
   "cell_type": "markdown",
   "metadata": {
    "slideshow": {
     "slide_type": "slide"
    }
   },
   "source": [
    "![transcription](img/transcriptionprocess.png)"
   ]
  },
  {
   "cell_type": "code",
   "execution_count": 24,
   "metadata": {
    "scrolled": true,
    "slideshow": {
     "slide_type": "slide"
    }
   },
   "outputs": [
    {
     "name": "stdout",
     "output_type": "stream",
     "text": [
      "Original DNA seq:               ATGATCTCGTAA\n",
      "Complement DNA seq:             TACTAGAGCATT\n",
      "Reverse complement DNA seq:     TTACGAGATCAT\n",
      "mRNA seq:                       AUGAUCUCGUAA\n",
      "Protein seq:                    MIS*\n"
     ]
    }
   ],
   "source": [
    "coding_dna = Seq(\"ATGATCTCGTAA\")\n",
    "#dir(coding_dna)\n",
    "print(f'Original DNA seq: {str(coding_dna):>26}')\n",
    "print(f\"Complement DNA seq: {str(coding_dna.complement()):>24}\")\n",
    "print(f\"Reverse complement DNA seq: {str(coding_dna.reverse_complement()):>16}\")\n",
    "print(f\"mRNA seq: {str(coding_dna.transcribe()):>34}\")\n",
    "print(f\"Protein seq: {str(coding_dna.translate()):>23}\")"
   ]
  },
  {
   "cell_type": "markdown",
   "metadata": {
    "slideshow": {
     "slide_type": "notes"
    }
   },
   "source": [
    "Notes: as described in the notebook materials, it is technically possible to do a reverse complement or even a back-transcription process on a protein sequence. That really doesn't make sense, although Biopython will not object this. "
   ]
  },
  {
   "cell_type": "markdown",
   "metadata": {
    "slideshow": {
     "slide_type": "slide"
    }
   },
   "source": [
    "## Translation and codon tables\n",
    "- Choose the correct codon table that is relevant for the organism you're working with.   \n",
    "- Imported from NCBI: standard, vertebrate mictochondrial, yeast mitochondrial, bacterial, etc. "
   ]
  },
  {
   "cell_type": "code",
   "execution_count": 29,
   "metadata": {
    "scrolled": true,
    "slideshow": {
     "slide_type": "fragment"
    }
   },
   "outputs": [
    {
     "name": "stdout",
     "output_type": "stream",
     "text": [
      "MAIVMGR*KG*\n",
      "MAIVMGRWKGW\n"
     ]
    }
   ],
   "source": [
    "# Example\n",
    "mRNA = Seq('AUGGCCAUUGUAAUGGGCCGCUGAAAGGGUUGA')\n",
    "print(mRNA.translate(table=\"Standard\")) # This is the default and does not need to be specified\n",
    "print(mRNA.translate(table=\"Vertebrate Mitochondrial\")) "
   ]
  },
  {
   "cell_type": "markdown",
   "metadata": {
    "slideshow": {
     "slide_type": "notes"
    }
   },
   "source": [
    "Note: Suppose we are dealing with a mitochondrial sequence. We need to tell the translation function to use the relevant genetic code instead. Let's first inspect the vertebrate mitochondrial codon table and then translate the same coding DNA sequence. "
   ]
  },
  {
   "cell_type": "code",
   "execution_count": 25,
   "metadata": {
    "slideshow": {
     "slide_type": "slide"
    }
   },
   "outputs": [
    {
     "name": "stdout",
     "output_type": "stream",
     "text": [
      "Table 1 Standard, SGC0\n",
      "\n",
      "  |  T      |  C      |  A      |  G      |\n",
      "--+---------+---------+---------+---------+--\n",
      "T | TTT F   | TCT S   | TAT Y   | TGT C   | T\n",
      "T | TTC F   | TCC S   | TAC Y   | TGC C   | C\n",
      "T | TTA L   | TCA S   | TAA Stop| TGA Stop| A\n",
      "T | TTG L(s)| TCG S   | TAG Stop| TGG W   | G\n",
      "--+---------+---------+---------+---------+--\n",
      "C | CTT L   | CCT P   | CAT H   | CGT R   | T\n",
      "C | CTC L   | CCC P   | CAC H   | CGC R   | C\n",
      "C | CTA L   | CCA P   | CAA Q   | CGA R   | A\n",
      "C | CTG L(s)| CCG P   | CAG Q   | CGG R   | G\n",
      "--+---------+---------+---------+---------+--\n",
      "A | ATT I   | ACT T   | AAT N   | AGT S   | T\n",
      "A | ATC I   | ACC T   | AAC N   | AGC S   | C\n",
      "A | ATA I   | ACA T   | AAA K   | AGA R   | A\n",
      "A | ATG M(s)| ACG T   | AAG K   | AGG R   | G\n",
      "--+---------+---------+---------+---------+--\n",
      "G | GTT V   | GCT A   | GAT D   | GGT G   | T\n",
      "G | GTC V   | GCC A   | GAC D   | GGC G   | C\n",
      "G | GTA V   | GCA A   | GAA E   | GGA G   | A\n",
      "G | GTG V   | GCG A   | GAG E   | GGG G   | G\n",
      "--+---------+---------+---------+---------+--\n"
     ]
    }
   ],
   "source": [
    "# Import codon table ()\n",
    "from Bio.Data import CodonTable\n",
    "# Change 'Standard' codon table to 'Vertebrate Mitochondrial'\n",
    "standard_table = CodonTable.unambiguous_dna_by_name[\"Standard\"]\n",
    "print(standard_table)"
   ]
  },
  {
   "cell_type": "markdown",
   "metadata": {
    "slideshow": {
     "slide_type": "notes"
    }
   },
   "source": [
    " Change to \"Vertebrate Mitochondrial\"."
   ]
  },
  {
   "cell_type": "code",
   "execution_count": 35,
   "metadata": {
    "slideshow": {
     "slide_type": "fragment"
    }
   },
   "outputs": [
    {
     "data": {
      "text/plain": [
       "Seq('MAIVMGR')"
      ]
     },
     "execution_count": 35,
     "metadata": {},
     "output_type": "execute_result"
    }
   ],
   "source": [
    "# specify the table using the NCBI ID or table number (e.g. 2)\n",
    "mRNA = Seq('AUGGCCAUUGUAAUGGGCCGCUGAAAGGGUUGA')\n",
    "mRNA.translate(table=1, to_stop=True)"
   ]
  },
  {
   "cell_type": "markdown",
   "metadata": {
    "slideshow": {
     "slide_type": "notes"
    }
   },
   "source": [
    "Note: use  `table=1`, then `to_stop=True`, you can even change the interpreted `stop_symbol=\"@\"`. "
   ]
  },
  {
   "cell_type": "markdown",
   "metadata": {
    "slideshow": {
     "slide_type": "slide"
    }
   },
   "source": [
    "Example: gene yaaX in E. coli K12."
   ]
  },
  {
   "cell_type": "code",
   "execution_count": 42,
   "metadata": {
    "slideshow": {
     "slide_type": "fragment"
    }
   },
   "outputs": [
    {
     "data": {
      "text/plain": [
       "Seq('VKKMQSIVLALSLVLVAPMAAQAAEITLVPSVKLQIGDRDNRGYYWDGGHWRDH...HR*')"
      ]
     },
     "execution_count": 42,
     "metadata": {},
     "output_type": "execute_result"
    }
   ],
   "source": [
    "gene = Seq(\"GTGAAAAAGATGCAATCTATCGTACTCGCACTTTCCCTGGTTCTGGTCGCTCCCATGGCA\" + \\\n",
    " \"GCACAGGCTGCGGAAATTACGTTAGTCCCGTCAGTAAAATTACAGATAGGCGATCGTGAT\" + \\\n",
    " \"AATCGTGGCTATTACTGGGATGGAGGTCACTGGCGCGACCACGGCTGGTGGAAACAACAT\" + \\\n",
    " \"TATGAATGGCGAGGCAATCGCTGGCACCTACACGGACCGCCGCCACCGCCGCGCCACCAT\" + \\\n",
    " \"AAGAAAGCTCCTCATGATCATCACGGCGGTCATGGTCCAGGCAAACATCACCGCTAA\")\n",
    "gene.translate()"
   ]
  },
  {
   "cell_type": "markdown",
   "metadata": {
    "slideshow": {
     "slide_type": "notes"
    }
   },
   "source": [
    "Notes: even though we're changing the table to bacterial (which is appropriate) still we're not taking into account the behaviour of this E. coli where GTG is a valid start codon (Valine --> Methionine)\n",
    "```python\n",
    "gene.translate(table=\"Bacterial\", to_stop=True, cds=True)\n",
    "```\n",
    "Another possible option is the argument `cds` that will claim that this is a valid CDS (start, stop codon, expected number of tri-nts for the codons with no internal stop-codons."
   ]
  },
  {
   "cell_type": "markdown",
   "metadata": {
    "slideshow": {
     "slide_type": "slide"
    }
   },
   "source": [
    "# Exercises\n",
    "- 5.2.1 +\n",
    "- 5.3.1 +\n",
    "- 5.7 +++ "
   ]
  },
  {
   "cell_type": "markdown",
   "metadata": {
    "slideshow": {
     "slide_type": "slide"
    }
   },
   "source": [
    "# 6. Sequence annotations\n",
    "- `Seq` = sequence \n",
    "- `SeqRecord` = `Seq` + metadata\n",
    "- `SeqRecord`\n",
    "    - Main attributes: id & seq\n",
    "    - Additional attributes: name, description, dbxrefs, features, annotations"
   ]
  },
  {
   "cell_type": "code",
   "execution_count": null,
   "metadata": {
    "slideshow": {
     "slide_type": "fragment"
    }
   },
   "outputs": [],
   "source": [
    "# Imports\n",
    "from Bio.Seq import Seq\n",
    "from Bio.SeqRecord import SeqRecord"
   ]
  },
  {
   "cell_type": "markdown",
   "metadata": {
    "slideshow": {
     "slide_type": "notes"
    }
   },
   "source": [
    "Uptil now, we've been using sequence (Seq) objects that stored a sequence and the file format (i.e. fasta, genbank, etc.). Biopython allows us to annotate these Seq objects with additional information like an identifier, a name of the sequence, a description, features and ultimately a bunch of annotations. All of this information is stored in the so-called SeqRecord object which is the follow-up of the Seq object."
   ]
  },
  {
   "cell_type": "code",
   "execution_count": null,
   "metadata": {
    "slideshow": {
     "slide_type": "slide"
    }
   },
   "outputs": [],
   "source": [
    "# Import SeqRecord object with the SeqIO module\n",
    "from Bio import SeqIO\n",
    "record = SeqIO.read(\"data/NC_005816.gb\",\"gb\")\n",
    "print(record)"
   ]
  },
  {
   "cell_type": "markdown",
   "metadata": {
    "slideshow": {
     "slide_type": "notes"
    }
   },
   "source": [
    "In this case we'll read in a GenBank file, *NC_005816.gb*, which we’ll load using the SeqIO module. It's accessible in [NCBI](https://www.ncbi.nlm.nih.gov/nuccore/NC_005816). The next chapter will discuss the SeqIO module, however here we're just using it to read in a SeqRecord object from a file. \n",
    "\n",
    "The following elements are present (amongst others):\n",
    "- **ID**: usually the accession number of the sequence\n",
    "- **Name**: the more commonly used name of the sequence (often the same as accession number)\n",
    "- **Description**: a description or expressive name for the sequence\n",
    "- **Features**: a list of SeqFeature objects with more structured information about the sequence (discussed below)\n",
    "- **Annotations**: a dictionary of additional information about the sequence. \n",
    "- **Seq**: the sequence itself"
   ]
  },
  {
   "cell_type": "code",
   "execution_count": null,
   "metadata": {
    "slideshow": {
     "slide_type": "slide"
    }
   },
   "outputs": [],
   "source": [
    "# ID\n",
    "print(record.id)\n",
    "# Name\n",
    "print(record.name)\n",
    "# Description\n",
    "print(record.description)\n",
    "# Features\n",
    "#print(record.features)\n",
    "# Annotations\n",
    "record.annotations['taxonomy']\n",
    "# Sequence\n",
    "record.seq"
   ]
  },
  {
   "cell_type": "markdown",
   "metadata": {
    "slideshow": {
     "slide_type": "notes"
    }
   },
   "source": [
    "The features and their SeqFeature object are a fairly complex thing on their own. Basically they contain more abstract and detailed information about the SeqRecord object (and thus the sequence). It attempts to encapsulate as much of the information about the sequence as possible by describing a region on the parent sequence.\n",
    "\n",
    "The features and their SeqFeature object are a fairly complex thing on their own. Basically they contain more abstract and detailed information about the SeqRecord object (and thus the sequence). It attempts to encapsulate as much of the information about the sequence as possible by describing a region on the parent sequence.\n",
    "It allows us e.g. to extract CDSs from a longer sequence. "
   ]
  },
  {
   "cell_type": "markdown",
   "metadata": {
    "slideshow": {
     "slide_type": "slide"
    }
   },
   "source": [
    "Example SeqFeatures:"
   ]
  },
  {
   "cell_type": "code",
   "execution_count": null,
   "metadata": {
    "slideshow": {
     "slide_type": "fragment"
    }
   },
   "outputs": [],
   "source": [
    "# Extract features and check whether SNP of interest (4350) is present\n",
    "my_snp = 4350\n",
    "record = SeqIO.read(\"data/NC_005816.gb\", \"genbank\")\n",
    "\n",
    "for feature in record.features:\n",
    "    if my_snp in feature: \n",
    "        print(f\"Feature type: {feature.type}, Locus tag(s):  {feature.qualifiers.get('locus_tag')}\")"
   ]
  },
  {
   "cell_type": "markdown",
   "metadata": {
    "slideshow": {
     "slide_type": "notes"
    }
   },
   "source": [
    "**db_xref** - A list of database cross-references as strings.\n",
    "\n",
    "**Locus tags** are identifiers applied systematically to every gene in a sequencing project. If two submitters of different genomes use the same systematic names to describe different genes, this can be a source of confusion. Therefore, INSDC maintains a registry of locus tag prefixes to avoid overlap between genome annotation projects. The prefix is then used systematically to give a new unambiguous name to every gene."
   ]
  },
  {
   "cell_type": "markdown",
   "metadata": {
    "slideshow": {
     "slide_type": "slide"
    }
   },
   "source": [
    "# Exercises\n",
    "- 6.1.1 ++"
   ]
  },
  {
   "cell_type": "markdown",
   "metadata": {
    "slideshow": {
     "slide_type": "slide"
    }
   },
   "source": [
    "## Reading, writing and parsing files\n",
    "- `SeqIO` reads, writes and parses `SeqRecord` objects\n",
    "- The output of `Bio.SeqIO.parse()` is a `SeqRecord` iterator.\n",
    "- The output of `Bio.SeqIO.read()` is one `SeqRecord`object"
   ]
  },
  {
   "cell_type": "code",
   "execution_count": null,
   "metadata": {
    "slideshow": {
     "slide_type": "fragment"
    }
   },
   "outputs": [],
   "source": [
    "# Import\n",
    "from Bio import SeqIO"
   ]
  },
  {
   "cell_type": "markdown",
   "metadata": {
    "slideshow": {
     "slide_type": "notes"
    }
   },
   "source": [
    "If there is only one record in the file, you might as well use the Bio.SeqIO.read() function. It takes the same two arguments and returns a SeqRecord object with one record."
   ]
  },
  {
   "cell_type": "markdown",
   "metadata": {
    "slideshow": {
     "slide_type": "slide"
    }
   },
   "source": [
    "Example parsing:"
   ]
  },
  {
   "cell_type": "code",
   "execution_count": null,
   "metadata": {
    "slideshow": {
     "slide_type": "fragment"
    }
   },
   "outputs": [],
   "source": [
    "# Here we're using the explicit path to a fasta file (in the data folder)\n",
    "for seq_record in SeqIO.parse(\"data/ls_orchid.fasta\", \"fasta\"):\n",
    "    print(seq_record.id)"
   ]
  },
  {
   "cell_type": "markdown",
   "metadata": {
    "slideshow": {
     "slide_type": "fragment"
    }
   },
   "source": [
    "Alternatively:"
   ]
  },
  {
   "cell_type": "code",
   "execution_count": null,
   "metadata": {
    "slideshow": {
     "slide_type": "fragment"
    }
   },
   "outputs": [],
   "source": [
    "with open(\"data/ls_orchid.fasta\", \"r\") as handle:\n",
    "    for record in SeqIO.parse(handle, \"fasta\"):\n",
    "        print(record.id)"
   ]
  },
  {
   "cell_type": "markdown",
   "metadata": {
    "slideshow": {
     "slide_type": "fragment"
    }
   },
   "source": [
    "Alternatively"
   ]
  },
  {
   "cell_type": "code",
   "execution_count": null,
   "metadata": {
    "slideshow": {
     "slide_type": "fragment"
    }
   },
   "outputs": [],
   "source": [
    "# List comprehension\n",
    "identifiers = [seq_record.id for seq_record in SeqIO.parse(\"data/ls_orchid.gbk\",\"genbank\")]"
   ]
  },
  {
   "cell_type": "markdown",
   "metadata": {
    "slideshow": {
     "slide_type": "slide"
    }
   },
   "source": [
    "# Exercises\n",
    "- 7.1.1 +"
   ]
  },
  {
   "cell_type": "markdown",
   "metadata": {
    "slideshow": {
     "slide_type": "notes"
    }
   },
   "source": [
    "The first thing we'll want to do is reading in a sequence object. The function that we'll need for that is `Bio.SeqIO.parse()` and it expects two arguments:\n",
    "1. An explicit path to a file, a filehandle or a link to data that can be downloaded from the internet  \n",
    "2. A lower case string specifying the sequence format. Examples are: clustal, fasta, embl, fastq, genbank or gb, pdb-atom, swiss, uniprot-xml,... You must specify the file format because [*explicit is better than implicit*](https://www.python.org/dev/peps/pep-0020/). "
   ]
  },
  {
   "cell_type": "markdown",
   "metadata": {
    "slideshow": {
     "slide_type": "slide"
    }
   },
   "source": [
    "## Parsing from the internet\n",
    "- Download and parse sequences from internet (NCBI, Swiss-prot, ExPASy, etc.)\n",
    "- Big files: fetch once and store\n",
    "- [Entrez](https://www.ncbi.nlm.nih.gov/Web/Search/entrezfs.html):\n",
    "    - data retrieval system \n",
    "    - provides users access to NCBI's databases: PubMed, GenBank, GEO, and many others.\n",
    "- Output typically in `XML`"
   ]
  },
  {
   "cell_type": "code",
   "execution_count": null,
   "metadata": {
    "slideshow": {
     "slide_type": "fragment"
    }
   },
   "outputs": [],
   "source": [
    "# Imports\n",
    "from Bio import Entrez\n",
    "from Bio import SeqIO"
   ]
  },
  {
   "cell_type": "markdown",
   "metadata": {
    "slideshow": {
     "slide_type": "notes"
    }
   },
   "source": [
    "In the previous sections, we looked at parsing sequence data from a file (using a filename or handle). As discussed in the introduction of this chapter, it's also possible to download and parse sequences from the internet. Note that just because you can download sequence data and parse it into a SeqRecord object in one go doesn't mean this is a good idea. In general, you should probably download sequences once and save them to a file for reuse.\n",
    "\n",
    "You can access Entrez from a web browser to manually enter queries, or you can use Biopython's Bio.Entrez module for programmatic access to Entrez. "
   ]
  },
  {
   "cell_type": "markdown",
   "metadata": {
    "slideshow": {
     "slide_type": "slide"
    }
   },
   "source": [
    "- `Entrez.email`\n",
    "- `Entrez.esearch`\n",
    "- `Entrez.efetch` \n",
    "- `Entrez.read`\n",
    "- `Entrez.parse`\n",
    "- ..."
   ]
  },
  {
   "cell_type": "code",
   "execution_count": null,
   "metadata": {
    "slideshow": {
     "slide_type": "slide"
    }
   },
   "outputs": [],
   "source": [
    "# Provide email address\n",
    "Entrez.email = \"hello@its.me\"\n",
    "\n",
    "# Use e-search to search any of the databases of NCBI\n",
    "with Entrez.esearch(db=\"nucleotide\", term=\"Cypripedioideae[Orgn] AND matK[Gene]\", idtype=\"acc\") as handle:\n",
    "    records = Entrez.read(handle)"
   ]
  },
  {
   "cell_type": "code",
   "execution_count": null,
   "metadata": {},
   "outputs": [],
   "source": [
    "records"
   ]
  },
  {
   "cell_type": "markdown",
   "metadata": {
    "slideshow": {
     "slide_type": "fragment"
    }
   },
   "source": [
    "Output is a record which can be parsed"
   ]
  },
  {
   "cell_type": "code",
   "execution_count": null,
   "metadata": {
    "slideshow": {
     "slide_type": "slide"
    }
   },
   "outputs": [],
   "source": [
    "Entrez.email = \"hello@its.me\"\n",
    "\n",
    "with Entrez.efetch(db=\"nucleotide\", rettype=\"fasta\", retmode=\"text\", id=\"6273291\") as handle:\n",
    "    record = SeqIO.read(handle, \"fasta\")\n",
    "record"
   ]
  },
  {
   "cell_type": "code",
   "execution_count": null,
   "metadata": {
    "slideshow": {
     "slide_type": "fragment"
    }
   },
   "outputs": [],
   "source": [
    "Entrez.email = \"hello@its.me\"\n",
    "\n",
    "with Entrez.efetch(db=\"nucleotide\", id=\"6273291\", retmode=\"xml\", rettype=\"fasta\") as handle:\n",
    "    record = Entrez.read(handle)\n",
    "record"
   ]
  },
  {
   "cell_type": "markdown",
   "metadata": {
    "slideshow": {
     "slide_type": "notes"
    }
   },
   "source": [
    "First, we'll have to define who we are. Then, we're telling the e-fetching function that we want to access the nucleotide database, we're looking for a fasta sequence, the file format and the id in the form of a handle, which we will subsequently read with the Bio.SeqIO.read() function."
   ]
  },
  {
   "cell_type": "markdown",
   "metadata": {
    "slideshow": {
     "slide_type": "slide"
    }
   },
   "source": [
    "# Exercises\n",
    "- Sickle cell ++ (long)"
   ]
  },
  {
   "cell_type": "markdown",
   "metadata": {
    "slideshow": {
     "slide_type": "slide"
    }
   },
   "source": [
    "## BLAST in Biopython\n",
    "- e.g. find out which organism a sequence belongs to\n",
    "- Function `qblast()` part of `Bio.Blast.NCBIWWW`"
   ]
  },
  {
   "cell_type": "markdown",
   "metadata": {
    "slideshow": {
     "slide_type": "notes"
    }
   },
   "source": [
    "Last thing we will see for today is BLAST. And BLAST represents Basic Local Alignment Search Tool. So what it does is, imagine that you obtained a sequence in the lab, BLAST will find regions of similarity between your sequence and a database full of sequences by trying to  align your sequence to the one of the database. Together with this alignment it will also calculate a statistical significance of how likely that the two sequences are identical, because you can expect that there will be mutliple possible alignments, one a bit more likely than the other (based on mismatches during the alignment procedures).\n",
    "\n",
    "The function that we will use for this is qblast and it's part of BIo Blast NCBI-WWW. "
   ]
  },
  {
   "cell_type": "code",
   "execution_count": null,
   "metadata": {
    "slideshow": {
     "slide_type": "fragment"
    }
   },
   "outputs": [],
   "source": [
    "# Imports\n",
    "from Bio.Blast import NCBIWWW"
   ]
  },
  {
   "cell_type": "markdown",
   "metadata": {
    "slideshow": {
     "slide_type": "slide"
    }
   },
   "source": [
    "- Three arguments: \n",
    "    1. blast program: blastn, blastp, blastx, etc\n",
    "    2. databases: e.g. nt for nucleotide\n",
    "    3. sequence, sequence in fasta or identifier"
   ]
  },
  {
   "cell_type": "code",
   "execution_count": null,
   "metadata": {
    "slideshow": {
     "slide_type": "fragment"
    }
   },
   "outputs": [],
   "source": [
    "# Don't run this all at once\n",
    "result_handle = NCBIWWW.qblast(\"blastn\", \"nt\", \"8332116\")\n",
    "#result_handle = NCBIWWW.qblast(\"blastn\", \"nt\", fasta_string)\n",
    "#result_handle = NCBIWWW.qblast(\"blastn\", \"nt\", record.seq)"
   ]
  },
  {
   "cell_type": "markdown",
   "metadata": {
    "slideshow": {
     "slide_type": "fragment"
    }
   },
   "source": [
    "- Takes a long time to run"
   ]
  },
  {
   "cell_type": "markdown",
   "metadata": {
    "slideshow": {
     "slide_type": "slide"
    }
   },
   "source": [
    "- Output in handle object (by default XML)\n",
    "- Next step:\n",
    "    - read/parse XML output into Python objects\n",
    "    - Save a local copy\n",
    "- handle object output can only be used once - calling it again returns an empty string."
   ]
  },
  {
   "cell_type": "markdown",
   "metadata": {
    "slideshow": {
     "slide_type": "notes"
    }
   },
   "source": [
    "This is especially useful when debugging code that extracts info from the BLAST results (because re-running the online search is slow and wastes the NCBI computer time)."
   ]
  },
  {
   "cell_type": "markdown",
   "metadata": {
    "slideshow": {
     "slide_type": "slide"
    }
   },
   "source": [
    "Parse XML output into Python objects:"
   ]
  },
  {
   "cell_type": "code",
   "execution_count": null,
   "metadata": {
    "slideshow": {
     "slide_type": "fragment"
    }
   },
   "outputs": [],
   "source": [
    "from Bio.Blast import NCBIXML\n",
    "\n",
    "# Option 1:\n",
    "blast_records = NCBIXML.parse(result_handle)\n",
    "\n",
    "# Alternatively, for only one BLAST result:\n",
    "blast_record = NCBIXML.read(result_handle)"
   ]
  },
  {
   "cell_type": "markdown",
   "metadata": {
    "slideshow": {
     "slide_type": "slide"
    }
   },
   "source": [
    "Save a local copy:"
   ]
  },
  {
   "cell_type": "code",
   "execution_count": null,
   "metadata": {
    "slideshow": {
     "slide_type": "fragment"
    }
   },
   "outputs": [],
   "source": [
    "# Option 2:\n",
    "with open(\"file.xml\", \"w\") as out_handle:\n",
    "    out_handle.write(result_handle.read())\n",
    "    \n",
    "with open(\"file.xml\", \"r\") as fh:\n",
    "    my_blast = fh.read()"
   ]
  },
  {
   "cell_type": "markdown",
   "metadata": {
    "slideshow": {
     "slide_type": "slide"
    }
   },
   "source": [
    "The Blast record holds the information of the BLAST output, e.g.:\n",
    "- Description: information about one hit description,\n",
    "- Alignment: information about one alignment hit, \n",
    "- HSP: information about one HSP. \n"
   ]
  },
  {
   "cell_type": "code",
   "execution_count": null,
   "metadata": {},
   "outputs": [],
   "source": [
    "from Bio.Blast import NCBIXML\n",
    "# This is a blast result output that has been saved in a file, called my_blast.xml\n",
    "with open(\"data/my_blast.xml\", \"r\") as fh:\n",
    "    # Read in records\n",
    "    blast_records = NCBIXML.parse(fh)\n",
    "    for blast_record in blast_records:\n",
    "        # Extract information!\n",
    "        for descr in blast_record.descriptions:\n",
    "            title = descr.title\n",
    "            score = descr.score\n",
    "            e = descr.e\n",
    "            print(title, score, e)"
   ]
  },
  {
   "cell_type": "code",
   "execution_count": null,
   "metadata": {},
   "outputs": [],
   "source": []
  }
 ],
 "metadata": {
  "celltoolbar": "Diavoorstelling",
  "kernelspec": {
   "display_name": "Python 3",
   "language": "python",
   "name": "python3"
  },
  "language_info": {
   "codemirror_mode": {
    "name": "ipython",
    "version": 3
   },
   "file_extension": ".py",
   "mimetype": "text/x-python",
   "name": "python",
   "nbconvert_exporter": "python",
   "pygments_lexer": "ipython3",
   "version": "3.7.9"
  }
 },
 "nbformat": 4,
 "nbformat_minor": 2
}
