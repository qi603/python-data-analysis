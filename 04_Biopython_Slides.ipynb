{
 "cells": [
  {
   "cell_type": "markdown",
   "metadata": {
    "slideshow": {
     "slide_type": "slide"
    }
   },
   "source": [
    "# Introduction to Biopython\n",
    "<img src=\"img/logo_biopython.PNG\" width=\"500\" height=\"300\"/>\n"
   ]
  },
  {
   "cell_type": "markdown",
   "metadata": {
    "slideshow": {
     "slide_type": "notes"
    }
   },
   "source": [
    "Biopython is a set of freely available Python tools that help us to work with biological data. It contains components that are developed specifically for bioinformatics purposes. Today I'll give you the highlights and the rest will be yours to explore. \n",
    "\n",
    "On a small side note, before diving into your (biological) data and try analyzing it with complex self-written scripts, it often makes sense that you search through the official documentation for the parts that might help you. This is because it's a huge library that can do a variety of things such as sequence analysis, multiple alignments, protein structures, phylogenetics, population genetics, etc. etc. "
   ]
  },
  {
   "cell_type": "markdown",
   "metadata": {
    "slideshow": {
     "slide_type": "slide"
    }
   },
   "source": [
    "**Installing** the complete module can be done:\n",
    "- Using Anaconda's environments and searching for the package, or\n",
    "- Immediately in a Notebook using the following code:"
   ]
  },
  {
   "cell_type": "code",
   "execution_count": 2,
   "metadata": {
    "slideshow": {
     "slide_type": "fragment"
    }
   },
   "outputs": [
    {
     "name": "stdout",
     "output_type": "stream",
     "text": [
      "1.74\n"
     ]
    }
   ],
   "source": [
    "#pip install biopython \n",
    "\n",
    "# Import the Biopython library\n",
    "import Bio\n",
    "\n",
    "# Check version for proper installment (v1.74)\n",
    "print(Bio.__version__)"
   ]
  },
  {
   "cell_type": "markdown",
   "metadata": {
    "slideshow": {
     "slide_type": "notes"
    }
   },
   "source": [
    "it makes sense to install functions or submodules that are part of Biopython in order to ease the use. Imagine that you want to work with sequences, you can import only the Seq-object."
   ]
  },
  {
   "cell_type": "markdown",
   "metadata": {
    "slideshow": {
     "slide_type": "slide"
    }
   },
   "source": [
    "Content for today:\n",
    "- Working with sequences in : `Seq` and `Alphabets`,\n",
    "- Sequence annotations with: `SeqRecord` objects,\n",
    "- Reading, writing and parsing files with: `SeqIO`\n",
    "- Querying NCBI with: `SeqIO`\n",
    "- BLAST from within Python"
   ]
  },
  {
   "cell_type": "markdown",
   "metadata": {
    "slideshow": {
     "slide_type": "slide"
    }
   },
   "source": [
    "## Working with sequences\n",
    "- A sequence is stored in a `Seq`-object"
   ]
  },
  {
   "cell_type": "markdown",
   "metadata": {
    "slideshow": {
     "slide_type": "notes"
    }
   },
   "source": [
    "The main object in bioinformatics is arguably sequencens (DNA, RNA, proteins). Hence biggest part of Biopython is built around sequences as wel. So in Biopython a sequence is stored in a so-called Sequence object. "
   ]
  },
  {
   "cell_type": "code",
   "execution_count": 3,
   "metadata": {
    "slideshow": {
     "slide_type": "fragment"
    }
   },
   "outputs": [],
   "source": [
    "# Imports\n",
    "from Bio.Seq import Seq"
   ]
  },
  {
   "cell_type": "code",
   "execution_count": 4,
   "metadata": {
    "slideshow": {
     "slide_type": "fragment"
    }
   },
   "outputs": [
    {
     "data": {
      "text/plain": [
       "Seq('AGTACACTGGAT')"
      ]
     },
     "execution_count": 4,
     "metadata": {},
     "output_type": "execute_result"
    }
   ],
   "source": [
    "# Creating our first Seq object\n",
    "my_seq = Seq(\"AGTACACTGGAT\")\n",
    "my_seq"
   ]
  },
  {
   "cell_type": "code",
   "execution_count": 5,
   "metadata": {
    "slideshow": {
     "slide_type": "fragment"
    }
   },
   "outputs": [
    {
     "data": {
      "text/plain": [
       "Bio.Seq.Seq"
      ]
     },
     "execution_count": 5,
     "metadata": {},
     "output_type": "execute_result"
    }
   ],
   "source": [
    "type(my_seq)"
   ]
  },
  {
   "cell_type": "markdown",
   "metadata": {
    "slideshow": {
     "slide_type": "fragment"
    }
   },
   "source": [
    "Is the snippet from a DNA or protein sequence?"
   ]
  },
  {
   "cell_type": "code",
   "execution_count": 6,
   "metadata": {
    "slideshow": {
     "slide_type": "fragment"
    }
   },
   "outputs": [
    {
     "name": "stdout",
     "output_type": "stream",
     "text": [
      "Translation of DNA sequence: STLD\n",
      "The protein AA sequence: AGTACACTGGAT\n"
     ]
    }
   ],
   "source": [
    "print(f'Translation of DNA sequence: {my_seq.translate()}')\n",
    "print(f'The protein AA sequence: {my_seq}')"
   ]
  },
  {
   "cell_type": "markdown",
   "metadata": {
    "slideshow": {
     "slide_type": "slide"
    }
   },
   "source": [
    "## Working with sequences\n",
    "- A sequence is stored in a `Seq`-object\n",
    "- Each `Seq`-object has an additional attribute that contains the `Alphabet`. \n",
    "- Avoid any misinterpretation!"
   ]
  },
  {
   "cell_type": "code",
   "execution_count": 7,
   "metadata": {
    "slideshow": {
     "slide_type": "fragment"
    }
   },
   "outputs": [
    {
     "data": {
      "text/plain": [
       "Alphabet()"
      ]
     },
     "execution_count": 7,
     "metadata": {},
     "output_type": "execute_result"
    }
   ],
   "source": [
    "my_seq.alphabet"
   ]
  },
  {
   "cell_type": "code",
   "execution_count": 8,
   "metadata": {
    "scrolled": true,
    "slideshow": {
     "slide_type": "fragment"
    }
   },
   "outputs": [
    {
     "name": "stdout",
     "output_type": "stream",
     "text": [
      "GATC\n",
      "GATCRYWSMKHBVDN\n"
     ]
    }
   ],
   "source": [
    "# importing the IUPAC alphabets\n",
    "from Bio.Alphabet import IUPAC\n",
    "#dir(IUPAC)\n",
    "print(IUPAC.unambiguous_dna.letters)\n",
    "print(IUPAC.ambiguous_dna.letters)"
   ]
  },
  {
   "cell_type": "code",
   "execution_count": 9,
   "metadata": {
    "slideshow": {
     "slide_type": "fragment"
    }
   },
   "outputs": [],
   "source": [
    "# Define Alphabet\n",
    "my_dna = Seq(\"AGTACACTGG\", IUPAC.unambiguous_dna)\n",
    "my_prot = Seq(\"AGTACACTGG\", IUPAC.protein)"
   ]
  },
  {
   "cell_type": "markdown",
   "metadata": {
    "slideshow": {
     "slide_type": "notes"
    }
   },
   "source": [
    "We can specify that we're working with DNA in this case by defining another argument in the Seq object. In the example below we will allocate a DNA sequence to one variable and a protein sequence to another one."
   ]
  },
  {
   "cell_type": "markdown",
   "metadata": {
    "slideshow": {
     "slide_type": "slide"
    }
   },
   "source": [
    "## Working with sequences\n",
    "- `Seq`-objects behave like strings"
   ]
  },
  {
   "cell_type": "code",
   "execution_count": 13,
   "metadata": {
    "slideshow": {
     "slide_type": "fragment"
    }
   },
   "outputs": [
    {
     "name": "stdout",
     "output_type": "stream",
     "text": [
      "1\n",
      "9\n"
     ]
    }
   ],
   "source": [
    "# Get element at position 0\n",
    "my_seq = Seq('AGTACACTGGAT', IUPAC.unambiguous_dna)\n",
    "my_seq[0]\n",
    "\n",
    "# Find how many times \"GAT\" appears in the sequence\n",
    "print(my_seq.count(\"GAT\"))\n",
    "\n",
    "# Find where \"GAT\" appears in the sequence\n",
    "print(my_seq.find(\"GAT\"))"
   ]
  },
  {
   "cell_type": "markdown",
   "metadata": {
    "slideshow": {
     "slide_type": "fragment"
    }
   },
   "source": [
    "- `Seq`-objects are immutable"
   ]
  },
  {
   "cell_type": "code",
   "execution_count": 14,
   "metadata": {
    "slideshow": {
     "slide_type": "fragment"
    }
   },
   "outputs": [
    {
     "ename": "TypeError",
     "evalue": "'Seq' object does not support item assignment",
     "output_type": "error",
     "traceback": [
      "\u001b[1;31m---------------------------------------------------------------------------\u001b[0m",
      "\u001b[1;31mTypeError\u001b[0m                                 Traceback (most recent call last)",
      "\u001b[1;32m<ipython-input-14-35080ec97486>\u001b[0m in \u001b[0;36m<module>\u001b[1;34m\u001b[0m\n\u001b[1;32m----> 1\u001b[1;33m \u001b[0mmy_seq\u001b[0m\u001b[1;33m[\u001b[0m\u001b[1;36m2\u001b[0m\u001b[1;33m]\u001b[0m \u001b[1;33m=\u001b[0m \u001b[1;34m'A'\u001b[0m\u001b[1;33m\u001b[0m\u001b[1;33m\u001b[0m\u001b[0m\n\u001b[0m",
      "\u001b[1;31mTypeError\u001b[0m: 'Seq' object does not support item assignment"
     ]
    }
   ],
   "source": [
    "my_seq[2] = 'A'"
   ]
  },
  {
   "cell_type": "markdown",
   "metadata": {
    "slideshow": {
     "slide_type": "slide"
    }
   },
   "source": [
    "## Working with sequences\n",
    "- `Seq`-objects can be sliced"
   ]
  },
  {
   "cell_type": "code",
   "execution_count": 15,
   "metadata": {
    "slideshow": {
     "slide_type": "fragment"
    }
   },
   "outputs": [
    {
     "data": {
      "text/plain": [
       "Seq('TACA', IUPACUnambiguousDNA())"
      ]
     },
     "execution_count": 15,
     "metadata": {},
     "output_type": "execute_result"
    }
   ],
   "source": [
    "# Slicing in its most basic form\n",
    "my_seq[2:6]"
   ]
  },
  {
   "cell_type": "markdown",
   "metadata": {
    "slideshow": {
     "slide_type": "fragment"
    }
   },
   "source": [
    "- Turning `Seq`-objects into strings"
   ]
  },
  {
   "cell_type": "code",
   "execution_count": 16,
   "metadata": {
    "scrolled": true,
    "slideshow": {
     "slide_type": "fragment"
    }
   },
   "outputs": [
    {
     "data": {
      "text/plain": [
       "'AGTACACTGGAT'"
      ]
     },
     "execution_count": 16,
     "metadata": {},
     "output_type": "execute_result"
    }
   ],
   "source": [
    "str(my_seq)\n",
    "#print(my_seq)"
   ]
  },
  {
   "cell_type": "markdown",
   "metadata": {
    "slideshow": {
     "slide_type": "fragment"
    }
   },
   "source": [
    "- Concatenating or adding sequences"
   ]
  },
  {
   "cell_type": "code",
   "execution_count": 17,
   "metadata": {
    "slideshow": {
     "slide_type": "fragment"
    }
   },
   "outputs": [
    {
     "data": {
      "text/plain": [
       "Seq('EVRNAKAGGATC', IUPACProtein())"
      ]
     },
     "execution_count": 17,
     "metadata": {},
     "output_type": "execute_result"
    }
   ],
   "source": [
    "# This will work\n",
    "protein_seq1 = Seq(\"EVRNAK\")\n",
    "protein_seq2 = Seq(\"AGGATC\", IUPAC.protein)\n",
    "protein_seq1 + protein_seq2"
   ]
  },
  {
   "cell_type": "markdown",
   "metadata": {
    "slideshow": {
     "slide_type": "fragment"
    }
   },
   "source": [
    "- and much more..."
   ]
  },
  {
   "cell_type": "markdown",
   "metadata": {
    "slideshow": {
     "slide_type": "slide"
    }
   },
   "source": [
    "## Methods on `Seq` objects\n",
    "- transcribe()\n",
    "- translate()\n",
    "- complement()\n",
    "- reverse_complement()\n",
    "\n",
    "Depending on Alphabet. "
   ]
  },
  {
   "cell_type": "markdown",
   "metadata": {
    "slideshow": {
     "slide_type": "slide"
    }
   },
   "source": [
    "![transcription](img/transcriptionprocess.png)"
   ]
  },
  {
   "cell_type": "code",
   "execution_count": 25,
   "metadata": {
    "scrolled": true,
    "slideshow": {
     "slide_type": "slide"
    }
   },
   "outputs": [
    {
     "name": "stdout",
     "output_type": "stream",
     "text": [
      "Original DNA seq:           ATGGCCATTGTAATGG\n",
      "Complement DNA seq:         TACCGGTAACATTACC\n",
      "Reverse complement DNA seq: CCATTACAATGGCCAT\n",
      "mRNA seq:                   AUGGCCAUUGUAAUGG\n",
      "Protein seq:                MAIVM\n"
     ]
    }
   ],
   "source": [
    "coding_dna = Seq(\"ATGGCCATTGTAATGG\")\n",
    "#dir(coding_dna)\n",
    "print(f'Original DNA seq: {str(coding_dna):>26}')\n",
    "print(f\"Complement DNA seq: {str(coding_dna.complement()):>24}\")\n",
    "print(f\"Reverse complement DNA seq: {str(coding_dna.reverse_complement()):>15}\")\n",
    "print(f\"mRNA seq: {str(coding_dna.transcribe()):>34}\")\n",
    "print(f\"Protein seq: {str(coding_dna.translate()):>20}\")"
   ]
  },
  {
   "cell_type": "markdown",
   "metadata": {
    "slideshow": {
     "slide_type": "slide"
    }
   },
   "source": [
    "## Codon tables\n",
    "- Choose the correct codon table that is relevant for the organism you're working with.   \n",
    "- Imported from NCBI: standard, vertebrate mictochondrial, yeast mitochondrial, bacterial, etc. "
   ]
  },
  {
   "cell_type": "code",
   "execution_count": 26,
   "metadata": {
    "slideshow": {
     "slide_type": "fragment"
    }
   },
   "outputs": [
    {
     "name": "stdout",
     "output_type": "stream",
     "text": [
      "Table 1 Standard, SGC0\n",
      "\n",
      "  |  T      |  C      |  A      |  G      |\n",
      "--+---------+---------+---------+---------+--\n",
      "T | TTT F   | TCT S   | TAT Y   | TGT C   | T\n",
      "T | TTC F   | TCC S   | TAC Y   | TGC C   | C\n",
      "T | TTA L   | TCA S   | TAA Stop| TGA Stop| A\n",
      "T | TTG L(s)| TCG S   | TAG Stop| TGG W   | G\n",
      "--+---------+---------+---------+---------+--\n",
      "C | CTT L   | CCT P   | CAT H   | CGT R   | T\n",
      "C | CTC L   | CCC P   | CAC H   | CGC R   | C\n",
      "C | CTA L   | CCA P   | CAA Q   | CGA R   | A\n",
      "C | CTG L(s)| CCG P   | CAG Q   | CGG R   | G\n",
      "--+---------+---------+---------+---------+--\n",
      "A | ATT I   | ACT T   | AAT N   | AGT S   | T\n",
      "A | ATC I   | ACC T   | AAC N   | AGC S   | C\n",
      "A | ATA I   | ACA T   | AAA K   | AGA R   | A\n",
      "A | ATG M(s)| ACG T   | AAG K   | AGG R   | G\n",
      "--+---------+---------+---------+---------+--\n",
      "G | GTT V   | GCT A   | GAT D   | GGT G   | T\n",
      "G | GTC V   | GCC A   | GAC D   | GGC G   | C\n",
      "G | GTA V   | GCA A   | GAA E   | GGA G   | A\n",
      "G | GTG V   | GCG A   | GAG E   | GGG G   | G\n",
      "--+---------+---------+---------+---------+--\n"
     ]
    }
   ],
   "source": [
    "# Import codon table ()\n",
    "from Bio.Data import CodonTable\n",
    "# Change 'Standard' codon table to 'Vertebrate Mitochondrial'\n",
    "standard_table = CodonTable.unambiguous_dna_by_name[\"Standard\"]\n",
    "print(standard_table)"
   ]
  },
  {
   "cell_type": "code",
   "execution_count": null,
   "metadata": {
    "slideshow": {
     "slide_type": "fragment"
    }
   },
   "outputs": [],
   "source": [
    "# specify the table using the NCBI ID or table number (e.g. 2)\n",
    "coding_dna.translate(table=\"Vertebrate Mitochondrial\")"
   ]
  },
  {
   "cell_type": "markdown",
   "metadata": {
    "slideshow": {
     "slide_type": "slide"
    }
   },
   "source": [
    "Example:"
   ]
  },
  {
   "cell_type": "code",
   "execution_count": 27,
   "metadata": {
    "slideshow": {
     "slide_type": "fragment"
    }
   },
   "outputs": [],
   "source": [
    "gene = Seq(\"GTGAAAAAGATGCAATCTATCGTACTCGCACTTTCCCTGGTTCTGGTCGCTCCCATGGCA\" + \\\n",
    " \"GCACAGGCTGCGGAAATTACGTTAGTCCCGTCAGTAAAATTACAGATAGGCGATCGTGAT\" + \\\n",
    " \"AATCGTGGCTATTACTGGGATGGAGGTCACTGGCGCTAAGACCACGGCTGGTGGAAACAACAT\" + \\\n",
    " \"TATGAATGGCGAGGCAATCGCTGGCACCTACACGGACCGCCGCCACCGCCGCGCCACCAT\" + \\\n",
    " \"AAGAAAGCTCCTCATGATCATCACGGCGGTCATGGTCCAGGCAAACATCACCGCTAA\")"
   ]
  },
  {
   "cell_type": "markdown",
   "metadata": {},
   "source": [
    "Another possible option is the argument `cds` that will take into account that it only starts if a start-codon is seen. "
   ]
  },
  {
   "cell_type": "markdown",
   "metadata": {
    "slideshow": {
     "slide_type": "slide"
    }
   },
   "source": [
    "# Exercises\n",
    "- 5.2.1 +\n",
    "- 5.3.1 +\n",
    "- 5.7 +++ "
   ]
  },
  {
   "cell_type": "markdown",
   "metadata": {
    "slideshow": {
     "slide_type": "slide"
    }
   },
   "source": [
    "# `SeqRecord`-object\n",
    "- `Seq` = sequence \n",
    "- `SeqRecord` = `Seq` + metadata\n",
    "- `SeqRecord`\n",
    "    - Main attributes: id & seq\n",
    "    - Additional attributes: name, description, dbxrefs, features, annotations"
   ]
  },
  {
   "cell_type": "code",
   "execution_count": 32,
   "metadata": {
    "slideshow": {
     "slide_type": "fragment"
    }
   },
   "outputs": [],
   "source": [
    "# Imports\n",
    "from Bio.Seq import Seq\n",
    "from Bio.SeqRecord import SeqRecord"
   ]
  },
  {
   "cell_type": "markdown",
   "metadata": {
    "slideshow": {
     "slide_type": "notes"
    }
   },
   "source": [
    "Uptil now, we've been using sequence (Seq) objects that stored a sequence and the file format (i.e. fasta, genbank, etc.). Biopython allows us to annotate these Seq objects with additional information like an identifier, a name of the sequence, a description, features and ultimately a bunch of annotations. All of this information is stored in the so-called SeqRecord object which is the follow-up of the Seq object."
   ]
  },
  {
   "cell_type": "code",
   "execution_count": 33,
   "metadata": {
    "slideshow": {
     "slide_type": "slide"
    }
   },
   "outputs": [
    {
     "name": "stdout",
     "output_type": "stream",
     "text": [
      "ID: NC_005816.1\n",
      "Name: NC_005816\n",
      "Description: Yersinia pestis biovar Microtus str. 91001 plasmid pPCP1, complete sequence\n",
      "Database cross-references: Project:58037\n",
      "Number of features: 41\n",
      "/molecule_type=DNA\n",
      "/topology=circular\n",
      "/data_file_division=BCT\n",
      "/date=21-JUL-2008\n",
      "/accessions=['NC_005816']\n",
      "/sequence_version=1\n",
      "/gi=45478711\n",
      "/keywords=['']\n",
      "/source=Yersinia pestis biovar Microtus str. 91001\n",
      "/organism=Yersinia pestis biovar Microtus str. 91001\n",
      "/taxonomy=['Bacteria', 'Proteobacteria', 'Gammaproteobacteria', 'Enterobacteriales', 'Enterobacteriaceae', 'Yersinia']\n",
      "/references=[Reference(title='Genetics of metabolic variations between Yersinia pestis biovars and the proposal of a new biovar, microtus', ...), Reference(title='Complete genome sequence of Yersinia pestis strain 91001, an isolate avirulent to humans', ...), Reference(title='Direct Submission', ...), Reference(title='Direct Submission', ...)]\n",
      "/comment=PROVISIONAL REFSEQ: This record has not yet been subject to final\n",
      "NCBI review. The reference sequence was derived from AE017046.\n",
      "COMPLETENESS: full length.\n",
      "Seq('TGTAACGAACGGTGCAATAGTGATCCACACCCAACGCCTGAAATCAGATCCAGG...CTG', IUPACAmbiguousDNA())\n"
     ]
    }
   ],
   "source": [
    "# Import SeqRecord object with the SeqIO module\n",
    "from Bio import SeqIO\n",
    "record = SeqIO.read(\"data/NC_005816.gb\",\"gb\")\n",
    "print(record)"
   ]
  },
  {
   "cell_type": "markdown",
   "metadata": {
    "slideshow": {
     "slide_type": "notes"
    }
   },
   "source": [
    "In this case we'll read in a GenBank file, *NC_005816.gb*, which we’ll load using the SeqIO module. It's accessible in [NCBI](https://www.ncbi.nlm.nih.gov/nuccore/NC_005816). The next chapter will discuss the SeqIO module, however here we're just using it to read in a SeqRecord object from a file. \n",
    "\n",
    "The following elements are present (amongst others):\n",
    "- **ID**: usually the accession number of the sequence\n",
    "- **Name**: the more commonly used name of the sequence (often the same as accession number)\n",
    "- **Description**: a description or expressive name for the sequence\n",
    "- **Features**: a list of SeqFeature objects with more structured information about the sequence (discussed below)\n",
    "- **Annotations**: a dictionary of additional information about the sequence. \n",
    "- **Seq**: the sequence itself"
   ]
  },
  {
   "cell_type": "code",
   "execution_count": 40,
   "metadata": {
    "slideshow": {
     "slide_type": "slide"
    }
   },
   "outputs": [
    {
     "name": "stdout",
     "output_type": "stream",
     "text": [
      "NC_005816.1\n",
      "NC_005816\n",
      "Yersinia pestis biovar Microtus str. 91001 plasmid pPCP1, complete sequence\n"
     ]
    },
    {
     "data": {
      "text/plain": [
       "Seq('TGTAACGAACGGTGCAATAGTGATCCACACCCAACGCCTGAAATCAGATCCAGG...CTG', IUPACAmbiguousDNA())"
      ]
     },
     "execution_count": 40,
     "metadata": {},
     "output_type": "execute_result"
    }
   ],
   "source": [
    "# ID\n",
    "print(record.id)\n",
    "# Name\n",
    "print(record.name)\n",
    "# Description\n",
    "print(record.description)\n",
    "# Features\n",
    "#print(record.features)\n",
    "# Annotations\n",
    "record.annotations['taxonomy']\n",
    "# Sequence\n",
    "record.seq"
   ]
  },
  {
   "cell_type": "markdown",
   "metadata": {
    "slideshow": {
     "slide_type": "notes"
    }
   },
   "source": [
    "The features and their SeqFeature object are a fairly complex thing on their own. Basically they contain more abstract and detailed information about the SeqRecord object (and thus the sequence). It attempts to encapsulate as much of the information about the sequence as possible by describing a region on the parent sequence.\n",
    "\n",
    "The features and their SeqFeature object are a fairly complex thing on their own. Basically they contain more abstract and detailed information about the SeqRecord object (and thus the sequence). It attempts to encapsulate as much of the information about the sequence as possible by describing a region on the parent sequence.\n",
    "It allows us e.g. to extract CDSs from a longer sequence. "
   ]
  },
  {
   "cell_type": "markdown",
   "metadata": {
    "slideshow": {
     "slide_type": "slide"
    }
   },
   "source": [
    "Example SeqFeatures:"
   ]
  },
  {
   "cell_type": "code",
   "execution_count": 41,
   "metadata": {
    "slideshow": {
     "slide_type": "fragment"
    }
   },
   "outputs": [
    {
     "name": "stdout",
     "output_type": "stream",
     "text": [
      "Feature type: source, Locus tag(s):  None\n",
      "Feature type: gene, Locus tag(s):  ['YP_pPCP05']\n",
      "Feature type: CDS, Locus tag(s):  ['YP_pPCP05']\n"
     ]
    }
   ],
   "source": [
    "# Extract features and check whether SNP of interest (4350) is present\n",
    "my_snp = 4350\n",
    "record = SeqIO.read(\"data/NC_005816.gb\", \"genbank\")\n",
    "\n",
    "for feature in record.features:\n",
    "    if my_snp in feature: \n",
    "        print(f\"Feature type: {feature.type}, Locus tag(s):  {feature.qualifiers.get('locus_tag')}\")"
   ]
  },
  {
   "cell_type": "markdown",
   "metadata": {
    "slideshow": {
     "slide_type": "notes"
    }
   },
   "source": [
    "**db_xref** - A list of database cross-references as strings.\n",
    "\n",
    "**Locus tags** are identifiers applied systematically to every gene in a sequencing project. If two submitters of different genomes use the same systematic names to describe different genes, this can be a source of confusion. Therefore, INSDC maintains a registry of locus tag prefixes to avoid overlap between genome annotation projects. The prefix is then used systematically to give a new unambiguous name to every gene."
   ]
  },
  {
   "cell_type": "markdown",
   "metadata": {
    "slideshow": {
     "slide_type": "slide"
    }
   },
   "source": [
    "# Exercises\n",
    "- 6.1.1 ++"
   ]
  },
  {
   "cell_type": "markdown",
   "metadata": {
    "slideshow": {
     "slide_type": "slide"
    }
   },
   "source": [
    "## Reading, writing and parsing files\n",
    "- `SeqIO` reads, writes and parses `SeqRecord` objects\n",
    "- The output of `Bio.SeqIO.parse()` is a `SeqRecord` iterator.\n",
    "- The output of `Bio.SeqIO.read()` is one `SeqRecord`object"
   ]
  },
  {
   "cell_type": "code",
   "execution_count": 42,
   "metadata": {
    "slideshow": {
     "slide_type": "fragment"
    }
   },
   "outputs": [],
   "source": [
    "# Import\n",
    "from Bio import SeqIO"
   ]
  },
  {
   "cell_type": "markdown",
   "metadata": {
    "slideshow": {
     "slide_type": "notes"
    }
   },
   "source": [
    "If there is only one record in the file, you might as well use the Bio.SeqIO.read() function. It takes the same two arguments and returns a SeqRecord object with one record."
   ]
  },
  {
   "cell_type": "markdown",
   "metadata": {
    "slideshow": {
     "slide_type": "slide"
    }
   },
   "source": [
    "Example parsing:"
   ]
  },
  {
   "cell_type": "code",
   "execution_count": 43,
   "metadata": {
    "collapsed": true,
    "slideshow": {
     "slide_type": "fragment"
    }
   },
   "outputs": [
    {
     "name": "stdout",
     "output_type": "stream",
     "text": [
      "gi|2765658|emb|Z78533.1|CIZ78533\n",
      "gi|2765657|emb|Z78532.1|CCZ78532\n",
      "gi|2765656|emb|Z78531.1|CFZ78531\n",
      "gi|2765655|emb|Z78530.1|CMZ78530\n",
      "gi|2765654|emb|Z78529.1|CLZ78529\n",
      "gi|2765652|emb|Z78527.1|CYZ78527\n",
      "gi|2765651|emb|Z78526.1|CGZ78526\n",
      "gi|2765650|emb|Z78525.1|CAZ78525\n",
      "gi|2765649|emb|Z78524.1|CFZ78524\n",
      "gi|2765648|emb|Z78523.1|CHZ78523\n",
      "gi|2765647|emb|Z78522.1|CMZ78522\n",
      "gi|2765646|emb|Z78521.1|CCZ78521\n",
      "gi|2765645|emb|Z78520.1|CSZ78520\n",
      "gi|2765644|emb|Z78519.1|CPZ78519\n",
      "gi|2765643|emb|Z78518.1|CRZ78518\n",
      "gi|2765642|emb|Z78517.1|CFZ78517\n",
      "gi|2765641|emb|Z78516.1|CPZ78516\n",
      "gi|2765640|emb|Z78515.1|MXZ78515\n",
      "gi|2765639|emb|Z78514.1|PSZ78514\n",
      "gi|2765638|emb|Z78513.1|PBZ78513\n",
      "gi|2765637|emb|Z78512.1|PWZ78512\n",
      "gi|2765636|emb|Z78511.1|PEZ78511\n",
      "gi|2765635|emb|Z78510.1|PCZ78510\n",
      "gi|2765634|emb|Z78509.1|PPZ78509\n",
      "gi|2765633|emb|Z78508.1|PLZ78508\n",
      "gi|2765632|emb|Z78507.1|PLZ78507\n",
      "gi|2765631|emb|Z78506.1|PLZ78506\n",
      "gi|2765630|emb|Z78505.1|PSZ78505\n",
      "gi|2765629|emb|Z78504.1|PKZ78504\n",
      "gi|2765628|emb|Z78503.1|PCZ78503\n",
      "gi|2765627|emb|Z78502.1|PBZ78502\n",
      "gi|2765626|emb|Z78501.1|PCZ78501\n",
      "gi|2765625|emb|Z78500.1|PWZ78500\n",
      "gi|2765624|emb|Z78499.1|PMZ78499\n",
      "gi|2765623|emb|Z78498.1|PMZ78498\n",
      "gi|2765622|emb|Z78497.1|PDZ78497\n",
      "gi|2765621|emb|Z78496.1|PAZ78496\n",
      "gi|2765620|emb|Z78495.1|PEZ78495\n",
      "gi|2765619|emb|Z78494.1|PNZ78494\n",
      "gi|2765618|emb|Z78493.1|PGZ78493\n",
      "gi|2765617|emb|Z78492.1|PBZ78492\n",
      "gi|2765616|emb|Z78491.1|PCZ78491\n",
      "gi|2765615|emb|Z78490.1|PFZ78490\n",
      "gi|2765614|emb|Z78489.1|PDZ78489\n",
      "gi|2765613|emb|Z78488.1|PTZ78488\n",
      "gi|2765612|emb|Z78487.1|PHZ78487\n",
      "gi|2765611|emb|Z78486.1|PBZ78486\n",
      "gi|2765610|emb|Z78485.1|PHZ78485\n",
      "gi|2765609|emb|Z78484.1|PCZ78484\n",
      "gi|2765608|emb|Z78483.1|PVZ78483\n",
      "gi|2765607|emb|Z78482.1|PEZ78482\n",
      "gi|2765606|emb|Z78481.1|PIZ78481\n",
      "gi|2765605|emb|Z78480.1|PGZ78480\n",
      "gi|2765604|emb|Z78479.1|PPZ78479\n",
      "gi|2765603|emb|Z78478.1|PVZ78478\n",
      "gi|2765602|emb|Z78477.1|PVZ78477\n",
      "gi|2765601|emb|Z78476.1|PGZ78476\n",
      "gi|2765600|emb|Z78475.1|PSZ78475\n",
      "gi|2765599|emb|Z78474.1|PKZ78474\n",
      "gi|2765598|emb|Z78473.1|PSZ78473\n",
      "gi|2765597|emb|Z78472.1|PLZ78472\n",
      "gi|2765596|emb|Z78471.1|PDZ78471\n",
      "gi|2765595|emb|Z78470.1|PPZ78470\n",
      "gi|2765594|emb|Z78469.1|PHZ78469\n",
      "gi|2765593|emb|Z78468.1|PAZ78468\n",
      "gi|2765592|emb|Z78467.1|PSZ78467\n",
      "gi|2765591|emb|Z78466.1|PPZ78466\n",
      "gi|2765590|emb|Z78465.1|PRZ78465\n",
      "gi|2765589|emb|Z78464.1|PGZ78464\n",
      "gi|2765588|emb|Z78463.1|PGZ78463\n",
      "gi|2765587|emb|Z78462.1|PSZ78462\n",
      "gi|2765586|emb|Z78461.1|PWZ78461\n",
      "gi|2765585|emb|Z78460.1|PCZ78460\n",
      "gi|2765584|emb|Z78459.1|PDZ78459\n",
      "gi|2765583|emb|Z78458.1|PHZ78458\n",
      "gi|2765582|emb|Z78457.1|PCZ78457\n",
      "gi|2765581|emb|Z78456.1|PTZ78456\n",
      "gi|2765580|emb|Z78455.1|PJZ78455\n",
      "gi|2765579|emb|Z78454.1|PFZ78454\n",
      "gi|2765578|emb|Z78453.1|PSZ78453\n",
      "gi|2765577|emb|Z78452.1|PBZ78452\n",
      "gi|2765576|emb|Z78451.1|PHZ78451\n",
      "gi|2765575|emb|Z78450.1|PPZ78450\n",
      "gi|2765574|emb|Z78449.1|PMZ78449\n",
      "gi|2765573|emb|Z78448.1|PAZ78448\n",
      "gi|2765572|emb|Z78447.1|PVZ78447\n",
      "gi|2765571|emb|Z78446.1|PAZ78446\n",
      "gi|2765570|emb|Z78445.1|PUZ78445\n",
      "gi|2765569|emb|Z78444.1|PAZ78444\n",
      "gi|2765568|emb|Z78443.1|PLZ78443\n",
      "gi|2765567|emb|Z78442.1|PBZ78442\n",
      "gi|2765566|emb|Z78441.1|PSZ78441\n",
      "gi|2765565|emb|Z78440.1|PPZ78440\n",
      "gi|2765564|emb|Z78439.1|PBZ78439\n"
     ]
    }
   ],
   "source": [
    "# Here we're using the explicit path to a fasta file (in the data folder)\n",
    "for seq_record in SeqIO.parse(\"data/ls_orchid.fasta\", \"fasta\"):\n",
    "    print(seq_record.id)"
   ]
  },
  {
   "cell_type": "markdown",
   "metadata": {
    "slideshow": {
     "slide_type": "fragment"
    }
   },
   "source": [
    "Alternatively:"
   ]
  },
  {
   "cell_type": "code",
   "execution_count": 44,
   "metadata": {
    "collapsed": true,
    "slideshow": {
     "slide_type": "fragment"
    }
   },
   "outputs": [
    {
     "name": "stdout",
     "output_type": "stream",
     "text": [
      "gi|2765658|emb|Z78533.1|CIZ78533\n",
      "gi|2765657|emb|Z78532.1|CCZ78532\n",
      "gi|2765656|emb|Z78531.1|CFZ78531\n",
      "gi|2765655|emb|Z78530.1|CMZ78530\n",
      "gi|2765654|emb|Z78529.1|CLZ78529\n",
      "gi|2765652|emb|Z78527.1|CYZ78527\n",
      "gi|2765651|emb|Z78526.1|CGZ78526\n",
      "gi|2765650|emb|Z78525.1|CAZ78525\n",
      "gi|2765649|emb|Z78524.1|CFZ78524\n",
      "gi|2765648|emb|Z78523.1|CHZ78523\n",
      "gi|2765647|emb|Z78522.1|CMZ78522\n",
      "gi|2765646|emb|Z78521.1|CCZ78521\n",
      "gi|2765645|emb|Z78520.1|CSZ78520\n",
      "gi|2765644|emb|Z78519.1|CPZ78519\n",
      "gi|2765643|emb|Z78518.1|CRZ78518\n",
      "gi|2765642|emb|Z78517.1|CFZ78517\n",
      "gi|2765641|emb|Z78516.1|CPZ78516\n",
      "gi|2765640|emb|Z78515.1|MXZ78515\n",
      "gi|2765639|emb|Z78514.1|PSZ78514\n",
      "gi|2765638|emb|Z78513.1|PBZ78513\n",
      "gi|2765637|emb|Z78512.1|PWZ78512\n",
      "gi|2765636|emb|Z78511.1|PEZ78511\n",
      "gi|2765635|emb|Z78510.1|PCZ78510\n",
      "gi|2765634|emb|Z78509.1|PPZ78509\n",
      "gi|2765633|emb|Z78508.1|PLZ78508\n",
      "gi|2765632|emb|Z78507.1|PLZ78507\n",
      "gi|2765631|emb|Z78506.1|PLZ78506\n",
      "gi|2765630|emb|Z78505.1|PSZ78505\n",
      "gi|2765629|emb|Z78504.1|PKZ78504\n",
      "gi|2765628|emb|Z78503.1|PCZ78503\n",
      "gi|2765627|emb|Z78502.1|PBZ78502\n",
      "gi|2765626|emb|Z78501.1|PCZ78501\n",
      "gi|2765625|emb|Z78500.1|PWZ78500\n",
      "gi|2765624|emb|Z78499.1|PMZ78499\n",
      "gi|2765623|emb|Z78498.1|PMZ78498\n",
      "gi|2765622|emb|Z78497.1|PDZ78497\n",
      "gi|2765621|emb|Z78496.1|PAZ78496\n",
      "gi|2765620|emb|Z78495.1|PEZ78495\n",
      "gi|2765619|emb|Z78494.1|PNZ78494\n",
      "gi|2765618|emb|Z78493.1|PGZ78493\n",
      "gi|2765617|emb|Z78492.1|PBZ78492\n",
      "gi|2765616|emb|Z78491.1|PCZ78491\n",
      "gi|2765615|emb|Z78490.1|PFZ78490\n",
      "gi|2765614|emb|Z78489.1|PDZ78489\n",
      "gi|2765613|emb|Z78488.1|PTZ78488\n",
      "gi|2765612|emb|Z78487.1|PHZ78487\n",
      "gi|2765611|emb|Z78486.1|PBZ78486\n",
      "gi|2765610|emb|Z78485.1|PHZ78485\n",
      "gi|2765609|emb|Z78484.1|PCZ78484\n",
      "gi|2765608|emb|Z78483.1|PVZ78483\n",
      "gi|2765607|emb|Z78482.1|PEZ78482\n",
      "gi|2765606|emb|Z78481.1|PIZ78481\n",
      "gi|2765605|emb|Z78480.1|PGZ78480\n",
      "gi|2765604|emb|Z78479.1|PPZ78479\n",
      "gi|2765603|emb|Z78478.1|PVZ78478\n",
      "gi|2765602|emb|Z78477.1|PVZ78477\n",
      "gi|2765601|emb|Z78476.1|PGZ78476\n",
      "gi|2765600|emb|Z78475.1|PSZ78475\n",
      "gi|2765599|emb|Z78474.1|PKZ78474\n",
      "gi|2765598|emb|Z78473.1|PSZ78473\n",
      "gi|2765597|emb|Z78472.1|PLZ78472\n",
      "gi|2765596|emb|Z78471.1|PDZ78471\n",
      "gi|2765595|emb|Z78470.1|PPZ78470\n",
      "gi|2765594|emb|Z78469.1|PHZ78469\n",
      "gi|2765593|emb|Z78468.1|PAZ78468\n",
      "gi|2765592|emb|Z78467.1|PSZ78467\n",
      "gi|2765591|emb|Z78466.1|PPZ78466\n",
      "gi|2765590|emb|Z78465.1|PRZ78465\n",
      "gi|2765589|emb|Z78464.1|PGZ78464\n",
      "gi|2765588|emb|Z78463.1|PGZ78463\n",
      "gi|2765587|emb|Z78462.1|PSZ78462\n",
      "gi|2765586|emb|Z78461.1|PWZ78461\n",
      "gi|2765585|emb|Z78460.1|PCZ78460\n",
      "gi|2765584|emb|Z78459.1|PDZ78459\n",
      "gi|2765583|emb|Z78458.1|PHZ78458\n",
      "gi|2765582|emb|Z78457.1|PCZ78457\n",
      "gi|2765581|emb|Z78456.1|PTZ78456\n",
      "gi|2765580|emb|Z78455.1|PJZ78455\n",
      "gi|2765579|emb|Z78454.1|PFZ78454\n",
      "gi|2765578|emb|Z78453.1|PSZ78453\n",
      "gi|2765577|emb|Z78452.1|PBZ78452\n",
      "gi|2765576|emb|Z78451.1|PHZ78451\n",
      "gi|2765575|emb|Z78450.1|PPZ78450\n",
      "gi|2765574|emb|Z78449.1|PMZ78449\n",
      "gi|2765573|emb|Z78448.1|PAZ78448\n",
      "gi|2765572|emb|Z78447.1|PVZ78447\n",
      "gi|2765571|emb|Z78446.1|PAZ78446\n",
      "gi|2765570|emb|Z78445.1|PUZ78445\n",
      "gi|2765569|emb|Z78444.1|PAZ78444\n",
      "gi|2765568|emb|Z78443.1|PLZ78443\n",
      "gi|2765567|emb|Z78442.1|PBZ78442\n",
      "gi|2765566|emb|Z78441.1|PSZ78441\n",
      "gi|2765565|emb|Z78440.1|PPZ78440\n",
      "gi|2765564|emb|Z78439.1|PBZ78439\n"
     ]
    }
   ],
   "source": [
    "with open(\"data/ls_orchid.fasta\", \"r\") as handle:\n",
    "    for record in SeqIO.parse(handle, \"fasta\"):\n",
    "        print(record.id)"
   ]
  },
  {
   "cell_type": "markdown",
   "metadata": {
    "slideshow": {
     "slide_type": "fragment"
    }
   },
   "source": [
    "Alternatively"
   ]
  },
  {
   "cell_type": "code",
   "execution_count": null,
   "metadata": {
    "slideshow": {
     "slide_type": "fragment"
    }
   },
   "outputs": [],
   "source": [
    "# List comprehension\n",
    "identifiers = [seq_record.id for seq_record in SeqIO.parse(\"data/ls_orchid.gbk\",\"genbank\")]"
   ]
  },
  {
   "cell_type": "markdown",
   "metadata": {
    "slideshow": {
     "slide_type": "slide"
    }
   },
   "source": [
    "# Exercises\n",
    "- 7.1.1 +"
   ]
  },
  {
   "cell_type": "markdown",
   "metadata": {
    "slideshow": {
     "slide_type": "notes"
    }
   },
   "source": [
    "The first thing we'll want to do is reading in a sequence object. The function that we'll need for that is `Bio.SeqIO.parse()` and it expects two arguments:\n",
    "1. An explicit path to a file, a filehandle or a link to data that can be downloaded from the internet  \n",
    "2. A lower case string specifying the sequence format. Examples are: clustal, fasta, embl, fastq, genbank or gb, pdb-atom, swiss, uniprot-xml,... You must specify the file format because [*explicit is better than implicit*](https://www.python.org/dev/peps/pep-0020/). "
   ]
  },
  {
   "cell_type": "markdown",
   "metadata": {
    "slideshow": {
     "slide_type": "slide"
    }
   },
   "source": [
    "## Parsing from the internet\n",
    "- Download and parse sequences from internet (NCBI, Swiss-prot, ExPASy, etc.)\n",
    "- Big files: fetch once and store\n",
    "- [Entrez](https://www.ncbi.nlm.nih.gov/Web/Search/entrezfs.html):\n",
    "    - data retrieval system \n",
    "    - provides users access to NCBI's databases: PubMed, GenBank, GEO, and many others.\n",
    "- Output typically in `XML`"
   ]
  },
  {
   "cell_type": "code",
   "execution_count": 50,
   "metadata": {
    "slideshow": {
     "slide_type": "fragment"
    }
   },
   "outputs": [],
   "source": [
    "# Imports\n",
    "from Bio import Entrez\n",
    "from Bio import SeqIO"
   ]
  },
  {
   "cell_type": "markdown",
   "metadata": {
    "slideshow": {
     "slide_type": "notes"
    }
   },
   "source": [
    "In the previous sections, we looked at parsing sequence data from a file (using a filename or handle). As discussed in the introduction of this chapter, it's also possible to download and parse sequences from the internet. Note that just because you can download sequence data and parse it into a SeqRecord object in one go doesn't mean this is a good idea. In general, you should probably download sequences once and save them to a file for reuse.\n",
    "\n",
    "You can access Entrez from a web browser to manually enter queries, or you can use Biopython's Bio.Entrez module for programmatic access to Entrez. "
   ]
  },
  {
   "cell_type": "markdown",
   "metadata": {
    "slideshow": {
     "slide_type": "slide"
    }
   },
   "source": [
    "- `Entrez.email`\n",
    "- `Entrez.esearch`\n",
    "- `Entrez.efetch` \n",
    "- `Entrez.read`\n",
    "- `Entrez.parse`\n",
    "- ..."
   ]
  },
  {
   "cell_type": "code",
   "execution_count": 51,
   "metadata": {
    "slideshow": {
     "slide_type": "slide"
    }
   },
   "outputs": [],
   "source": [
    "# Provide email address\n",
    "Entrez.email = \"hello@its.me\"\n",
    "\n",
    "# Use e-search to search any of the databases of NCBI\n",
    "with Entrez.esearch(db=\"nucleotide\", term=\"Cypripedioideae[Orgn] AND matK[Gene]\", idtype=\"acc\") as handle:\n",
    "    records = Entrez.read(handle)"
   ]
  },
  {
   "cell_type": "code",
   "execution_count": 52,
   "metadata": {},
   "outputs": [
    {
     "data": {
      "text/plain": [
       "{'Count': '542', 'RetMax': '20', 'RetStart': '0', 'IdList': ['MT683624.1', 'MK935187.1', 'MH659838.1', 'MN016934.1', 'NC_045279.1', 'NC_045278.1', 'NC_045400.1', 'MN602053.1', 'MN535015.1', 'MN535014.1', 'KX886268.1', 'KX886267.1', 'KX886266.1', 'KX886265.1', 'KX886264.1', 'KX886263.1', 'KX886262.1', 'KX886261.1', 'KX886260.1', 'KX886259.1'], 'TranslationSet': [{'From': 'Cypripedioideae[Orgn]', 'To': '\"Cypripedioideae\"[Organism]'}], 'TranslationStack': [{'Term': '\"Cypripedioideae\"[Organism]', 'Field': 'Organism', 'Count': '6249', 'Explode': 'Y'}, {'Term': 'matK[Gene]', 'Field': 'Gene', 'Count': '190434', 'Explode': 'N'}, 'AND'], 'QueryTranslation': '\"Cypripedioideae\"[Organism] AND matK[Gene]'}"
      ]
     },
     "execution_count": 52,
     "metadata": {},
     "output_type": "execute_result"
    }
   ],
   "source": [
    "records"
   ]
  },
  {
   "cell_type": "markdown",
   "metadata": {
    "slideshow": {
     "slide_type": "fragment"
    }
   },
   "source": [
    "Output is a record which can be parsed"
   ]
  },
  {
   "cell_type": "code",
   "execution_count": 62,
   "metadata": {
    "slideshow": {
     "slide_type": "slide"
    }
   },
   "outputs": [
    {
     "data": {
      "text/plain": [
       "SeqRecord(seq=Seq('TATACATTAAAGGAGGGGGATGCGGATAAATGGAAAGGCGAAAGAAAGAAAAAA...AGA', SingleLetterAlphabet()), id='AF191665.1', name='AF191665.1', description='AF191665.1 Opuntia marenae rpl16 gene; chloroplast gene for chloroplast product, partial intron sequence', dbxrefs=[])"
      ]
     },
     "execution_count": 62,
     "metadata": {},
     "output_type": "execute_result"
    }
   ],
   "source": [
    "Entrez.email = \"hello@its.me\"\n",
    "\n",
    "with Entrez.efetch(db=\"nucleotide\", rettype=\"fasta\", retmode=\"text\", id=\"6273291\") as handle:\n",
    "    record = SeqIO.read(handle, \"fasta\")\n",
    "record"
   ]
  },
  {
   "cell_type": "code",
   "execution_count": 63,
   "metadata": {
    "slideshow": {
     "slide_type": "fragment"
    }
   },
   "outputs": [
    {
     "data": {
      "text/plain": [
       "[{'TSeq_seqtype': StringElement('', attributes={'value': 'nucleotide'}), 'TSeq_accver': 'AF191665.1', 'TSeq_taxid': '106980', 'TSeq_orgname': 'Grusonia marenae', 'TSeq_defline': 'Opuntia marenae rpl16 gene; chloroplast gene for chloroplast product, partial intron sequence', 'TSeq_length': '902', 'TSeq_sequence': 'TATACATTAAAGGAGGGGGATGCGGATAAATGGAAAGGCGAAAGAAAGAAAAAAATGAATCTAAATGATATAGGATTCCACTATGTAAGGTCTTTGAATCATATCATAAAAGACAATGTAATAAAGCATGAATACAGATTCACACATAATTATCTGATATGAATCTATTCATAGAAAAAAGAAAAAAGTAAGAGCCTCCGGCCAATAAAGACTAAGAGGGTTGGCTCAAGAACAAAGTTCATTAAGAGCTCCATTGTAGAATTCAGACCTAATCATTAATCAAGAAGCGATGGGAACGATGTAATCCATGAATACAGAAGATTCAATTGAAAAAGATCCTATGNTCATTGGAAGGATGGCGGAACGAACCAGAGACCAATTCATCTATTCTGAAAAGTGATAAACTAATCCTATAAAACTAAAATAGATATTGAAAGAGTAAATATTCGCCCGCGAAAATTCCTTTTTTATTAAATTGCTCATATTTTCTTTTAGCAATGCAATCTAATAAAATATATCTATACAAAAAAACATAGACAAACTATATATATATATATATATAATATATTTCAAATTCCCTTATATATCCAAATATAAAAATATCTAATAAATTAGATGAATATCAAAGAATCTATTGATTTAGTGTATTATTAAATGTATATATTAATTCAATATTATTATTCTATTCATTTTTATTCATTTTCAAATTTATAATATATTAATCTATATATTAATTTAGAATTCTATTCTAATTCGAATTCAATTTTTAAATATTCATATTCAATTAAAATTGAAATTTTTTCATTCGCGAGGAGCCGGATGAGAAGAAACTCTCATGTCCGGTTCTGTAGTAGAGATGGAATTAAGAAAAAACCATCAACTATAACCCCAAAAGAACCAGA'}]"
      ]
     },
     "execution_count": 63,
     "metadata": {},
     "output_type": "execute_result"
    }
   ],
   "source": [
    "Entrez.email = \"hello@its.me\"\n",
    "\n",
    "with Entrez.efetch(db=\"nucleotide\", id=\"6273291\", retmode=\"xml\", rettype=\"fasta\") as handle:\n",
    "    record = Entrez.read(handle)\n",
    "record"
   ]
  },
  {
   "cell_type": "markdown",
   "metadata": {
    "slideshow": {
     "slide_type": "notes"
    }
   },
   "source": [
    "First, we'll have to define who we are. Then, we're telling the e-fetching function that we want to access the nucleotide database, we're looking for a fasta sequence, the file format and the id in the form of a handle, which we will subsequently read with the Bio.SeqIO.read() function."
   ]
  },
  {
   "cell_type": "markdown",
   "metadata": {
    "slideshow": {
     "slide_type": "slide"
    }
   },
   "source": [
    "# Exercises\n",
    "- Sickle cell ++ (long)"
   ]
  },
  {
   "cell_type": "markdown",
   "metadata": {
    "slideshow": {
     "slide_type": "slide"
    }
   },
   "source": [
    "## BLAST in Biopython\n",
    "- e.g. find out which organism a sequence belongs to\n",
    "- Function `qblast()` part of `Bio.Blast.NCBIWWW`"
   ]
  },
  {
   "cell_type": "markdown",
   "metadata": {
    "slideshow": {
     "slide_type": "notes"
    }
   },
   "source": [
    "Last thing we will see for today is BLAST. And BLAST represents Basic Local Alignment Search Tool. So what it does is, imagine that you obtained a sequence in the lab, BLAST will find regions of similarity between your sequence and a database full of sequences by trying to  align your sequence to the one of the database. Together with this alignment it will also calculate a statistical significance of how likely that the two sequences are identical, because you can expect that there will be mutliple possible alignments, one a bit more likely than the other (based on mismatches during the alignment procedures).\n",
    "\n",
    "The function that we will use for this is qblast and it's part of BIo Blast NCBI-WWW. "
   ]
  },
  {
   "cell_type": "code",
   "execution_count": 64,
   "metadata": {
    "slideshow": {
     "slide_type": "fragment"
    }
   },
   "outputs": [],
   "source": [
    "# Imports\n",
    "from Bio.Blast import NCBIWWW"
   ]
  },
  {
   "cell_type": "markdown",
   "metadata": {
    "slideshow": {
     "slide_type": "slide"
    }
   },
   "source": [
    "- Three arguments: \n",
    "    1. blast program: blastn, blastp, blastx, etc\n",
    "    2. databases: e.g. nt for nucleotide\n",
    "    3. sequence, sequence in fasta or identifier"
   ]
  },
  {
   "cell_type": "code",
   "execution_count": 65,
   "metadata": {
    "slideshow": {
     "slide_type": "fragment"
    }
   },
   "outputs": [],
   "source": [
    "# Don't run this all at once\n",
    "result_handle = NCBIWWW.qblast(\"blastn\", \"nt\", \"8332116\")\n",
    "#result_handle = NCBIWWW.qblast(\"blastn\", \"nt\", fasta_string)\n",
    "#result_handle = NCBIWWW.qblast(\"blastn\", \"nt\", record.seq)"
   ]
  },
  {
   "cell_type": "markdown",
   "metadata": {
    "slideshow": {
     "slide_type": "fragment"
    }
   },
   "source": [
    "- Takes a long time to run"
   ]
  },
  {
   "cell_type": "markdown",
   "metadata": {
    "slideshow": {
     "slide_type": "slide"
    }
   },
   "source": [
    "- Output in handle object (by default XML)\n",
    "- Next step:\n",
    "    - read/parse XML output into Python objects\n",
    "    - Save a local copy\n",
    "- handle object output can only be used once - calling it again returns an empty string."
   ]
  },
  {
   "cell_type": "markdown",
   "metadata": {
    "slideshow": {
     "slide_type": "notes"
    }
   },
   "source": [
    "This is especially useful when debugging code that extracts info from the BLAST results (because re-running the online search is slow and wastes the NCBI computer time)."
   ]
  },
  {
   "cell_type": "markdown",
   "metadata": {
    "slideshow": {
     "slide_type": "slide"
    }
   },
   "source": [
    "Parse XML output into Python objects:"
   ]
  },
  {
   "cell_type": "code",
   "execution_count": null,
   "metadata": {
    "slideshow": {
     "slide_type": "fragment"
    }
   },
   "outputs": [],
   "source": [
    "from Bio.Blast import NCBIXML\n",
    "\n",
    "# Option 1:\n",
    "blast_records = NCBIXML.parse(result_handle)\n",
    "\n",
    "# Alternatively, for only one BLAST result:\n",
    "blast_record = NCBIXML.read(result_handle)"
   ]
  },
  {
   "cell_type": "markdown",
   "metadata": {
    "slideshow": {
     "slide_type": "slide"
    }
   },
   "source": [
    "Save a local copy:"
   ]
  },
  {
   "cell_type": "code",
   "execution_count": null,
   "metadata": {
    "slideshow": {
     "slide_type": "fragment"
    }
   },
   "outputs": [],
   "source": [
    "# Option 2:\n",
    "with open(\"file.xml\", \"w\") as out_handle:\n",
    "    out_handle.write(result_handle.read())\n",
    "    \n",
    "with open(\"file.xml\", \"r\") as fh:\n",
    "    my_blast = fh.read()"
   ]
  },
  {
   "cell_type": "markdown",
   "metadata": {
    "slideshow": {
     "slide_type": "slide"
    }
   },
   "source": [
    "The Blast record holds the information of the BLAST output, e.g.:\n",
    "- Description: information about one hit description,\n",
    "- Alignment: information about one alignment hit, \n",
    "- HSP: information about one HSP. \n"
   ]
  },
  {
   "cell_type": "code",
   "execution_count": 67,
   "metadata": {},
   "outputs": [
    {
     "name": "stdout",
     "output_type": "stream",
     "text": [
      "gi|45357364|gb|AE017046.1| Yersinia pestis biovar Microtus str. 91001 plasmid pPCP1, complete sequence 19218.0 0.0\n",
      "gi|311902116|gb|HM807366.1| Yersinia pestis strain C790 plasmid pPCP1, complete sequence 19196.0 0.0\n",
      "gi|262363963|gb|CP001588.1| Yersinia pestis D106004 plasmid pPCY1, complete sequence 19189.0 0.0\n",
      "gi|1518099693|gb|CP033698.1| Yersinia pestis strain FDAARGOS_601 plasmid unnamed2, complete sequence 19187.0 0.0\n",
      "gi|1046916732|gb|CP016276.1| Yersinia pestis strain Cadman plasmid pPCP1, complete sequence 19187.0 0.0\n",
      "gi|294352540|gb|CP001596.1| Yersinia pestis Z176003 plasmid pPCP1, complete sequence 19187.0 0.0\n",
      "gi|5763810|emb|AL109969.1| Yersinia pestis CO92 plasmid pPCP1 19187.0 0.0\n",
      "gi|2996216|gb|AF053945.1| Yersinia pestis strain KIM5 plasmid pPCP1, complete sequence >gi|311902126|gb|HM807367.1| Yersinia pestis strain C2614 plasmid pPCP1, complete sequence >gi|311902136|gb|HM807368.1| Yersinia pestis strain C2944 plasmid pPCP1, complete sequence 19185.0 0.0\n",
      "gi|162350793|gb|CP000900.1| Yersinia pestis Angola plasmid pMT-pPCP, complete sequence 19179.0 0.0\n",
      "gi|262364123|gb|CP001592.1| Yersinia pestis D182038 plasmid pPCP1, complete sequence 19178.0 0.0\n",
      "gi|320017637|gb|CP001611.1| Yersinia pestis biovar Medievalis str. Harbin 35 plasmid pPCP, complete sequence 19135.0 0.0\n",
      "gi|1769106759|gb|CP045165.1| Yersinia pestis strain SCPM-O-B-6291 (C-25) plasmid pPCP, complete sequence 18555.0 0.0\n",
      "gi|1148994970|gb|CP019711.1| Yersinia pestis strain 195/P plasmid pPCP1, complete sequence 17387.0 0.0\n",
      "gi|321161190|gb|CP002180.1| Yersinia pestis Java 9 plasmid pPCP, complete sequence 17230.0 0.0\n",
      "gi|755404253|gb|CP009839.1| Yersinia pestis A1122 plasmid pPCP, complete sequence 17115.0 0.0\n",
      "gi|805410893|gb|CP009833.1| Yersinia pestis strain KIM5 plasmid pPCP sequence 16794.0 0.0\n",
      "gi|755437805|gb|CP009992.1| Yersinia pestis strain Java9 plasmid p4 16348.0 0.0\n",
      "gi|755395584|gb|CP009782.1| Yersinia pestis strain El Dorado plasmid pPCP sequence 16094.0 0.0\n",
      "gi|755446264|gb|CP010020.1| Yersinia pestis str. Pestoides B plasmid pPCP, complete sequence 15298.0 0.0\n",
      "gi|108777901|gb|CP000307.1| Yersinia pestis Nepal516 plasmid pPCP, complete sequence 15284.0 0.0\n",
      "gi|908266269|gb|CP006797.1| Yersinia pestis 1045 plasmid pPCP, complete sequence 15281.0 0.0\n",
      "gi|108782179|gb|CP000310.1| Yersinia pestis Antiqua plasmid pPCP, complete sequence 15274.0 0.0\n",
      "gi|755420934|gb|CP009903.1| Yersinia pestis Antiqua plasmid pPCP, complete sequence 14493.0 0.0\n",
      "gi|1769098320|gb|CP045157.1| Yersinia pestis strain SCPM-O-B-5935 (I-1996) plasmid pPCP, complete sequence 14201.0 0.0\n",
      "gi|755442098|gb|CP009988.1| Yersinia pestis strain Nicholisk 41 plasmid 3, complete genome 13822.0 0.0\n",
      "gi|908249451|gb|CP006808.1| Yersinia pestis 790 plasmid pPCP, complete sequence 13799.0 0.0\n",
      "gi|755466532|gb|CP010294.1| Yersinia pestis strain Nairobi plasmid pPCP, complete sequence 12592.0 0.0\n",
      "gi|755291801|gb|CP009489.1| Yersinia pestis strain PBM19 plasmid pPCP1, complete sequence 12388.0 0.0\n",
      "gi|1769926293|gb|CP045262.1| Yersinia pestis strain SCPM-O-B-5942 (I-2638) plasmid pPCP, complete sequence 12216.0 0.0\n",
      "gi|1769094081|gb|CP045153.1| Yersinia pestis strain SCPM-O-DNA-18 (I-3113) plasmid pPCP, complete sequence 12216.0 0.0\n",
      "gi|1769102649|gb|CP045161.1| Yersinia pestis subsp. pestis bv. Medievalis strain SCPM-O-B-6530 plasmid pPCP, complete sequence 12195.0 0.0\n",
      "gi|908225876|gb|CP006793.1| Yersinia pestis 2944 plasmid pPCP, complete sequence 11791.0 0.0\n",
      "gi|755359163|gb|CP009724.1| Yersinia pestis strain Shasta plasmid pPCP, complete sequence 11553.0 0.0\n",
      "gi|1518099396|gb|CP033691.1| Yersinia pestis strain FDAARGOS_603 plasmid unnamed2, complete sequence 11438.0 0.0\n",
      "gi|755312027|gb|CP009701.1| Yersinia pestis strain Harbin35 plasmid unnamed3, complete sequence 11383.0 0.0\n",
      "gi|342856375|gb|CP002958.1| Yersinia pestis A1122 plasmid, complete sequence 10923.0 0.0\n",
      "gi|1769089825|gb|CP045148.1| Yersinia pestis strain SCPM-O-B-6899 (231) plasmid pPCP, complete sequence 10920.0 0.0\n",
      "gi|345499151|emb|HE576987.1| Yersinia pestis plasmid pPCP1 partial sequence, isolated from ancient DNA 10349.0 0.0\n",
      "gi|755429516|gb|CP009936.1| Yersinia pestis Angola plasmid pPCP, complete sequence 9260.0 0.0\n",
      "gi|1200165|emb|Z54145.1| Y.pestis plasmid pYP358 pst and pim genes 5312.0 0.0\n",
      "gi|675819280|emb|LM995843.1| Escherichia coli genome assembly FHI29, scaffold scaffold-5_contig-17.0_1_6815_[organism:Escherichia 4809.0 0.0\n",
      "gi|1488653|emb|X92856.1| Y.pestis pst and pim genes 4000.0 0.0\n",
      "gi|1769926051|gb|CP045259.1| Yersinia pestis strain SCPM-O-B-5942 (I-2638) plasmid pMT, complete sequence 3930.0 0.0\n",
      "gi|1769106643|gb|CP045164.1| Yersinia pestis strain SCPM-O-B-6291 (C-25) plasmid pMT, complete sequence 3930.0 0.0\n",
      "gi|1769098130|gb|CP045155.1| Yersinia pestis strain SCPM-O-B-5935 (I-1996) plasmid pMT, complete sequence 3930.0 0.0\n",
      "gi|1769093841|gb|CP045150.1| Yersinia pestis strain SCPM-O-DNA-18 (I-3113) plasmid pMT, complete sequence 3930.0 0.0\n",
      "gi|1769089629|gb|CP045146.1| Yersinia pestis strain SCPM-O-B-6899 (231) plasmid pMT, complete sequence 3930.0 0.0\n",
      "gi|1518103899|gb|CP033700.1| Yersinia pestis strain FDAARGOS_601 plasmid unnamed3 3930.0 0.0\n",
      "gi|1518099508|gb|CP033693.1| Yersinia pestis strain FDAARGOS_603 plasmid unnamed4 3930.0 0.0\n",
      "gi|1046916624|gb|CP016275.1| Yersinia pestis strain Cadman plasmid pMT1, complete sequence 3930.0 0.0\n"
     ]
    }
   ],
   "source": [
    "from Bio.Blast import NCBIXML\n",
    "# This is a blast result output that has been saved in a file, called my_blast.xml\n",
    "with open(\"data/my_blast.xml\", \"r\") as fh:\n",
    "    # Read in records\n",
    "    blast_records = NCBIXML.parse(fh)\n",
    "    for blast_record in blast_records:\n",
    "        # Extract information!\n",
    "        for descr in blast_record.descriptions:\n",
    "            title = descr.title\n",
    "            score = descr.score\n",
    "            e = descr.e\n",
    "            print(title, score, e)"
   ]
  },
  {
   "cell_type": "code",
   "execution_count": null,
   "metadata": {},
   "outputs": [],
   "source": []
  }
 ],
 "metadata": {
  "celltoolbar": "Slideshow",
  "kernelspec": {
   "display_name": "Python 3",
   "language": "python",
   "name": "python3"
  },
  "language_info": {
   "codemirror_mode": {
    "name": "ipython",
    "version": 3
   },
   "file_extension": ".py",
   "mimetype": "text/x-python",
   "name": "python",
   "nbconvert_exporter": "python",
   "pygments_lexer": "ipython3",
   "version": "3.7.9"
  }
 },
 "nbformat": 4,
 "nbformat_minor": 2
}
