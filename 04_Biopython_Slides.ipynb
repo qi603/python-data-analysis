{
 "cells": [
  {
   "cell_type": "markdown",
   "metadata": {
    "slideshow": {
     "slide_type": "slide"
    }
   },
   "source": [
    "# Introduction to Biopython\n",
    "![Biopython logo](img/logo_biopython.PNG)"
   ]
  },
  {
   "cell_type": "markdown",
   "metadata": {
    "slideshow": {
     "slide_type": "notes"
    }
   },
   "source": [
    "Biopython is a set of freely available tools for biological computation written in Python. It contains components that are developed specifically for bioinformatics purposes. "
   ]
  },
  {
   "cell_type": "markdown",
   "metadata": {
    "slideshow": {
     "slide_type": "slide"
    }
   },
   "source": [
    "**Installing** the complete module can be done:\n",
    "- Using Anaconda's environments and searching for the package, or\n",
    "- Immediately in a Notebook using the following code:"
   ]
  },
  {
   "cell_type": "code",
   "execution_count": 1,
   "metadata": {
    "slideshow": {
     "slide_type": "subslide"
    }
   },
   "outputs": [
    {
     "name": "stdout",
     "output_type": "stream",
     "text": [
      "1.74\n"
     ]
    }
   ],
   "source": [
    "# pip install biopython \n",
    "\n",
    "# Import the Biopython library\n",
    "import Bio\n",
    "\n",
    "# Check version for proper installment (v1.74)\n",
    "print(Bio.__version__)"
   ]
  },
  {
   "cell_type": "markdown",
   "metadata": {
    "slideshow": {
     "slide_type": "slide"
    }
   },
   "source": [
    "Content for today:\n",
    "- Working with sequences in : `Seq` and `Alphabets`,\n",
    "- Sequence annotations with: `SeqRecord` objects,\n",
    "- Reading, writing and parsing files with: `SeqIO`\n",
    "- Querying NCBI with: `SeqIO`"
   ]
  },
  {
   "cell_type": "markdown",
   "metadata": {
    "slideshow": {
     "slide_type": "slide"
    }
   },
   "source": [
    "## Working with sequences\n",
    "A sequence is stored in a `Seq`-object"
   ]
  },
  {
   "cell_type": "code",
   "execution_count": 11,
   "metadata": {
    "slideshow": {
     "slide_type": "fragment"
    }
   },
   "outputs": [
    {
     "data": {
      "text/plain": [
       "Seq('AGTACACTGG')"
      ]
     },
     "execution_count": 11,
     "metadata": {},
     "output_type": "execute_result"
    }
   ],
   "source": [
    "from Bio.Seq import Seq\n",
    "my_seq = Seq(\"AGTACACTGG\")\n",
    "my_seq"
   ]
  },
  {
   "cell_type": "code",
   "execution_count": 30,
   "metadata": {
    "slideshow": {
     "slide_type": "fragment"
    }
   },
   "outputs": [
    {
     "data": {
      "text/plain": [
       "Bio.Seq.Seq"
      ]
     },
     "execution_count": 30,
     "metadata": {},
     "output_type": "execute_result"
    }
   ],
   "source": [
    "type(my_seq)"
   ]
  },
  {
   "cell_type": "markdown",
   "metadata": {
    "slideshow": {
     "slide_type": "fragment"
    }
   },
   "source": [
    "Is the snippet from a DNA or protein sequence?"
   ]
  },
  {
   "cell_type": "code",
   "execution_count": 13,
   "metadata": {
    "slideshow": {
     "slide_type": "fragment"
    }
   },
   "outputs": [
    {
     "name": "stdout",
     "output_type": "stream",
     "text": [
      "If it is a DNA sequence AGUACACUGG\n",
      "If it is a protein sequence STL\n"
     ]
    }
   ],
   "source": [
    "print(f'If it is a DNA sequence {my_seq.transcribe()}')\n",
    "print(f'If it is a protein sequence {my_seq.translate()}')"
   ]
  },
  {
   "cell_type": "markdown",
   "metadata": {
    "slideshow": {
     "slide_type": "slide"
    }
   },
   "source": [
    "## Working with sequences\n",
    "- Each `Seq`-object has an additional attribute that contains the `Alphabet`. \n",
    "- Avoid any misinterpretation and specify!"
   ]
  },
  {
   "cell_type": "code",
   "execution_count": 8,
   "metadata": {
    "slideshow": {
     "slide_type": "fragment"
    }
   },
   "outputs": [
    {
     "data": {
      "text/plain": [
       "Alphabet()"
      ]
     },
     "execution_count": 8,
     "metadata": {},
     "output_type": "execute_result"
    }
   ],
   "source": [
    "my_seq.alphabet"
   ]
  },
  {
   "cell_type": "code",
   "execution_count": 26,
   "metadata": {
    "scrolled": true,
    "slideshow": {
     "slide_type": "fragment"
    }
   },
   "outputs": [
    {
     "data": {
      "text/plain": [
       "'GATCRYWSMKHBVDN'"
      ]
     },
     "execution_count": 26,
     "metadata": {},
     "output_type": "execute_result"
    }
   ],
   "source": [
    "# importing the IUPAC alphabets\n",
    "from Bio.Alphabet import IUPAC\n",
    "# dir(IUPAC)\n",
    "print(IUPAC.unambiguous_dna.letters)\n",
    "print(IUPAC.ambiguous_dna.letters)"
   ]
  },
  {
   "cell_type": "code",
   "execution_count": 23,
   "metadata": {
    "slideshow": {
     "slide_type": "fragment"
    }
   },
   "outputs": [],
   "source": [
    "# Define Alphabet\n",
    "my_dna = Seq(\"AGTACACTGG\", IUPAC.unambiguous_dna)\n",
    "my_prot = Seq(\"AGTACACTGG\", IUPAC.protein)"
   ]
  },
  {
   "cell_type": "markdown",
   "metadata": {
    "slideshow": {
     "slide_type": "notes"
    }
   },
   "source": [
    "We can specify that we're working with DNA in this case by defining another argument in the Seq object. In the example below we will allocate a DNA sequence to one variable and a protein sequence to another one."
   ]
  },
  {
   "cell_type": "markdown",
   "metadata": {
    "slideshow": {
     "slide_type": "slide"
    }
   },
   "source": [
    "## Working with sequences\n",
    "- `Seq`-objects behave like strings"
   ]
  },
  {
   "cell_type": "code",
   "execution_count": 20,
   "metadata": {
    "slideshow": {
     "slide_type": "fragment"
    }
   },
   "outputs": [
    {
     "data": {
      "text/plain": [
       "'A'"
      ]
     },
     "execution_count": 20,
     "metadata": {},
     "output_type": "execute_result"
    }
   ],
   "source": [
    "# Get element at position 0\n",
    "my_seq[0]\n",
    "\n",
    "# Find how many times \"GAT\" appears in the sequence\n",
    "#print(my_seq.count(\"GAT\"))"
   ]
  },
  {
   "cell_type": "markdown",
   "metadata": {
    "slideshow": {
     "slide_type": "fragment"
    }
   },
   "source": [
    "- `Seq`-objects are immutable"
   ]
  },
  {
   "cell_type": "code",
   "execution_count": null,
   "metadata": {
    "slideshow": {
     "slide_type": "fragment"
    }
   },
   "outputs": [],
   "source": [
    "my_seq[2] = 'A'"
   ]
  },
  {
   "cell_type": "markdown",
   "metadata": {
    "slideshow": {
     "slide_type": "slide"
    }
   },
   "source": [
    "## Working with sequences\n",
    "- `Seq`-objects can be sliced"
   ]
  },
  {
   "cell_type": "code",
   "execution_count": null,
   "metadata": {
    "slideshow": {
     "slide_type": "fragment"
    }
   },
   "outputs": [],
   "source": [
    "# Slicing in its most basic form\n",
    "my_seq[2:6]"
   ]
  },
  {
   "cell_type": "markdown",
   "metadata": {
    "slideshow": {
     "slide_type": "fragment"
    }
   },
   "source": [
    "- Turning `Seq`-objects into strings"
   ]
  },
  {
   "cell_type": "code",
   "execution_count": 17,
   "metadata": {
    "slideshow": {
     "slide_type": "fragment"
    }
   },
   "outputs": [
    {
     "data": {
      "text/plain": [
       "'AGTACACTGG'"
      ]
     },
     "execution_count": 17,
     "metadata": {},
     "output_type": "execute_result"
    }
   ],
   "source": [
    "str(my_seq)\n",
    "#print(my_seq)"
   ]
  },
  {
   "cell_type": "markdown",
   "metadata": {
    "slideshow": {
     "slide_type": "fragment"
    }
   },
   "source": [
    "- Concatenating or adding sequences"
   ]
  },
  {
   "cell_type": "code",
   "execution_count": null,
   "metadata": {
    "slideshow": {
     "slide_type": "fragment"
    }
   },
   "outputs": [],
   "source": [
    "# This will work\n",
    "protein_seq1 = Seq(\"EVRNAK\", IUPAC.protein)\n",
    "protein_seq2 = Seq(\"AGGATC\", IUPAC.protein)\n",
    "protein_seq1 + protein_seq2"
   ]
  },
  {
   "cell_type": "markdown",
   "metadata": {
    "slideshow": {
     "slide_type": "fragment"
    }
   },
   "source": [
    "- and much more..."
   ]
  },
  {
   "cell_type": "markdown",
   "metadata": {
    "slideshow": {
     "slide_type": "slide"
    }
   },
   "source": [
    "## `Seq` methods\n",
    "- transcribe()\n",
    "- translate()\n",
    "- complement()\n",
    "- reverse_complement()\n",
    "\n",
    "Depending on Alphabet. "
   ]
  },
  {
   "cell_type": "markdown",
   "metadata": {
    "slideshow": {
     "slide_type": "slide"
    }
   },
   "source": [
    "![transcription](img/3_8_transcription.png)"
   ]
  },
  {
   "cell_type": "code",
   "execution_count": 36,
   "metadata": {
    "slideshow": {
     "slide_type": "fragment"
    }
   },
   "outputs": [
    {
     "name": "stdout",
     "output_type": "stream",
     "text": [
      "Original DNA seq:           ATGGCCATTGTAATGG\n",
      "Complement DNA seq:         TACCGGTAACATTACC\n",
      "Reverse complement DNA seq: CCATTACAATGGCCAT\n",
      "mRNA seq:                   AUGGCCAUUGUAAUGG\n",
      "Protein seq:                MAIVM\n"
     ]
    }
   ],
   "source": [
    "coding_dna = Seq(\"ATGGCCATTGTAATGG\", IUPAC.unambiguous_dna)\n",
    "print(f'Original DNA seq: {str(coding_dna):>26}')\n",
    "print(f\"Complement DNA seq: {str(coding_dna.complement()):>24}\")\n",
    "print(f\"Reverse complement DNA seq: {str(coding_dna.reverse_complement()):>15}\")\n",
    "print(f\"mRNA seq: {str(coding_dna.transcribe()):>34}\")\n",
    "print(f\"Protein seq: {str(coding_dna.translate()):>20}\")"
   ]
  },
  {
   "cell_type": "markdown",
   "metadata": {
    "slideshow": {
     "slide_type": "slide"
    }
   },
   "source": [
    "## Codon tables\n",
    "Choose the correct codon table that is relevant for the organism you're working with.   \n",
    "Imported from NCBI: standard, vertebrate mictochondrial, yeast mitochondrial, bacterial, etc. "
   ]
  },
  {
   "cell_type": "code",
   "execution_count": 37,
   "metadata": {
    "slideshow": {
     "slide_type": "fragment"
    }
   },
   "outputs": [
    {
     "name": "stdout",
     "output_type": "stream",
     "text": [
      "Table 1 Standard, SGC0\n",
      "\n",
      "  |  T      |  C      |  A      |  G      |\n",
      "--+---------+---------+---------+---------+--\n",
      "T | TTT F   | TCT S   | TAT Y   | TGT C   | T\n",
      "T | TTC F   | TCC S   | TAC Y   | TGC C   | C\n",
      "T | TTA L   | TCA S   | TAA Stop| TGA Stop| A\n",
      "T | TTG L(s)| TCG S   | TAG Stop| TGG W   | G\n",
      "--+---------+---------+---------+---------+--\n",
      "C | CTT L   | CCT P   | CAT H   | CGT R   | T\n",
      "C | CTC L   | CCC P   | CAC H   | CGC R   | C\n",
      "C | CTA L   | CCA P   | CAA Q   | CGA R   | A\n",
      "C | CTG L(s)| CCG P   | CAG Q   | CGG R   | G\n",
      "--+---------+---------+---------+---------+--\n",
      "A | ATT I   | ACT T   | AAT N   | AGT S   | T\n",
      "A | ATC I   | ACC T   | AAC N   | AGC S   | C\n",
      "A | ATA I   | ACA T   | AAA K   | AGA R   | A\n",
      "A | ATG M(s)| ACG T   | AAG K   | AGG R   | G\n",
      "--+---------+---------+---------+---------+--\n",
      "G | GTT V   | GCT A   | GAT D   | GGT G   | T\n",
      "G | GTC V   | GCC A   | GAC D   | GGC G   | C\n",
      "G | GTA V   | GCA A   | GAA E   | GGA G   | A\n",
      "G | GTG V   | GCG A   | GAG E   | GGG G   | G\n",
      "--+---------+---------+---------+---------+--\n"
     ]
    }
   ],
   "source": [
    "# Import codon table ()\n",
    "from Bio.Data import CodonTable\n",
    "# Change 'Standard' codon table to 'Vertebrate Mitochondrial'\n",
    "standard_table = CodonTable.unambiguous_dna_by_name[\"Standard\"]\n",
    "print(standard_table)"
   ]
  },
  {
   "cell_type": "code",
   "execution_count": 38,
   "metadata": {
    "slideshow": {
     "slide_type": "fragment"
    }
   },
   "outputs": [
    {
     "data": {
      "text/plain": [
       "Seq('MAIVM', IUPACProtein())"
      ]
     },
     "execution_count": 38,
     "metadata": {},
     "output_type": "execute_result"
    }
   ],
   "source": [
    "# specify the table using the NCBI ID or table number (e.g. 2)\n",
    "coding_dna.translate(table=\"Vertebrate Mitochondrial\")"
   ]
  },
  {
   "cell_type": "markdown",
   "metadata": {
    "slideshow": {
     "slide_type": "slide"
    }
   },
   "source": [
    "Example:"
   ]
  },
  {
   "cell_type": "code",
   "execution_count": 43,
   "metadata": {
    "slideshow": {
     "slide_type": "fragment"
    }
   },
   "outputs": [],
   "source": [
    "from Bio.Alphabet import generic_dna\n",
    "gene = Seq(\"GTGAAAAAGATGCAATCTATCGTACTCGCACTTTCCCTGGTTCTGGTCGCTCCCATGGCA\" + \\\n",
    " \"GCACAGGCTGCGGAAATTACGTTAGTCCCGTCAGTAAAATTACAGATAGGCGATCGTGAT\" + \\\n",
    " \"AATCGTGGCTATTACTGGGATGGAGGTCACTGGCGCGACCACGGCTGGTGGAAACAACAT\" + \\\n",
    " \"TATGAATGGCGAGGCAATCGCTGGCACCTACACGGACCGCCGCCACCGCCGCGCCACCAT\" + \\\n",
    " \"AAGAAAGCTCCTCATGATCATCACGGCGGTCATGGTCCAGGCAAACATCACCGCTAA\", generic_dna)"
   ]
  },
  {
   "cell_type": "code",
   "execution_count": 46,
   "metadata": {
    "slideshow": {
     "slide_type": "fragment"
    }
   },
   "outputs": [
    {
     "name": "stdout",
     "output_type": "stream",
     "text": [
      "VKKMQSIVLALSLVLVAPMAAQAAEITLVPSVKLQIGDRDNRGYYWDGGHWRDHGWWKQHYEWRGNRWHLHGPPPPPRHHKKAPHDHHGGHGPGKHHR*\n",
      "VKKMQSIVLALSLVLVAPMAAQAAEITLVPSVKLQIGDRDNRGYYWDGGHWRDHGWWKQHYEWRGNRWHLHGPPPPPRHHKKAPHDHHGGHGPGKHHR\n"
     ]
    }
   ],
   "source": [
    "# Print translation to protein sequence using bacterial codon table\n",
    "print(gene.translate(table=\"Bacterial\"))\n",
    "\n",
    "# Idem but stop at the stop-codon\n",
    "print(gene.translate(table=\"Bacterial\",to_stop=True))"
   ]
  },
  {
   "cell_type": "markdown",
   "metadata": {
    "slideshow": {
     "slide_type": "slide"
    }
   },
   "source": [
    "# `SeqRecord`-object\n",
    "- `Seq` = sequence + alphabet\n",
    "- `SeqRecord` = `Seq` + metadata\n",
    "- `SeqRecord`\n",
    "    - Main attributes: id & seq\n",
    "    - Additional attributes: name, description, dbxrefs, features, annotations"
   ]
  },
  {
   "cell_type": "code",
   "execution_count": null,
   "metadata": {
    "slideshow": {
     "slide_type": "fragment"
    }
   },
   "outputs": [],
   "source": [
    "# Imports\n",
    "from Bio.Seq import Seq\n",
    "from Bio.SeqRecord import SeqRecord"
   ]
  },
  {
   "cell_type": "markdown",
   "metadata": {
    "slideshow": {
     "slide_type": "notes"
    }
   },
   "source": [
    "Uptil now, we've been using sequence (Seq) objects that stored a sequence and the file format (i.e. fasta, genbank, etc.). Biopython allows us to annotate these Seq objects with additional information like an identifier, a name of the sequence, a description, features and ultimately a bunch of annotations. All of this information is stored in the so-called SeqRecord object which is the follow-up of the Seq object."
   ]
  },
  {
   "cell_type": "code",
   "execution_count": 47,
   "metadata": {
    "collapsed": true,
    "slideshow": {
     "slide_type": "slide"
    }
   },
   "outputs": [
    {
     "name": "stdout",
     "output_type": "stream",
     "text": [
      "ID: NC_005816.1\n",
      "Name: NC_005816\n",
      "Description: Yersinia pestis biovar Microtus str. 91001 plasmid pPCP1, complete sequence\n",
      "Database cross-references: Project:58037\n",
      "Number of features: 41\n",
      "/molecule_type=DNA\n",
      "/topology=circular\n",
      "/data_file_division=BCT\n",
      "/date=21-JUL-2008\n",
      "/accessions=['NC_005816']\n",
      "/sequence_version=1\n",
      "/gi=45478711\n",
      "/keywords=['']\n",
      "/source=Yersinia pestis biovar Microtus str. 91001\n",
      "/organism=Yersinia pestis biovar Microtus str. 91001\n",
      "/taxonomy=['Bacteria', 'Proteobacteria', 'Gammaproteobacteria', 'Enterobacteriales', 'Enterobacteriaceae', 'Yersinia']\n",
      "/references=[Reference(title='Genetics of metabolic variations between Yersinia pestis biovars and the proposal of a new biovar, microtus', ...), Reference(title='Complete genome sequence of Yersinia pestis strain 91001, an isolate avirulent to humans', ...), Reference(title='Direct Submission', ...), Reference(title='Direct Submission', ...)]\n",
      "/comment=PROVISIONAL REFSEQ: This record has not yet been subject to final\n",
      "NCBI review. The reference sequence was derived from AE017046.\n",
      "COMPLETENESS: full length.\n",
      "Seq('TGTAACGAACGGTGCAATAGTGATCCACACCCAACGCCTGAAATCAGATCCAGG...CTG', IUPACAmbiguousDNA())\n"
     ]
    }
   ],
   "source": [
    "# Import SeqRecord object with the SeqIO module\n",
    "from Bio import SeqIO\n",
    "record = SeqIO.read(\"data/NC_005816.gb\",\"gb\")\n",
    "print(record)"
   ]
  },
  {
   "cell_type": "markdown",
   "metadata": {
    "slideshow": {
     "slide_type": "notes"
    }
   },
   "source": [
    "In this case we'll read in a GenBank file, *NC_005816.gb*, which we’ll load using the SeqIO module. It's accessible in [NCBI](https://www.ncbi.nlm.nih.gov/nuccore/NC_005816). The next chapter will discuss the SeqIO module, however here we're just using it to read in a SeqRecord object from a file. \n",
    "\n",
    "The following elements are present (amongst others):\n",
    "- **ID**: usually the accession number of the sequence\n",
    "- **Name**: the more commonly used name of the sequence (often the same as accession number)\n",
    "- **Description**: a description or expressive name for the sequence\n",
    "- **Features**: a list of SeqFeature objects with more structured information about the sequence (discussed below)\n",
    "- **Annotations**: a dictionary of additional information about the sequence. \n",
    "- **Seq**: the sequence itself"
   ]
  },
  {
   "cell_type": "code",
   "execution_count": 52,
   "metadata": {
    "slideshow": {
     "slide_type": "slide"
    }
   },
   "outputs": [
    {
     "name": "stdout",
     "output_type": "stream",
     "text": [
      "NC_005816.1\n",
      "NC_005816\n",
      "Yersinia pestis biovar Microtus str. 91001 plasmid pPCP1, complete sequence\n"
     ]
    }
   ],
   "source": [
    "# ID\n",
    "print(record.id)\n",
    "# Name\n",
    "print(record.name)\n",
    "# Description\n",
    "print(record.description)\n",
    "# Features\n",
    "#print(record.features)\n",
    "# Annotations\n",
    "#record.annotations\n",
    "# Sequence\n",
    "#record.seq"
   ]
  },
  {
   "cell_type": "markdown",
   "metadata": {
    "slideshow": {
     "slide_type": "notes"
    }
   },
   "source": [
    "The features and their SeqFeature object are a fairly complex thing on their own. Basically they contain more abstract and detailed information about the SeqRecord object (and thus the sequence). It attempts to encapsulate as much of the information about the sequence as possible by describing a region on the parent sequence.\n",
    "\n",
    "The features and their SeqFeature object are a fairly complex thing on their own. Basically they contain more abstract and detailed information about the SeqRecord object (and thus the sequence). It attempts to encapsulate as much of the information about the sequence as possible by describing a region on the parent sequence.\n",
    "It allows us e.g. to extract CDSs from a longer sequence. "
   ]
  },
  {
   "cell_type": "markdown",
   "metadata": {
    "slideshow": {
     "slide_type": "slide"
    }
   },
   "source": [
    "Example:"
   ]
  },
  {
   "cell_type": "code",
   "execution_count": 61,
   "metadata": {
    "slideshow": {
     "slide_type": "fragment"
    }
   },
   "outputs": [
    {
     "name": "stdout",
     "output_type": "stream",
     "text": [
      "Feature type: source, Locus tag(s):  None\n",
      "Feature type: gene, Locus tag(s):  ['YP_pPCP05']\n",
      "Feature type: CDS, Locus tag(s):  ['YP_pPCP05']\n"
     ]
    }
   ],
   "source": [
    "# Extract features and check whether SNP of interest (4350) is present\n",
    "my_snp = 4350\n",
    "record = SeqIO.read(\"data/NC_005816.gb\", \"genbank\")\n",
    "\n",
    "for feature in record.features:\n",
    "    if my_snp in feature: \n",
    "        print(f\"Feature type: {feature.type}, Locus tag(s):  {feature.qualifiers.get('locus_tag')}\")"
   ]
  },
  {
   "cell_type": "markdown",
   "metadata": {
    "slideshow": {
     "slide_type": "notes"
    }
   },
   "source": [
    "**db_xref** - A list of database cross-references as strings.\n",
    "\n",
    "**Locus tags** are identifiers applied systematically to every gene in a sequencing project. If two submitters of different genomes use the same systematic names to describe different genes, this can be a source of confusion. Therefore, INSDC maintains a registry of locus tag prefixes to avoid overlap between genome annotation projects. The prefix is then used systematically to give a new unambiguous name to every gene."
   ]
  },
  {
   "cell_type": "markdown",
   "metadata": {
    "slideshow": {
     "slide_type": "slide"
    }
   },
   "source": [
    "## Reading, writing and parsing files\n",
    "- `SeqIO` reads, writes and parses `SeqRecord` objects\n",
    "- The output of `Bio.SeqIO.parse()` is a `SeqRecord` iterator.\n",
    "- The output of `Bio.SeqIO.read()` is one `SeqRecord`object"
   ]
  },
  {
   "cell_type": "code",
   "execution_count": null,
   "metadata": {
    "slideshow": {
     "slide_type": "fragment"
    }
   },
   "outputs": [],
   "source": [
    "# Import\n",
    "from Bio import SeqIO"
   ]
  },
  {
   "cell_type": "markdown",
   "metadata": {
    "slideshow": {
     "slide_type": "notes"
    }
   },
   "source": [
    "If there is only one record in the file, you might as well use the Bio.SeqIO.read() function. It takes the same two arguments and returns a SeqRecord object with one record."
   ]
  },
  {
   "cell_type": "markdown",
   "metadata": {
    "slideshow": {
     "slide_type": "slide"
    }
   },
   "source": [
    "Example parsing:"
   ]
  },
  {
   "cell_type": "code",
   "execution_count": null,
   "metadata": {
    "slideshow": {
     "slide_type": "fragment"
    }
   },
   "outputs": [],
   "source": [
    "# Here we're using the explicit path to a fasta file (in the data folder)\n",
    "for seq_record in SeqIO.parse(\"data/ls_orchid.fasta\", \"fasta\"):\n",
    "    print(seq_record.id)"
   ]
  },
  {
   "cell_type": "markdown",
   "metadata": {
    "slideshow": {
     "slide_type": "fragment"
    }
   },
   "source": [
    "Alternatively:"
   ]
  },
  {
   "cell_type": "code",
   "execution_count": 63,
   "metadata": {
    "collapsed": true,
    "slideshow": {
     "slide_type": "fragment"
    }
   },
   "outputs": [
    {
     "name": "stdout",
     "output_type": "stream",
     "text": [
      "gi|2765658|emb|Z78533.1|CIZ78533\n",
      "gi|2765657|emb|Z78532.1|CCZ78532\n",
      "gi|2765656|emb|Z78531.1|CFZ78531\n",
      "gi|2765655|emb|Z78530.1|CMZ78530\n",
      "gi|2765654|emb|Z78529.1|CLZ78529\n",
      "gi|2765652|emb|Z78527.1|CYZ78527\n",
      "gi|2765651|emb|Z78526.1|CGZ78526\n",
      "gi|2765650|emb|Z78525.1|CAZ78525\n",
      "gi|2765649|emb|Z78524.1|CFZ78524\n",
      "gi|2765648|emb|Z78523.1|CHZ78523\n",
      "gi|2765647|emb|Z78522.1|CMZ78522\n",
      "gi|2765646|emb|Z78521.1|CCZ78521\n",
      "gi|2765645|emb|Z78520.1|CSZ78520\n",
      "gi|2765644|emb|Z78519.1|CPZ78519\n",
      "gi|2765643|emb|Z78518.1|CRZ78518\n",
      "gi|2765642|emb|Z78517.1|CFZ78517\n",
      "gi|2765641|emb|Z78516.1|CPZ78516\n",
      "gi|2765640|emb|Z78515.1|MXZ78515\n",
      "gi|2765639|emb|Z78514.1|PSZ78514\n",
      "gi|2765638|emb|Z78513.1|PBZ78513\n",
      "gi|2765637|emb|Z78512.1|PWZ78512\n",
      "gi|2765636|emb|Z78511.1|PEZ78511\n",
      "gi|2765635|emb|Z78510.1|PCZ78510\n",
      "gi|2765634|emb|Z78509.1|PPZ78509\n",
      "gi|2765633|emb|Z78508.1|PLZ78508\n",
      "gi|2765632|emb|Z78507.1|PLZ78507\n",
      "gi|2765631|emb|Z78506.1|PLZ78506\n",
      "gi|2765630|emb|Z78505.1|PSZ78505\n",
      "gi|2765629|emb|Z78504.1|PKZ78504\n",
      "gi|2765628|emb|Z78503.1|PCZ78503\n",
      "gi|2765627|emb|Z78502.1|PBZ78502\n",
      "gi|2765626|emb|Z78501.1|PCZ78501\n",
      "gi|2765625|emb|Z78500.1|PWZ78500\n",
      "gi|2765624|emb|Z78499.1|PMZ78499\n",
      "gi|2765623|emb|Z78498.1|PMZ78498\n",
      "gi|2765622|emb|Z78497.1|PDZ78497\n",
      "gi|2765621|emb|Z78496.1|PAZ78496\n",
      "gi|2765620|emb|Z78495.1|PEZ78495\n",
      "gi|2765619|emb|Z78494.1|PNZ78494\n",
      "gi|2765618|emb|Z78493.1|PGZ78493\n",
      "gi|2765617|emb|Z78492.1|PBZ78492\n",
      "gi|2765616|emb|Z78491.1|PCZ78491\n",
      "gi|2765615|emb|Z78490.1|PFZ78490\n",
      "gi|2765614|emb|Z78489.1|PDZ78489\n",
      "gi|2765613|emb|Z78488.1|PTZ78488\n",
      "gi|2765612|emb|Z78487.1|PHZ78487\n",
      "gi|2765611|emb|Z78486.1|PBZ78486\n",
      "gi|2765610|emb|Z78485.1|PHZ78485\n",
      "gi|2765609|emb|Z78484.1|PCZ78484\n",
      "gi|2765608|emb|Z78483.1|PVZ78483\n",
      "gi|2765607|emb|Z78482.1|PEZ78482\n",
      "gi|2765606|emb|Z78481.1|PIZ78481\n",
      "gi|2765605|emb|Z78480.1|PGZ78480\n",
      "gi|2765604|emb|Z78479.1|PPZ78479\n",
      "gi|2765603|emb|Z78478.1|PVZ78478\n",
      "gi|2765602|emb|Z78477.1|PVZ78477\n",
      "gi|2765601|emb|Z78476.1|PGZ78476\n",
      "gi|2765600|emb|Z78475.1|PSZ78475\n",
      "gi|2765599|emb|Z78474.1|PKZ78474\n",
      "gi|2765598|emb|Z78473.1|PSZ78473\n",
      "gi|2765597|emb|Z78472.1|PLZ78472\n",
      "gi|2765596|emb|Z78471.1|PDZ78471\n",
      "gi|2765595|emb|Z78470.1|PPZ78470\n",
      "gi|2765594|emb|Z78469.1|PHZ78469\n",
      "gi|2765593|emb|Z78468.1|PAZ78468\n",
      "gi|2765592|emb|Z78467.1|PSZ78467\n",
      "gi|2765591|emb|Z78466.1|PPZ78466\n",
      "gi|2765590|emb|Z78465.1|PRZ78465\n",
      "gi|2765589|emb|Z78464.1|PGZ78464\n",
      "gi|2765588|emb|Z78463.1|PGZ78463\n",
      "gi|2765587|emb|Z78462.1|PSZ78462\n",
      "gi|2765586|emb|Z78461.1|PWZ78461\n",
      "gi|2765585|emb|Z78460.1|PCZ78460\n",
      "gi|2765584|emb|Z78459.1|PDZ78459\n",
      "gi|2765583|emb|Z78458.1|PHZ78458\n",
      "gi|2765582|emb|Z78457.1|PCZ78457\n",
      "gi|2765581|emb|Z78456.1|PTZ78456\n",
      "gi|2765580|emb|Z78455.1|PJZ78455\n",
      "gi|2765579|emb|Z78454.1|PFZ78454\n",
      "gi|2765578|emb|Z78453.1|PSZ78453\n",
      "gi|2765577|emb|Z78452.1|PBZ78452\n",
      "gi|2765576|emb|Z78451.1|PHZ78451\n",
      "gi|2765575|emb|Z78450.1|PPZ78450\n",
      "gi|2765574|emb|Z78449.1|PMZ78449\n",
      "gi|2765573|emb|Z78448.1|PAZ78448\n",
      "gi|2765572|emb|Z78447.1|PVZ78447\n",
      "gi|2765571|emb|Z78446.1|PAZ78446\n",
      "gi|2765570|emb|Z78445.1|PUZ78445\n",
      "gi|2765569|emb|Z78444.1|PAZ78444\n",
      "gi|2765568|emb|Z78443.1|PLZ78443\n",
      "gi|2765567|emb|Z78442.1|PBZ78442\n",
      "gi|2765566|emb|Z78441.1|PSZ78441\n",
      "gi|2765565|emb|Z78440.1|PPZ78440\n",
      "gi|2765564|emb|Z78439.1|PBZ78439\n"
     ]
    }
   ],
   "source": [
    "with open(\"data/ls_orchid.fasta\", \"r\") as handle:\n",
    "    for record in SeqIO.parse(handle, \"fasta\"):\n",
    "        print(record.id)"
   ]
  },
  {
   "cell_type": "markdown",
   "metadata": {
    "slideshow": {
     "slide_type": "fragment"
    }
   },
   "source": [
    "Alternatively"
   ]
  },
  {
   "cell_type": "code",
   "execution_count": null,
   "metadata": {
    "slideshow": {
     "slide_type": "fragment"
    }
   },
   "outputs": [],
   "source": [
    "# List comprehension\n",
    "identifiers = [seq_record.id for seq_record in SeqIO.parse(\"data/ls_orchid.gbk\",\"genbank\")]"
   ]
  },
  {
   "cell_type": "markdown",
   "metadata": {
    "slideshow": {
     "slide_type": "notes"
    }
   },
   "source": [
    "The first thing we'll want to do is reading in a sequence object. The function that we'll need for that is `Bio.SeqIO.parse()` and it expects two arguments:\n",
    "1. An explicit path to a file, a filehandle or a link to data that can be downloaded from the internet  \n",
    "2. A lower case string specifying the sequence format. Examples are: clustal, fasta, embl, fastq, genbank or gb, pdb-atom, swiss, uniprot-xml,... You must specify the file format because [*explicit is better than implicit*](https://www.python.org/dev/peps/pep-0020/). "
   ]
  },
  {
   "cell_type": "markdown",
   "metadata": {
    "slideshow": {
     "slide_type": "slide"
    }
   },
   "source": [
    "## Parsing from the internet\n",
    "- Download and parse sequences from internet (NCBI, Swiss-prot, ExPASy, etc.)\n",
    "- Big files: fetch once and store\n",
    "- [Entrez](https://www.ncbi.nlm.nih.gov/Web/Search/entrezfs.html):\n",
    "    - data retrieval system \n",
    "    - provides users access to NCBI's databases: PubMed, GenBank, GEO, and many others.\n",
    "- Output typically in `XML`"
   ]
  },
  {
   "cell_type": "code",
   "execution_count": 65,
   "metadata": {
    "slideshow": {
     "slide_type": "fragment"
    }
   },
   "outputs": [],
   "source": [
    "# Imports\n",
    "from Bio import Entrez\n",
    "from Bio import SeqIO"
   ]
  },
  {
   "cell_type": "markdown",
   "metadata": {
    "slideshow": {
     "slide_type": "notes"
    }
   },
   "source": [
    "In the previous sections, we looked at parsing sequence data from a file (using a filename or handle). As discussed in the introduction of this chapter, it's also possible to download and parse sequences from the internet. Note that just because you can download sequence data and parse it into a SeqRecord object in one go doesn't mean this is a good idea. In general, you should probably download sequences once and save them to a file for reuse.\n",
    "\n",
    "You can access Entrez from a web browser to manually enter queries, or you can use Biopython's Bio.Entrez module for programmatic access to Entrez. "
   ]
  },
  {
   "cell_type": "markdown",
   "metadata": {
    "slideshow": {
     "slide_type": "slide"
    }
   },
   "source": [
    "- `Entrez.email`\n",
    "- `Entrez.esearch`\n",
    "- `Entrez.read`\n",
    "- `Entrez.parse`\n",
    "- ..."
   ]
  },
  {
   "cell_type": "code",
   "execution_count": 82,
   "metadata": {
    "slideshow": {
     "slide_type": "slide"
    }
   },
   "outputs": [
    {
     "data": {
      "text/plain": [
       "{'Count': '542', 'RetMax': '20', 'RetStart': '0', 'IdList': ['MT683624.1', 'MK935187.1', 'MH659838.1', 'MN016934.1', 'NC_045279.1', 'NC_045278.1', 'NC_045400.1', 'MN602053.1', 'MN535015.1', 'MN535014.1', 'KX886268.1', 'KX886267.1', 'KX886266.1', 'KX886265.1', 'KX886264.1', 'KX886263.1', 'KX886262.1', 'KX886261.1', 'KX886260.1', 'KX886259.1'], 'TranslationSet': [{'From': 'Cypripedioideae[Orgn]', 'To': '\"Cypripedioideae\"[Organism]'}], 'TranslationStack': [{'Term': '\"Cypripedioideae\"[Organism]', 'Field': 'Organism', 'Count': '6249', 'Explode': 'Y'}, {'Term': 'matK[Gene]', 'Field': 'Gene', 'Count': '190154', 'Explode': 'N'}, 'AND'], 'QueryTranslation': '\"Cypripedioideae\"[Organism] AND matK[Gene]'}"
      ]
     },
     "execution_count": 82,
     "metadata": {},
     "output_type": "execute_result"
    }
   ],
   "source": [
    "# Provide email address\n",
    "Entrez.email = \"hello@its.me\"\n",
    "\n",
    "# Use e-search to search any of the databases of NCBI\n",
    "with Entrez.esearch(db=\"nucleotide\", term=\"Cypripedioideae[Orgn] AND matK[Gene]\", idtype=\"acc\") as handle:\n",
    "    records = Entrez.read(handle)\n",
    "\n"
   ]
  },
  {
   "cell_type": "markdown",
   "metadata": {
    "slideshow": {
     "slide_type": "fragment"
    }
   },
   "source": [
    "Output is a record which can be parsed"
   ]
  },
  {
   "cell_type": "code",
   "execution_count": 66,
   "metadata": {
    "slideshow": {
     "slide_type": "slide"
    }
   },
   "outputs": [
    {
     "name": "stdout",
     "output_type": "stream",
     "text": [
      "902\n"
     ]
    }
   ],
   "source": [
    "Entrez.email = \"hello@its.me\"\n",
    "\n",
    "with Entrez.efetch(db=\"nucleotide\", rettype=\"fasta\", retmode=\"text\", id=\"6273291\") as handle:\n",
    "    record = SeqIO.read(handle, \"fasta\")\n",
    "    print(len(record))"
   ]
  },
  {
   "cell_type": "code",
   "execution_count": 86,
   "metadata": {
    "collapsed": true
   },
   "outputs": [
    {
     "ename": "NotXMLError",
     "evalue": "Failed to parse the XML data (syntax error: line 1, column 0). Please make sure that the input data are in XML format.",
     "output_type": "error",
     "traceback": [
      "\u001b[1;31m---------------------------------------------------------------------------\u001b[0m",
      "\u001b[1;31mExpatError\u001b[0m                                Traceback (most recent call last)",
      "\u001b[1;32m~\\Anaconda3\\lib\\site-packages\\Bio\\Entrez\\Parser.py\u001b[0m in \u001b[0;36mparse\u001b[1;34m(self, handle)\u001b[0m\n\u001b[0;32m    363\u001b[0m             \u001b[1;32mtry\u001b[0m\u001b[1;33m:\u001b[0m\u001b[1;33m\u001b[0m\u001b[1;33m\u001b[0m\u001b[0m\n\u001b[1;32m--> 364\u001b[1;33m                 \u001b[0mself\u001b[0m\u001b[1;33m.\u001b[0m\u001b[0mparser\u001b[0m\u001b[1;33m.\u001b[0m\u001b[0mParse\u001b[0m\u001b[1;33m(\u001b[0m\u001b[0mtext\u001b[0m\u001b[1;33m,\u001b[0m \u001b[1;32mFalse\u001b[0m\u001b[1;33m)\u001b[0m\u001b[1;33m\u001b[0m\u001b[1;33m\u001b[0m\u001b[0m\n\u001b[0m\u001b[0;32m    365\u001b[0m             \u001b[1;32mexcept\u001b[0m \u001b[0mexpat\u001b[0m\u001b[1;33m.\u001b[0m\u001b[0mExpatError\u001b[0m \u001b[1;32mas\u001b[0m \u001b[0me\u001b[0m\u001b[1;33m:\u001b[0m\u001b[1;33m\u001b[0m\u001b[1;33m\u001b[0m\u001b[0m\n",
      "\u001b[1;31mExpatError\u001b[0m: syntax error: line 1, column 0",
      "\nDuring handling of the above exception, another exception occurred:\n",
      "\u001b[1;31mNotXMLError\u001b[0m                               Traceback (most recent call last)",
      "\u001b[1;32m<ipython-input-86-fe6f55cfe50c>\u001b[0m in \u001b[0;36m<module>\u001b[1;34m\u001b[0m\n\u001b[0;32m      3\u001b[0m \u001b[1;32mwith\u001b[0m \u001b[0mEntrez\u001b[0m\u001b[1;33m.\u001b[0m\u001b[0mefetch\u001b[0m\u001b[1;33m(\u001b[0m\u001b[0mdb\u001b[0m\u001b[1;33m=\u001b[0m\u001b[1;34m\"nucleotide\"\u001b[0m\u001b[1;33m,\u001b[0m \u001b[0mrettype\u001b[0m\u001b[1;33m=\u001b[0m\u001b[1;34m\"fasta\"\u001b[0m\u001b[1;33m,\u001b[0m \u001b[0mretmode\u001b[0m\u001b[1;33m=\u001b[0m\u001b[1;34m\"text\"\u001b[0m\u001b[1;33m,\u001b[0m \u001b[0mid\u001b[0m\u001b[1;33m=\u001b[0m\u001b[1;34m\"6273291\"\u001b[0m\u001b[1;33m)\u001b[0m \u001b[1;32mas\u001b[0m \u001b[0mhandle\u001b[0m\u001b[1;33m:\u001b[0m\u001b[1;33m\u001b[0m\u001b[1;33m\u001b[0m\u001b[0m\n\u001b[0;32m      4\u001b[0m     \u001b[0mrecords\u001b[0m \u001b[1;33m=\u001b[0m \u001b[0mEntrez\u001b[0m\u001b[1;33m.\u001b[0m\u001b[0mparse\u001b[0m\u001b[1;33m(\u001b[0m\u001b[0mhandle\u001b[0m\u001b[1;33m,\u001b[0m \u001b[1;34m\"fasta\"\u001b[0m\u001b[1;33m)\u001b[0m\u001b[1;33m\u001b[0m\u001b[1;33m\u001b[0m\u001b[0m\n\u001b[1;32m----> 5\u001b[1;33m     \u001b[1;32mfor\u001b[0m \u001b[0mrecord\u001b[0m \u001b[1;32min\u001b[0m \u001b[0mrecords\u001b[0m\u001b[1;33m:\u001b[0m\u001b[1;33m\u001b[0m\u001b[1;33m\u001b[0m\u001b[0m\n\u001b[0m\u001b[0;32m      6\u001b[0m         \u001b[0mprint\u001b[0m\u001b[1;33m(\u001b[0m\u001b[0mrecord\u001b[0m\u001b[1;33m[\u001b[0m\u001b[1;34m'Title'\u001b[0m\u001b[1;33m]\u001b[0m\u001b[1;33m)\u001b[0m\u001b[1;33m\u001b[0m\u001b[1;33m\u001b[0m\u001b[0m\n",
      "\u001b[1;32m~\\Anaconda3\\lib\\site-packages\\Bio\\Entrez\\Parser.py\u001b[0m in \u001b[0;36mparse\u001b[1;34m(self, handle)\u001b[0m\n\u001b[0;32m    372\u001b[0m                     \u001b[1;31m# We have not seen the initial <!xml declaration, so\u001b[0m\u001b[1;33m\u001b[0m\u001b[1;33m\u001b[0m\u001b[1;33m\u001b[0m\u001b[0m\n\u001b[0;32m    373\u001b[0m                     \u001b[1;31m# probably the input data is not in XML format.\u001b[0m\u001b[1;33m\u001b[0m\u001b[1;33m\u001b[0m\u001b[1;33m\u001b[0m\u001b[0m\n\u001b[1;32m--> 374\u001b[1;33m                     \u001b[1;32mraise\u001b[0m \u001b[0mNotXMLError\u001b[0m\u001b[1;33m(\u001b[0m\u001b[0me\u001b[0m\u001b[1;33m)\u001b[0m\u001b[1;33m\u001b[0m\u001b[1;33m\u001b[0m\u001b[0m\n\u001b[0m\u001b[0;32m    375\u001b[0m             \u001b[1;32mtry\u001b[0m\u001b[1;33m:\u001b[0m\u001b[1;33m\u001b[0m\u001b[1;33m\u001b[0m\u001b[0m\n\u001b[0;32m    376\u001b[0m                 \u001b[0mrecords\u001b[0m \u001b[1;33m=\u001b[0m \u001b[0mself\u001b[0m\u001b[1;33m.\u001b[0m\u001b[0mrecord\u001b[0m\u001b[1;33m\u001b[0m\u001b[1;33m\u001b[0m\u001b[0m\n",
      "\u001b[1;31mNotXMLError\u001b[0m: Failed to parse the XML data (syntax error: line 1, column 0). Please make sure that the input data are in XML format."
     ]
    }
   ],
   "source": [
    "Entrez.email = \"hello@its.me\"\n",
    "\n",
    "with Entrez.efetch(db=\"nucleotide\", rettype=\"fasta\", retmode=\"text\", id=\"6273291\") as handle:\n",
    "    records = Entrez.parse(handle, \"fasta\")\n",
    "    for record in records:\n",
    "        print(record['Title'])"
   ]
  },
  {
   "cell_type": "code",
   "execution_count": 73,
   "metadata": {
    "collapsed": true
   },
   "outputs": [
    {
     "name": "stdout",
     "output_type": "stream",
     "text": [
      "Help on function esearch in module Bio.Entrez:\n",
      "\n",
      "esearch(db, term, **keywds)\n",
      "    Run an Entrez search and return a handle to the results.\n",
      "    \n",
      "    ESearch searches and retrieves primary IDs (for use in EFetch, ELink\n",
      "    and ESummary) and term translations, and optionally retains results\n",
      "    for future use in the user's environment.\n",
      "    \n",
      "    See the online documentation for an explanation of the parameters:\n",
      "    http://www.ncbi.nlm.nih.gov/books/NBK25499/#chapter4.ESearch\n",
      "    \n",
      "    Return a handle to the results which are always in XML format.\n",
      "    \n",
      "    Raises an IOError exception if there's a network error.\n",
      "    \n",
      "    Short example:\n",
      "    \n",
      "    >>> from Bio import Entrez\n",
      "    >>> Entrez.email = \"Your.Name.Here@example.org\"\n",
      "    >>> handle = Entrez.esearch(db=\"nucleotide\", retmax=10, term=\"opuntia[ORGN] accD\", idtype=\"acc\")\n",
      "    >>> record = Entrez.read(handle)\n",
      "    >>> handle.close()\n",
      "    >>> int(record[\"Count\"]) >= 2\n",
      "    True\n",
      "    >>> \"EF590893.1\" in record[\"IdList\"]\n",
      "    True\n",
      "    >>> \"EF590892.1\" in record[\"IdList\"]\n",
      "    True\n",
      "\n"
     ]
    }
   ],
   "source": [
    "help(Entrez.esearch)"
   ]
  },
  {
   "cell_type": "markdown",
   "metadata": {
    "slideshow": {
     "slide_type": "notes"
    }
   },
   "source": [
    "First, we'll have to define who we are. Then, we're telling the e-fetching function that we want to access the nucleotide database, we're looking for a fasta sequence, the file format and the id in the form of a handle, which we will subsequently read with the Bio.SeqIO.read() function."
   ]
  },
  {
   "cell_type": "code",
   "execution_count": null,
   "metadata": {},
   "outputs": [],
   "source": []
  }
 ],
 "metadata": {
  "celltoolbar": "Slideshow",
  "kernelspec": {
   "display_name": "Python 3",
   "language": "python",
   "name": "python3"
  },
  "language_info": {
   "codemirror_mode": {
    "name": "ipython",
    "version": 3
   },
   "file_extension": ".py",
   "mimetype": "text/x-python",
   "name": "python",
   "nbconvert_exporter": "python",
   "pygments_lexer": "ipython3",
   "version": "3.7.3"
  }
 },
 "nbformat": 4,
 "nbformat_minor": 2
}
